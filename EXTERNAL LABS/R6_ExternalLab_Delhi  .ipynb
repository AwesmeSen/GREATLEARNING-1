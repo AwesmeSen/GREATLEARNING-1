{
  "nbformat": 4,
  "nbformat_minor": 0,
  "metadata": {
    "colab": {
      "name": "R6_ExternalLab_Delhi.ipynb",
      "provenance": [],
      "collapsed_sections": []
    },
    "kernelspec": {
      "display_name": "Python 2",
      "language": "python",
      "name": "python2"
    }
  },
  "cells": [
    {
      "cell_type": "markdown",
      "metadata": {
        "id": "YYk8NG3yOIT9",
        "colab_type": "text"
      },
      "source": [
        "### A MNIST-like fashion product database\n",
        "\n",
        "In this, we classify the images into respective classes given in the dataset. We use a Neural Net and a Deep Neural Net in Keras to solve this and check the accuracy scores."
      ]
    },
    {
      "cell_type": "markdown",
      "metadata": {
        "id": "tFO6PuxzOIT_",
        "colab_type": "text"
      },
      "source": [
        "### Load tensorflow"
      ]
    },
    {
      "cell_type": "code",
      "metadata": {
        "id": "rh9vS-lHieU-",
        "colab_type": "code",
        "colab": {}
      },
      "source": [
        "!pip3 install -U tensorflow --quiet"
      ],
      "execution_count": 0,
      "outputs": []
    },
    {
      "cell_type": "code",
      "metadata": {
        "id": "efNjNImfOIUC",
        "colab_type": "code",
        "colab": {
          "base_uri": "https://localhost:8080/",
          "height": 63
        },
        "outputId": "1ed6be13-7ccc-45af-8804-bcf7504b74eb"
      },
      "source": [
        "import tensorflow as tf\n",
        "tf.set_random_seed(42)"
      ],
      "execution_count": 3,
      "outputs": [
        {
          "output_type": "display_data",
          "data": {
            "text/plain": [
              "<IPython.core.display.HTML object>"
            ],
            "text/html": [
              "<p style=\"color: red;\">\n",
              "The default version of TensorFlow in Colab will soon switch to TensorFlow 2.x.<br>\n",
              "We recommend you <a href=\"https://www.tensorflow.org/guide/migrate\" target=\"_blank\">upgrade</a> now \n",
              "or ensure your notebook will continue to use TensorFlow 1.x via the <code>%tensorflow_version 1.x</code> magic:\n",
              "<a href=\"https://colab.research.google.com/notebooks/tensorflow_version.ipynb\" target=\"_blank\">more info</a>.</p>\n"
            ]
          },
          "metadata": {
            "tags": []
          }
        }
      ]
    },
    {
      "cell_type": "code",
      "metadata": {
        "id": "l9C4aAIGOIUH",
        "colab_type": "code",
        "outputId": "2b7c5bc5-ade3-48a7-f4fc-df85b78b8bbd",
        "colab": {
          "base_uri": "https://localhost:8080/",
          "height": 34
        }
      },
      "source": [
        "tf.__version__"
      ],
      "execution_count": 4,
      "outputs": [
        {
          "output_type": "execute_result",
          "data": {
            "text/plain": [
              "'1.15.0'"
            ]
          },
          "metadata": {
            "tags": []
          },
          "execution_count": 4
        }
      ]
    },
    {
      "cell_type": "markdown",
      "metadata": {
        "id": "HcoZBStrOIUQ",
        "colab_type": "text"
      },
      "source": [
        "### Collect Data"
      ]
    },
    {
      "cell_type": "code",
      "metadata": {
        "id": "XA1WsFSeOIUS",
        "colab_type": "code",
        "colab": {
          "base_uri": "https://localhost:8080/",
          "height": 34
        },
        "outputId": "1d604021-5d1f-44b6-ed7a-0636600d7672"
      },
      "source": [
        "import keras"
      ],
      "execution_count": 5,
      "outputs": [
        {
          "output_type": "stream",
          "text": [
            "Using TensorFlow backend.\n"
          ],
          "name": "stderr"
        }
      ]
    },
    {
      "cell_type": "code",
      "metadata": {
        "id": "qnbx7TyQOIUY",
        "colab_type": "code",
        "colab": {
          "base_uri": "https://localhost:8080/",
          "height": 204
        },
        "outputId": "869fe3ec-c734-4b83-c223-ab4654667bcc"
      },
      "source": [
        "(trainX, trainY), (testX, testY) = keras.datasets.fashion_mnist.load_data()"
      ],
      "execution_count": 6,
      "outputs": [
        {
          "output_type": "stream",
          "text": [
            "Downloading data from http://fashion-mnist.s3-website.eu-central-1.amazonaws.com/train-labels-idx1-ubyte.gz\n",
            "32768/29515 [=================================] - 0s 4us/step\n",
            "40960/29515 [=========================================] - 0s 3us/step\n",
            "Downloading data from http://fashion-mnist.s3-website.eu-central-1.amazonaws.com/train-images-idx3-ubyte.gz\n",
            "26427392/26421880 [==============================] - 2s 0us/step\n",
            "26435584/26421880 [==============================] - 2s 0us/step\n",
            "Downloading data from http://fashion-mnist.s3-website.eu-central-1.amazonaws.com/t10k-labels-idx1-ubyte.gz\n",
            "16384/5148 [===============================================================================================] - 0s 0us/step\n",
            "Downloading data from http://fashion-mnist.s3-website.eu-central-1.amazonaws.com/t10k-images-idx3-ubyte.gz\n",
            "4423680/4422102 [==============================] - 1s 0us/step\n",
            "4431872/4422102 [==============================] - 1s 0us/step\n"
          ],
          "name": "stdout"
        }
      ]
    },
    {
      "cell_type": "code",
      "metadata": {
        "id": "UbiHj5YPOIUc",
        "colab_type": "code",
        "outputId": "68bb72b9-1fc3-4fbc-ea0c-e9ffd906ea01",
        "colab": {
          "base_uri": "https://localhost:8080/",
          "height": 34
        }
      },
      "source": [
        "print(testY[0:5])"
      ],
      "execution_count": 7,
      "outputs": [
        {
          "output_type": "stream",
          "text": [
            "[9 2 1 1 6]\n"
          ],
          "name": "stdout"
        }
      ]
    },
    {
      "cell_type": "code",
      "metadata": {
        "id": "ebWdgUMjtgF2",
        "colab_type": "code",
        "colab": {
          "base_uri": "https://localhost:8080/",
          "height": 34
        },
        "outputId": "384f5f93-3554-457d-a246-37e782946591"
      },
      "source": [
        "\n",
        "print(trainY[0:10])"
      ],
      "execution_count": 8,
      "outputs": [
        {
          "output_type": "stream",
          "text": [
            "[9 0 0 3 0 2 7 2 5 5]\n"
          ],
          "name": "stdout"
        }
      ]
    },
    {
      "cell_type": "code",
      "metadata": {
        "id": "1-ro8zSJtgCc",
        "colab_type": "code",
        "colab": {}
      },
      "source": [
        "\n"
      ],
      "execution_count": 0,
      "outputs": []
    },
    {
      "cell_type": "markdown",
      "metadata": {
        "id": "lDAYzkwyOIUj",
        "colab_type": "text"
      },
      "source": [
        "### Convert both training and testing labels into one-hot vectors.\n",
        "\n",
        "**Hint:** check **tf.keras.utils.to_categorical()**"
      ]
    },
    {
      "cell_type": "code",
      "metadata": {
        "id": "TAR9GiRriECp",
        "colab_type": "code",
        "colab": {}
      },
      "source": [
        "import numpy as np\n",
        "import pandas as pd"
      ],
      "execution_count": 0,
      "outputs": []
    },
    {
      "cell_type": "code",
      "metadata": {
        "id": "PfgAXJL9iq17",
        "colab_type": "code",
        "colab": {
          "base_uri": "https://localhost:8080/",
          "height": 34
        },
        "outputId": "9bc7eb81-3b58-44aa-e3bb-a02aa3ed897b"
      },
      "source": [
        "trainX.shape"
      ],
      "execution_count": 10,
      "outputs": [
        {
          "output_type": "execute_result",
          "data": {
            "text/plain": [
              "(60000, 28, 28)"
            ]
          },
          "metadata": {
            "tags": []
          },
          "execution_count": 10
        }
      ]
    },
    {
      "cell_type": "code",
      "metadata": {
        "id": "HV4UQPAWixjv",
        "colab_type": "code",
        "colab": {
          "base_uri": "https://localhost:8080/",
          "height": 34
        },
        "outputId": "96e82cbe-495a-468c-f734-44e18248992f"
      },
      "source": [
        "trainY.shape"
      ],
      "execution_count": 11,
      "outputs": [
        {
          "output_type": "execute_result",
          "data": {
            "text/plain": [
              "(60000,)"
            ]
          },
          "metadata": {
            "tags": []
          },
          "execution_count": 11
        }
      ]
    },
    {
      "cell_type": "code",
      "metadata": {
        "id": "jf4quvqSHd9c",
        "colab_type": "code",
        "colab": {
          "base_uri": "https://localhost:8080/",
          "height": 51
        },
        "outputId": "2095f19a-1793-4268-d0ee-5ca19d73b78b"
      },
      "source": [
        "print(trainY.shape)\n",
        "print('First 5 examples now are: ', trainY[0:5])"
      ],
      "execution_count": 13,
      "outputs": [
        {
          "output_type": "stream",
          "text": [
            "(60000,)\n",
            "('First 5 examples now are: ', array([9, 0, 0, 3, 0], dtype=uint8))\n"
          ],
          "name": "stdout"
        }
      ]
    },
    {
      "cell_type": "code",
      "metadata": {
        "id": "qkzMv23XnavE",
        "colab_type": "code",
        "colab": {}
      },
      "source": [
        "train1Y = tf.keras.utils.to_categorical(trainY, num_classes=10)\n",
        "test1Y = tf.keras.utils.to_categorical(testY, num_classes=10)"
      ],
      "execution_count": 0,
      "outputs": []
    },
    {
      "cell_type": "code",
      "metadata": {
        "scrolled": true,
        "id": "RHV3b9mzOIUq",
        "colab_type": "code",
        "outputId": "b955c97f-0bc7-453d-c4e6-0ab180e2e453",
        "colab": {
          "base_uri": "https://localhost:8080/",
          "height": 119
        }
      },
      "source": [
        "print(train1Y.shape)\n",
        "print('First 5 examples now are: ', train1Y[0:5])"
      ],
      "execution_count": 15,
      "outputs": [
        {
          "output_type": "stream",
          "text": [
            "(60000, 10)\n",
            "('First 5 examples now are: ', array([[0., 0., 0., 0., 0., 0., 0., 0., 0., 1.],\n",
            "       [1., 0., 0., 0., 0., 0., 0., 0., 0., 0.],\n",
            "       [1., 0., 0., 0., 0., 0., 0., 0., 0., 0.],\n",
            "       [0., 0., 0., 1., 0., 0., 0., 0., 0., 0.],\n",
            "       [1., 0., 0., 0., 0., 0., 0., 0., 0., 0.]], dtype=float32))\n"
          ],
          "name": "stdout"
        }
      ]
    },
    {
      "cell_type": "markdown",
      "metadata": {
        "id": "FwhQ8e7VOIUw",
        "colab_type": "text"
      },
      "source": [
        "### Visualize the data\n",
        "\n",
        "Plot first 10 images in the triaining set and their labels."
      ]
    },
    {
      "cell_type": "code",
      "metadata": {
        "id": "A9hSvyoCxpYL",
        "colab_type": "code",
        "colab": {
          "base_uri": "https://localhost:8080/",
          "height": 106
        },
        "outputId": "7b31f4a9-f023-468d-8267-09d8dfee153d"
      },
      "source": [
        "import numpy as np\n",
        "import matplotlib.pyplot as plt\n",
        "\n",
        "w=10\n",
        "h=10\n",
        "fig=plt.figure(figsize=(8, 8))\n",
        "columns = 10\n",
        "rows = 1\n",
        "for i in range(1, columns*rows+1):\n",
        "    \n",
        "    img = trainX[i-1]\n",
        "    fig.add_subplot(rows, columns, i)\n",
        "    \n",
        "    plt.imshow(img,cmap='gray')\n",
        "plt.show()\n",
        "\n",
        "'label of Image = {}'.format(trainY[0:10]) ## np.argmax(trainY1[0:10])"
      ],
      "execution_count": 16,
      "outputs": [
        {
          "output_type": "display_data",
          "data": {
            "image/png": "[encoded data removed]",
            "text/plain": [
              "<Figure size 576x576 with 10 Axes>"
            ]
          },
          "metadata": {
            "tags": []
          }
        },
        {
          "output_type": "execute_result",
          "data": {
            "text/plain": [
              "'label of Image = [9 0 0 3 0 2 7 2 5 5]'"
            ]
          },
          "metadata": {
            "tags": []
          },
          "execution_count": 16
        }
      ]
    },
    {
      "cell_type": "markdown",
      "metadata": {
        "id": "l4TbJGeSOIU4",
        "colab_type": "text"
      },
      "source": [
        "### Build a neural Network with a cross entropy loss function and sgd optimizer in Keras. The output layer with 10 neurons as we have 10 classes."
      ]
    },
    {
      "cell_type": "code",
      "metadata": {
        "id": "WRJSjLIekq2I",
        "colab_type": "code",
        "colab": {}
      },
      "source": [
        "trainX = trainX.astype('float32')\n",
        "testX = testX.astype('float32')\n",
        "testY = test1Y.astype('float32')\n",
        "train1Y = train1Y.astype('float32')"
      ],
      "execution_count": 0,
      "outputs": []
    },
    {
      "cell_type": "code",
      "metadata": {
        "id": "04Jv9u09HLYv",
        "colab_type": "code",
        "colab": {}
      },
      "source": [
        "from sklearn.preprocessing import StandardScaler"
      ],
      "execution_count": 0,
      "outputs": []
    },
    {
      "cell_type": "code",
      "metadata": {
        "id": "vns_8FiKI7ZV",
        "colab_type": "code",
        "colab": {
          "base_uri": "https://localhost:8080/",
          "height": 34
        },
        "outputId": "570d1714-025e-4e58-cda6-f57f3e65b82a"
      },
      "source": [
        "trainX.shape"
      ],
      "execution_count": 19,
      "outputs": [
        {
          "output_type": "execute_result",
          "data": {
            "text/plain": [
              "(60000, 28, 28)"
            ]
          },
          "metadata": {
            "tags": []
          },
          "execution_count": 19
        }
      ]
    },
    {
      "cell_type": "code",
      "metadata": {
        "id": "JZAn-BmGHJE9",
        "colab_type": "code",
        "colab": {}
      },
      "source": [
        "transformer = StandardScaler()\n",
        "testX_z = transformer.fit_transform(testX.reshape(784,10000))\n",
        "trainX_z = transformer.fit_transform(trainX.reshape(784,60000))"
      ],
      "execution_count": 0,
      "outputs": []
    },
    {
      "cell_type": "code",
      "metadata": {
        "id": "pj_IsKbVKBfZ",
        "colab_type": "code",
        "colab": {}
      },
      "source": [
        "trainX_z = trainX_z.reshape(60000, 28, 28)\n",
        "testX_z = testX_z.reshape(10000, 28, 28)\n"
      ],
      "execution_count": 0,
      "outputs": []
    },
    {
      "cell_type": "code",
      "metadata": {
        "id": "w5pGn6W22HSX",
        "colab_type": "code",
        "colab": {}
      },
      "source": [
        "#Initialize Sequential model\n",
        "model = tf.keras.models.Sequential()\n",
        "\n",
        "#Reshape data from 2D to 1D -> 28x28 to 784\n",
        "model.add(tf.keras.layers.Reshape((784,),input_shape=(28,28,)))\n",
        "\n",
        "#Normalize the data\n",
        "#model.add(tf.keras.layers.BatchNormalization())"
      ],
      "execution_count": 0,
      "outputs": []
    },
    {
      "cell_type": "code",
      "metadata": {
        "id": "Oj8TnaTxMd68",
        "colab_type": "code",
        "colab": {}
      },
      "source": [
        "\n",
        "#Add 1st hidden layer\n",
        "model.add(tf.keras.layers.Dense(200, activation='sigmoid'))"
      ],
      "execution_count": 0,
      "outputs": []
    },
    {
      "cell_type": "code",
      "metadata": {
        "id": "BQvERJeKMd7A",
        "colab_type": "code",
        "colab": {}
      },
      "source": [
        "\n",
        "#Add 2nd hidden layer\n",
        "model.add(tf.keras.layers.Dense(100, activation='sigmoid'))"
      ],
      "execution_count": 0,
      "outputs": []
    },
    {
      "cell_type": "code",
      "metadata": {
        "id": "pwcz87-MMd7E",
        "colab_type": "code",
        "colab": {}
      },
      "source": [
        "#Add 3rd hidden layer\n",
        "model.add(tf.keras.layers.Dense(60, activation='sigmoid'))"
      ],
      "execution_count": 0,
      "outputs": []
    },
    {
      "cell_type": "code",
      "metadata": {
        "id": "C4j9Cm1IMd7J",
        "colab_type": "code",
        "colab": {}
      },
      "source": [
        "#Add 4th hidden layer\n",
        "model.add(tf.keras.layers.Dense(30, activation='sigmoid'))"
      ],
      "execution_count": 0,
      "outputs": []
    },
    {
      "cell_type": "code",
      "metadata": {
        "id": "G05v_Zy9Md7Q",
        "colab_type": "code",
        "colab": {}
      },
      "source": [
        "#Add OUTPUT layer\n",
        "model.add(tf.keras.layers.Dense(10, activation='sigmoid'))"
      ],
      "execution_count": 0,
      "outputs": []
    },
    {
      "cell_type": "code",
      "metadata": {
        "id": "jHEZYbaxGjhf",
        "colab_type": "code",
        "colab": {}
      },
      "source": [
        "#Compile the model - add Loss and Gradient Descent optimizer\n",
        "model.compile(optimizer='sgd', loss='mse')"
      ],
      "execution_count": 0,
      "outputs": []
    },
    {
      "cell_type": "code",
      "metadata": {
        "id": "Iy2ggmD02Hhy",
        "colab_type": "code",
        "colab": {
          "base_uri": "https://localhost:8080/",
          "height": 527
        },
        "outputId": "8d8f5c31-9d05-459c-c676-3aefecd2ec3a"
      },
      "source": [
        "model.summary()"
      ],
      "execution_count": 37,
      "outputs": [
        {
          "output_type": "stream",
          "text": [
            "Model: \"sequential\"\n",
            "_________________________________________________________________\n",
            "Layer (type)                 Output Shape              Param #   \n",
            "=================================================================\n",
            "reshape (Reshape)            (None, 784)               0         \n",
            "_________________________________________________________________\n",
            "dense (Dense)                (None, 200)               157000    \n",
            "_________________________________________________________________\n",
            "dense_1 (Dense)              (None, 100)               20100     \n",
            "_________________________________________________________________\n",
            "dense_2 (Dense)              (None, 60)                6060      \n",
            "_________________________________________________________________\n",
            "dense_3 (Dense)              (None, 30)                1830      \n",
            "_________________________________________________________________\n",
            "dense_4 (Dense)              (None, 10)                310       \n",
            "_________________________________________________________________\n",
            "dense_5 (Dense)              (None, 200)               2200      \n",
            "_________________________________________________________________\n",
            "dense_6 (Dense)              (None, 100)               20100     \n",
            "_________________________________________________________________\n",
            "dense_7 (Dense)              (None, 60)                6060      \n",
            "_________________________________________________________________\n",
            "dense_8 (Dense)              (None, 30)                1830      \n",
            "_________________________________________________________________\n",
            "dense_9 (Dense)              (None, 10)                310       \n",
            "=================================================================\n",
            "Total params: 215,800\n",
            "Trainable params: 215,800\n",
            "Non-trainable params: 0\n",
            "_________________________________________________________________\n"
          ],
          "name": "stdout"
        }
      ]
    },
    {
      "cell_type": "markdown",
      "metadata": {
        "id": "3hQpLv3aOIU_",
        "colab_type": "text"
      },
      "source": [
        "### Execute the model using model.fit()"
      ]
    },
    {
      "cell_type": "code",
      "metadata": {
        "id": "O59C_-IgOIVB",
        "colab_type": "code",
        "colab": {
          "base_uri": "https://localhost:8080/",
          "height": 731
        },
        "outputId": "abd0efd5-85f9-47d0-df1a-7fd0d64094b5"
      },
      "source": [
        "model.fit(trainX_z,train1Y,          \n",
        "          validation_data=(testX_z,test1Y),\n",
        "          epochs=20,\n",
        "          batch_size=32)"
      ],
      "execution_count": 38,
      "outputs": [
        {
          "output_type": "stream",
          "text": [
            "Train on 60000 samples, validate on 10000 samples\n",
            "Epoch 1/20\n",
            "60000/60000 [==============================] - 7s 118us/sample - loss: 0.1255 - val_loss: 0.0941\n",
            "Epoch 2/20\n",
            "60000/60000 [==============================] - 7s 117us/sample - loss: 0.0918 - val_loss: 0.0907\n",
            "Epoch 3/20\n",
            "60000/60000 [==============================] - 7s 116us/sample - loss: 0.0904 - val_loss: 0.0902\n",
            "Epoch 4/20\n",
            "60000/60000 [==============================] - 7s 119us/sample - loss: 0.0901 - val_loss: 0.0901\n",
            "Epoch 5/20\n",
            "60000/60000 [==============================] - 7s 123us/sample - loss: 0.0900 - val_loss: 0.0900\n",
            "Epoch 6/20\n",
            "60000/60000 [==============================] - 7s 122us/sample - loss: 0.0900 - val_loss: 0.0900\n",
            "Epoch 7/20\n",
            "60000/60000 [==============================] - 7s 122us/sample - loss: 0.0900 - val_loss: 0.0900\n",
            "Epoch 8/20\n",
            "60000/60000 [==============================] - 7s 120us/sample - loss: 0.0900 - val_loss: 0.0900\n",
            "Epoch 9/20\n",
            "60000/60000 [==============================] - 7s 123us/sample - loss: 0.0900 - val_loss: 0.0900\n",
            "Epoch 10/20\n",
            "60000/60000 [==============================] - 8s 132us/sample - loss: 0.0900 - val_loss: 0.0900\n",
            "Epoch 11/20\n",
            "60000/60000 [==============================] - 8s 131us/sample - loss: 0.0900 - val_loss: 0.0900\n",
            "Epoch 12/20\n",
            "60000/60000 [==============================] - 8s 133us/sample - loss: 0.0900 - val_loss: 0.0900\n",
            "Epoch 13/20\n",
            "60000/60000 [==============================] - 7s 122us/sample - loss: 0.0900 - val_loss: 0.0900\n",
            "Epoch 14/20\n",
            "60000/60000 [==============================] - 7s 119us/sample - loss: 0.0900 - val_loss: 0.0900\n",
            "Epoch 15/20\n",
            "60000/60000 [==============================] - 8s 129us/sample - loss: 0.0900 - val_loss: 0.0900\n",
            "Epoch 16/20\n",
            "60000/60000 [==============================] - 7s 124us/sample - loss: 0.0900 - val_loss: 0.0900\n",
            "Epoch 17/20\n",
            "60000/60000 [==============================] - 7s 117us/sample - loss: 0.0900 - val_loss: 0.0900\n",
            "Epoch 18/20\n",
            "60000/60000 [==============================] - 7s 119us/sample - loss: 0.0900 - val_loss: 0.0900\n",
            "Epoch 19/20\n",
            "60000/60000 [==============================] - 7s 118us/sample - loss: 0.0900 - val_loss: 0.0900\n",
            "Epoch 20/20\n",
            "60000/60000 [==============================] - 7s 120us/sample - loss: 0.0900 - val_loss: 0.0900\n"
          ],
          "name": "stdout"
        },
        {
          "output_type": "execute_result",
          "data": {
            "text/plain": [
              "<tensorflow.python.keras.callbacks.History at 0x7fa888ef1f90>"
            ]
          },
          "metadata": {
            "tags": []
          },
          "execution_count": 38
        }
      ]
    },
    {
      "cell_type": "code",
      "metadata": {
        "id": "sJ5xFFPLmXas",
        "colab_type": "code",
        "colab": {}
      },
      "source": [
        ""
      ],
      "execution_count": 0,
      "outputs": []
    },
    {
      "cell_type": "code",
      "metadata": {
        "id": "Ss2CKAkXFt6s",
        "colab_type": "code",
        "colab": {
          "base_uri": "https://localhost:8080/",
          "height": 34
        },
        "outputId": "822abcd8-fc9f-42ff-c2b3-651a9eec01de"
      },
      "source": [
        "input_data = np.expand_dims(testX_z[0], axis=0)\n",
        "input_data.shape"
      ],
      "execution_count": 39,
      "outputs": [
        {
          "output_type": "execute_result",
          "data": {
            "text/plain": [
              "(1, 28, 28)"
            ]
          },
          "metadata": {
            "tags": []
          },
          "execution_count": 39
        }
      ]
    },
    {
      "cell_type": "code",
      "metadata": {
        "id": "ZFF5x0voFt1x",
        "colab_type": "code",
        "colab": {}
      },
      "source": [
        "pred = model.predict(input_data)\n"
      ],
      "execution_count": 0,
      "outputs": []
    },
    {
      "cell_type": "code",
      "metadata": {
        "id": "ZHX4aemJzRRF",
        "colab_type": "code",
        "colab": {
          "base_uri": "https://localhost:8080/",
          "height": 68
        },
        "outputId": "1622335e-a5a3-497e-f9ae-d8e56984e96e"
      },
      "source": [
        "pred[0]"
      ],
      "execution_count": 43,
      "outputs": [
        {
          "output_type": "execute_result",
          "data": {
            "text/plain": [
              "array([0.10005206, 0.10002804, 0.09992489, 0.1000739 , 0.10001743,\n",
              "       0.09998444, 0.10001957, 0.09993154, 0.10000116, 0.09993339],\n",
              "      dtype=float32)"
            ]
          },
          "metadata": {
            "tags": []
          },
          "execution_count": 43
        }
      ]
    },
    {
      "cell_type": "code",
      "metadata": {
        "id": "QXuDg_kTzoFS",
        "colab_type": "code",
        "colab": {
          "base_uri": "https://localhost:8080/",
          "height": 34
        },
        "outputId": "638055e6-d156-443e-9fec-38fe384e81f3"
      },
      "source": [
        "\n",
        "np.argmax(pred[0])"
      ],
      "execution_count": 44,
      "outputs": [
        {
          "output_type": "execute_result",
          "data": {
            "text/plain": [
              "3"
            ]
          },
          "metadata": {
            "tags": []
          },
          "execution_count": 44
        }
      ]
    },
    {
      "cell_type": "code",
      "metadata": {
        "id": "ifnAD09Qn3y5",
        "colab_type": "code",
        "colab": {
          "base_uri": "https://localhost:8080/",
          "height": 34
        },
        "outputId": "8ab10ee9-9fc1-48e2-9ff7-4de007bb5822"
      },
      "source": [
        "testX_z[1].shape"
      ],
      "execution_count": 49,
      "outputs": [
        {
          "output_type": "execute_result",
          "data": {
            "text/plain": [
              "(28, 28)"
            ]
          },
          "metadata": {
            "tags": []
          },
          "execution_count": 49
        }
      ]
    },
    {
      "cell_type": "code",
      "metadata": {
        "id": "C_dlOJjQzzPa",
        "colab_type": "code",
        "colab": {
          "base_uri": "https://localhost:8080/",
          "height": 286
        },
        "outputId": "96b5b36d-42ef-4e56-d3a4-01973db0c6bf"
      },
      "source": [
        "\n",
        "#Lets print the image as well\n",
        "import matplotlib.pyplot as plt\n",
        "\n",
        "plt.imshow(testX_z[0],cmap='gray')"
      ],
      "execution_count": 50,
      "outputs": [
        {
          "output_type": "execute_result",
          "data": {
            "text/plain": [
              "<matplotlib.image.AxesImage at 0x7fa885d5ec50>"
            ]
          },
          "metadata": {
            "tags": []
          },
          "execution_count": 50
        },
        {
          "output_type": "display_data",
          "data": {
            "image/png": "[encoded data removed]",
            "text/plain": [
              "<Figure size 432x288 with 1 Axes>"
            ]
          },
          "metadata": {
            "tags": []
          }
        }
      ]
    },
    {
      "cell_type": "code",
      "metadata": {
        "id": "Oq28b6Q60bGm",
        "colab_type": "code",
        "colab": {
          "base_uri": "https://localhost:8080/",
          "height": 34
        },
        "outputId": "a0926c19-394a-4cf4-c650-9c1e4173d22e"
      },
      "source": [
        "\n",
        "np.argmax(testY[0])"
      ],
      "execution_count": 51,
      "outputs": [
        {
          "output_type": "execute_result",
          "data": {
            "text/plain": [
              "9"
            ]
          },
          "metadata": {
            "tags": []
          },
          "execution_count": 51
        }
      ]
    },
    {
      "cell_type": "code",
      "metadata": {
        "id": "FRqdepr6GEih",
        "colab_type": "code",
        "colab": {}
      },
      "source": [
        "#Get predicted number with highest probability\n",
        "predicted_num = np.argmax(pred[0])\n"
      ],
      "execution_count": 0,
      "outputs": []
    },
    {
      "cell_type": "code",
      "metadata": {
        "id": "N9817YEpMyqP",
        "colab_type": "code",
        "colab": {
          "base_uri": "https://localhost:8080/",
          "height": 34
        },
        "outputId": "036a4b10-9be1-4f22-cdd5-1a15ab024fc3"
      },
      "source": [
        "\n",
        "\n",
        "#Print the number\n",
        "print(predicted_num)"
      ],
      "execution_count": 53,
      "outputs": [
        {
          "output_type": "stream",
          "text": [
            "3\n"
          ],
          "name": "stdout"
        }
      ]
    },
    {
      "cell_type": "code",
      "metadata": {
        "id": "ZIbTnU0TGFTq",
        "colab_type": "code",
        "colab": {
          "base_uri": "https://localhost:8080/",
          "height": 34
        },
        "outputId": "ec245b22-1485-4c91-a448-ffd7f1afa9cf"
      },
      "source": [
        "\n",
        "testY[0]"
      ],
      "execution_count": 54,
      "outputs": [
        {
          "output_type": "execute_result",
          "data": {
            "text/plain": [
              "array([0., 0., 0., 0., 0., 0., 0., 0., 0., 1.], dtype=float32)"
            ]
          },
          "metadata": {
            "tags": []
          },
          "execution_count": 54
        }
      ]
    },
    {
      "cell_type": "markdown",
      "metadata": {
        "id": "JdzDtGwDOIVF",
        "colab_type": "text"
      },
      "source": [
        "### In the above Neural Network model add Batch Normalization layer after the input layer and repeat the steps."
      ]
    },
    {
      "cell_type": "code",
      "metadata": {
        "colab_type": "code",
        "id": "v5NifBlwDujJ",
        "colab": {}
      },
      "source": [
        "#Initialize Sequential model\n",
        "model = tf.keras.models.Sequential()\n",
        "\n",
        "#Reshape data from 2D to 1D -> 28x28 to 784\n",
        "model.add(tf.keras.layers.Reshape((784,),input_shape=(28,28,)))\n",
        "\n",
        "#Normalize the data\n",
        "model.add(tf.keras.layers.BatchNormalization())"
      ],
      "execution_count": 0,
      "outputs": []
    },
    {
      "cell_type": "code",
      "metadata": {
        "colab_type": "code",
        "id": "pDA8q6ENDujS",
        "colab": {}
      },
      "source": [
        "#Add 1st hidden layer\n",
        "model.add(tf.keras.layers.Dense(200, activation='sigmoid'))"
      ],
      "execution_count": 0,
      "outputs": []
    },
    {
      "cell_type": "code",
      "metadata": {
        "colab_type": "code",
        "id": "r_rD1rajDujV",
        "colab": {}
      },
      "source": [
        "#Add 2nd hidden layer\n",
        "model.add(tf.keras.layers.Dense(100, activation='sigmoid'))"
      ],
      "execution_count": 0,
      "outputs": []
    },
    {
      "cell_type": "code",
      "metadata": {
        "colab_type": "code",
        "id": "okX8GGffDuja",
        "colab": {}
      },
      "source": [
        "#Add 3rd hidden layer\n",
        "model.add(tf.keras.layers.Dense(60, activation='sigmoid'))"
      ],
      "execution_count": 0,
      "outputs": []
    },
    {
      "cell_type": "code",
      "metadata": {
        "colab_type": "code",
        "id": "TByL0pspDuje",
        "colab": {}
      },
      "source": [
        "\n",
        "#Add 4th hidden layer\n",
        "model.add(tf.keras.layers.Dense(30, activation='sigmoid'))"
      ],
      "execution_count": 0,
      "outputs": []
    },
    {
      "cell_type": "code",
      "metadata": {
        "colab_type": "code",
        "id": "QCDyi3gWDuji",
        "colab": {}
      },
      "source": [
        "\n",
        "#Add OUTPUT layer\n",
        "model.add(tf.keras.layers.Dense(10, activation='softmax'))"
      ],
      "execution_count": 0,
      "outputs": []
    },
    {
      "cell_type": "code",
      "metadata": {
        "colab_type": "code",
        "id": "NCSAwZIADujm",
        "colab": {}
      },
      "source": [
        "\n",
        "#Compile the model\n",
        "model.compile(optimizer='sgd', loss='categorical_crossentropy', \n",
        "              metrics=['accuracy'])"
      ],
      "execution_count": 0,
      "outputs": []
    },
    {
      "cell_type": "code",
      "metadata": {
        "colab_type": "code",
        "id": "3Q2xMbmiDujp",
        "colab": {
          "base_uri": "https://localhost:8080/",
          "height": 391
        },
        "outputId": "4a8e4d49-dc30-4503-c3f9-be3c3e00b614"
      },
      "source": [
        "model.summary()"
      ],
      "execution_count": 62,
      "outputs": [
        {
          "output_type": "stream",
          "text": [
            "Model: \"sequential_1\"\n",
            "_________________________________________________________________\n",
            "Layer (type)                 Output Shape              Param #   \n",
            "=================================================================\n",
            "reshape_1 (Reshape)          (None, 784)               0         \n",
            "_________________________________________________________________\n",
            "batch_normalization (BatchNo (None, 784)               3136      \n",
            "_________________________________________________________________\n",
            "dense_10 (Dense)             (None, 200)               157000    \n",
            "_________________________________________________________________\n",
            "dense_11 (Dense)             (None, 100)               20100     \n",
            "_________________________________________________________________\n",
            "dense_12 (Dense)             (None, 60)                6060      \n",
            "_________________________________________________________________\n",
            "dense_13 (Dense)             (None, 30)                1830      \n",
            "_________________________________________________________________\n",
            "dense_14 (Dense)             (None, 10)                310       \n",
            "=================================================================\n",
            "Total params: 188,436\n",
            "Trainable params: 186,868\n",
            "Non-trainable params: 1,568\n",
            "_________________________________________________________________\n"
          ],
          "name": "stdout"
        }
      ]
    },
    {
      "cell_type": "code",
      "metadata": {
        "id": "r4nBPvp7DuGK",
        "colab_type": "code",
        "colab": {}
      },
      "source": [
        ""
      ],
      "execution_count": 0,
      "outputs": []
    },
    {
      "cell_type": "markdown",
      "metadata": {
        "id": "mwk3T5LJOIVN",
        "colab_type": "text"
      },
      "source": [
        "### Execute the model"
      ]
    },
    {
      "cell_type": "code",
      "metadata": {
        "id": "fil-3oQVtju7",
        "colab_type": "code",
        "colab": {
          "base_uri": "https://localhost:8080/",
          "height": 1000
        },
        "outputId": "f556e264-81eb-4425-cdf8-6bdfa7287200"
      },
      "source": [
        "model.fit(trainX_z, train1Y, epochs=50)"
      ],
      "execution_count": 63,
      "outputs": [
        {
          "output_type": "stream",
          "text": [
            "Train on 60000 samples\n",
            "Epoch 1/50\n",
            "60000/60000 [==============================] - 9s 149us/sample - loss: 2.3028 - acc: 0.1236\n",
            "Epoch 2/50\n",
            "60000/60000 [==============================] - 8s 139us/sample - loss: 2.2737 - acc: 0.2230\n",
            "Epoch 3/50\n",
            "60000/60000 [==============================] - 8s 141us/sample - loss: 2.1222 - acc: 0.2514\n",
            "Epoch 4/50\n",
            "60000/60000 [==============================] - 8s 136us/sample - loss: 1.7744 - acc: 0.2995\n",
            "Epoch 5/50\n",
            "60000/60000 [==============================] - 8s 138us/sample - loss: 1.6679 - acc: 0.3638\n",
            "Epoch 6/50\n",
            "60000/60000 [==============================] - 9s 143us/sample - loss: 1.6007 - acc: 0.4346\n",
            "Epoch 7/50\n",
            "60000/60000 [==============================] - 9s 143us/sample - loss: 1.4631 - acc: 0.5005\n",
            "Epoch 8/50\n",
            "60000/60000 [==============================] - 8s 139us/sample - loss: 1.2730 - acc: 0.5637\n",
            "Epoch 9/50\n",
            "60000/60000 [==============================] - 9s 157us/sample - loss: 1.1207 - acc: 0.6227\n",
            "Epoch 10/50\n",
            "60000/60000 [==============================] - 9s 153us/sample - loss: 1.0026 - acc: 0.6691\n",
            "Epoch 11/50\n",
            "60000/60000 [==============================] - 9s 158us/sample - loss: 0.9060 - acc: 0.7010\n",
            "Epoch 12/50\n",
            "60000/60000 [==============================] - 9s 157us/sample - loss: 0.8295 - acc: 0.7199\n",
            "Epoch 13/50\n",
            "60000/60000 [==============================] - 9s 155us/sample - loss: 0.7757 - acc: 0.7356\n",
            "Epoch 14/50\n",
            "60000/60000 [==============================] - 9s 153us/sample - loss: 0.7291 - acc: 0.7465\n",
            "Epoch 15/50\n",
            "60000/60000 [==============================] - 9s 154us/sample - loss: 0.6933 - acc: 0.7567\n",
            "Epoch 16/50\n",
            "60000/60000 [==============================] - 9s 157us/sample - loss: 0.6620 - acc: 0.7656\n",
            "Epoch 17/50\n",
            "60000/60000 [==============================] - 9s 155us/sample - loss: 0.6338 - acc: 0.7725\n",
            "Epoch 18/50\n",
            "60000/60000 [==============================] - 9s 158us/sample - loss: 0.6096 - acc: 0.7792\n",
            "Epoch 19/50\n",
            "60000/60000 [==============================] - 9s 154us/sample - loss: 0.5871 - acc: 0.7876\n",
            "Epoch 20/50\n",
            "60000/60000 [==============================] - 9s 150us/sample - loss: 0.5672 - acc: 0.7956\n",
            "Epoch 21/50\n",
            "60000/60000 [==============================] - 10s 159us/sample - loss: 0.5462 - acc: 0.8041\n",
            "Epoch 22/50\n",
            "60000/60000 [==============================] - 9s 157us/sample - loss: 0.5359 - acc: 0.8106\n",
            "Epoch 23/50\n",
            "60000/60000 [==============================] - 9s 156us/sample - loss: 0.5135 - acc: 0.8199\n",
            "Epoch 24/50\n",
            "60000/60000 [==============================] - 9s 158us/sample - loss: 0.5020 - acc: 0.8245\n",
            "Epoch 25/50\n",
            "60000/60000 [==============================] - 9s 154us/sample - loss: 0.4913 - acc: 0.8288\n",
            "Epoch 26/50\n",
            "60000/60000 [==============================] - 9s 157us/sample - loss: 0.4797 - acc: 0.8331\n",
            "Epoch 27/50\n",
            "60000/60000 [==============================] - 9s 157us/sample - loss: 0.4675 - acc: 0.8374\n",
            "Epoch 28/50\n",
            "60000/60000 [==============================] - 10s 161us/sample - loss: 0.4552 - acc: 0.8417\n",
            "Epoch 29/50\n",
            "60000/60000 [==============================] - 10s 160us/sample - loss: 0.4478 - acc: 0.8435\n",
            "Epoch 30/50\n",
            "60000/60000 [==============================] - 10s 160us/sample - loss: 0.4368 - acc: 0.8479\n",
            "Epoch 31/50\n",
            "60000/60000 [==============================] - 10s 159us/sample - loss: 0.4270 - acc: 0.8506\n",
            "Epoch 32/50\n",
            "60000/60000 [==============================] - 9s 157us/sample - loss: 0.4189 - acc: 0.8525\n",
            "Epoch 33/50\n",
            "60000/60000 [==============================] - 10s 163us/sample - loss: 0.4102 - acc: 0.8580\n",
            "Epoch 34/50\n",
            "60000/60000 [==============================] - 11s 180us/sample - loss: 0.4039 - acc: 0.8595\n",
            "Epoch 35/50\n",
            "60000/60000 [==============================] - 10s 171us/sample - loss: 0.3939 - acc: 0.8620\n",
            "Epoch 36/50\n",
            "60000/60000 [==============================] - 10s 162us/sample - loss: 0.3894 - acc: 0.8641\n",
            "Epoch 37/50\n",
            "60000/60000 [==============================] - 10s 159us/sample - loss: 0.3791 - acc: 0.8675\n",
            "Epoch 38/50\n",
            "60000/60000 [==============================] - 9s 157us/sample - loss: 0.3727 - acc: 0.8690\n",
            "Epoch 39/50\n",
            "60000/60000 [==============================] - 9s 157us/sample - loss: 0.3691 - acc: 0.8704\n",
            "Epoch 40/50\n",
            "60000/60000 [==============================] - 10s 160us/sample - loss: 0.3610 - acc: 0.8739\n",
            "Epoch 41/50\n",
            "60000/60000 [==============================] - 9s 155us/sample - loss: 0.3557 - acc: 0.8752\n",
            "Epoch 42/50\n",
            "60000/60000 [==============================] - 10s 158us/sample - loss: 0.3498 - acc: 0.8772\n",
            "Epoch 43/50\n",
            "60000/60000 [==============================] - 10s 159us/sample - loss: 0.3420 - acc: 0.8804\n",
            "Epoch 44/50\n",
            "60000/60000 [==============================] - 10s 161us/sample - loss: 0.3381 - acc: 0.8824\n",
            "Epoch 45/50\n",
            "60000/60000 [==============================] - 10s 159us/sample - loss: 0.3334 - acc: 0.8820\n",
            "Epoch 46/50\n",
            "60000/60000 [==============================] - 10s 159us/sample - loss: 0.3276 - acc: 0.8855\n",
            "Epoch 47/50\n",
            "60000/60000 [==============================] - 9s 155us/sample - loss: 0.3243 - acc: 0.8860\n",
            "Epoch 48/50\n",
            "60000/60000 [==============================] - 9s 155us/sample - loss: 0.3195 - acc: 0.8868\n",
            "Epoch 49/50\n",
            "60000/60000 [==============================] - 9s 158us/sample - loss: 0.3138 - acc: 0.8896\n",
            "Epoch 50/50\n",
            "60000/60000 [==============================] - 9s 156us/sample - loss: 0.3103 - acc: 0.8896\n"
          ],
          "name": "stdout"
        },
        {
          "output_type": "execute_result",
          "data": {
            "text/plain": [
              "<tensorflow.python.keras.callbacks.History at 0x7fa885c6db10>"
            ]
          },
          "metadata": {
            "tags": []
          },
          "execution_count": 63
        }
      ]
    },
    {
      "cell_type": "code",
      "metadata": {
        "id": "HiWMQHvialuv",
        "colab_type": "code",
        "colab": {
          "base_uri": "https://localhost:8080/",
          "height": 391
        },
        "outputId": "e9def4d0-ad73-4360-9730-2d87a9ec310e"
      },
      "source": [
        "model.summary()"
      ],
      "execution_count": 64,
      "outputs": [
        {
          "output_type": "stream",
          "text": [
            "Model: \"sequential_1\"\n",
            "_________________________________________________________________\n",
            "Layer (type)                 Output Shape              Param #   \n",
            "=================================================================\n",
            "reshape_1 (Reshape)          (None, 784)               0         \n",
            "_________________________________________________________________\n",
            "batch_normalization (BatchNo (None, 784)               3136      \n",
            "_________________________________________________________________\n",
            "dense_10 (Dense)             (None, 200)               157000    \n",
            "_________________________________________________________________\n",
            "dense_11 (Dense)             (None, 100)               20100     \n",
            "_________________________________________________________________\n",
            "dense_12 (Dense)             (None, 60)                6060      \n",
            "_________________________________________________________________\n",
            "dense_13 (Dense)             (None, 30)                1830      \n",
            "_________________________________________________________________\n",
            "dense_14 (Dense)             (None, 10)                310       \n",
            "=================================================================\n",
            "Total params: 188,436\n",
            "Trainable params: 186,868\n",
            "Non-trainable params: 1,568\n",
            "_________________________________________________________________\n"
          ],
          "name": "stdout"
        }
      ]
    },
    {
      "cell_type": "code",
      "metadata": {
        "id": "r96-aaKHatYL",
        "colab_type": "code",
        "colab": {}
      },
      "source": [
        "model.get_weights()"
      ],
      "execution_count": 0,
      "outputs": []
    },
    {
      "cell_type": "markdown",
      "metadata": {
        "id": "Py-KwkmjOIVU",
        "colab_type": "text"
      },
      "source": [
        "### Customize the learning rate to 0.001 in sgd optimizer and run the model"
      ]
    },
    {
      "cell_type": "code",
      "metadata": {
        "id": "mEui9uc4ppXr",
        "colab_type": "code",
        "colab": {}
      },
      "source": [
        ""
      ],
      "execution_count": 0,
      "outputs": []
    },
    {
      "cell_type": "code",
      "metadata": {
        "colab_type": "code",
        "id": "pwhAk8tYpwSk",
        "colab": {}
      },
      "source": [
        "#Initialize Sequential model\n",
        "model = tf.keras.models.Sequential()\n",
        "\n",
        "#Reshape data from 2D to 1D -> 28x28 to 784\n",
        "model.add(tf.keras.layers.Reshape((784,),input_shape=(28,28,)))\n",
        "\n",
        "#Normalize the data\n",
        "model.add(tf.keras.layers.BatchNormalization())"
      ],
      "execution_count": 0,
      "outputs": []
    },
    {
      "cell_type": "code",
      "metadata": {
        "colab_type": "code",
        "id": "MpKaW0iHpwSs",
        "colab": {}
      },
      "source": [
        "#Add 1st hidden layer\n",
        "model.add(tf.keras.layers.Dense(200, activation='sigmoid'))"
      ],
      "execution_count": 0,
      "outputs": []
    },
    {
      "cell_type": "code",
      "metadata": {
        "colab_type": "code",
        "id": "ul8A-GFSpwSw",
        "colab": {}
      },
      "source": [
        "#Add 2nd hidden layer\n",
        "model.add(tf.keras.layers.Dense(100, activation='sigmoid'))"
      ],
      "execution_count": 0,
      "outputs": []
    },
    {
      "cell_type": "code",
      "metadata": {
        "colab_type": "code",
        "id": "2tNn82ufpwS1",
        "colab": {}
      },
      "source": [
        "#Add 3rd hidden layer\n",
        "model.add(tf.keras.layers.Dense(60, activation='sigmoid'))"
      ],
      "execution_count": 0,
      "outputs": []
    },
    {
      "cell_type": "code",
      "metadata": {
        "colab_type": "code",
        "id": "0CU9cdUSpwS8",
        "colab": {}
      },
      "source": [
        "\n",
        "#Add 4th hidden layer\n",
        "model.add(tf.keras.layers.Dense(30, activation='sigmoid'))"
      ],
      "execution_count": 0,
      "outputs": []
    },
    {
      "cell_type": "code",
      "metadata": {
        "colab_type": "code",
        "id": "IXvWPx2qpwTB",
        "colab": {}
      },
      "source": [
        "\n",
        "#Add OUTPUT layer\n",
        "model.add(tf.keras.layers.Dense(10, activation='softmax'))"
      ],
      "execution_count": 0,
      "outputs": []
    },
    {
      "cell_type": "code",
      "metadata": {
        "id": "naFtDAmIp5OZ",
        "colab_type": "code",
        "colab": {}
      },
      "source": [
        "sgd_optimizer = tf.keras.optimizers.SGD(lr=0.001)"
      ],
      "execution_count": 0,
      "outputs": []
    },
    {
      "cell_type": "code",
      "metadata": {
        "colab_type": "code",
        "id": "kcRT-oPapwTG",
        "colab": {}
      },
      "source": [
        "\n",
        "#Compile the model\n",
        "model.compile(optimizer='sgd', loss='categorical_crossentropy', \n",
        "              metrics=['accuracy'])"
      ],
      "execution_count": 0,
      "outputs": []
    },
    {
      "cell_type": "code",
      "metadata": {
        "colab_type": "code",
        "outputId": "0053c32c-4f11-4f99-c9bb-5f8102772b9c",
        "id": "JM_2qiBdpwTL",
        "colab": {
          "base_uri": "https://localhost:8080/",
          "height": 391
        }
      },
      "source": [
        "model.summary()"
      ],
      "execution_count": 74,
      "outputs": [
        {
          "output_type": "stream",
          "text": [
            "Model: \"sequential_2\"\n",
            "_________________________________________________________________\n",
            "Layer (type)                 Output Shape              Param #   \n",
            "=================================================================\n",
            "reshape_2 (Reshape)          (None, 784)               0         \n",
            "_________________________________________________________________\n",
            "batch_normalization_1 (Batch (None, 784)               3136      \n",
            "_________________________________________________________________\n",
            "dense_15 (Dense)             (None, 200)               157000    \n",
            "_________________________________________________________________\n",
            "dense_16 (Dense)             (None, 100)               20100     \n",
            "_________________________________________________________________\n",
            "dense_17 (Dense)             (None, 60)                6060      \n",
            "_________________________________________________________________\n",
            "dense_18 (Dense)             (None, 30)                1830      \n",
            "_________________________________________________________________\n",
            "dense_19 (Dense)             (None, 10)                310       \n",
            "=================================================================\n",
            "Total params: 188,436\n",
            "Trainable params: 186,868\n",
            "Non-trainable params: 1,568\n",
            "_________________________________________________________________\n"
          ],
          "name": "stdout"
        }
      ]
    },
    {
      "cell_type": "code",
      "metadata": {
        "id": "P2qR6RYRppIs",
        "colab_type": "code",
        "colab": {
          "base_uri": "https://localhost:8080/",
          "height": 1000
        },
        "outputId": "252f1fcd-42c7-44a9-faaa-4beccd49db57"
      },
      "source": [
        "model.fit(trainX_z, train1Y, epochs=50)"
      ],
      "execution_count": 75,
      "outputs": [
        {
          "output_type": "stream",
          "text": [
            "Train on 60000 samples\n",
            "Epoch 1/50\n",
            "60000/60000 [==============================] - 8s 142us/sample - loss: 2.3043 - acc: 0.1258\n",
            "Epoch 2/50\n",
            "60000/60000 [==============================] - 8s 141us/sample - loss: 2.2811 - acc: 0.2072\n",
            "Epoch 3/50\n",
            "60000/60000 [==============================] - 8s 139us/sample - loss: 2.2194 - acc: 0.3251\n",
            "Epoch 4/50\n",
            "60000/60000 [==============================] - 8s 139us/sample - loss: 1.8998 - acc: 0.3537\n",
            "Epoch 5/50\n",
            "60000/60000 [==============================] - 8s 140us/sample - loss: 1.5717 - acc: 0.4532\n",
            "Epoch 6/50\n",
            "60000/60000 [==============================] - 8s 137us/sample - loss: 1.3506 - acc: 0.5163\n",
            "Epoch 7/50\n",
            "60000/60000 [==============================] - 8s 137us/sample - loss: 1.1984 - acc: 0.5638\n",
            "Epoch 8/50\n",
            "60000/60000 [==============================] - 8s 138us/sample - loss: 1.0887 - acc: 0.5991\n",
            "Epoch 9/50\n",
            "60000/60000 [==============================] - 8s 137us/sample - loss: 0.9996 - acc: 0.6293\n",
            "Epoch 10/50\n",
            "60000/60000 [==============================] - 8s 138us/sample - loss: 0.9250 - acc: 0.6610\n",
            "Epoch 11/50\n",
            "60000/60000 [==============================] - 8s 138us/sample - loss: 0.8631 - acc: 0.6875\n",
            "Epoch 12/50\n",
            "60000/60000 [==============================] - 9s 149us/sample - loss: 0.8175 - acc: 0.7090\n",
            "Epoch 13/50\n",
            "60000/60000 [==============================] - 9s 147us/sample - loss: 0.7780 - acc: 0.7247\n",
            "Epoch 14/50\n",
            "60000/60000 [==============================] - 9s 145us/sample - loss: 0.7502 - acc: 0.7346\n",
            "Epoch 15/50\n",
            "60000/60000 [==============================] - 9s 146us/sample - loss: 0.7197 - acc: 0.7451\n",
            "Epoch 16/50\n",
            "60000/60000 [==============================] - 8s 138us/sample - loss: 0.6957 - acc: 0.7522\n",
            "Epoch 17/50\n",
            "60000/60000 [==============================] - 8s 139us/sample - loss: 0.6698 - acc: 0.7593\n",
            "Epoch 18/50\n",
            "60000/60000 [==============================] - 8s 138us/sample - loss: 0.6476 - acc: 0.7669\n",
            "Epoch 19/50\n",
            "60000/60000 [==============================] - 8s 139us/sample - loss: 0.6257 - acc: 0.7747\n",
            "Epoch 20/50\n",
            "60000/60000 [==============================] - 8s 141us/sample - loss: 0.6074 - acc: 0.7794\n",
            "Epoch 21/50\n",
            "60000/60000 [==============================] - 8s 139us/sample - loss: 0.5867 - acc: 0.7868\n",
            "Epoch 22/50\n",
            "60000/60000 [==============================] - 8s 139us/sample - loss: 0.5702 - acc: 0.7926\n",
            "Epoch 23/50\n",
            "60000/60000 [==============================] - 8s 135us/sample - loss: 0.5534 - acc: 0.7979\n",
            "Epoch 24/50\n",
            "60000/60000 [==============================] - 8s 136us/sample - loss: 0.5399 - acc: 0.8040\n",
            "Epoch 25/50\n",
            "60000/60000 [==============================] - 8s 138us/sample - loss: 0.5257 - acc: 0.8130\n",
            "Epoch 26/50\n",
            "60000/60000 [==============================] - 8s 136us/sample - loss: 0.5109 - acc: 0.8187\n",
            "Epoch 27/50\n",
            "60000/60000 [==============================] - 8s 136us/sample - loss: 0.4975 - acc: 0.8239\n",
            "Epoch 28/50\n",
            "60000/60000 [==============================] - 8s 135us/sample - loss: 0.4843 - acc: 0.8296\n",
            "Epoch 29/50\n",
            "60000/60000 [==============================] - 8s 139us/sample - loss: 0.4727 - acc: 0.8355\n",
            "Epoch 30/50\n",
            "60000/60000 [==============================] - 8s 141us/sample - loss: 0.4615 - acc: 0.8382\n",
            "Epoch 31/50\n",
            "60000/60000 [==============================] - 8s 139us/sample - loss: 0.4525 - acc: 0.8419\n",
            "Epoch 32/50\n",
            "60000/60000 [==============================] - 8s 141us/sample - loss: 0.4405 - acc: 0.8467\n",
            "Epoch 33/50\n",
            "60000/60000 [==============================] - 8s 138us/sample - loss: 0.4318 - acc: 0.8498\n",
            "Epoch 34/50\n",
            "60000/60000 [==============================] - 8s 137us/sample - loss: 0.4242 - acc: 0.8537\n",
            "Epoch 35/50\n",
            "60000/60000 [==============================] - 8s 139us/sample - loss: 0.4151 - acc: 0.8569\n",
            "Epoch 36/50\n",
            "60000/60000 [==============================] - 8s 138us/sample - loss: 0.4076 - acc: 0.8590\n",
            "Epoch 37/50\n",
            "60000/60000 [==============================] - 8s 139us/sample - loss: 0.3990 - acc: 0.8621\n",
            "Epoch 38/50\n",
            "60000/60000 [==============================] - 9s 144us/sample - loss: 0.3930 - acc: 0.8641\n",
            "Epoch 39/50\n",
            "60000/60000 [==============================] - 9s 155us/sample - loss: 0.3870 - acc: 0.8667\n",
            "Epoch 40/50\n",
            "60000/60000 [==============================] - 10s 159us/sample - loss: 0.3795 - acc: 0.8691\n",
            "Epoch 41/50\n",
            "60000/60000 [==============================] - 10s 161us/sample - loss: 0.3719 - acc: 0.8702\n",
            "Epoch 42/50\n",
            "60000/60000 [==============================] - 10s 163us/sample - loss: 0.3664 - acc: 0.8719\n",
            "Epoch 43/50\n",
            "60000/60000 [==============================] - 10s 162us/sample - loss: 0.3611 - acc: 0.8757\n",
            "Epoch 44/50\n",
            "60000/60000 [==============================] - 10s 160us/sample - loss: 0.3531 - acc: 0.8782\n",
            "Epoch 45/50\n",
            "60000/60000 [==============================] - 10s 163us/sample - loss: 0.3496 - acc: 0.8789\n",
            "Epoch 46/50\n",
            "60000/60000 [==============================] - 10s 166us/sample - loss: 0.3432 - acc: 0.8809\n",
            "Epoch 47/50\n",
            "60000/60000 [==============================] - 10s 163us/sample - loss: 0.3397 - acc: 0.8819\n",
            "Epoch 48/50\n",
            "60000/60000 [==============================] - 9s 146us/sample - loss: 0.3348 - acc: 0.8834\n",
            "Epoch 49/50\n",
            "60000/60000 [==============================] - 8s 140us/sample - loss: 0.3277 - acc: 0.8863\n",
            "Epoch 50/50\n",
            "60000/60000 [==============================] - 9s 148us/sample - loss: 0.3245 - acc: 0.8880\n"
          ],
          "name": "stdout"
        },
        {
          "output_type": "execute_result",
          "data": {
            "text/plain": [
              "<tensorflow.python.keras.callbacks.History at 0x7fa885b3ebd0>"
            ]
          },
          "metadata": {
            "tags": []
          },
          "execution_count": 75
        }
      ]
    },
    {
      "cell_type": "code",
      "metadata": {
        "id": "yLXUE9jWOIVV",
        "colab_type": "code",
        "colab": {}
      },
      "source": [
        "\n",
        "##model.compile(optimizer=sgd_optimizer, loss='mse')"
      ],
      "execution_count": 0,
      "outputs": []
    },
    {
      "cell_type": "code",
      "metadata": {
        "id": "pJUqA5T4OIVc",
        "colab_type": "code",
        "colab": {}
      },
      "source": [
        ""
      ],
      "execution_count": 0,
      "outputs": []
    },
    {
      "cell_type": "markdown",
      "metadata": {
        "id": "j9CSqKvpOIVk",
        "colab_type": "text"
      },
      "source": [
        "### Build the Neural Network model with 3 Dense layers with 100,100,10 neurons respectively in each layer. Use cross entropy loss function and singmoid as activation in the hidden layers and softmax as activation function in the output layer. Use sgd optimizer with learning rate 0.03."
      ]
    },
    {
      "cell_type": "code",
      "metadata": {
        "id": "xM1JsS11QAeQ",
        "colab_type": "code",
        "colab": {}
      },
      "source": [
        ""
      ],
      "execution_count": 0,
      "outputs": []
    },
    {
      "cell_type": "code",
      "metadata": {
        "colab_type": "code",
        "id": "4svyL_9yqJ7C",
        "colab": {}
      },
      "source": [
        "#Initialize Sequential model\n",
        "model = tf.keras.models.Sequential()\n",
        "\n",
        "#Reshape data from 2D to 1D -> 28x28 to 784\n",
        "model.add(tf.keras.layers.Reshape((784,),input_shape=(28,28,)))\n",
        "\n",
        "#Normalize the data\n",
        "model.add(tf.keras.layers.BatchNormalization())"
      ],
      "execution_count": 0,
      "outputs": []
    },
    {
      "cell_type": "code",
      "metadata": {
        "colab_type": "code",
        "id": "M7t5c50cqJ7R",
        "colab": {}
      },
      "source": [
        "#Add 1st hidden layer\n",
        "model.add(tf.keras.layers.Dense(100, activation='sigmoid'))"
      ],
      "execution_count": 0,
      "outputs": []
    },
    {
      "cell_type": "code",
      "metadata": {
        "colab_type": "code",
        "id": "gbywob4rqJ7W",
        "colab": {}
      },
      "source": [
        "#Add 2nd hidden layer\n",
        "model.add(tf.keras.layers.Dense(100, activation='sigmoid'))"
      ],
      "execution_count": 0,
      "outputs": []
    },
    {
      "cell_type": "code",
      "metadata": {
        "colab_type": "code",
        "id": "i_AmSJdFqJ7m",
        "colab": {}
      },
      "source": [
        "\n",
        "#Add OUTPUT layer\n",
        "model.add(tf.keras.layers.Dense(10, activation='softmax'))"
      ],
      "execution_count": 0,
      "outputs": []
    },
    {
      "cell_type": "code",
      "metadata": {
        "colab_type": "code",
        "id": "scUwmzDgqJ7r",
        "colab": {}
      },
      "source": [
        "sgd_optimizer = tf.keras.optimizers.SGD(lr=0.003)"
      ],
      "execution_count": 0,
      "outputs": []
    },
    {
      "cell_type": "code",
      "metadata": {
        "colab_type": "code",
        "id": "Jh1sG1-QqJ7y",
        "colab": {}
      },
      "source": [
        "\n",
        "#Compile the model\n",
        "model.compile(optimizer='sgd', loss='categorical_crossentropy', \n",
        "              metrics=['accuracy'])"
      ],
      "execution_count": 0,
      "outputs": []
    },
    {
      "cell_type": "code",
      "metadata": {
        "colab_type": "code",
        "outputId": "5d4708c0-6c71-45aa-cde0-0ca05192efcc",
        "id": "wCBWXMW4qJ75",
        "colab": {
          "base_uri": "https://localhost:8080/",
          "height": 323
        }
      },
      "source": [
        "model.summary()"
      ],
      "execution_count": 82,
      "outputs": [
        {
          "output_type": "stream",
          "text": [
            "Model: \"sequential_3\"\n",
            "_________________________________________________________________\n",
            "Layer (type)                 Output Shape              Param #   \n",
            "=================================================================\n",
            "reshape_3 (Reshape)          (None, 784)               0         \n",
            "_________________________________________________________________\n",
            "batch_normalization_2 (Batch (None, 784)               3136      \n",
            "_________________________________________________________________\n",
            "dense_20 (Dense)             (None, 100)               78500     \n",
            "_________________________________________________________________\n",
            "dense_21 (Dense)             (None, 100)               10100     \n",
            "_________________________________________________________________\n",
            "dense_22 (Dense)             (None, 10)                1010      \n",
            "=================================================================\n",
            "Total params: 92,746\n",
            "Trainable params: 91,178\n",
            "Non-trainable params: 1,568\n",
            "_________________________________________________________________\n"
          ],
          "name": "stdout"
        }
      ]
    },
    {
      "cell_type": "code",
      "metadata": {
        "colab_type": "code",
        "id": "pxzFhCYpqJ8A",
        "colab": {
          "base_uri": "https://localhost:8080/",
          "height": 1000
        },
        "outputId": "c6846ff3-4537-42ee-93ab-8f0052553068"
      },
      "source": [
        "model.fit(trainX_z, train1Y, epochs=50)"
      ],
      "execution_count": 83,
      "outputs": [
        {
          "output_type": "stream",
          "text": [
            "Train on 60000 samples\n",
            "Epoch 1/50\n",
            "60000/60000 [==============================] - 5s 89us/sample - loss: 1.5440 - acc: 0.5919\n",
            "Epoch 2/50\n",
            "60000/60000 [==============================] - 5s 88us/sample - loss: 0.8706 - acc: 0.7369\n",
            "Epoch 3/50\n",
            "60000/60000 [==============================] - 5s 90us/sample - loss: 0.6916 - acc: 0.7644\n",
            "Epoch 4/50\n",
            "60000/60000 [==============================] - 5s 91us/sample - loss: 0.6135 - acc: 0.7862\n",
            "Epoch 5/50\n",
            "60000/60000 [==============================] - 5s 86us/sample - loss: 0.5651 - acc: 0.8008\n",
            "Epoch 6/50\n",
            "60000/60000 [==============================] - 5s 88us/sample - loss: 0.5307 - acc: 0.8123\n",
            "Epoch 7/50\n",
            "60000/60000 [==============================] - 5s 88us/sample - loss: 0.5071 - acc: 0.8197\n",
            "Epoch 8/50\n",
            "60000/60000 [==============================] - 5s 85us/sample - loss: 0.4875 - acc: 0.8271\n",
            "Epoch 9/50\n",
            "60000/60000 [==============================] - 5s 87us/sample - loss: 0.4738 - acc: 0.8313\n",
            "Epoch 10/50\n",
            "60000/60000 [==============================] - 5s 85us/sample - loss: 0.4600 - acc: 0.8359\n",
            "Epoch 11/50\n",
            "60000/60000 [==============================] - 5s 86us/sample - loss: 0.4518 - acc: 0.8391\n",
            "Epoch 12/50\n",
            "60000/60000 [==============================] - 5s 87us/sample - loss: 0.4431 - acc: 0.8424\n",
            "Epoch 13/50\n",
            "60000/60000 [==============================] - 5s 87us/sample - loss: 0.4339 - acc: 0.8461\n",
            "Epoch 14/50\n",
            "60000/60000 [==============================] - 5s 87us/sample - loss: 0.4257 - acc: 0.8494\n",
            "Epoch 15/50\n",
            "60000/60000 [==============================] - 6s 94us/sample - loss: 0.4206 - acc: 0.8511\n",
            "Epoch 16/50\n",
            "60000/60000 [==============================] - 5s 91us/sample - loss: 0.4158 - acc: 0.8514\n",
            "Epoch 17/50\n",
            "60000/60000 [==============================] - 5s 88us/sample - loss: 0.4077 - acc: 0.8542\n",
            "Epoch 18/50\n",
            "60000/60000 [==============================] - 6s 92us/sample - loss: 0.4041 - acc: 0.8562\n",
            "Epoch 19/50\n",
            "60000/60000 [==============================] - 5s 90us/sample - loss: 0.3989 - acc: 0.8578\n",
            "Epoch 20/50\n",
            "60000/60000 [==============================] - 6s 108us/sample - loss: 0.3952 - acc: 0.8586\n",
            "Epoch 21/50\n",
            "60000/60000 [==============================] - 6s 104us/sample - loss: 0.3893 - acc: 0.8615\n",
            "Epoch 22/50\n",
            "60000/60000 [==============================] - 6s 104us/sample - loss: 0.3848 - acc: 0.8633\n",
            "Epoch 23/50\n",
            "60000/60000 [==============================] - 6s 101us/sample - loss: 0.3805 - acc: 0.8643\n",
            "Epoch 24/50\n",
            "60000/60000 [==============================] - 5s 90us/sample - loss: 0.3780 - acc: 0.8650\n",
            "Epoch 25/50\n",
            "60000/60000 [==============================] - 5s 87us/sample - loss: 0.3740 - acc: 0.8686\n",
            "Epoch 26/50\n",
            "60000/60000 [==============================] - 5s 86us/sample - loss: 0.3719 - acc: 0.8669\n",
            "Epoch 27/50\n",
            "60000/60000 [==============================] - 5s 86us/sample - loss: 0.3671 - acc: 0.8693\n",
            "Epoch 28/50\n",
            "60000/60000 [==============================] - 5s 88us/sample - loss: 0.3633 - acc: 0.8710\n",
            "Epoch 29/50\n",
            "60000/60000 [==============================] - 5s 87us/sample - loss: 0.3612 - acc: 0.8711\n",
            "Epoch 30/50\n",
            "60000/60000 [==============================] - 5s 88us/sample - loss: 0.3563 - acc: 0.8723\n",
            "Epoch 31/50\n",
            "60000/60000 [==============================] - 5s 87us/sample - loss: 0.3539 - acc: 0.8732\n",
            "Epoch 32/50\n",
            "60000/60000 [==============================] - 5s 89us/sample - loss: 0.3515 - acc: 0.8735\n",
            "Epoch 33/50\n",
            "60000/60000 [==============================] - 5s 89us/sample - loss: 0.3498 - acc: 0.8750\n",
            "Epoch 34/50\n",
            "60000/60000 [==============================] - 5s 89us/sample - loss: 0.3461 - acc: 0.8757\n",
            "Epoch 35/50\n",
            "60000/60000 [==============================] - 6s 99us/sample - loss: 0.3429 - acc: 0.8772\n",
            "Epoch 36/50\n",
            "60000/60000 [==============================] - 5s 86us/sample - loss: 0.3410 - acc: 0.8787\n",
            "Epoch 37/50\n",
            "60000/60000 [==============================] - 5s 86us/sample - loss: 0.3404 - acc: 0.8772\n",
            "Epoch 38/50\n",
            "60000/60000 [==============================] - 5s 87us/sample - loss: 0.3345 - acc: 0.8811\n",
            "Epoch 39/50\n",
            "60000/60000 [==============================] - 5s 87us/sample - loss: 0.3316 - acc: 0.8814\n",
            "Epoch 40/50\n",
            "60000/60000 [==============================] - 5s 88us/sample - loss: 0.3310 - acc: 0.8812\n",
            "Epoch 41/50\n",
            "60000/60000 [==============================] - 5s 90us/sample - loss: 0.3266 - acc: 0.8836\n",
            "Epoch 42/50\n",
            "60000/60000 [==============================] - 5s 90us/sample - loss: 0.3250 - acc: 0.8832\n",
            "Epoch 43/50\n",
            "60000/60000 [==============================] - 5s 88us/sample - loss: 0.3226 - acc: 0.8849\n",
            "Epoch 44/50\n",
            "60000/60000 [==============================] - 5s 88us/sample - loss: 0.3207 - acc: 0.8842\n",
            "Epoch 45/50\n",
            "60000/60000 [==============================] - 5s 89us/sample - loss: 0.3180 - acc: 0.8860\n",
            "Epoch 46/50\n",
            "60000/60000 [==============================] - 6s 95us/sample - loss: 0.3170 - acc: 0.8861\n",
            "Epoch 47/50\n",
            "60000/60000 [==============================] - 6s 96us/sample - loss: 0.3136 - acc: 0.8866\n",
            "Epoch 48/50\n",
            "60000/60000 [==============================] - 5s 87us/sample - loss: 0.3122 - acc: 0.8868\n",
            "Epoch 49/50\n",
            "60000/60000 [==============================] - 5s 87us/sample - loss: 0.3094 - acc: 0.8880\n",
            "Epoch 50/50\n",
            "60000/60000 [==============================] - 5s 87us/sample - loss: 0.3076 - acc: 0.8893\n"
          ],
          "name": "stdout"
        },
        {
          "output_type": "execute_result",
          "data": {
            "text/plain": [
              "<tensorflow.python.keras.callbacks.History at 0x7fa88598e910>"
            ]
          },
          "metadata": {
            "tags": []
          },
          "execution_count": 83
        }
      ]
    },
    {
      "cell_type": "code",
      "metadata": {
        "id": "mpZK2PDRQAZ8",
        "colab_type": "code",
        "colab": {}
      },
      "source": [
        ""
      ],
      "execution_count": 0,
      "outputs": []
    },
    {
      "cell_type": "code",
      "metadata": {
        "id": "X-O-fFxnOIVt",
        "colab_type": "code",
        "colab": {}
      },
      "source": [
        ""
      ],
      "execution_count": 0,
      "outputs": []
    },
    {
      "cell_type": "code",
      "metadata": {
        "id": "BiP7IL52OIVw",
        "colab_type": "code",
        "colab": {}
      },
      "source": [
        ""
      ],
      "execution_count": 0,
      "outputs": []
    },
    {
      "cell_type": "markdown",
      "metadata": {
        "id": "Nr2YsZV0OIV0",
        "colab_type": "text"
      },
      "source": [
        "## Review model"
      ]
    },
    {
      "cell_type": "code",
      "metadata": {
        "id": "h4ojW6-oOIV2",
        "colab_type": "code",
        "colab": {}
      },
      "source": [
        ""
      ],
      "execution_count": 0,
      "outputs": []
    },
    {
      "cell_type": "markdown",
      "metadata": {
        "id": "gfFGmbZLOIV5",
        "colab_type": "text"
      },
      "source": [
        "### Run the model"
      ]
    },
    {
      "cell_type": "code",
      "metadata": {
        "id": "bIkbMEN5OIV7",
        "colab_type": "code",
        "colab": {}
      },
      "source": [
        ""
      ],
      "execution_count": 0,
      "outputs": []
    }
  ]
}