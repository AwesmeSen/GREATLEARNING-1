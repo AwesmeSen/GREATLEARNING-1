{
  "nbformat": 4,
  "nbformat_minor": 0,
  "metadata": {
    "colab": {
      "name": "External Lab - Residency 2_hypothesis_testing_questions.ipynb",
      "version": "0.3.2",
      "provenance": [],
      "collapsed_sections": []
    },
    "language_info": {
      "codemirror_mode": {
        "name": "ipython",
        "version": 3
      },
      "file_extension": ".py",
      "mimetype": "text/x-python",
      "name": "python",
      "nbconvert_exporter": "python",
      "pygments_lexer": "ipython3",
      "version": "3.7.1"
    },
    "kernelspec": {
      "display_name": "Python 3",
      "language": "python",
      "name": "python3"
    }
  },
  "cells": [
    {
      "cell_type": "markdown",
      "metadata": {
        "id": "xx5CxeVubU3W",
        "colab_type": "text"
      },
      "source": [
        "# Hypothesis Testing"
      ]
    },
    {
      "cell_type": "markdown",
      "metadata": {
        "id": "6OR23eWKbU3X",
        "colab_type": "text"
      },
      "source": [
        "The purpose of the test is to tell if there is any significant difference between two data sets.\n",
        "\n"
      ]
    },
    {
      "cell_type": "markdown",
      "metadata": {
        "id": "604OoWnTbU3Z",
        "colab_type": "text"
      },
      "source": [
        "## Overview"
      ]
    },
    {
      "cell_type": "markdown",
      "metadata": {
        "id": "o-il1iBSbU3b",
        "colab_type": "text"
      },
      "source": [
        "This module covers,\n",
        "\n",
        "1) One sample and Two sample t-tests\n",
        "\n",
        "2) ANOVA\n",
        "\n",
        "3) Type I and Type II errors\n",
        "\n",
        "4) Chi-Squared Tests"
      ]
    },
    {
      "cell_type": "markdown",
      "metadata": {
        "id": "G2yYl5cvbU3c",
        "colab_type": "text"
      },
      "source": [
        "## Question 1 \n",
        "\n",
        "*A student is trying to decide between two GPUs. He want to use the GPU for his research to run Deep learning algorithms, so the only thing he is concerned with is speed.*\n",
        "\n",
        "*He picks a Deep Learning algorithm on a large data set and runs it on both GPUs 15 times, timing each run in hours. Results are given in the below lists GPU1 and GPU2.*"
      ]
    },
    {
      "cell_type": "code",
      "metadata": {
        "id": "ohh5XJ4ZbU3d",
        "colab_type": "code",
        "colab": {}
      },
      "source": [
        "from scipy import stats \n",
        "\n",
        "from scipy.stats import zscore\n",
        "from scipy.stats import ttest_ind\n",
        "import seaborn as sns\n",
        "\n",
        "import numpy as np\n",
        "import pandas as pd\n",
        "import matplotlib.pyplot as plt"
      ],
      "execution_count": 0,
      "outputs": []
    },
    {
      "cell_type": "code",
      "metadata": {
        "id": "6yGkYI6EbU3i",
        "colab_type": "code",
        "colab": {}
      },
      "source": [
        "GPU1 = np.array([11,9,10,11,10,12,9,11,12,9,11,12,9,10,9])\n",
        "GPU2 = np.array([11,13,10,13,12,9,11,12,12,11,12,12,10,11,13])\n",
        "\n",
        "#Assumption: Both the datasets (GPU1 & GPU 2) are random, independent, parametric & normally distributed"
      ],
      "execution_count": 0,
      "outputs": []
    },
    {
      "cell_type": "markdown",
      "metadata": {
        "id": "L55jqmIXbU3m",
        "colab_type": "text"
      },
      "source": [
        "Hint: You can import ttest function from scipy to perform t tests "
      ]
    },
    {
      "cell_type": "markdown",
      "metadata": {
        "id": "v8fsIhPFbU3n",
        "colab_type": "text"
      },
      "source": [
        "**First T test**\n",
        "\n",
        "*One sample t-test*\n",
        "\n",
        "Check if the mean of the GPU1 is equal to zero.\n",
        "- Null Hypothesis is that mean is equal to zero.\n",
        "- Alternate hypothesis is that it is not equal to zero."
      ]
    },
    {
      "cell_type": "code",
      "metadata": {
        "id": "wgMSWwApbU3o",
        "colab_type": "code",
        "colab": {
          "base_uri": "https://localhost:8080/",
          "height": 34
        },
        "outputId": "03c3eaf7-4cf2-4029-ff26-c704112dcd3b"
      },
      "source": [
        "GPU1_mu , GPU1_std = np.mean(GPU1),np.std(GPU1)\n",
        "GPU1_mu , GPU1_std"
      ],
      "execution_count": 180,
      "outputs": [
        {
          "output_type": "execute_result",
          "data": {
            "text/plain": [
              "(10.333333333333334, 1.1352924243950933)"
            ]
          },
          "metadata": {
            "tags": []
          },
          "execution_count": 180
        }
      ]
    },
    {
      "cell_type": "code",
      "metadata": {
        "id": "D-Oop6OYGbvW",
        "colab_type": "code",
        "colab": {
          "base_uri": "https://localhost:8080/",
          "height": 34
        },
        "outputId": "25c5f9cc-d49d-4cf4-e69d-f31b40a0f4f3"
      },
      "source": [
        "GPU2_mu , GPU2_std = np.mean(GPU2),np.std(GPU2)\n",
        "GPU2_mu , GPU2_std"
      ],
      "execution_count": 181,
      "outputs": [
        {
          "output_type": "execute_result",
          "data": {
            "text/plain": [
              "(11.466666666666667, 1.1469767022723503)"
            ]
          },
          "metadata": {
            "tags": []
          },
          "execution_count": 181
        }
      ]
    },
    {
      "cell_type": "code",
      "metadata": {
        "id": "kt_plB5THFnM",
        "colab_type": "code",
        "colab": {
          "base_uri": "https://localhost:8080/",
          "height": 286
        },
        "outputId": "5ebc1fe3-ec64-442b-fc93-eb5d204ca16e"
      },
      "source": [
        "sns.distplot(GPU1)"
      ],
      "execution_count": 182,
      "outputs": [
        {
          "output_type": "execute_result",
          "data": {
            "text/plain": [
              "<matplotlib.axes._subplots.AxesSubplot at 0x7ffae3043748>"
            ]
          },
          "metadata": {
            "tags": []
          },
          "execution_count": 182
        },
        {
          "output_type": "display_data",
          "data": {
            "image/png": "[encoded data removed]",
            "text/plain": [
              "<Figure size 432x288 with 1 Axes>"
            ]
          },
          "metadata": {
            "tags": []
          }
        }
      ]
    },
    {
      "cell_type": "code",
      "metadata": {
        "id": "66eyq3eVVmFa",
        "colab_type": "code",
        "colab": {
          "base_uri": "https://localhost:8080/",
          "height": 286
        },
        "outputId": "0f394701-70f9-46db-b6f0-a89019203890"
      },
      "source": [
        "plt.plot(GPU1,'k--',color='r')\n",
        "plt.plot(GPU2,'o--',color='b')"
      ],
      "execution_count": 6,
      "outputs": [
        {
          "output_type": "execute_result",
          "data": {
            "text/plain": [
              "[<matplotlib.lines.Line2D at 0x7ffaeca5b400>]"
            ]
          },
          "metadata": {
            "tags": []
          },
          "execution_count": 6
        },
        {
          "output_type": "display_data",
          "data": {
            "image/png": "[encoded data removed]",
            "text/plain": [
              "<Figure size 432x288 with 1 Axes>"
            ]
          },
          "metadata": {
            "tags": []
          }
        }
      ]
    },
    {
      "cell_type": "code",
      "metadata": {
        "id": "cAIoBoIEHFqF",
        "colab_type": "code",
        "colab": {
          "base_uri": "https://localhost:8080/",
          "height": 286
        },
        "outputId": "d4af8a44-2788-404f-fe50-ab332fbe07e1"
      },
      "source": [
        "sns.distplot(GPU2)"
      ],
      "execution_count": 7,
      "outputs": [
        {
          "output_type": "execute_result",
          "data": {
            "text/plain": [
              "<matplotlib.axes._subplots.AxesSubplot at 0x7ffaec9f55f8>"
            ]
          },
          "metadata": {
            "tags": []
          },
          "execution_count": 7
        },
        {
          "output_type": "display_data",
          "data": {
            "image/png": "[encoded data removed]",
            "text/plain": [
              "<Figure size 432x288 with 1 Axes>"
            ]
          },
          "metadata": {
            "tags": []
          }
        }
      ]
    },
    {
      "cell_type": "code",
      "metadata": {
        "id": "G6xClpWORnfr",
        "colab_type": "code",
        "colab": {}
      },
      "source": [
        "GPU1_z = pd.DataFrame(GPU1).apply(zscore)\n",
        "GPU2_z = pd.DataFrame(GPU2).apply(zscore)"
      ],
      "execution_count": 0,
      "outputs": []
    },
    {
      "cell_type": "code",
      "metadata": {
        "id": "UCGfSUAWSB-_",
        "colab_type": "code",
        "colab": {
          "base_uri": "https://localhost:8080/",
          "height": 70
        },
        "outputId": "34efc78f-99c8-4807-fae6-9562b9d72633"
      },
      "source": [
        "GPU1_z_mu , GPU1_z_std =  (GPU1_z.mean(),GPU1_z.std())\n",
        "GPU1_z_mu , GPU1_z_std"
      ],
      "execution_count": 29,
      "outputs": [
        {
          "output_type": "execute_result",
          "data": {
            "text/plain": [
              "(0   -5.033011e-16\n",
              " dtype: float64, 0    1.035098\n",
              " dtype: float64)"
            ]
          },
          "metadata": {
            "tags": []
          },
          "execution_count": 29
        }
      ]
    },
    {
      "cell_type": "code",
      "metadata": {
        "id": "dccJYH4lSbfd",
        "colab_type": "code",
        "colab": {
          "base_uri": "https://localhost:8080/",
          "height": 70
        },
        "outputId": "e0711680-73a7-42ce-ef6d-27986f847e63"
      },
      "source": [
        "GPU2_z_mu , GPU2_z_std =  (GPU2_z.mean(),GPU2_z.std())\n",
        "GPU2_z_mu , GPU2_z_std"
      ],
      "execution_count": 30,
      "outputs": [
        {
          "output_type": "execute_result",
          "data": {
            "text/plain": [
              "(0   -4.440892e-17\n",
              " dtype: float64, 0    1.035098\n",
              " dtype: float64)"
            ]
          },
          "metadata": {
            "tags": []
          },
          "execution_count": 30
        }
      ]
    },
    {
      "cell_type": "markdown",
      "metadata": {
        "id": "byu8iw46bU3v",
        "colab_type": "text"
      },
      "source": [
        "## Question 2"
      ]
    },
    {
      "cell_type": "markdown",
      "metadata": {
        "id": "E65pzWcJbU3w",
        "colab_type": "text"
      },
      "source": [
        "Given,\n",
        "\n",
        "Null Hypothesis : There is no significant difference between data sets\n",
        "\n",
        "Alternate Hypothesis : There is a significant difference\n",
        "\n",
        "*Do two-sample testing and check whether to reject Null Hypothesis or not.*"
      ]
    },
    {
      "cell_type": "markdown",
      "metadata": {
        "id": "N-zpWvyXbU32",
        "colab_type": "text"
      },
      "source": [
        "https://docs.scipy.org/doc/scipy/reference/generated/scipy.stats.ttest_ind.html"
      ]
    },
    {
      "cell_type": "code",
      "metadata": {
        "id": "UDDkuOtObU3x",
        "colab_type": "code",
        "colab": {
          "base_uri": "https://localhost:8080/",
          "height": 34
        },
        "outputId": "d283e333-2d5b-479b-836a-e953346b26cf"
      },
      "source": [
        "ttest_ind(GPU1,GPU2)"
      ],
      "execution_count": 32,
      "outputs": [
        {
          "output_type": "execute_result",
          "data": {
            "text/plain": [
              "Ttest_indResult(statistic=-2.627629513471839, pvalue=0.013794282041452725)"
            ]
          },
          "metadata": {
            "tags": []
          },
          "execution_count": 32
        }
      ]
    },
    {
      "cell_type": "code",
      "metadata": {
        "id": "3iThVk5AstBl",
        "colab_type": "code",
        "colab": {}
      },
      "source": [
        "# Alternate Hypothesis is true as pvalue << alpha"
      ],
      "execution_count": 0,
      "outputs": []
    },
    {
      "cell_type": "markdown",
      "metadata": {
        "id": "MbXv5aZvbU33",
        "colab_type": "text"
      },
      "source": [
        "## Question 3\n",
        "\n",
        "He is trying a third GPU - GPU3."
      ]
    },
    {
      "cell_type": "code",
      "metadata": {
        "id": "kkh_sQl4bU34",
        "colab_type": "code",
        "colab": {}
      },
      "source": [
        "GPU3 = np.array([9,10,9,11,10,13,12,9,12,12,13,12,13,10,11])\n",
        "\n",
        "#Assumption: Both the datasets (GPU1 & GPU 3) are random, independent, parametric & normally distributed"
      ],
      "execution_count": 0,
      "outputs": []
    },
    {
      "cell_type": "code",
      "metadata": {
        "id": "H7mp7eJyn_pv",
        "colab_type": "code",
        "colab": {
          "base_uri": "https://localhost:8080/",
          "height": 286
        },
        "outputId": "845a27e4-1e6e-459e-8397-282958407c9a"
      },
      "source": [
        "sns.distplot(GPU2)"
      ],
      "execution_count": 30,
      "outputs": [
        {
          "output_type": "execute_result",
          "data": {
            "text/plain": [
              "<matplotlib.axes._subplots.AxesSubplot at 0x7ffae9fefef0>"
            ]
          },
          "metadata": {
            "tags": []
          },
          "execution_count": 30
        },
        {
          "output_type": "display_data",
          "data": {
            "image/png": "[encoded data removed]",
            "text/plain": [
              "<Figure size 432x288 with 1 Axes>"
            ]
          },
          "metadata": {
            "tags": []
          }
        }
      ]
    },
    {
      "cell_type": "markdown",
      "metadata": {
        "id": "WoYNz3g7bU37",
        "colab_type": "text"
      },
      "source": [
        "*Do two-sample testing and check whether there is significant differene between speeds of two GPUs GPU1 and GPU3.*\n",
        "\n",
        "#### Answer:"
      ]
    },
    {
      "cell_type": "code",
      "metadata": {
        "id": "X4N11XArbU38",
        "colab_type": "code",
        "colab": {
          "base_uri": "https://localhost:8080/",
          "height": 34
        },
        "outputId": "659087ea-7876-40a3-f059-c42703df945c"
      },
      "source": [
        "ttest_ind(GPU1,GPU3)"
      ],
      "execution_count": 41,
      "outputs": [
        {
          "output_type": "execute_result",
          "data": {
            "text/plain": [
              "Ttest_indResult(statistic=-1.4988943759093303, pvalue=0.14509210993138993)"
            ]
          },
          "metadata": {
            "tags": []
          },
          "execution_count": 41
        }
      ]
    },
    {
      "cell_type": "code",
      "metadata": {
        "id": "xC957KYqtE2G",
        "colab_type": "code",
        "colab": {}
      },
      "source": [
        "# Null Hypothesis : There is no significant difference between data sets is true"
      ],
      "execution_count": 0,
      "outputs": []
    },
    {
      "cell_type": "markdown",
      "metadata": {
        "id": "oyDFS4WZbU4A",
        "colab_type": "text"
      },
      "source": [
        "## ANOVA"
      ]
    },
    {
      "cell_type": "markdown",
      "metadata": {
        "id": "wknPzstFbU4B",
        "colab_type": "text"
      },
      "source": [
        "## Question 4 \n",
        "\n",
        "If you need to compare more than two data sets at a time, an ANOVA is your best bet. \n",
        "\n",
        "*The results from three experiments with overlapping 95% confidence intervals are given below, and we want to confirm that the results for all three experiments are not significantly different.*\n",
        "\n",
        "But before conducting ANOVA, test equality of variances (using Levene's test) is satisfied or not. If not, then mention that we cannot depend on the result of ANOVA"
      ]
    },
    {
      "cell_type": "code",
      "metadata": {
        "id": "kGb0GeK8bU4C",
        "colab_type": "code",
        "colab": {}
      },
      "source": [
        "import numpy as np\n",
        "\n",
        "e1 = np.array([1.595440,1.419730,0.000000,0.000000])\n",
        "e2 = np.array([1.433800,2.079700,0.892139,2.384740])\n",
        "e3 = np.array([0.036930,0.938018,0.995956,1.006970])\n",
        "\n",
        "#Assumption: All the 3 datasets (e1,e2 & e3) are random, independent, parametric & normally distributed"
      ],
      "execution_count": 0,
      "outputs": []
    },
    {
      "cell_type": "code",
      "metadata": {
        "id": "jnLxA4HajdJg",
        "colab_type": "code",
        "colab": {}
      },
      "source": [
        "# Levene test \n",
        "\n",
        "## H0 = there is no differnce in the variances\n",
        "## H1 =  all the variances are not same.\n",
        "\n",
        "\n",
        "from scipy.stats import ttest_1samp , ttest_ind, mannwhitneyu, levene , shapiro, wilcoxon\n",
        "from statsmodels.stats.power import ttest_power\n",
        "\n"
      ],
      "execution_count": 0,
      "outputs": []
    },
    {
      "cell_type": "code",
      "metadata": {
        "id": "0hMSAf4Pur_G",
        "colab_type": "code",
        "colab": {
          "base_uri": "https://localhost:8080/",
          "height": 34
        },
        "outputId": "bd8a1245-0cfd-43af-ffd7-febcb3d42bc7"
      },
      "source": [
        "levene(e1,e2,e3)\n",
        "\n",
        "# Null Hypothesis : There is no significant difference between data sets variances is true"
      ],
      "execution_count": 93,
      "outputs": [
        {
          "output_type": "execute_result",
          "data": {
            "text/plain": [
              "LeveneResult(statistic=2.6741725711150446, pvalue=0.12259792666001798)"
            ]
          },
          "metadata": {
            "tags": []
          },
          "execution_count": 93
        }
      ]
    },
    {
      "cell_type": "code",
      "metadata": {
        "id": "JKp7HYrUpRve",
        "colab_type": "code",
        "colab": {}
      },
      "source": [
        "import pandas as  pd"
      ],
      "execution_count": 0,
      "outputs": []
    },
    {
      "cell_type": "code",
      "metadata": {
        "id": "kkDrHgDsqEsb",
        "colab_type": "code",
        "colab": {
          "base_uri": "https://localhost:8080/",
          "height": 167
        },
        "outputId": "44bd67d6-b7d5-4a91-d0c4-d869759a662a"
      },
      "source": [
        "df1 = pd.DataFrame(e1)\n",
        "df2 = pd.DataFrame(e2)\n",
        "df3 = pd.DataFrame(e3)\n",
        "df1"
      ],
      "execution_count": 82,
      "outputs": [
        {
          "output_type": "execute_result",
          "data": {
            "text/html": [
              "<div>\n",
              "<style scoped>\n",
              "    .dataframe tbody tr th:only-of-type {\n",
              "        vertical-align: middle;\n",
              "    }\n",
              "\n",
              "    .dataframe tbody tr th {\n",
              "        vertical-align: top;\n",
              "    }\n",
              "\n",
              "    .dataframe thead th {\n",
              "        text-align: right;\n",
              "    }\n",
              "</style>\n",
              "<table border=\"1\" class=\"dataframe\">\n",
              "  <thead>\n",
              "    <tr style=\"text-align: right;\">\n",
              "      <th></th>\n",
              "      <th>0</th>\n",
              "    </tr>\n",
              "  </thead>\n",
              "  <tbody>\n",
              "    <tr>\n",
              "      <th>0</th>\n",
              "      <td>1.59544</td>\n",
              "    </tr>\n",
              "    <tr>\n",
              "      <th>1</th>\n",
              "      <td>1.41973</td>\n",
              "    </tr>\n",
              "    <tr>\n",
              "      <th>2</th>\n",
              "      <td>0.00000</td>\n",
              "    </tr>\n",
              "    <tr>\n",
              "      <th>3</th>\n",
              "      <td>0.00000</td>\n",
              "    </tr>\n",
              "  </tbody>\n",
              "</table>\n",
              "</div>"
            ],
            "text/plain": [
              "         0\n",
              "0  1.59544\n",
              "1  1.41973\n",
              "2  0.00000\n",
              "3  0.00000"
            ]
          },
          "metadata": {
            "tags": []
          },
          "execution_count": 82
        }
      ]
    },
    {
      "cell_type": "code",
      "metadata": {
        "id": "jc5w2N03r2Bi",
        "colab_type": "code",
        "colab": {
          "base_uri": "https://localhost:8080/",
          "height": 167
        },
        "outputId": "59275e10-3ff6-493e-a2c5-a4c209a01317"
      },
      "source": [
        "df1['1']=df2\n",
        "df1"
      ],
      "execution_count": 84,
      "outputs": [
        {
          "output_type": "execute_result",
          "data": {
            "text/html": [
              "<div>\n",
              "<style scoped>\n",
              "    .dataframe tbody tr th:only-of-type {\n",
              "        vertical-align: middle;\n",
              "    }\n",
              "\n",
              "    .dataframe tbody tr th {\n",
              "        vertical-align: top;\n",
              "    }\n",
              "\n",
              "    .dataframe thead th {\n",
              "        text-align: right;\n",
              "    }\n",
              "</style>\n",
              "<table border=\"1\" class=\"dataframe\">\n",
              "  <thead>\n",
              "    <tr style=\"text-align: right;\">\n",
              "      <th></th>\n",
              "      <th>0</th>\n",
              "      <th>1</th>\n",
              "    </tr>\n",
              "  </thead>\n",
              "  <tbody>\n",
              "    <tr>\n",
              "      <th>0</th>\n",
              "      <td>1.59544</td>\n",
              "      <td>1.433800</td>\n",
              "    </tr>\n",
              "    <tr>\n",
              "      <th>1</th>\n",
              "      <td>1.41973</td>\n",
              "      <td>2.079700</td>\n",
              "    </tr>\n",
              "    <tr>\n",
              "      <th>2</th>\n",
              "      <td>0.00000</td>\n",
              "      <td>0.892139</td>\n",
              "    </tr>\n",
              "    <tr>\n",
              "      <th>3</th>\n",
              "      <td>0.00000</td>\n",
              "      <td>2.384740</td>\n",
              "    </tr>\n",
              "  </tbody>\n",
              "</table>\n",
              "</div>"
            ],
            "text/plain": [
              "         0         1\n",
              "0  1.59544  1.433800\n",
              "1  1.41973  2.079700\n",
              "2  0.00000  0.892139\n",
              "3  0.00000  2.384740"
            ]
          },
          "metadata": {
            "tags": []
          },
          "execution_count": 84
        }
      ]
    },
    {
      "cell_type": "code",
      "metadata": {
        "id": "oFJCWWhctMIz",
        "colab_type": "code",
        "colab": {
          "base_uri": "https://localhost:8080/",
          "height": 167
        },
        "outputId": "75687571-05b1-453b-f6c5-5be13eb15574"
      },
      "source": [
        "df1['2']=df3\n",
        "df1"
      ],
      "execution_count": 85,
      "outputs": [
        {
          "output_type": "execute_result",
          "data": {
            "text/html": [
              "<div>\n",
              "<style scoped>\n",
              "    .dataframe tbody tr th:only-of-type {\n",
              "        vertical-align: middle;\n",
              "    }\n",
              "\n",
              "    .dataframe tbody tr th {\n",
              "        vertical-align: top;\n",
              "    }\n",
              "\n",
              "    .dataframe thead th {\n",
              "        text-align: right;\n",
              "    }\n",
              "</style>\n",
              "<table border=\"1\" class=\"dataframe\">\n",
              "  <thead>\n",
              "    <tr style=\"text-align: right;\">\n",
              "      <th></th>\n",
              "      <th>0</th>\n",
              "      <th>1</th>\n",
              "      <th>2</th>\n",
              "    </tr>\n",
              "  </thead>\n",
              "  <tbody>\n",
              "    <tr>\n",
              "      <th>0</th>\n",
              "      <td>1.59544</td>\n",
              "      <td>1.433800</td>\n",
              "      <td>0.036930</td>\n",
              "    </tr>\n",
              "    <tr>\n",
              "      <th>1</th>\n",
              "      <td>1.41973</td>\n",
              "      <td>2.079700</td>\n",
              "      <td>0.938018</td>\n",
              "    </tr>\n",
              "    <tr>\n",
              "      <th>2</th>\n",
              "      <td>0.00000</td>\n",
              "      <td>0.892139</td>\n",
              "      <td>0.995956</td>\n",
              "    </tr>\n",
              "    <tr>\n",
              "      <th>3</th>\n",
              "      <td>0.00000</td>\n",
              "      <td>2.384740</td>\n",
              "      <td>1.006970</td>\n",
              "    </tr>\n",
              "  </tbody>\n",
              "</table>\n",
              "</div>"
            ],
            "text/plain": [
              "         0         1         2\n",
              "0  1.59544  1.433800  0.036930\n",
              "1  1.41973  2.079700  0.938018\n",
              "2  0.00000  0.892139  0.995956\n",
              "3  0.00000  2.384740  1.006970"
            ]
          },
          "metadata": {
            "tags": []
          },
          "execution_count": 85
        }
      ]
    },
    {
      "cell_type": "code",
      "metadata": {
        "id": "7Nar4J0NtSx_",
        "colab_type": "code",
        "colab": {
          "base_uri": "https://localhost:8080/",
          "height": 167
        },
        "outputId": "8619af2d-7deb-49ce-b15c-ef272a6cbeb5"
      },
      "source": [
        "df1 = df1.rename(columns={0:'e1','1':'e2','2':'e3'})\n",
        "df1"
      ],
      "execution_count": 92,
      "outputs": [
        {
          "output_type": "execute_result",
          "data": {
            "text/html": [
              "<div>\n",
              "<style scoped>\n",
              "    .dataframe tbody tr th:only-of-type {\n",
              "        vertical-align: middle;\n",
              "    }\n",
              "\n",
              "    .dataframe tbody tr th {\n",
              "        vertical-align: top;\n",
              "    }\n",
              "\n",
              "    .dataframe thead th {\n",
              "        text-align: right;\n",
              "    }\n",
              "</style>\n",
              "<table border=\"1\" class=\"dataframe\">\n",
              "  <thead>\n",
              "    <tr style=\"text-align: right;\">\n",
              "      <th></th>\n",
              "      <th>e1</th>\n",
              "      <th>e2</th>\n",
              "      <th>e3</th>\n",
              "    </tr>\n",
              "  </thead>\n",
              "  <tbody>\n",
              "    <tr>\n",
              "      <th>0</th>\n",
              "      <td>1.59544</td>\n",
              "      <td>1.433800</td>\n",
              "      <td>0.036930</td>\n",
              "    </tr>\n",
              "    <tr>\n",
              "      <th>1</th>\n",
              "      <td>1.41973</td>\n",
              "      <td>2.079700</td>\n",
              "      <td>0.938018</td>\n",
              "    </tr>\n",
              "    <tr>\n",
              "      <th>2</th>\n",
              "      <td>0.00000</td>\n",
              "      <td>0.892139</td>\n",
              "      <td>0.995956</td>\n",
              "    </tr>\n",
              "    <tr>\n",
              "      <th>3</th>\n",
              "      <td>0.00000</td>\n",
              "      <td>2.384740</td>\n",
              "      <td>1.006970</td>\n",
              "    </tr>\n",
              "  </tbody>\n",
              "</table>\n",
              "</div>"
            ],
            "text/plain": [
              "        e1        e2        e3\n",
              "0  1.59544  1.433800  0.036930\n",
              "1  1.41973  2.079700  0.938018\n",
              "2  0.00000  0.892139  0.995956\n",
              "3  0.00000  2.384740  1.006970"
            ]
          },
          "metadata": {
            "tags": []
          },
          "execution_count": 92
        }
      ]
    },
    {
      "cell_type": "code",
      "metadata": {
        "id": "NnOb1MKTtv27",
        "colab_type": "code",
        "colab": {
          "base_uri": "https://localhost:8080/",
          "height": 158
        },
        "outputId": "c69d6595-01f7-495e-e0e4-dc26138a1342"
      },
      "source": [
        "df1.info()"
      ],
      "execution_count": 94,
      "outputs": [
        {
          "output_type": "stream",
          "text": [
            "<class 'pandas.core.frame.DataFrame'>\n",
            "RangeIndex: 4 entries, 0 to 3\n",
            "Data columns (total 3 columns):\n",
            "e1    4 non-null float64\n",
            "e2    4 non-null float64\n",
            "e3    4 non-null float64\n",
            "dtypes: float64(3)\n",
            "memory usage: 176.0 bytes\n"
          ],
          "name": "stdout"
        }
      ]
    },
    {
      "cell_type": "code",
      "metadata": {
        "id": "4JTskLLFu7Y_",
        "colab_type": "code",
        "colab": {
          "base_uri": "https://localhost:8080/",
          "height": 287
        },
        "outputId": "da718d08-a6b8-43a3-c0da-21879b0046d1"
      },
      "source": [
        "df1.describe(include='all')"
      ],
      "execution_count": 99,
      "outputs": [
        {
          "output_type": "execute_result",
          "data": {
            "text/html": [
              "<div>\n",
              "<style scoped>\n",
              "    .dataframe tbody tr th:only-of-type {\n",
              "        vertical-align: middle;\n",
              "    }\n",
              "\n",
              "    .dataframe tbody tr th {\n",
              "        vertical-align: top;\n",
              "    }\n",
              "\n",
              "    .dataframe thead th {\n",
              "        text-align: right;\n",
              "    }\n",
              "</style>\n",
              "<table border=\"1\" class=\"dataframe\">\n",
              "  <thead>\n",
              "    <tr style=\"text-align: right;\">\n",
              "      <th></th>\n",
              "      <th>e1</th>\n",
              "      <th>e2</th>\n",
              "      <th>e3</th>\n",
              "    </tr>\n",
              "  </thead>\n",
              "  <tbody>\n",
              "    <tr>\n",
              "      <th>count</th>\n",
              "      <td>4.000000</td>\n",
              "      <td>4.000000</td>\n",
              "      <td>4.000000</td>\n",
              "    </tr>\n",
              "    <tr>\n",
              "      <th>mean</th>\n",
              "      <td>0.753792</td>\n",
              "      <td>1.697595</td>\n",
              "      <td>0.744468</td>\n",
              "    </tr>\n",
              "    <tr>\n",
              "      <th>std</th>\n",
              "      <td>0.873356</td>\n",
              "      <td>0.667463</td>\n",
              "      <td>0.472661</td>\n",
              "    </tr>\n",
              "    <tr>\n",
              "      <th>min</th>\n",
              "      <td>0.000000</td>\n",
              "      <td>0.892139</td>\n",
              "      <td>0.036930</td>\n",
              "    </tr>\n",
              "    <tr>\n",
              "      <th>25%</th>\n",
              "      <td>0.000000</td>\n",
              "      <td>1.298385</td>\n",
              "      <td>0.712746</td>\n",
              "    </tr>\n",
              "    <tr>\n",
              "      <th>50%</th>\n",
              "      <td>0.709865</td>\n",
              "      <td>1.756750</td>\n",
              "      <td>0.966987</td>\n",
              "    </tr>\n",
              "    <tr>\n",
              "      <th>75%</th>\n",
              "      <td>1.463658</td>\n",
              "      <td>2.155960</td>\n",
              "      <td>0.998709</td>\n",
              "    </tr>\n",
              "    <tr>\n",
              "      <th>max</th>\n",
              "      <td>1.595440</td>\n",
              "      <td>2.384740</td>\n",
              "      <td>1.006970</td>\n",
              "    </tr>\n",
              "  </tbody>\n",
              "</table>\n",
              "</div>"
            ],
            "text/plain": [
              "             e1        e2        e3\n",
              "count  4.000000  4.000000  4.000000\n",
              "mean   0.753792  1.697595  0.744468\n",
              "std    0.873356  0.667463  0.472661\n",
              "min    0.000000  0.892139  0.036930\n",
              "25%    0.000000  1.298385  0.712746\n",
              "50%    0.709865  1.756750  0.966987\n",
              "75%    1.463658  2.155960  0.998709\n",
              "max    1.595440  2.384740  1.006970"
            ]
          },
          "metadata": {
            "tags": []
          },
          "execution_count": 99
        }
      ]
    },
    {
      "cell_type": "code",
      "metadata": {
        "id": "MRtmckFPvLYU",
        "colab_type": "code",
        "colab": {}
      },
      "source": [
        "df1['e2'] = df1['e2'].astype('category')\n",
        "df1['e3'] = df1['e3'].astype('category')"
      ],
      "execution_count": 0,
      "outputs": []
    },
    {
      "cell_type": "code",
      "metadata": {
        "id": "WsiXSyjTwvmn",
        "colab_type": "code",
        "colab": {
          "base_uri": "https://localhost:8080/",
          "height": 158
        },
        "outputId": "dbe30553-4565-4a04-d61f-9a67fadce952"
      },
      "source": [
        "df1.info()"
      ],
      "execution_count": 106,
      "outputs": [
        {
          "output_type": "stream",
          "text": [
            "<class 'pandas.core.frame.DataFrame'>\n",
            "RangeIndex: 4 entries, 0 to 3\n",
            "Data columns (total 3 columns):\n",
            "e1    4 non-null float64\n",
            "e2    4 non-null category\n",
            "e3    4 non-null category\n",
            "dtypes: category(2), float64(1)\n",
            "memory usage: 504.0 bytes\n"
          ],
          "name": "stdout"
        }
      ]
    },
    {
      "cell_type": "code",
      "metadata": {
        "id": "4-6YQuJyo0Or",
        "colab_type": "code",
        "colab": {}
      },
      "source": [
        "## performing ANNOVA test\n",
        "\n",
        "from statsmodels.formula.api import ols\n",
        "from statsmodels.stats.anova import anova_lm"
      ],
      "execution_count": 0,
      "outputs": []
    },
    {
      "cell_type": "markdown",
      "metadata": {
        "id": "_xiYN6gVbU4G",
        "colab_type": "text"
      },
      "source": [
        "Perform levene test on the data\n",
        "\n",
        "The Levene test tests the null hypothesis that all input samples are from populations with equal variances. Levene’s test is an alternative to Bartlett’s test bartlett in the case where there are significant deviations from normality.\n",
        "\n",
        "source: scipy.org"
      ]
    },
    {
      "cell_type": "code",
      "metadata": {
        "id": "vecjWehSw483",
        "colab_type": "code",
        "colab": {}
      },
      "source": [
        "formula = 'e1 ~ C(e2)+C(e3)+C(e2):C(e3)'"
      ],
      "execution_count": 0,
      "outputs": []
    },
    {
      "cell_type": "code",
      "metadata": {
        "id": "tbBq0AmcyVFg",
        "colab_type": "code",
        "colab": {
          "base_uri": "https://localhost:8080/",
          "height": 34
        },
        "outputId": "41692f8a-1951-46a5-b48f-5c620293476e"
      },
      "source": [
        "model = ols(formula, df1).fit()\n",
        "model"
      ],
      "execution_count": 125,
      "outputs": [
        {
          "output_type": "execute_result",
          "data": {
            "text/plain": [
              "<statsmodels.regression.linear_model.RegressionResultsWrapper at 0x7ffae306d7b8>"
            ]
          },
          "metadata": {
            "tags": []
          },
          "execution_count": 125
        }
      ]
    },
    {
      "cell_type": "code",
      "metadata": {
        "id": "FQ9pQEnyyYBk",
        "colab_type": "code",
        "colab": {}
      },
      "source": [
        "aov_table = anova_lm(model)"
      ],
      "execution_count": 0,
      "outputs": []
    },
    {
      "cell_type": "code",
      "metadata": {
        "id": "hxyzEoA9yVLV",
        "colab_type": "code",
        "colab": {
          "base_uri": "https://localhost:8080/",
          "height": 70
        },
        "outputId": "8201272d-69fd-4642-efe4-0640aecaa20c"
      },
      "source": [
        "print(aov_table)"
      ],
      "execution_count": 120,
      "outputs": [
        {
          "output_type": "stream",
          "text": [
            "           df        sum_sq  mean_sq    F  PR(>F)\n",
            "C(e2)     3.0  2.288250e+00  0.76275  0.0     NaN\n",
            "Residual  0.0  1.659872e-30      inf  NaN     NaN\n"
          ],
          "name": "stdout"
        }
      ]
    },
    {
      "cell_type": "code",
      "metadata": {
        "id": "h_ELaAxFzlzO",
        "colab_type": "code",
        "colab": {
          "base_uri": "https://localhost:8080/",
          "height": 34
        },
        "outputId": "2fb5be28-e194-4e78-c8d5-6bb92cef031f"
      },
      "source": [
        "model.summary"
      ],
      "execution_count": 123,
      "outputs": [
        {
          "output_type": "execute_result",
          "data": {
            "text/plain": [
              "<bound method RegressionResults.summary of <statsmodels.regression.linear_model.OLSResults object at 0x7ffae334f898>>"
            ]
          },
          "metadata": {
            "tags": []
          },
          "execution_count": 123
        }
      ]
    },
    {
      "cell_type": "markdown",
      "metadata": {
        "id": "f2MlJTXgbU4H",
        "colab_type": "text"
      },
      "source": [
        "#### Answer:"
      ]
    },
    {
      "cell_type": "markdown",
      "metadata": {
        "id": "FigxGCQtbU4Y",
        "colab_type": "text"
      },
      "source": [
        "## Question 5\n",
        "\n",
        "The one-way ANOVA tests the null hypothesis that two or more groups have the same population mean. The test is applied to samples from two or more groups, possibly with differing sizes.\n",
        "\n",
        "use stats.f_oneway() module to perform one-way ANOVA test"
      ]
    },
    {
      "cell_type": "code",
      "metadata": {
        "id": "P3bPYPCbbU4Z",
        "colab_type": "code",
        "colab": {
          "base_uri": "https://localhost:8080/",
          "height": 34
        },
        "outputId": "3e360dae-7366-4b68-98b0-270973e95ba4"
      },
      "source": [
        "stats.f_oneway(e1, e2, e3)\n",
        "\n",
        "\n",
        "# since pvalue is  very close to alpha so H0 is true for e1 e2 and e3 ie population mean are the same"
      ],
      "execution_count": 27,
      "outputs": [
        {
          "output_type": "execute_result",
          "data": {
            "text/plain": [
              "F_onewayResult(statistic=2.51357622845924, pvalue=0.13574644501798466)"
            ]
          },
          "metadata": {
            "tags": []
          },
          "execution_count": 27
        }
      ]
    },
    {
      "cell_type": "markdown",
      "metadata": {
        "id": "yrMK1qb7bU4j",
        "colab_type": "text"
      },
      "source": [
        "## Question 6\n",
        "\n",
        "*In one or two sentences explain about **TypeI** and **TypeII** errors.*\n"
      ]
    },
    {
      "cell_type": "code",
      "metadata": {
        "id": "enKGfyyVH1_v",
        "colab_type": "code",
        "colab": {}
      },
      "source": [
        "# when you are accepting alternate hypothesis then you are rejecting null hypothesis but null hypothesis is true then type I error (false positive )\n",
        "# when you are rejecting alternate hypothesis then you are accepting null hypothesis but null hypothesis is False then Type II error (false negative)"
      ],
      "execution_count": 0,
      "outputs": []
    },
    {
      "cell_type": "markdown",
      "metadata": {
        "id": "hm7v3pcIbU4m",
        "colab_type": "text"
      },
      "source": [
        "## Question 7 \n",
        "\n",
        "You are a manager of a chinese restaurant. You want to determine whether the waiting time to place an order has changed in the past month from its previous population mean value of 4.5 minutes. \n",
        "State the null and alternative hypothesis.\n",
        "\n"
      ]
    },
    {
      "cell_type": "code",
      "metadata": {
        "id": "p1ThZFF1Qn77",
        "colab_type": "code",
        "colab": {}
      },
      "source": [
        "H0 = waiting time = 4.5 minutes\n",
        "H1 = waiting time != 4.5 minutes "
      ],
      "execution_count": 0,
      "outputs": []
    },
    {
      "cell_type": "markdown",
      "metadata": {
        "id": "1SGpq-dKbU4r",
        "colab_type": "text"
      },
      "source": [
        "## Chi square test"
      ]
    },
    {
      "cell_type": "markdown",
      "metadata": {
        "id": "WlxmIu_rdgpc",
        "colab_type": "text"
      },
      "source": [
        "## Question 8"
      ]
    },
    {
      "cell_type": "markdown",
      "metadata": {
        "id": "8J3V015PbU4s",
        "colab_type": "text"
      },
      "source": [
        "Let's create a small dataset for dice rolls of four players"
      ]
    },
    {
      "cell_type": "code",
      "metadata": {
        "id": "xrO5BbIEbU4t",
        "colab_type": "code",
        "colab": {}
      },
      "source": [
        "import numpy as np\n",
        "\n",
        "d1 = [5, 8, 3, 8]\n",
        "d2 = [9, 6, 8, 5]\n",
        "d3 = [8, 12, 7, 2]\n",
        "d4 = [4, 16, 7, 3]\n",
        "d5 = [3, 9, 6, 5]\n",
        "d6 = [7, 2, 5, 7]\n",
        "\n",
        "dice = np.array([d1, d2, d3, d4, d5, d6])"
      ],
      "execution_count": 0,
      "outputs": []
    },
    {
      "cell_type": "markdown",
      "metadata": {
        "id": "uF7GRMChbU4x",
        "colab_type": "text"
      },
      "source": [
        "run the test using SciPy Stats library\n",
        "\n",
        "Depending on the test, we are generally looking for a threshold at either 0.05 or 0.01. Our test is significant (i.e. we reject the null hypothesis) if we get a p-value below our threshold.\n",
        "\n",
        "For our purposes, we’ll use 0.01 as the threshold.\n",
        "\n",
        "use stats.chi2_contingency() module \n",
        "\n",
        "This function computes the chi-square statistic and p-value for the hypothesis test of independence of the observed frequencies in the contingency table\n",
        "\n",
        "Print the following:\n",
        "\n",
        "- chi2 stat\n",
        "- p-value\n",
        "- degree of freedom\n",
        "- contingency\n",
        "\n"
      ]
    },
    {
      "cell_type": "code",
      "metadata": {
        "id": "vqaTIKmgbU4y",
        "colab_type": "code",
        "colab": {}
      },
      "source": [
        "from scipy.stats  import chisquare, chi2_contingency\n",
        "import scipy.stats\n",
        "\n"
      ],
      "execution_count": 0,
      "outputs": []
    },
    {
      "cell_type": "code",
      "metadata": {
        "id": "w5Wpl0tA1BuB",
        "colab_type": "code",
        "colab": {
          "base_uri": "https://localhost:8080/",
          "height": 227
        },
        "outputId": "2e0eba43-0bcb-438f-ae69-df4581227b20"
      },
      "source": [
        "df = pd.DataFrame(dice)\n",
        "df"
      ],
      "execution_count": 137,
      "outputs": [
        {
          "output_type": "execute_result",
          "data": {
            "text/html": [
              "<div>\n",
              "<style scoped>\n",
              "    .dataframe tbody tr th:only-of-type {\n",
              "        vertical-align: middle;\n",
              "    }\n",
              "\n",
              "    .dataframe tbody tr th {\n",
              "        vertical-align: top;\n",
              "    }\n",
              "\n",
              "    .dataframe thead th {\n",
              "        text-align: right;\n",
              "    }\n",
              "</style>\n",
              "<table border=\"1\" class=\"dataframe\">\n",
              "  <thead>\n",
              "    <tr style=\"text-align: right;\">\n",
              "      <th></th>\n",
              "      <th>0</th>\n",
              "      <th>1</th>\n",
              "      <th>2</th>\n",
              "      <th>3</th>\n",
              "    </tr>\n",
              "  </thead>\n",
              "  <tbody>\n",
              "    <tr>\n",
              "      <th>0</th>\n",
              "      <td>5</td>\n",
              "      <td>8</td>\n",
              "      <td>3</td>\n",
              "      <td>8</td>\n",
              "    </tr>\n",
              "    <tr>\n",
              "      <th>1</th>\n",
              "      <td>9</td>\n",
              "      <td>6</td>\n",
              "      <td>8</td>\n",
              "      <td>5</td>\n",
              "    </tr>\n",
              "    <tr>\n",
              "      <th>2</th>\n",
              "      <td>8</td>\n",
              "      <td>12</td>\n",
              "      <td>7</td>\n",
              "      <td>2</td>\n",
              "    </tr>\n",
              "    <tr>\n",
              "      <th>3</th>\n",
              "      <td>4</td>\n",
              "      <td>16</td>\n",
              "      <td>7</td>\n",
              "      <td>3</td>\n",
              "    </tr>\n",
              "    <tr>\n",
              "      <th>4</th>\n",
              "      <td>3</td>\n",
              "      <td>9</td>\n",
              "      <td>6</td>\n",
              "      <td>5</td>\n",
              "    </tr>\n",
              "    <tr>\n",
              "      <th>5</th>\n",
              "      <td>7</td>\n",
              "      <td>2</td>\n",
              "      <td>5</td>\n",
              "      <td>7</td>\n",
              "    </tr>\n",
              "  </tbody>\n",
              "</table>\n",
              "</div>"
            ],
            "text/plain": [
              "   0   1  2  3\n",
              "0  5   8  3  8\n",
              "1  9   6  8  5\n",
              "2  8  12  7  2\n",
              "3  4  16  7  3\n",
              "4  3   9  6  5\n",
              "5  7   2  5  7"
            ]
          },
          "metadata": {
            "tags": []
          },
          "execution_count": 137
        }
      ]
    },
    {
      "cell_type": "code",
      "metadata": {
        "id": "6q5B69oL1lzL",
        "colab_type": "code",
        "colab": {}
      },
      "source": [
        "X0 = chisquare(df[0].value_counts())\n",
        "X1 = chisquare(df[1].value_counts())\n",
        "X2 = chisquare(df[2].value_counts())\n",
        "X3 = chisquare(df[3].value_counts())"
      ],
      "execution_count": 0,
      "outputs": []
    },
    {
      "cell_type": "code",
      "metadata": {
        "id": "Kvqhg39L7AFR",
        "colab_type": "code",
        "colab": {}
      },
      "source": [
        "cont = pd.crosstab(df[0],\n",
        "                   df[1],\n",
        "                 )"
      ],
      "execution_count": 0,
      "outputs": []
    },
    {
      "cell_type": "code",
      "metadata": {
        "id": "xXcElM1R1l4K",
        "colab_type": "code",
        "colab": {
          "base_uri": "https://localhost:8080/",
          "height": 283
        },
        "outputId": "1bf7b012-e789-4449-ffa3-3e5052f92573"
      },
      "source": [
        "chi2_contingency(cont)"
      ],
      "execution_count": 175,
      "outputs": [
        {
          "output_type": "execute_result",
          "data": {
            "text/plain": [
              "(30.000000000000014,\n",
              " 0.22428900483440342,\n",
              " 25,\n",
              " array([[0.16666667, 0.16666667, 0.16666667, 0.16666667, 0.16666667,\n",
              "         0.16666667],\n",
              "        [0.16666667, 0.16666667, 0.16666667, 0.16666667, 0.16666667,\n",
              "         0.16666667],\n",
              "        [0.16666667, 0.16666667, 0.16666667, 0.16666667, 0.16666667,\n",
              "         0.16666667],\n",
              "        [0.16666667, 0.16666667, 0.16666667, 0.16666667, 0.16666667,\n",
              "         0.16666667],\n",
              "        [0.16666667, 0.16666667, 0.16666667, 0.16666667, 0.16666667,\n",
              "         0.16666667],\n",
              "        [0.16666667, 0.16666667, 0.16666667, 0.16666667, 0.16666667,\n",
              "         0.16666667]]))"
            ]
          },
          "metadata": {
            "tags": []
          },
          "execution_count": 175
        }
      ]
    },
    {
      "cell_type": "markdown",
      "metadata": {
        "id": "VzyfaNoabU42",
        "colab_type": "text"
      },
      "source": [
        "## Question 9\n",
        "\n",
        "### Z-test\n",
        "\n",
        "Get zscore on the above dice data using stats.zscore module from scipy. Convert zscore values to p-value and take mean of the array."
      ]
    },
    {
      "cell_type": "code",
      "metadata": {
        "id": "Sd5xPCuRbU43",
        "colab_type": "code",
        "colab": {}
      },
      "source": [
        "dice_z = df.apply(zscore)\n"
      ],
      "execution_count": 0,
      "outputs": []
    },
    {
      "cell_type": "code",
      "metadata": {
        "id": "fwfjtr1Z4S5K",
        "colab_type": "code",
        "colab": {
          "base_uri": "https://localhost:8080/",
          "height": 123
        },
        "outputId": "c75c6a1d-3d60-4d62-b830-cb61b212d876"
      },
      "source": [
        "p_values = scipy.stats.norm.sf(abs(dice_z)) #one-sided\n",
        "p_values\n",
        "\n",
        "## p_values = scipy.stats.norm.sf(abs(z_scores))*2 #twosided"
      ],
      "execution_count": 163,
      "outputs": [
        {
          "output_type": "execute_result",
          "data": {
            "text/plain": [
              "array([[0.32171442, 0.42510621, 0.03309629, 0.07477068],\n",
              "       [0.08245741, 0.26041025, 0.11033568, 0.5       ],\n",
              "       [0.17726974, 0.23649578, 0.27014569, 0.07477068],\n",
              "       [0.17726974, 0.05217856, 0.27014569, 0.16833418],\n",
              "       [0.08245741, 0.48493574, 0.5       , 0.5       ],\n",
              "       [0.32171442, 0.06074513, 0.27014569, 0.16833418]])"
            ]
          },
          "metadata": {
            "tags": []
          },
          "execution_count": 163
        }
      ]
    },
    {
      "cell_type": "code",
      "metadata": {
        "id": "9atkYFOw5Ha0",
        "colab_type": "code",
        "colab": {
          "base_uri": "https://localhost:8080/",
          "height": 34
        },
        "outputId": "d0da9e4f-f469-4115-8df2-51312836c3c3"
      },
      "source": [
        "p_values.mean()"
      ],
      "execution_count": 185,
      "outputs": [
        {
          "output_type": "execute_result",
          "data": {
            "text/plain": [
              "0.23428473233691496"
            ]
          },
          "metadata": {
            "tags": []
          },
          "execution_count": 185
        }
      ]
    },
    {
      "cell_type": "markdown",
      "metadata": {
        "id": "OyoFUxf5bU47",
        "colab_type": "text"
      },
      "source": [
        "## Question 10\n",
        "\n",
        "A Paired sample t-test compares means from the same group at different times.\n",
        "\n",
        "The basic two sample t-test is designed for testing differences between independent groups. \n",
        "In some cases, you might be interested in testing differences between samples of the same group at different points in time. \n",
        "We can conduct a paired t-test using the scipy function stats.ttest_rel(). "
      ]
    },
    {
      "cell_type": "code",
      "metadata": {
        "id": "SwVmQ1gRbU48",
        "colab_type": "code",
        "colab": {}
      },
      "source": [
        "before= stats.norm.rvs(scale=30, loc=100, size=500) ## Creates a normal distribution with a mean value of 100 and std of 30\n",
        "after = before + stats.norm.rvs(scale=5, loc=-1.25, size=500)"
      ],
      "execution_count": 0,
      "outputs": []
    },
    {
      "cell_type": "markdown",
      "metadata": {
        "id": "rB_os5FjbU4_",
        "colab_type": "text"
      },
      "source": [
        "Test whether a weight-loss drug works by checking the weights of the same group patients before and after treatment using above data."
      ]
    },
    {
      "cell_type": "code",
      "metadata": {
        "id": "Fq2wyEqlbU5A",
        "colab_type": "code",
        "colab": {}
      },
      "source": [
        ""
      ],
      "execution_count": 0,
      "outputs": []
    }
  ]
}