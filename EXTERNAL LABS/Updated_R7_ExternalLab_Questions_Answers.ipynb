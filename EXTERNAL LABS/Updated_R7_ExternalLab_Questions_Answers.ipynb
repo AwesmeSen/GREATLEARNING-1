{
  "nbformat": 4,
  "nbformat_minor": 0,
  "metadata": {
    "colab": {
      "name": "Updated_R7_ExternalLab_Questions.ipynb",
      "provenance": [],
      "collapsed_sections": []
    },
    "kernelspec": {
      "name": "python3",
      "display_name": "Python 3"
    }
  },
  "cells": [
    {
      "cell_type": "markdown",
      "metadata": {
        "id": "4WH1Pr4KQlCh",
        "colab_type": "text"
      },
      "source": [
        "### Build a DNN using Keras with `RELU` and `ADAM`"
      ]
    },
    {
      "cell_type": "markdown",
      "metadata": {
        "id": "TbvI8LqlQlCl",
        "colab_type": "text"
      },
      "source": [
        "#### Load tensorflow"
      ]
    },
    {
      "cell_type": "code",
      "metadata": {
        "id": "SPW-a-qYQlCp",
        "colab_type": "code",
        "outputId": "e6126eb3-dbcd-4a6e-a418-ece4c592c972",
        "colab": {
          "base_uri": "https://localhost:8080/",
          "height": 115
        }
      },
      "source": [
        "!pip install -U tensorflow==2.0.0 --quiet"
      ],
      "execution_count": 0,
      "outputs": [
        {
          "output_type": "stream",
          "text": [
            "\u001b[K     |████████████████████████████████| 86.3MB 26kB/s \n",
            "\u001b[K     |████████████████████████████████| 3.8MB 50.4MB/s \n",
            "\u001b[K     |████████████████████████████████| 450kB 52.9MB/s \n",
            "\u001b[K     |████████████████████████████████| 81kB 10.9MB/s \n",
            "\u001b[31mERROR: tensorboard 2.0.2 has requirement grpcio>=1.24.3, but you'll have grpcio 1.15.0 which is incompatible.\u001b[0m\n",
            "\u001b[31mERROR: google-colab 1.0.0 has requirement google-auth~=1.4.0, but you'll have google-auth 1.7.2 which is incompatible.\u001b[0m\n",
            "\u001b[?25h"
          ],
          "name": "stdout"
        }
      ]
    },
    {
      "cell_type": "code",
      "metadata": {
        "id": "GNGOwPytP3a_",
        "colab_type": "code",
        "colab": {}
      },
      "source": [
        "import tensorflow as tf\n",
        "import keras\n",
        "tf.set_random_seed(42)"
      ],
      "execution_count": 0,
      "outputs": []
    },
    {
      "cell_type": "markdown",
      "metadata": {
        "id": "74cQBsi5QlCw",
        "colab_type": "text"
      },
      "source": [
        "#### Collect Fashion mnist data from tf.keras.datasets "
      ]
    },
    {
      "cell_type": "code",
      "metadata": {
        "id": "wVWy0oDTr2Kj",
        "colab_type": "code",
        "colab": {}
      },
      "source": [
        "(trainX, trainY),(testX, testY) = tf.keras.datasets.fashion_mnist.load_data()"
      ],
      "execution_count": 0,
      "outputs": []
    },
    {
      "cell_type": "code",
      "metadata": {
        "id": "OAv--_-Spq4F",
        "colab_type": "code",
        "outputId": "273ee7f3-4bde-4766-8386-83851946d75d",
        "colab": {
          "base_uri": "https://localhost:8080/",
          "height": 33
        }
      },
      "source": [
        "\n",
        "\n",
        "\n",
        "trainX.shape"
      ],
      "execution_count": 0,
      "outputs": [
        {
          "output_type": "execute_result",
          "data": {
            "text/plain": [
              "(60000, 28, 28)"
            ]
          },
          "metadata": {
            "tags": []
          },
          "execution_count": 304
        }
      ]
    },
    {
      "cell_type": "code",
      "metadata": {
        "id": "mWBOngBwpy2D",
        "colab_type": "code",
        "outputId": "b405a2fe-7759-47bd-870a-d53dfcfb2d44",
        "colab": {
          "base_uri": "https://localhost:8080/",
          "height": 33
        }
      },
      "source": [
        "testX.shape"
      ],
      "execution_count": 0,
      "outputs": [
        {
          "output_type": "execute_result",
          "data": {
            "text/plain": [
              "(10000, 28, 28)"
            ]
          },
          "metadata": {
            "tags": []
          },
          "execution_count": 305
        }
      ]
    },
    {
      "cell_type": "code",
      "metadata": {
        "id": "EijfLL3NqABx",
        "colab_type": "code",
        "outputId": "d3a20cdb-18dd-482e-f7ba-36ec5d95792d",
        "colab": {
          "base_uri": "https://localhost:8080/",
          "height": 33
        }
      },
      "source": [
        "testY[0]"
      ],
      "execution_count": 0,
      "outputs": [
        {
          "output_type": "execute_result",
          "data": {
            "text/plain": [
              "9"
            ]
          },
          "metadata": {
            "tags": []
          },
          "execution_count": 306
        }
      ]
    },
    {
      "cell_type": "code",
      "metadata": {
        "id": "_1AR34kWwkwn",
        "colab_type": "code",
        "outputId": "4c33cac1-f6cd-4409-9d08-deb1f84ecbbf",
        "colab": {
          "base_uri": "https://localhost:8080/",
          "height": 265
        }
      },
      "source": [
        "\n",
        "import matplotlib.pyplot as plt\n",
        "first_array=trainX[0]\n",
        "plt.imshow(first_array)\n",
        "plt.show()\n"
      ],
      "execution_count": 0,
      "outputs": [
        {
          "output_type": "display_data",
          "data": {
            "image/png": "[encoded data removed]",
            "text/plain": [
              "<Figure size 432x288 with 1 Axes>"
            ]
          },
          "metadata": {
            "tags": []
          }
        }
      ]
    },
    {
      "cell_type": "code",
      "metadata": {
        "id": "3K-RSdPS5LM4",
        "colab_type": "code",
        "outputId": "a0cd7655-e0b3-4df7-bca8-39a38bde8949",
        "colab": {
          "base_uri": "https://localhost:8080/",
          "height": 1000
        }
      },
      "source": [
        "figure =plt.figure(figsize=(3,3))\n",
        "for i in range(1, 6):\n",
        "    first_array=trainX[i]\n",
        "    plt.imshow(first_array)\n",
        "    plt.show()"
      ],
      "execution_count": 0,
      "outputs": [
        {
          "output_type": "display_data",
          "data": {
            "image/png": "[encoded data removed]",
            "text/plain": [
              "<Figure size 216x216 with 1 Axes>"
            ]
          },
          "metadata": {
            "tags": []
          }
        },
        {
          "output_type": "display_data",
          "data": {
            "image/png": "[encoded data removed]",
            "text/plain": [
              "<Figure size 432x288 with 1 Axes>"
            ]
          },
          "metadata": {
            "tags": []
          }
        },
        {
          "output_type": "display_data",
          "data": {
            "image/png": "[encoded data removed]",
            "text/plain": [
              "<Figure size 432x288 with 1 Axes>"
            ]
          },
          "metadata": {
            "tags": []
          }
        },
        {
          "output_type": "display_data",
          "data": {
            "image/png": "[encoded data removed]",
            "text/plain": [
              "<Figure size 432x288 with 1 Axes>"
            ]
          },
          "metadata": {
            "tags": []
          }
        },
        {
          "output_type": "display_data",
          "data": {
            "image/png": "[encoded data removed]",
            "text/plain": [
              "<Figure size 432x288 with 1 Axes>"
            ]
          },
          "metadata": {
            "tags": []
          }
        }
      ]
    },
    {
      "cell_type": "code",
      "metadata": {
        "id": "FOQVamZ5VOSg",
        "colab_type": "code",
        "outputId": "d6e1e41e-9471-45b3-bd64-e70fb421f650",
        "colab": {
          "base_uri": "https://localhost:8080/",
          "height": 82
        }
      },
      "source": [
        "trainX = trainX.reshape(trainX.shape[0], 28, 28, ).astype('float32')\n",
        "testX = testX.reshape(testX.shape[0], 28, 28, ).astype('float32')\n",
        "trainX /= 255\n",
        "testX /= 255\n",
        "\n",
        "print('--- THE DATA ---')\n",
        "print('trainX shape:', trainX.shape)\n",
        "print(trainX.shape[0], 'train samples')\n",
        "print(testX.shape[0], 'test samples')"
      ],
      "execution_count": 0,
      "outputs": [
        {
          "output_type": "stream",
          "text": [
            "--- THE DATA ---\n",
            "trainX shape: (60000, 28, 28)\n",
            "60000 train samples\n",
            "10000 test samples\n"
          ],
          "name": "stdout"
        }
      ]
    },
    {
      "cell_type": "code",
      "metadata": {
        "id": "UOM0jJlwbVAw",
        "colab_type": "code",
        "colab": {}
      },
      "source": [
        "import pandas as pd\n"
      ],
      "execution_count": 0,
      "outputs": []
    },
    {
      "cell_type": "code",
      "metadata": {
        "id": "YpcNy9nubqpm",
        "colab_type": "code",
        "outputId": "5e9bc0d5-28ca-45c8-cbd6-4eaf1f2170b6",
        "colab": {
          "base_uri": "https://localhost:8080/",
          "height": 50
        }
      },
      "source": [
        "## Checking the numbers of unique classification\n",
        "\n",
        "pd.DataFrame(trainY).nunique()"
      ],
      "execution_count": 0,
      "outputs": [
        {
          "output_type": "execute_result",
          "data": {
            "text/plain": [
              "0    10\n",
              "dtype: int64"
            ]
          },
          "metadata": {
            "tags": []
          },
          "execution_count": 311
        }
      ]
    },
    {
      "cell_type": "markdown",
      "metadata": {
        "id": "no7aWYZyQlC1",
        "colab_type": "text"
      },
      "source": [
        "#### Change train and test labels into one-hot vectors"
      ]
    },
    {
      "cell_type": "code",
      "metadata": {
        "id": "UX6otc4wQlC2",
        "colab_type": "code",
        "colab": {}
      },
      "source": [
        "trainY = tf.keras.utils.to_categorical(trainY, num_classes=10)\n",
        "testY = tf.keras.utils.to_categorical(testY, num_classes=10)"
      ],
      "execution_count": 0,
      "outputs": []
    },
    {
      "cell_type": "markdown",
      "metadata": {
        "id": "CDJ9DHVNQlC7",
        "colab_type": "text"
      },
      "source": [
        "#### Initialize model, reshape & normalize data"
      ]
    },
    {
      "cell_type": "code",
      "metadata": {
        "id": "pCDQs_g1QlC8",
        "colab_type": "code",
        "colab": {}
      },
      "source": [
        "#Clear out model from current memory\n",
        "tf.keras.backend.clear_session()\n",
        "\n",
        "#Initialize Sequential model\n",
        "model = tf.keras.models.Sequential()\n",
        "\n",
        "#Reshape data from 2D to 1D -> 28x28 to 784\n",
        "model.add(tf.keras.layers.Reshape((784,),input_shape=(28,28,)))\n",
        "\n",
        "#Normalize the data\n",
        "model.add(tf.keras.layers.BatchNormalization())"
      ],
      "execution_count": 0,
      "outputs": []
    },
    {
      "cell_type": "markdown",
      "metadata": {
        "id": "kBGwTTilQlDD",
        "colab_type": "text"
      },
      "source": [
        "#### Add two fully connected layers with 200 and 100 neurons respectively with `relu` activations. Add a dropout layer with `p=0.25`"
      ]
    },
    {
      "cell_type": "code",
      "metadata": {
        "id": "JdycHGDmULHS",
        "colab_type": "code",
        "colab": {}
      },
      "source": [
        "# Hidden layers\n",
        "model.add(tf.keras.layers.Dense(200, activation='relu', name='Layer_1'))\n",
        "model.add(tf.keras.layers.BatchNormalization())\n",
        "#Dropout layer\n",
        "model.add(tf.keras.layers.Dropout(0.25))\n",
        "\n",
        "model.add(tf.keras.layers.Dense(100, activation='relu', name='Layer_2'))\n",
        "model.add(tf.keras.layers.BatchNormalization())\n",
        "#Dropout layer\n",
        "model.add(tf.keras.layers.Dropout(0.25))"
      ],
      "execution_count": 0,
      "outputs": []
    },
    {
      "cell_type": "code",
      "metadata": {
        "id": "JcBKGyfEWOUS",
        "colab_type": "code",
        "outputId": "b77fa8c6-a4c0-4cf3-da77-f0bc54ecaba1",
        "colab": {
          "base_uri": "https://localhost:8080/",
          "height": 407
        }
      },
      "source": [
        "model.summary()"
      ],
      "execution_count": 0,
      "outputs": [
        {
          "output_type": "stream",
          "text": [
            "Model: \"sequential\"\n",
            "_________________________________________________________________\n",
            "Layer (type)                 Output Shape              Param #   \n",
            "=================================================================\n",
            "reshape (Reshape)            (None, 784)               0         \n",
            "_________________________________________________________________\n",
            "batch_normalization (BatchNo (None, 784)               3136      \n",
            "_________________________________________________________________\n",
            "Layer_1 (Dense)              (None, 200)               157000    \n",
            "_________________________________________________________________\n",
            "batch_normalization_1 (Batch (None, 200)               800       \n",
            "_________________________________________________________________\n",
            "dropout (Dropout)            (None, 200)               0         \n",
            "_________________________________________________________________\n",
            "Layer_2 (Dense)              (None, 100)               20100     \n",
            "_________________________________________________________________\n",
            "batch_normalization_2 (Batch (None, 100)               400       \n",
            "_________________________________________________________________\n",
            "dropout_1 (Dropout)          (None, 100)               0         \n",
            "=================================================================\n",
            "Total params: 181,436\n",
            "Trainable params: 179,268\n",
            "Non-trainable params: 2,168\n",
            "_________________________________________________________________\n"
          ],
          "name": "stdout"
        }
      ]
    },
    {
      "cell_type": "markdown",
      "metadata": {
        "id": "5I8f5otcQlDJ",
        "colab_type": "text"
      },
      "source": [
        "### Add the output layer with a fully connected layer with 10 neurons with `softmax` activation. Use `categorical_crossentropy` loss and `adam` optimizer and train the network. And, report the final validation."
      ]
    },
    {
      "cell_type": "code",
      "metadata": {
        "id": "JZkvKymSd0Sr",
        "colab_type": "code",
        "colab": {}
      },
      "source": [
        "#Add OUTPUT layer\n",
        "model.add(tf.keras.layers.Dense(10, activation='softmax'))"
      ],
      "execution_count": 0,
      "outputs": []
    },
    {
      "cell_type": "code",
      "metadata": {
        "id": "QFGaHQnFWj5-",
        "colab_type": "code",
        "colab": {}
      },
      "source": [
        "\n",
        "#Compile the model\n",
        "model.compile(optimizer='adam', loss='categorical_crossentropy',  metrics=['accuracy'])"
      ],
      "execution_count": 0,
      "outputs": []
    },
    {
      "cell_type": "code",
      "metadata": {
        "id": "9ASb8MHBXrqf",
        "colab_type": "code",
        "colab": {}
      },
      "source": [
        "ckpt = tf.keras.callbacks.ModelCheckpoint('mnist_v1.hdf5', save_best_only=True,\n",
        "                                          monitor='val_loss', mode='min')\n",
        "tboard = tf.keras.callbacks.TensorBoard(log_dir='./logs/v2')"
      ],
      "execution_count": 0,
      "outputs": []
    },
    {
      "cell_type": "code",
      "metadata": {
        "id": "UgjTsjwaYeSV",
        "colab_type": "code",
        "colab": {}
      },
      "source": [
        "BATCH_SIZE = 32\n",
        "EPOCHS = 10"
      ],
      "execution_count": 0,
      "outputs": []
    },
    {
      "cell_type": "code",
      "metadata": {
        "id": "_e4_vHnvWk4Q",
        "colab_type": "code",
        "outputId": "4c6879d9-73d4-48d6-f2f0-a66d513c5ab1",
        "colab": {
          "base_uri": "https://localhost:8080/",
          "height": 407
        }
      },
      "source": [
        "# Train the model\n",
        "model.fit(trainX, trainY, batch_size=BATCH_SIZE, nb_epoch=EPOCHS,validation_data=(testX, testY))"
      ],
      "execution_count": 0,
      "outputs": [
        {
          "output_type": "stream",
          "text": [
            "WARNING:tensorflow:The `nb_epoch` argument in `fit` has been renamed `epochs`.\n"
          ],
          "name": "stdout"
        },
        {
          "output_type": "stream",
          "text": [
            "WARNING:tensorflow:The `nb_epoch` argument in `fit` has been renamed `epochs`.\n"
          ],
          "name": "stderr"
        },
        {
          "output_type": "stream",
          "text": [
            "Train on 60000 samples, validate on 10000 samples\n",
            "Epoch 1/10\n",
            "60000/60000 [==============================] - 10s 166us/sample - loss: 0.5554 - acc: 0.8037 - val_loss: 0.3964 - val_acc: 0.8532\n",
            "Epoch 2/10\n",
            "60000/60000 [==============================] - 10s 159us/sample - loss: 0.4294 - acc: 0.8446 - val_loss: 0.3759 - val_acc: 0.8621\n",
            "Epoch 3/10\n",
            "60000/60000 [==============================] - 10s 161us/sample - loss: 0.3934 - acc: 0.8561 - val_loss: 0.3573 - val_acc: 0.8693\n",
            "Epoch 4/10\n",
            "60000/60000 [==============================] - 10s 161us/sample - loss: 0.3687 - acc: 0.8657 - val_loss: 0.3493 - val_acc: 0.8731\n",
            "Epoch 5/10\n",
            "60000/60000 [==============================] - 9s 158us/sample - loss: 0.3514 - acc: 0.8727 - val_loss: 0.3395 - val_acc: 0.8745\n",
            "Epoch 6/10\n",
            "60000/60000 [==============================] - 10s 160us/sample - loss: 0.3396 - acc: 0.8746 - val_loss: 0.3408 - val_acc: 0.8743\n",
            "Epoch 7/10\n",
            "60000/60000 [==============================] - 10s 163us/sample - loss: 0.3293 - acc: 0.8789 - val_loss: 0.3263 - val_acc: 0.8809\n",
            "Epoch 8/10\n",
            "60000/60000 [==============================] - 10s 164us/sample - loss: 0.3204 - acc: 0.8810 - val_loss: 0.3168 - val_acc: 0.8815\n",
            "Epoch 9/10\n",
            "60000/60000 [==============================] - 10s 163us/sample - loss: 0.3091 - acc: 0.8858 - val_loss: 0.3175 - val_acc: 0.8857\n",
            "Epoch 10/10\n",
            "60000/60000 [==============================] - 10s 161us/sample - loss: 0.3061 - acc: 0.8866 - val_loss: 0.3178 - val_acc: 0.8845\n"
          ],
          "name": "stdout"
        },
        {
          "output_type": "execute_result",
          "data": {
            "text/plain": [
              "<tensorflow.python.keras.callbacks.History at 0x7fcf46fe49b0>"
            ]
          },
          "metadata": {
            "tags": []
          },
          "execution_count": 320
        }
      ]
    },
    {
      "cell_type": "code",
      "metadata": {
        "id": "ZOHyWvGgyhGm",
        "colab_type": "code",
        "outputId": "7f3b63b8-a8ae-44b2-ad5d-91107947fb9a",
        "colab": {
          "base_uri": "https://localhost:8080/",
          "height": 50
        }
      },
      "source": [
        "loss_and_metrics = model.evaluate(trainX, trainY)\n",
        "print(loss_and_metrics)"
      ],
      "execution_count": 0,
      "outputs": [
        {
          "output_type": "stream",
          "text": [
            "60000/60000 [==============================] - 3s 46us/sample - loss: 0.2274 - acc: 0.9133\n",
            "[0.22739495115429162, 0.91326666]\n"
          ],
          "name": "stdout"
        }
      ]
    },
    {
      "cell_type": "code",
      "metadata": {
        "id": "ROsqwDW66eVx",
        "colab_type": "code",
        "colab": {}
      },
      "source": [
        "###############################################################################################################################################################################################################\n",
        "###############################################################################################################################################################################################################"
      ],
      "execution_count": 0,
      "outputs": []
    },
    {
      "cell_type": "code",
      "metadata": {
        "id": "ZB4X4Dp8yesO",
        "colab_type": "code",
        "colab": {}
      },
      "source": [
        ""
      ],
      "execution_count": 0,
      "outputs": []
    },
    {
      "cell_type": "code",
      "metadata": {
        "id": "BJXVROvPyeqB",
        "colab_type": "code",
        "colab": {}
      },
      "source": [
        ""
      ],
      "execution_count": 0,
      "outputs": []
    },
    {
      "cell_type": "code",
      "metadata": {
        "id": "nw8ekbT_yelE",
        "colab_type": "code",
        "colab": {}
      },
      "source": [
        ""
      ],
      "execution_count": 0,
      "outputs": []
    }
  ]
}