{
  "nbformat": 4,
  "nbformat_minor": 0,
  "metadata": {
    "colab": {
      "name": "R4_External_Lab_Validation_Accuracy.ipynb",
      "version": "0.3.2",
      "provenance": [],
      "collapsed_sections": []
    },
    "kernelspec": {
      "display_name": "Python 3",
      "language": "python",
      "name": "python3"
    }
  },
  "cells": [
    {
      "cell_type": "code",
      "metadata": {
        "id": "Y3vvEXP1_0og",
        "colab_type": "code",
        "colab": {}
      },
      "source": [
        "# Import important library\n",
        "import numpy as np\n",
        "import pandas as pd\n",
        "import matplotlib.pyplot as plt\n",
        "import seaborn as sns\n",
        "%matplotlib inline\n",
        "import warnings\n",
        "warnings.filterwarnings('ignore')\n",
        "import io"
      ],
      "execution_count": 0,
      "outputs": []
    },
    {
      "cell_type": "markdown",
      "metadata": {
        "id": "7O83uMqA_0ol",
        "colab_type": "text"
      },
      "source": [
        "### Read the input file and check the data dimension"
      ]
    },
    {
      "cell_type": "code",
      "metadata": {
        "id": "1brbOfG_Enzy",
        "colab_type": "code",
        "outputId": "aab4a5f4-4660-43ec-afab-6ac4ce2aefcd",
        "colab": {
          "resources": {
            "http://localhost:8080/nbextensions/google.colab/files.js": {
              "data": "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",
              "ok": true,
              "headers": [
                [
                  "content-type",
                  "application/javascript"
                ]
              ],
              "status": 200,
              "status_text": ""
            }
          },
          "base_uri": "https://localhost:8080/",
          "height": 74
        }
      },
      "source": [
        "from google.colab import files\n",
        "uploaded = files.upload()"
      ],
      "execution_count": 6,
      "outputs": [
        {
          "output_type": "display_data",
          "data": {
            "text/html": [
              "\n",
              "     <input type=\"file\" id=\"files-576f2bae-9ddf-415c-ac27-596679b8d729\" name=\"files[]\" multiple disabled />\n",
              "     <output id=\"result-576f2bae-9ddf-415c-ac27-596679b8d729\">\n",
              "      Upload widget is only available when the cell has been executed in the\n",
              "      current browser session. Please rerun this cell to enable.\n",
              "      </output>\n",
              "      <script src=\"/nbextensions/google.colab/files.js\"></script> "
            ],
            "text/plain": [
              "<IPython.core.display.HTML object>"
            ]
          },
          "metadata": {
            "tags": []
          }
        },
        {
          "output_type": "stream",
          "text": [
            "Saving german_credit.csv to german_credit.csv\n"
          ],
          "name": "stdout"
        }
      ]
    },
    {
      "cell_type": "code",
      "metadata": {
        "id": "ecz6GogoAllS",
        "colab_type": "code",
        "outputId": "37dab4c0-6d9a-4bb7-b7dd-00de5515a094",
        "colab": {
          "base_uri": "https://localhost:8080/",
          "height": 638
        }
      },
      "source": [
        "data_raw = pd.read_csv(io.BytesIO(uploaded['german_credit.csv']))\n",
        "\n",
        "print(data_raw.shape)\n",
        "print(data_raw.columns)\n",
        "print(data_raw.info())"
      ],
      "execution_count": 7,
      "outputs": [
        {
          "output_type": "stream",
          "text": [
            "(1000, 21)\n",
            "Index(['default', 'account_check_status', 'duration_in_month',\n",
            "       'credit_history', 'purpose', 'credit_amount', 'savings',\n",
            "       'present_emp_since', 'installment_as_income_perc',\n",
            "       'personal_status_sex', 'other_debtors', 'present_res_since', 'property',\n",
            "       'age', 'other_installment_plans', 'housing', 'credits_this_bank', 'job',\n",
            "       'people_under_maintenance', 'telephone', 'foreign_worker'],\n",
            "      dtype='object')\n",
            "<class 'pandas.core.frame.DataFrame'>\n",
            "RangeIndex: 1000 entries, 0 to 999\n",
            "Data columns (total 21 columns):\n",
            "default                       1000 non-null int64\n",
            "account_check_status          1000 non-null object\n",
            "duration_in_month             1000 non-null int64\n",
            "credit_history                1000 non-null object\n",
            "purpose                       1000 non-null object\n",
            "credit_amount                 1000 non-null int64\n",
            "savings                       1000 non-null object\n",
            "present_emp_since             1000 non-null object\n",
            "installment_as_income_perc    1000 non-null int64\n",
            "personal_status_sex           1000 non-null object\n",
            "other_debtors                 1000 non-null object\n",
            "present_res_since             1000 non-null int64\n",
            "property                      1000 non-null object\n",
            "age                           1000 non-null int64\n",
            "other_installment_plans       1000 non-null object\n",
            "housing                       1000 non-null object\n",
            "credits_this_bank             1000 non-null int64\n",
            "job                           1000 non-null object\n",
            "people_under_maintenance      1000 non-null int64\n",
            "telephone                     1000 non-null object\n",
            "foreign_worker                1000 non-null object\n",
            "dtypes: int64(8), object(13)\n",
            "memory usage: 164.1+ KB\n",
            "None\n"
          ],
          "name": "stdout"
        }
      ]
    },
    {
      "cell_type": "code",
      "metadata": {
        "id": "077UJqaYHUsY",
        "colab_type": "code",
        "colab": {}
      },
      "source": [
        "## making a copy of our dataset\n",
        "\n",
        "data_train = data_raw.copy(deep=True)"
      ],
      "execution_count": 0,
      "outputs": []
    },
    {
      "cell_type": "code",
      "metadata": {
        "id": "h7trbVaWBAmL",
        "colab_type": "code",
        "outputId": "759e490d-03ed-45e2-8d0b-d09de6af3188",
        "colab": {
          "base_uri": "https://localhost:8080/",
          "height": 421
        }
      },
      "source": [
        "data_train.sample(4)"
      ],
      "execution_count": 9,
      "outputs": [
        {
          "output_type": "execute_result",
          "data": {
            "text/html": [
              "<div>\n",
              "<style scoped>\n",
              "    .dataframe tbody tr th:only-of-type {\n",
              "        vertical-align: middle;\n",
              "    }\n",
              "\n",
              "    .dataframe tbody tr th {\n",
              "        vertical-align: top;\n",
              "    }\n",
              "\n",
              "    .dataframe thead th {\n",
              "        text-align: right;\n",
              "    }\n",
              "</style>\n",
              "<table border=\"1\" class=\"dataframe\">\n",
              "  <thead>\n",
              "    <tr style=\"text-align: right;\">\n",
              "      <th></th>\n",
              "      <th>default</th>\n",
              "      <th>account_check_status</th>\n",
              "      <th>duration_in_month</th>\n",
              "      <th>credit_history</th>\n",
              "      <th>purpose</th>\n",
              "      <th>credit_amount</th>\n",
              "      <th>savings</th>\n",
              "      <th>present_emp_since</th>\n",
              "      <th>installment_as_income_perc</th>\n",
              "      <th>personal_status_sex</th>\n",
              "      <th>other_debtors</th>\n",
              "      <th>present_res_since</th>\n",
              "      <th>property</th>\n",
              "      <th>age</th>\n",
              "      <th>other_installment_plans</th>\n",
              "      <th>housing</th>\n",
              "      <th>credits_this_bank</th>\n",
              "      <th>job</th>\n",
              "      <th>people_under_maintenance</th>\n",
              "      <th>telephone</th>\n",
              "      <th>foreign_worker</th>\n",
              "    </tr>\n",
              "  </thead>\n",
              "  <tbody>\n",
              "    <tr>\n",
              "      <th>646</th>\n",
              "      <td>0</td>\n",
              "      <td>&lt; 0 DM</td>\n",
              "      <td>30</td>\n",
              "      <td>no credits taken/ all credits paid back duly</td>\n",
              "      <td>radio/television</td>\n",
              "      <td>4583</td>\n",
              "      <td>... &lt; 100 DM</td>\n",
              "      <td>1 &lt;= ... &lt; 4 years</td>\n",
              "      <td>2</td>\n",
              "      <td>male : divorced/separated</td>\n",
              "      <td>guarantor</td>\n",
              "      <td>2</td>\n",
              "      <td>real estate</td>\n",
              "      <td>32</td>\n",
              "      <td>none</td>\n",
              "      <td>own</td>\n",
              "      <td>2</td>\n",
              "      <td>skilled employee / official</td>\n",
              "      <td>1</td>\n",
              "      <td>none</td>\n",
              "      <td>yes</td>\n",
              "    </tr>\n",
              "    <tr>\n",
              "      <th>70</th>\n",
              "      <td>0</td>\n",
              "      <td>no checking account</td>\n",
              "      <td>36</td>\n",
              "      <td>existing credits paid back duly till now</td>\n",
              "      <td>car (used)</td>\n",
              "      <td>8133</td>\n",
              "      <td>... &lt; 100 DM</td>\n",
              "      <td>1 &lt;= ... &lt; 4 years</td>\n",
              "      <td>1</td>\n",
              "      <td>female : divorced/separated/married</td>\n",
              "      <td>none</td>\n",
              "      <td>2</td>\n",
              "      <td>if not A121 : building society savings agreeme...</td>\n",
              "      <td>30</td>\n",
              "      <td>bank</td>\n",
              "      <td>own</td>\n",
              "      <td>1</td>\n",
              "      <td>skilled employee / official</td>\n",
              "      <td>1</td>\n",
              "      <td>none</td>\n",
              "      <td>yes</td>\n",
              "    </tr>\n",
              "    <tr>\n",
              "      <th>749</th>\n",
              "      <td>0</td>\n",
              "      <td>no checking account</td>\n",
              "      <td>15</td>\n",
              "      <td>existing credits paid back duly till now</td>\n",
              "      <td>car (used)</td>\n",
              "      <td>3029</td>\n",
              "      <td>... &lt; 100 DM</td>\n",
              "      <td>4 &lt;= ... &lt; 7 years</td>\n",
              "      <td>2</td>\n",
              "      <td>male : single</td>\n",
              "      <td>none</td>\n",
              "      <td>2</td>\n",
              "      <td>if not A121/A122 : car or other, not in attrib...</td>\n",
              "      <td>33</td>\n",
              "      <td>none</td>\n",
              "      <td>own</td>\n",
              "      <td>1</td>\n",
              "      <td>skilled employee / official</td>\n",
              "      <td>1</td>\n",
              "      <td>none</td>\n",
              "      <td>yes</td>\n",
              "    </tr>\n",
              "    <tr>\n",
              "      <th>861</th>\n",
              "      <td>1</td>\n",
              "      <td>no checking account</td>\n",
              "      <td>18</td>\n",
              "      <td>delay in paying off in the past</td>\n",
              "      <td>business</td>\n",
              "      <td>2169</td>\n",
              "      <td>... &lt; 100 DM</td>\n",
              "      <td>1 &lt;= ... &lt; 4 years</td>\n",
              "      <td>4</td>\n",
              "      <td>male : married/widowed</td>\n",
              "      <td>none</td>\n",
              "      <td>2</td>\n",
              "      <td>if not A121/A122 : car or other, not in attrib...</td>\n",
              "      <td>28</td>\n",
              "      <td>none</td>\n",
              "      <td>own</td>\n",
              "      <td>1</td>\n",
              "      <td>skilled employee / official</td>\n",
              "      <td>1</td>\n",
              "      <td>yes, registered under the customers name</td>\n",
              "      <td>yes</td>\n",
              "    </tr>\n",
              "  </tbody>\n",
              "</table>\n",
              "</div>"
            ],
            "text/plain": [
              "     default  ... foreign_worker\n",
              "646        0  ...            yes\n",
              "70         0  ...            yes\n",
              "749        0  ...            yes\n",
              "861        1  ...            yes\n",
              "\n",
              "[4 rows x 21 columns]"
            ]
          },
          "metadata": {
            "tags": []
          },
          "execution_count": 9
        }
      ]
    },
    {
      "cell_type": "code",
      "metadata": {
        "id": "iIb3MLoMIs97",
        "colab_type": "code",
        "colab": {}
      },
      "source": [
        "#######################  IDENTIFYING THE NULL VALUES #############################"
      ],
      "execution_count": 0,
      "outputs": []
    },
    {
      "cell_type": "code",
      "metadata": {
        "id": "RJbUnHvpI44G",
        "colab_type": "code",
        "outputId": "ec203bb5-e24a-4fba-abd6-c36fdb6c3e5f",
        "colab": {
          "base_uri": "https://localhost:8080/",
          "height": 407
        }
      },
      "source": [
        "data_train.isnull().sum().sort_values(ascending=False)"
      ],
      "execution_count": 11,
      "outputs": [
        {
          "output_type": "execute_result",
          "data": {
            "text/plain": [
              "foreign_worker                0\n",
              "personal_status_sex           0\n",
              "account_check_status          0\n",
              "duration_in_month             0\n",
              "credit_history                0\n",
              "purpose                       0\n",
              "credit_amount                 0\n",
              "savings                       0\n",
              "present_emp_since             0\n",
              "installment_as_income_perc    0\n",
              "other_debtors                 0\n",
              "telephone                     0\n",
              "present_res_since             0\n",
              "property                      0\n",
              "age                           0\n",
              "other_installment_plans       0\n",
              "housing                       0\n",
              "credits_this_bank             0\n",
              "job                           0\n",
              "people_under_maintenance      0\n",
              "default                       0\n",
              "dtype: int64"
            ]
          },
          "metadata": {
            "tags": []
          },
          "execution_count": 11
        }
      ]
    },
    {
      "cell_type": "code",
      "metadata": {
        "id": "XwRKmxtLJE2E",
        "colab_type": "code",
        "outputId": "9d3606df-92be-4139-8894-dbd9b95fd795",
        "colab": {
          "base_uri": "https://localhost:8080/",
          "height": 526
        }
      },
      "source": [
        "\n",
        "## finding the null and missing values in the database\n",
        "plt.figure(figsize=(20,6))\n",
        "sns.heatmap(data_train.isnull(),xticklabels=True,yticklabels=False,cbar=False,cmap='inferno') \n",
        "\n",
        "## since we don't have any null values so graph shows uniform color for all attributes"
      ],
      "execution_count": 12,
      "outputs": [
        {
          "output_type": "execute_result",
          "data": {
            "text/plain": [
              "<matplotlib.axes._subplots.AxesSubplot at 0x7f0fe661eeb8>"
            ]
          },
          "metadata": {
            "tags": []
          },
          "execution_count": 12
        },
        {
          "output_type": "display_data",
          "data": {
            "image/png": "[encoded data removed]",
            "text/plain": [
              "<Figure size 1440x432 with 1 Axes>"
            ]
          },
          "metadata": {
            "tags": []
          }
        }
      ]
    },
    {
      "cell_type": "code",
      "metadata": {
        "id": "l3FLTFMgJE8A",
        "colab_type": "code",
        "colab": {}
      },
      "source": [
        "############################################  FEATURE ANALYSIS ################################################################################"
      ],
      "execution_count": 0,
      "outputs": []
    },
    {
      "cell_type": "code",
      "metadata": {
        "id": "o8TCEGx-JRcB",
        "colab_type": "code",
        "colab": {}
      },
      "source": [
        "##################  CHECKING THE DISTRIBUTION OF CONTONOUS COLUMNS ####################################\n",
        "\n"
      ],
      "execution_count": 0,
      "outputs": []
    },
    {
      "cell_type": "code",
      "metadata": {
        "id": "G5ZQm_UyvxBZ",
        "colab_type": "code",
        "outputId": "944f2841-00a0-4bd9-d851-548606331107",
        "colab": {
          "base_uri": "https://localhost:8080/",
          "height": 87
        }
      },
      "source": [
        "data_train.select_dtypes(exclude='object').columns"
      ],
      "execution_count": 14,
      "outputs": [
        {
          "output_type": "execute_result",
          "data": {
            "text/plain": [
              "Index(['default', 'duration_in_month', 'credit_amount',\n",
              "       'installment_as_income_perc', 'present_res_since', 'age',\n",
              "       'credits_this_bank', 'people_under_maintenance'],\n",
              "      dtype='object')"
            ]
          },
          "metadata": {
            "tags": []
          },
          "execution_count": 14
        }
      ]
    },
    {
      "cell_type": "code",
      "metadata": {
        "id": "iPFVn-rWv1Tn",
        "colab_type": "code",
        "outputId": "e3f0cfe2-c57a-4da2-eede-5c183c446df0",
        "colab": {
          "base_uri": "https://localhost:8080/",
          "height": 287
        }
      },
      "source": [
        "\n",
        "data_train.describe().transpose()"
      ],
      "execution_count": 15,
      "outputs": [
        {
          "output_type": "execute_result",
          "data": {
            "text/html": [
              "<div>\n",
              "<style scoped>\n",
              "    .dataframe tbody tr th:only-of-type {\n",
              "        vertical-align: middle;\n",
              "    }\n",
              "\n",
              "    .dataframe tbody tr th {\n",
              "        vertical-align: top;\n",
              "    }\n",
              "\n",
              "    .dataframe thead th {\n",
              "        text-align: right;\n",
              "    }\n",
              "</style>\n",
              "<table border=\"1\" class=\"dataframe\">\n",
              "  <thead>\n",
              "    <tr style=\"text-align: right;\">\n",
              "      <th></th>\n",
              "      <th>count</th>\n",
              "      <th>mean</th>\n",
              "      <th>std</th>\n",
              "      <th>min</th>\n",
              "      <th>25%</th>\n",
              "      <th>50%</th>\n",
              "      <th>75%</th>\n",
              "      <th>max</th>\n",
              "    </tr>\n",
              "  </thead>\n",
              "  <tbody>\n",
              "    <tr>\n",
              "      <th>default</th>\n",
              "      <td>1000.0</td>\n",
              "      <td>0.300</td>\n",
              "      <td>0.458487</td>\n",
              "      <td>0.0</td>\n",
              "      <td>0.0</td>\n",
              "      <td>0.0</td>\n",
              "      <td>1.00</td>\n",
              "      <td>1.0</td>\n",
              "    </tr>\n",
              "    <tr>\n",
              "      <th>duration_in_month</th>\n",
              "      <td>1000.0</td>\n",
              "      <td>20.903</td>\n",
              "      <td>12.058814</td>\n",
              "      <td>4.0</td>\n",
              "      <td>12.0</td>\n",
              "      <td>18.0</td>\n",
              "      <td>24.00</td>\n",
              "      <td>72.0</td>\n",
              "    </tr>\n",
              "    <tr>\n",
              "      <th>credit_amount</th>\n",
              "      <td>1000.0</td>\n",
              "      <td>3271.258</td>\n",
              "      <td>2822.736876</td>\n",
              "      <td>250.0</td>\n",
              "      <td>1365.5</td>\n",
              "      <td>2319.5</td>\n",
              "      <td>3972.25</td>\n",
              "      <td>18424.0</td>\n",
              "    </tr>\n",
              "    <tr>\n",
              "      <th>installment_as_income_perc</th>\n",
              "      <td>1000.0</td>\n",
              "      <td>2.973</td>\n",
              "      <td>1.118715</td>\n",
              "      <td>1.0</td>\n",
              "      <td>2.0</td>\n",
              "      <td>3.0</td>\n",
              "      <td>4.00</td>\n",
              "      <td>4.0</td>\n",
              "    </tr>\n",
              "    <tr>\n",
              "      <th>present_res_since</th>\n",
              "      <td>1000.0</td>\n",
              "      <td>2.845</td>\n",
              "      <td>1.103718</td>\n",
              "      <td>1.0</td>\n",
              "      <td>2.0</td>\n",
              "      <td>3.0</td>\n",
              "      <td>4.00</td>\n",
              "      <td>4.0</td>\n",
              "    </tr>\n",
              "    <tr>\n",
              "      <th>age</th>\n",
              "      <td>1000.0</td>\n",
              "      <td>35.546</td>\n",
              "      <td>11.375469</td>\n",
              "      <td>19.0</td>\n",
              "      <td>27.0</td>\n",
              "      <td>33.0</td>\n",
              "      <td>42.00</td>\n",
              "      <td>75.0</td>\n",
              "    </tr>\n",
              "    <tr>\n",
              "      <th>credits_this_bank</th>\n",
              "      <td>1000.0</td>\n",
              "      <td>1.407</td>\n",
              "      <td>0.577654</td>\n",
              "      <td>1.0</td>\n",
              "      <td>1.0</td>\n",
              "      <td>1.0</td>\n",
              "      <td>2.00</td>\n",
              "      <td>4.0</td>\n",
              "    </tr>\n",
              "    <tr>\n",
              "      <th>people_under_maintenance</th>\n",
              "      <td>1000.0</td>\n",
              "      <td>1.155</td>\n",
              "      <td>0.362086</td>\n",
              "      <td>1.0</td>\n",
              "      <td>1.0</td>\n",
              "      <td>1.0</td>\n",
              "      <td>1.00</td>\n",
              "      <td>2.0</td>\n",
              "    </tr>\n",
              "  </tbody>\n",
              "</table>\n",
              "</div>"
            ],
            "text/plain": [
              "                             count      mean  ...      75%      max\n",
              "default                     1000.0     0.300  ...     1.00      1.0\n",
              "duration_in_month           1000.0    20.903  ...    24.00     72.0\n",
              "credit_amount               1000.0  3271.258  ...  3972.25  18424.0\n",
              "installment_as_income_perc  1000.0     2.973  ...     4.00      4.0\n",
              "present_res_since           1000.0     2.845  ...     4.00      4.0\n",
              "age                         1000.0    35.546  ...    42.00     75.0\n",
              "credits_this_bank           1000.0     1.407  ...     2.00      4.0\n",
              "people_under_maintenance    1000.0     1.155  ...     1.00      2.0\n",
              "\n",
              "[8 rows x 8 columns]"
            ]
          },
          "metadata": {
            "tags": []
          },
          "execution_count": 15
        }
      ]
    },
    {
      "cell_type": "code",
      "metadata": {
        "id": "0nLbnxIvJRfu",
        "colab_type": "code",
        "outputId": "d383ccf1-9a8c-41d3-d07f-bce3ca130d0b",
        "colab": {
          "base_uri": "https://localhost:8080/",
          "height": 611
        }
      },
      "source": [
        "fig, qaxis = plt.subplots(2,4,figsize=(22,10))\n",
        "col_d = data_train.select_dtypes(exclude='object').columns\n",
        "i=0\n",
        "j=0\n",
        "k=0\n",
        "for i in range (len(col_d)):\n",
        "  \n",
        "  ax= sns.distplot(data_train[col_d[i]],bins=30,ax = qaxis[j,k])\n",
        "  k=k+1\n",
        "  j=j\n",
        "  if k==4:\n",
        "    j=j+1\n",
        "    k=0\n",
        "    \n",
        "    totals = []\n",
        "     # find the values and append to list\n",
        "    for i in ax.patches:\n",
        "        totals.append(i.get_height())\n",
        "\n",
        "    # set individual bar lables using above list\n",
        "    total = sum(totals)\n",
        "\n",
        "    # set individual bar lables using above list\n",
        "    for i in ax.patches:\n",
        "        # get_x pulls left or right; get_height pushes up or down\n",
        "        if i.get_height() != 0:\n",
        "          ax.text(i.get_x(), i.get_height(),str(round((i.get_height()/total)*100, 2))+'%',ha = 'center', va = 'center', fontsize=12,color='dimgrey', rotation=0)\n"
      ],
      "execution_count": 45,
      "outputs": [
        {
          "output_type": "display_data",
          "data": {
            "image/png": "[encoded data removed]",
            "text/plain": [
              "<Figure size 1584x720 with 8 Axes>"
            ]
          },
          "metadata": {
            "tags": []
          }
        }
      ]
    },
    {
      "cell_type": "code",
      "metadata": {
        "id": "DhNMgSlBxY5C",
        "colab_type": "code",
        "outputId": "181b5e38-1801-4a93-8d8d-0a99a4f7d4b8",
        "colab": {
          "base_uri": "https://localhost:8080/",
          "height": 360
        }
      },
      "source": [
        "fig, qaxis1 = plt.subplots(1,1,figsize=(7,5))           \n",
        "ax = sns.countplot(x=data_train['default'])\n",
        "\n",
        "ax.set_title(\"TARGET DISTRIBUTION\", fontsize = 20)\n",
        "ax.set_xlabel(\"Target Vaues\", fontsize = 15)\n",
        "ax.set_ylabel(\"Count\", fontsize = 15)\n",
        "totals = []\n",
        "\n",
        "# find the values and append to list\n",
        "for i in ax.patches:\n",
        "    totals.append(i.get_height())\n",
        "\n",
        "# set individual bar lables using above list\n",
        "total = sum(totals)\n",
        "\n",
        "# set individual bar lables using above list\n",
        "for i in ax.patches:\n",
        "    # get_x pulls left or right; get_height pushes up or down\n",
        "    ax.text(i.get_x()+.30, i.get_height()+10,str(round((i.get_height()/total)*100, 2))+'%',ha = 'center', va = 'center', fontsize=10,color='dimgrey', rotation=0)\n",
        "    \n"
      ],
      "execution_count": 46,
      "outputs": [
        {
          "output_type": "display_data",
          "data": {
            "image/png": "[encoded data removed]",
            "text/plain": [
              "<Figure size 504x360 with 1 Axes>"
            ]
          },
          "metadata": {
            "tags": []
          }
        }
      ]
    },
    {
      "cell_type": "code",
      "metadata": {
        "id": "KwISf7ruwZ6O",
        "colab_type": "code",
        "colab": {}
      },
      "source": [
        "#########################################  INFERENCES ##################################################################\n",
        "\n",
        "# default column is our target dependent column and have 0 and 1 as value,70% records have value as 0 (applicant is considered a Bad credit risk) \n",
        "#                and 30% of our dataset have 1 value (applicant is considered a Good credit risk) \n",
        "# duration in month - this is the duration for which the applicant had applied for loan. Duration starts from 4 months to max 72 months(6 yrs).However on an average each \n",
        "#                      applicant applied for 20 months or one and half yrs\n",
        "# credit_amount  ---  amount for which applicant applied , mean value show the disbtrbution around 32000 with few applied for 18000\n",
        "# installment_as_income_perc  -- number of installments applicant is likely to pay back the loan , mostly 75% applicant applied for 4 installments\n",
        "# present_res_since  -- I think this is the duration from which applicant is living in his residence.Average is 2.8 but majority is 4\n",
        "# age - shows distribution of age of the applicant around age 35 ranging from 46 to 24. However applicant also belongs to some lower age group as well \n",
        "#        and very few are of higher age group \n",
        "# credits_this_bank  - 1, 2 ,3 where 1 is in majoroty\n",
        "# people_under_maintenance - values as 1(84%) and 2(16%)"
      ],
      "execution_count": 0,
      "outputs": []
    },
    {
      "cell_type": "code",
      "metadata": {
        "id": "gmgmKxlE5WlX",
        "colab_type": "code",
        "colab": {}
      },
      "source": [
        "##################  CHECKING THE DISTRIBUTION OF CATEGORICAL COLUMNS ####################################\n"
      ],
      "execution_count": 0,
      "outputs": []
    },
    {
      "cell_type": "code",
      "metadata": {
        "id": "xrpm5N5drF7c",
        "colab_type": "code",
        "colab": {}
      },
      "source": [
        "\n",
        "\n",
        "x = data_train.select_dtypes(include='object').columns"
      ],
      "execution_count": 0,
      "outputs": []
    },
    {
      "cell_type": "code",
      "metadata": {
        "id": "ru27CRgM6JOf",
        "colab_type": "code",
        "colab": {}
      },
      "source": [
        "## ANALYSING the columns  - account_check_status\n",
        "\n",
        "print(data_train['account_check_status'].nunique() ) ## for column account_check_status we have four unique values\n",
        "\n",
        "print(data_train['account_check_status'].unique() ) ## four distinct values in this column are - < 0 DM,0 <= ... < 200 DM,no checking account,\n",
        "#                                                                                                >= 200 DM / salary assignments for at least 1 year\n",
        "\n",
        "# lets categorize these values with 0,1,2,3 respectively as these are ordinal in nature ie 0<1<2<3\n",
        "\n",
        "account_check_status_values = {'no checking account':0,'< 0 DM':1, '0 <= ... < 200 DM':2, '>= 200 DM / salary assignments for at least 1 year':3}\n",
        "data_train['account_check_status'] = data_train['account_check_status'].replace(account_check_status_values)"
      ],
      "execution_count": 0,
      "outputs": []
    },
    {
      "cell_type": "code",
      "metadata": {
        "id": "rNU6heNx8JRQ",
        "colab_type": "code",
        "outputId": "bcfe4256-0145-43b4-ad3c-01a481abba03",
        "colab": {
          "base_uri": "https://localhost:8080/",
          "height": 52
        }
      },
      "source": [
        "## verifying if the replacement is done successfully\n",
        "\n",
        "print(data_train['account_check_status'].nunique() ) \n",
        "\n",
        "print(data_train['account_check_status'].unique() ) "
      ],
      "execution_count": 50,
      "outputs": [
        {
          "output_type": "stream",
          "text": [
            "4\n",
            "[1 2 0 3]\n"
          ],
          "name": "stdout"
        }
      ]
    },
    {
      "cell_type": "code",
      "metadata": {
        "id": "AODsrgur8eyu",
        "colab_type": "code",
        "outputId": "2c419167-6531-4e1e-9db1-c7bd20dd38f7",
        "colab": {
          "base_uri": "https://localhost:8080/",
          "height": 123
        }
      },
      "source": [
        "## ANALYSING the columns  - credit_history\n",
        "\n",
        "print(data_train['credit_history'].nunique() ) ## for column credit_history we have five unique values\n",
        "\n",
        "print(data_train['credit_history'].unique() ) ## five distinct values in this column are  =>\n",
        "\n",
        "##  'critical account/ other credits existing (not at this bank)' , 'existing credits paid back duly till now', 'delay in paying off in the past',\n",
        "##   'no credits taken/ all credits paid back duly' 'all credits at this bank paid back duly'\n",
        "                                                                                              \n",
        "\n",
        "# lets categorize these values with 1,2,3,4,5 respectively\n"
      ],
      "execution_count": 51,
      "outputs": [
        {
          "output_type": "stream",
          "text": [
            "5\n",
            "['critical account/ other credits existing (not at this bank)'\n",
            " 'existing credits paid back duly till now'\n",
            " 'delay in paying off in the past'\n",
            " 'no credits taken/ all credits paid back duly'\n",
            " 'all credits at this bank paid back duly']\n"
          ],
          "name": "stdout"
        }
      ]
    },
    {
      "cell_type": "code",
      "metadata": {
        "id": "QK5Vwde8Cfnc",
        "colab_type": "code",
        "outputId": "b1feae97-77bc-4e65-909c-dd54767cea7a",
        "colab": {
          "base_uri": "https://localhost:8080/",
          "height": 52
        }
      },
      "source": [
        "credit_history_values = {'critical account/ other credits existing (not at this bank)':1, 'existing credits paid back duly till now':2,\n",
        "                          'delay in paying off in the past':3, 'no credits taken/ all credits paid back duly':4, 'all credits at this bank paid back duly':5}\n",
        "data_train['credit_history'] = data_train['credit_history'].replace(credit_history_values)\n",
        "\n",
        "## verifying if the replacement is done successfully\n",
        "\n",
        "print(data_train['credit_history'].nunique() ) \n",
        "\n",
        "print(data_train['credit_history'].unique() ) "
      ],
      "execution_count": 52,
      "outputs": [
        {
          "output_type": "stream",
          "text": [
            "5\n",
            "[1 2 3 4 5]\n"
          ],
          "name": "stdout"
        }
      ]
    },
    {
      "cell_type": "code",
      "metadata": {
        "id": "6On7eG7GDG-5",
        "colab_type": "code",
        "outputId": "a1f545e9-55ce-46f3-ca75-05659e39cce4",
        "colab": {
          "base_uri": "https://localhost:8080/",
          "height": 87
        }
      },
      "source": [
        "## ANALYSING the columns  - purpose\n",
        "\n",
        "print(data_train['purpose'].nunique() ) ## for column purpose we have 10 unique values\n",
        "\n",
        "print(data_train['purpose'].unique() ) ## 10 distinct values in this column are  =>\n",
        "\n",
        "##  'domestic appliances' ,'(vacation - does not exist?)' ,'radio/television','car (new)', 'car (used)' ,'business', 'repairs' ,'education',\n",
        "##   'furniture/equipment', 'retraining'\n",
        "                                                                                              \n",
        "\n",
        "# lets categorize these values with 1,2,3,4,5,6,7,8,9,10 respectively\n"
      ],
      "execution_count": 53,
      "outputs": [
        {
          "output_type": "stream",
          "text": [
            "10\n",
            "['domestic appliances' '(vacation - does not exist?)' 'radio/television'\n",
            " 'car (new)' 'car (used)' 'business' 'repairs' 'education'\n",
            " 'furniture/equipment' 'retraining']\n"
          ],
          "name": "stdout"
        }
      ]
    },
    {
      "cell_type": "code",
      "metadata": {
        "id": "OkEJCORFDmx0",
        "colab_type": "code",
        "outputId": "13a6400c-d687-4216-efc6-387520d850d6",
        "colab": {
          "base_uri": "https://localhost:8080/",
          "height": 52
        }
      },
      "source": [
        "purpose_values = {'domestic appliances' :1,'(vacation - does not exist?)' :2,'radio/television':3,'car (new)':4, 'car (used)':5 ,'business':6, 'repairs':7 ,'education':8,\n",
        "                  'furniture/equipment':9, 'retraining':10}\n",
        "data_train['purpose'] = data_train['purpose'].replace(purpose_values)\n",
        "\n",
        "## verifying if the replacement is done successfully\n",
        "\n",
        "print(data_train['purpose'].nunique() ) \n",
        "\n",
        "print(data_train['purpose'].unique() ) "
      ],
      "execution_count": 54,
      "outputs": [
        {
          "output_type": "stream",
          "text": [
            "10\n",
            "[ 1  2  3  4  5  6  7  8  9 10]\n"
          ],
          "name": "stdout"
        }
      ]
    },
    {
      "cell_type": "code",
      "metadata": {
        "id": "6k24MnxkDmtq",
        "colab_type": "code",
        "outputId": "6eb04f37-1a8d-42a8-99e7-734540527898",
        "colab": {
          "base_uri": "https://localhost:8080/",
          "height": 70
        }
      },
      "source": [
        "## ANALYSING the columns  - savings\n",
        "\n",
        "print(data_train['savings'].nunique() ) ## for column savings we have 5 unique values\n",
        "\n",
        "print(data_train['savings'].unique() ) ## 5 distinct values in this column are  =>\n",
        "\n",
        "##  'unknown/ no savings account', '... < 100 DM' , '500 <= ... < 1000 DM ' ,  '.. >= 1000 DM ' , '100 <= ... < 500 DM'\n",
        "\n",
        "                                                                                              \n",
        "\n",
        "# lets categorize these values with 0,1,2,3,4 ,also these categories are ordinal in nature\n"
      ],
      "execution_count": 55,
      "outputs": [
        {
          "output_type": "stream",
          "text": [
            "5\n",
            "['unknown/ no savings account' '... < 100 DM' '500 <= ... < 1000 DM '\n",
            " '.. >= 1000 DM ' '100 <= ... < 500 DM']\n"
          ],
          "name": "stdout"
        }
      ]
    },
    {
      "cell_type": "code",
      "metadata": {
        "id": "vrgYeXbQE2hI",
        "colab_type": "code",
        "outputId": "531b3902-c09e-47ec-f801-8d461f115757",
        "colab": {
          "base_uri": "https://localhost:8080/",
          "height": 52
        }
      },
      "source": [
        "savings_values = {'unknown/ no savings account':0,'... < 100 DM' :1,'100 <= ... < 500 DM' :2,'500 <= ... < 1000 DM ':3,'.. >= 1000 DM ':4}\n",
        "data_train['savings'] = data_train['savings'].replace(savings_values)\n",
        "\n",
        "## verifying if the replacement is done successfully\n",
        "\n",
        "print(data_train['savings'].nunique() ) \n",
        "\n",
        "print(data_train['savings'].unique() ) "
      ],
      "execution_count": 56,
      "outputs": [
        {
          "output_type": "stream",
          "text": [
            "5\n",
            "[0 1 3 4 2]\n"
          ],
          "name": "stdout"
        }
      ]
    },
    {
      "cell_type": "code",
      "metadata": {
        "id": "G109MagVHBlj",
        "colab_type": "code",
        "outputId": "56851a7d-ff2b-4eae-a3c6-6a6d8735b105",
        "colab": {
          "base_uri": "https://localhost:8080/",
          "height": 70
        }
      },
      "source": [
        "## ANALYSING the columns  - present_emp_since\n",
        "\n",
        "print(data_train['present_emp_since'].nunique() ) ## for column present_emp_since we have 5 unique values\n",
        "\n",
        "print(data_train['present_emp_since'].unique() ) ## 5 distinct values in this column are  =>\n",
        "\n",
        "##  'unemployed', '... < 1 year ' , '1 <= ... < 4 years' ,  '4 <= ... < 7 years' , '.. >= 7 years'\n",
        "\n",
        "                                                                                              \n",
        "\n",
        "# lets categorize these values with 0,1,2,3,4 ,also these categories are ordinal in nature\n"
      ],
      "execution_count": 57,
      "outputs": [
        {
          "output_type": "stream",
          "text": [
            "5\n",
            "['.. >= 7 years' '1 <= ... < 4 years' '4 <= ... < 7 years' 'unemployed'\n",
            " '... < 1 year ']\n"
          ],
          "name": "stdout"
        }
      ]
    },
    {
      "cell_type": "code",
      "metadata": {
        "id": "UpvJ7IDQHEF_",
        "colab_type": "code",
        "outputId": "2411e26c-abbe-4483-d8af-f5a30368b886",
        "colab": {
          "base_uri": "https://localhost:8080/",
          "height": 52
        }
      },
      "source": [
        "present_emp_since_values = {'unemployed':0,'... < 1 year ' :1,'1 <= ... < 4 years' :2,'4 <= ... < 7 years':3,'.. >= 7 years':4}\n",
        "data_train['present_emp_since'] = data_train['present_emp_since'].replace(present_emp_since_values)\n",
        "\n",
        "## verifying if the replacement is done successfully\n",
        "\n",
        "print(data_train['present_emp_since'].nunique() ) \n",
        "\n",
        "print(data_train['present_emp_since'].unique() ) "
      ],
      "execution_count": 58,
      "outputs": [
        {
          "output_type": "stream",
          "text": [
            "5\n",
            "[4 2 3 0 1]\n"
          ],
          "name": "stdout"
        }
      ]
    },
    {
      "cell_type": "code",
      "metadata": {
        "id": "f_zKrIOXIBOe",
        "colab_type": "code",
        "colab": {
          "base_uri": "https://localhost:8080/",
          "height": 70
        },
        "outputId": "b944382d-a8f9-4885-d2c4-d3838fabfdd6"
      },
      "source": [
        "## ANALYSING the columns  - personal_status_sex\n",
        "\n",
        "print(data_train['personal_status_sex'].nunique() ) ## for column personal_status_sex we have 4 unique values\n",
        "\n",
        "print(data_train['personal_status_sex'].unique() ) ## 4 distinct values in this column are  =>\n",
        "\n",
        "##  'male : single', 'female : divorced/separated/married' , 'male : divorced/separated' ,  'male : married/widowed' \n",
        "                                                                                              \n",
        "\n",
        "# lets categorize these values with 1,2,3,4 ,\n"
      ],
      "execution_count": 59,
      "outputs": [
        {
          "output_type": "stream",
          "text": [
            "4\n",
            "['male : single' 'female : divorced/separated/married'\n",
            " 'male : divorced/separated' 'male : married/widowed']\n"
          ],
          "name": "stdout"
        }
      ]
    },
    {
      "cell_type": "code",
      "metadata": {
        "id": "DYjHo0zsIA9q",
        "colab_type": "code",
        "colab": {
          "base_uri": "https://localhost:8080/",
          "height": 52
        },
        "outputId": "01fd7a80-3d23-48dd-e4e2-398533ec4c2a"
      },
      "source": [
        "personal_status_sex_values = {'male : single':1, 'female : divorced/separated/married' :2, 'male : divorced/separated':3 ,  'male : married/widowed' :4}\n",
        "data_train['personal_status_sex'] = data_train['personal_status_sex'].replace(personal_status_sex_values)\n",
        "\n",
        "## verifying if the replacement is done successfully\n",
        "\n",
        "print(data_train['personal_status_sex'].nunique() ) \n",
        "\n",
        "print(data_train['personal_status_sex'].unique() ) "
      ],
      "execution_count": 60,
      "outputs": [
        {
          "output_type": "stream",
          "text": [
            "4\n",
            "[1 2 3 4]\n"
          ],
          "name": "stdout"
        }
      ]
    },
    {
      "cell_type": "code",
      "metadata": {
        "id": "cfHXTXuGICJX",
        "colab_type": "code",
        "colab": {
          "base_uri": "https://localhost:8080/",
          "height": 52
        },
        "outputId": "b0e663ec-fecb-4ece-a5fb-fffd1552a454"
      },
      "source": [
        "## ANALYSING the columns  - other_debtors\n",
        "\n",
        "print(data_train['other_debtors'].nunique() ) ## for column other_debtors we have 4 unique values\n",
        "\n",
        "print(data_train['other_debtors'].unique() ) ## 4 distinct values in this column are  =>\n",
        "\n",
        "##  'none', 'guarantor', 'co-applicant'\n",
        "                                                                                              \n",
        "\n",
        "# lets categorize these values with 1,2,3,4 ,\n"
      ],
      "execution_count": 61,
      "outputs": [
        {
          "output_type": "stream",
          "text": [
            "3\n",
            "['none' 'guarantor' 'co-applicant']\n"
          ],
          "name": "stdout"
        }
      ]
    },
    {
      "cell_type": "code",
      "metadata": {
        "id": "z9m5djBMktwb",
        "colab_type": "code",
        "colab": {
          "base_uri": "https://localhost:8080/",
          "height": 52
        },
        "outputId": "baf86676-c164-48dc-a682-3672e0ed92bb"
      },
      "source": [
        "other_debtors_values = {'none':1, 'guarantor' :2, 'co-applicant':3 }\n",
        "data_train['other_debtors'] = data_train['other_debtors'].replace(other_debtors_values)\n",
        "\n",
        "## verifying if the replacement is done successfully\n",
        "\n",
        "print(data_train['other_debtors'].nunique() ) \n",
        "\n",
        "print(data_train['other_debtors'].unique() ) "
      ],
      "execution_count": 62,
      "outputs": [
        {
          "output_type": "stream",
          "text": [
            "3\n",
            "[1 2 3]\n"
          ],
          "name": "stdout"
        }
      ]
    },
    {
      "cell_type": "code",
      "metadata": {
        "id": "GtuFXYDIkt1u",
        "colab_type": "code",
        "colab": {
          "base_uri": "https://localhost:8080/",
          "height": 105
        },
        "outputId": "d2285bd5-d545-4895-e7c8-b9414fce3b18"
      },
      "source": [
        "## ANALYSING the columns  - property\n",
        "\n",
        "print(data_train['property'].nunique() ) ## for column property we have 4 unique values\n",
        "\n",
        "print(data_train['property'].unique() ) ## 4 distinct values in this column are  =>\n",
        "\n",
        "##  'real estate', 'if not A121 : building society savings agreement/ life insurance', 'unknown / no property', 'if not A121/A122 : car or other, not in attribute 6'\n",
        "                                                                                              \n",
        "\n",
        "# lets categorize these values with 1,2,3,4 ,"
      ],
      "execution_count": 63,
      "outputs": [
        {
          "output_type": "stream",
          "text": [
            "4\n",
            "['real estate'\n",
            " 'if not A121 : building society savings agreement/ life insurance'\n",
            " 'unknown / no property'\n",
            " 'if not A121/A122 : car or other, not in attribute 6']\n"
          ],
          "name": "stdout"
        }
      ]
    },
    {
      "cell_type": "code",
      "metadata": {
        "id": "uuPWdqnWlx18",
        "colab_type": "code",
        "colab": {
          "base_uri": "https://localhost:8080/",
          "height": 52
        },
        "outputId": "6a1a1bc6-e268-4126-f763-99ba557c7614"
      },
      "source": [
        "property_values = {'real estate':1, 'if not A121 : building society savings agreement/ life insurance' :2, 'unknown / no property':3 ,'if not A121/A122 : car or other, not in attribute 6':4}\n",
        "data_train['property'] = data_train['property'].replace(property_values)\n",
        "\n",
        "## verifying if the replacement is done successfully\n",
        "\n",
        "print(data_train['property'].nunique() ) \n",
        "\n",
        "print(data_train['property'].unique() ) "
      ],
      "execution_count": 64,
      "outputs": [
        {
          "output_type": "stream",
          "text": [
            "4\n",
            "[1 2 3 4]\n"
          ],
          "name": "stdout"
        }
      ]
    },
    {
      "cell_type": "code",
      "metadata": {
        "id": "jNfMz5hbkt6_",
        "colab_type": "code",
        "colab": {
          "base_uri": "https://localhost:8080/",
          "height": 52
        },
        "outputId": "89dff045-167a-4daa-cc86-947fcee662b5"
      },
      "source": [
        "## ANALYSING the columns  - other_installment_plans\n",
        "\n",
        "print(data_train['other_installment_plans'].nunique() ) ## for column other_installment_plans we have 3 unique values\n",
        "\n",
        "print(data_train['other_installment_plans'].unique() ) ## 3 distinct values in this column are  =>\n",
        "\n",
        "## 'none' ,'bank', 'stores'\n",
        "                                                                                              \n",
        "\n",
        "# lets categorize these values with 1,2,3,4\n"
      ],
      "execution_count": 65,
      "outputs": [
        {
          "output_type": "stream",
          "text": [
            "3\n",
            "['none' 'bank' 'stores']\n"
          ],
          "name": "stdout"
        }
      ]
    },
    {
      "cell_type": "code",
      "metadata": {
        "id": "QMHqqS55mtkx",
        "colab_type": "code",
        "colab": {
          "base_uri": "https://localhost:8080/",
          "height": 52
        },
        "outputId": "7fc3d031-117d-447b-9e30-783a99341e90"
      },
      "source": [
        "other_installment_plans_values = {'none':1, 'bank' :2, 'stores':3 }\n",
        "data_train['other_installment_plans'] = data_train['other_installment_plans'].replace(other_installment_plans_values)\n",
        "\n",
        "## verifying if the replacement is done successfully\n",
        "\n",
        "print(data_train['other_installment_plans'].nunique() ) \n",
        "\n",
        "print(data_train['other_installment_plans'].unique() ) "
      ],
      "execution_count": 66,
      "outputs": [
        {
          "output_type": "stream",
          "text": [
            "3\n",
            "[1 2 3]\n"
          ],
          "name": "stdout"
        }
      ]
    },
    {
      "cell_type": "code",
      "metadata": {
        "id": "fwTekL84mthB",
        "colab_type": "code",
        "colab": {
          "base_uri": "https://localhost:8080/",
          "height": 52
        },
        "outputId": "93cebb7f-1b58-4d99-8a28-ac80359b35a6"
      },
      "source": [
        "## ANALYSING the columns  - housing\n",
        "\n",
        "print(data_train['housing'].nunique() ) ## for column housing we have 3 unique values\n",
        "\n",
        "print(data_train['housing'].unique() ) ## 3 distinct values in this column are  =>\n",
        "\n",
        "## 'own' ,'for free', 'rent'\n",
        "                                                                                              \n",
        "\n",
        "# lets categorize these values with 1,2,3,4 ,also these categories are ordinal in nature\n"
      ],
      "execution_count": 67,
      "outputs": [
        {
          "output_type": "stream",
          "text": [
            "3\n",
            "['own' 'for free' 'rent']\n"
          ],
          "name": "stdout"
        }
      ]
    },
    {
      "cell_type": "code",
      "metadata": {
        "id": "q_1cJmH3nY4O",
        "colab_type": "code",
        "colab": {
          "base_uri": "https://localhost:8080/",
          "height": 52
        },
        "outputId": "1a85e1e8-8b81-47b1-ddba-2fe7fa97cbb0"
      },
      "source": [
        "housing_values = {'own':1, 'for free' :2, 'rent':3 }\n",
        "data_train['housing'] = data_train['housing'].replace(housing_values)\n",
        "\n",
        "## verifying if the replacement is done successfully\n",
        "\n",
        "print(data_train['housing'].nunique() ) \n",
        "\n",
        "print(data_train['housing'].unique() ) "
      ],
      "execution_count": 68,
      "outputs": [
        {
          "output_type": "stream",
          "text": [
            "3\n",
            "[1 2 3]\n"
          ],
          "name": "stdout"
        }
      ]
    },
    {
      "cell_type": "code",
      "metadata": {
        "id": "bl1XX301n0sn",
        "colab_type": "code",
        "colab": {
          "base_uri": "https://localhost:8080/",
          "height": 87
        },
        "outputId": "8f2da9ac-ab8c-4a8a-d740-18ef035c7a65"
      },
      "source": [
        "## ANALYSING the columns  - job\n",
        "\n",
        "print(data_train['job'].nunique() ) ## for column job we have 4 unique values\n",
        "\n",
        "print(data_train['job'].unique() ) ## 4 distinct values in this column are  =>\n",
        "\n",
        "## 'skilled employee / official', 'unskilled - resident' ,'management/ self-employed/ highly qualified employee/ officer', 'unemployed/ unskilled - non-resident'\n",
        "                                                                                              \n",
        "\n",
        "# lets categorize these values with 1,2,3,4 \n"
      ],
      "execution_count": 69,
      "outputs": [
        {
          "output_type": "stream",
          "text": [
            "4\n",
            "['skilled employee / official' 'unskilled - resident'\n",
            " 'management/ self-employed/ highly qualified employee/ officer'\n",
            " 'unemployed/ unskilled - non-resident']\n"
          ],
          "name": "stdout"
        }
      ]
    },
    {
      "cell_type": "code",
      "metadata": {
        "id": "LweDWBPXn0pw",
        "colab_type": "code",
        "colab": {
          "base_uri": "https://localhost:8080/",
          "height": 52
        },
        "outputId": "76203ec0-f5ce-4ff1-8b03-87979831d627"
      },
      "source": [
        "job_values = {'skilled employee / official':1 ,'unskilled - resident':2, 'management/ self-employed/ highly qualified employee/ officer' :3, 'unemployed/ unskilled - non-resident':4}\n",
        "data_train['job'] = data_train['job'].replace(job_values)\n",
        "\n",
        "## verifying if the replacement is done successfully\n",
        "\n",
        "print(data_train['job'].nunique() ) \n",
        "\n",
        "print(data_train['job'].unique() ) "
      ],
      "execution_count": 70,
      "outputs": [
        {
          "output_type": "stream",
          "text": [
            "4\n",
            "[1 2 3 4]\n"
          ],
          "name": "stdout"
        }
      ]
    },
    {
      "cell_type": "code",
      "metadata": {
        "id": "Bbisajj8mtdx",
        "colab_type": "code",
        "colab": {
          "base_uri": "https://localhost:8080/",
          "height": 52
        },
        "outputId": "a008885f-3e8f-4beb-aa76-f0ccf9c72e07"
      },
      "source": [
        "## ANALYSING the columns  - telephone\n",
        "\n",
        "print(data_train['telephone'].nunique() ) ## for column telephone we have 2 unique values\n",
        "\n",
        "print(data_train['telephone'].unique() ) ## 2 distinct values in this column are  =>\n",
        "\n",
        "## 'yes, registered under the customers name ' ,'none'\n",
        "                                                                                              \n",
        "\n",
        "# lets categorize these values with 1,2\n"
      ],
      "execution_count": 71,
      "outputs": [
        {
          "output_type": "stream",
          "text": [
            "2\n",
            "['yes, registered under the customers name ' 'none']\n"
          ],
          "name": "stdout"
        }
      ]
    },
    {
      "cell_type": "code",
      "metadata": {
        "id": "Y1oZV-DOo-2I",
        "colab_type": "code",
        "colab": {
          "base_uri": "https://localhost:8080/",
          "height": 52
        },
        "outputId": "c16a21f6-c4f9-4f92-cd6c-a30b0d21f952"
      },
      "source": [
        "telephone_values = {'yes, registered under the customers name ':1 ,'none':2}\n",
        "data_train['telephone'] = data_train['telephone'].replace(telephone_values)\n",
        "\n",
        "## verifying if the replacement is done successfully\n",
        "\n",
        "print(data_train['telephone'].nunique() ) \n",
        "\n",
        "print(data_train['telephone'].unique() ) "
      ],
      "execution_count": 72,
      "outputs": [
        {
          "output_type": "stream",
          "text": [
            "2\n",
            "[1 2]\n"
          ],
          "name": "stdout"
        }
      ]
    },
    {
      "cell_type": "code",
      "metadata": {
        "id": "jCX0sj0lo_JR",
        "colab_type": "code",
        "colab": {
          "base_uri": "https://localhost:8080/",
          "height": 52
        },
        "outputId": "8147f12d-6f5d-4896-985f-91fc484d6e1b"
      },
      "source": [
        "## ANALYSING the columns  - foreign_worker\n",
        "\n",
        "print(data_train['foreign_worker'].nunique() ) ## for column foreign_worker we have 2 unique values\n",
        "\n",
        "print(data_train['foreign_worker'].unique() ) ## 2 distinct values in this column are  =>\n",
        "\n",
        "## 'yes' ,'no'\n",
        "                                                                                              \n",
        "\n",
        "# lets categorize these values with 1,2\n"
      ],
      "execution_count": 73,
      "outputs": [
        {
          "output_type": "stream",
          "text": [
            "2\n",
            "['yes' 'no']\n"
          ],
          "name": "stdout"
        }
      ]
    },
    {
      "cell_type": "code",
      "metadata": {
        "id": "styRuQcZo-x4",
        "colab_type": "code",
        "colab": {
          "base_uri": "https://localhost:8080/",
          "height": 52
        },
        "outputId": "b4857f60-103f-4151-a12b-628ade0ccf03"
      },
      "source": [
        "foreign_worker_values = {'yes':1 ,'no':2}\n",
        "data_train['foreign_worker'] = data_train['foreign_worker'].replace(foreign_worker_values)\n",
        "\n",
        "## verifying if the replacement is done successfully\n",
        "\n",
        "print(data_train['foreign_worker'].nunique() ) \n",
        "\n",
        "print(data_train['foreign_worker'].unique() ) "
      ],
      "execution_count": 74,
      "outputs": [
        {
          "output_type": "stream",
          "text": [
            "2\n",
            "[1 2]\n"
          ],
          "name": "stdout"
        }
      ]
    },
    {
      "cell_type": "code",
      "metadata": {
        "id": "1MgrvxDtpbw2",
        "colab_type": "code",
        "colab": {}
      },
      "source": [
        "##################  After analysing and converting each categorical attribute to numeric, let's show there count plot ###################################"
      ],
      "execution_count": 0,
      "outputs": []
    },
    {
      "cell_type": "code",
      "metadata": {
        "id": "-O49nM8jssPo",
        "colab_type": "code",
        "colab": {}
      },
      "source": [
        "##################### converting object to category #######################################\n",
        "\n",
        "i=0\n",
        "for i in range(len(x)):\n",
        "  data_train[x[i]] = data_train[x[i]].astype('category')"
      ],
      "execution_count": 0,
      "outputs": []
    },
    {
      "cell_type": "code",
      "metadata": {
        "id": "xgYpSB87JRXd",
        "colab_type": "code",
        "outputId": "4c51cf68-a1db-4de9-a09c-63788badea76",
        "colab": {
          "base_uri": "https://localhost:8080/",
          "height": 1000
        }
      },
      "source": [
        "col_c = data_train.select_dtypes(include='category').columns\n",
        "fig, qaxis = plt.subplots(5,3,figsize=(15,25))\n",
        "i=0\n",
        "j=0\n",
        "k=0\n",
        "l=0\n",
        "for i in range (len(col_c)):  \n",
        "  dd=sns.countplot(x=data_train[col_c[i]], ax = qaxis[j,k])\n",
        "  dd.set_title('\\n\\nBelow Count Distribution ({})'.format(col_c[i]), fontsize = 10)\n",
        "  dd.set_xlabel('Values ({})'.format(col_c[i]), fontsize = 9)\n",
        "  dd.set_ylabel('Count ', fontsize = 9)\n",
        "  # find the values and append to list\n",
        "  totals = []\n",
        "  for l in dd.patches:\n",
        "    totals.append(l.get_height())\n",
        "\n",
        "  # set individual bar lables using above list\n",
        "  total = sum(totals)\n",
        "\n",
        "  # set individual bar lables using above list\n",
        "  for l in dd.patches:\n",
        "    # get_x pulls left or right; get_height pushes up or down\n",
        "    dd.text(l.get_x()+.30,l.get_height()+10,str(round((l.get_height()/total)*100, 2))+'%',ha = 'center', va = 'center', fontsize=10,color='dimgrey', rotation=0)\n",
        "  \n",
        "  k=k+1\n",
        "  j=j\n",
        "  if k==3:\n",
        "    j=j+1\n",
        "    k=0\n",
        "    "
      ],
      "execution_count": 77,
      "outputs": [
        {
          "output_type": "display_data",
          "data": {
            "image/png": "[encoded data removed]",
            "text/plain": [
              "<Figure size 1080x1800 with 15 Axes>"
            ]
          },
          "metadata": {
            "tags": []
          }
        }
      ]
    },
    {
      "cell_type": "code",
      "metadata": {
        "id": "czWcnoRfyErt",
        "colab_type": "code",
        "colab": {
          "base_uri": "https://localhost:8080/",
          "height": 70
        },
        "outputId": "e3b87d66-abd0-456c-b05c-d0b6d573a765"
      },
      "source": [
        "data_train.select_dtypes(include='category').columns[:6]"
      ],
      "execution_count": 78,
      "outputs": [
        {
          "output_type": "execute_result",
          "data": {
            "text/plain": [
              "Index(['account_check_status', 'credit_history', 'purpose', 'savings',\n",
              "       'present_emp_since', 'personal_status_sex'],\n",
              "      dtype='object')"
            ]
          },
          "metadata": {
            "tags": []
          },
          "execution_count": 78
        }
      ]
    },
    {
      "cell_type": "code",
      "metadata": {
        "id": "DoRqYJ1gJE5t",
        "colab_type": "code",
        "colab": {
          "base_uri": "https://localhost:8080/",
          "height": 894
        },
        "outputId": "b44ba3c4-0527-4690-9e6e-c0c3cddeb07c"
      },
      "source": [
        "#graph distribution of categorical data vs Default\n",
        "plt.figure(figsize=[15,15])\n",
        "\n",
        "dis_col = data_train.select_dtypes(include='category').columns[:6]\n",
        "\n",
        "\n",
        "c=231\n",
        "\n",
        "for a in range(len(dis_col)):\n",
        "  plt.subplot(c)\n",
        "  d1 = plt.hist(x = [data_train[data_train['default']==1][dis_col[a]], data_train[data_train['default']==0][dis_col[a]]], \n",
        "         stacked=True, color = ['g','r'],label = ['Accept ','Reject '])\n",
        "  plt.title('{} Histogram'.format(dis_col[a]))\n",
        "  plt.xlabel('{} (freq.)'.format(dis_col[a]))\n",
        "  plt.ylabel('# of Customers')\n",
        "  plt.legend()\n",
        "  for i in range(len(d1[0][0])):\n",
        "    if (d1[0][0][i] != 0.0 ):\n",
        "      #plt.text(d[1][0]+.12,d[0][0],str(round(d[0][0])),fontsize=13)  ## xy\n",
        "      plt.text(d1[1][i],d1[0][1][i],'{}%'.format(int((d1[0][1][i]/np.sum(d1[0][1])*100))), ha = 'center', va = 'center',fontsize=10,rotation=0)  ## xy\n",
        "      #print('{:1.2f}%'.format(round(d[0][1][i]/np.sum(d[0][1])*100)))\n",
        "      plt.text(d1[1][i],d1[0][0][i],'{}%'.format(int((d1[0][0][i]/np.sum(d1[0][1])*100))), ha = 'center', va = 'center',fontsize=10,rotation=0)\n",
        "      \n",
        "  c=c+1\n",
        "    "
      ],
      "execution_count": 79,
      "outputs": [
        {
          "output_type": "display_data",
          "data": {
            "image/png": "[encoded data removed]",
            "text/plain": [
              "<Figure size 1080x1080 with 6 Axes>"
            ]
          },
          "metadata": {
            "tags": []
          }
        }
      ]
    },
    {
      "cell_type": "code",
      "metadata": {
        "id": "IlLYWC6OxLx-",
        "colab_type": "code",
        "colab": {
          "base_uri": "https://localhost:8080/",
          "height": 893
        },
        "outputId": "1a281eb6-6eb3-4875-c98d-79708acd69e7"
      },
      "source": [
        "#graph distribution of categorical data vs Default\n",
        "plt.figure(figsize=[15,15])\n",
        "\n",
        "dis_col = data_train.select_dtypes(include='category').columns[6:12]\n",
        "\n",
        "\n",
        "c=231\n",
        "\n",
        "for a in range(len(dis_col)):\n",
        "  plt.subplot(c)\n",
        "  d1 = plt.hist(x = [data_train[data_train['default']==1][dis_col[a]], data_train[data_train['default']==0][dis_col[a]]], \n",
        "         stacked=True, color = ['g','r'],label = ['Accept ','Reject '])\n",
        "  plt.title('{} Histogram'.format(dis_col[a]))\n",
        "  plt.xlabel('{} (freq.)'.format(dis_col[a]))\n",
        "  plt.ylabel('# of Customers')\n",
        "  plt.legend()\n",
        "  for i in range(len(d1[0][0])):\n",
        "    if (d1[0][0][i] != 0.0 ):\n",
        "      #plt.text(d[1][0]+.12,d[0][0],str(round(d[0][0])),fontsize=13)  ## xy\n",
        "      plt.text(d1[1][i],d1[0][1][i],'{}%'.format(int((d1[0][1][i]/np.sum(d1[0][1])*100))), ha = 'center', va = 'center',fontsize=10,rotation=0)  ## xy\n",
        "      #print('{:1.2f}%'.format(round(d[0][1][i]/np.sum(d[0][1])*100)))\n",
        "      plt.text(d1[1][i],d1[0][0][i],'{}%'.format(int((d1[0][0][i]/np.sum(d1[0][1])*100))), ha = 'center', va = 'center',fontsize=10,rotation=0)\n",
        "      \n",
        "  c=c+1\n",
        "    "
      ],
      "execution_count": 80,
      "outputs": [
        {
          "output_type": "display_data",
          "data": {
            "image/png": "[encoded data removed]",
            "text/plain": [
              "<Figure size 1080x1080 with 6 Axes>"
            ]
          },
          "metadata": {
            "tags": []
          }
        }
      ]
    },
    {
      "cell_type": "code",
      "metadata": {
        "id": "EC9Oup3w_0on",
        "colab_type": "code",
        "colab": {
          "base_uri": "https://localhost:8080/",
          "height": 448
        },
        "outputId": "93d2962a-2c5e-4910-97ad-5ab647bd3e1e"
      },
      "source": [
        "#graph distribution of categorical data vs Default\n",
        "plt.figure(figsize=[15,15])\n",
        "\n",
        "dis_col = data_train.select_dtypes(include='category').columns[12:]\n",
        "\n",
        "\n",
        "c=231\n",
        "\n",
        "for a in range(len(dis_col)):\n",
        "  plt.subplot(c)\n",
        "  d1 = plt.hist(x = [data_train[data_train['default']==1][dis_col[a]], data_train[data_train['default']==0][dis_col[a]]], \n",
        "         stacked=True, color = ['g','r'],label = ['Accept ','Reject '])\n",
        "  plt.title('{} Histogram'.format(dis_col[a]))\n",
        "  plt.xlabel('{} (freq.)'.format(dis_col[a]))\n",
        "  plt.ylabel('# of Customers')\n",
        "  plt.legend()\n",
        "  for i in range(len(d1[0][0])):\n",
        "    if (d1[0][0][i] != 0.0 ):\n",
        "      #plt.text(d[1][0]+.12,d[0][0],str(round(d[0][0])),fontsize=13)  ## xy\n",
        "      plt.text(d1[1][i],d1[0][1][i],'{}%'.format(int((d1[0][1][i]/np.sum(d1[0][1])*100))), ha = 'center', va = 'center',fontsize=10,rotation=0)  ## xy\n",
        "      #print('{:1.2f}%'.format(round(d[0][1][i]/np.sum(d[0][1])*100)))\n",
        "      plt.text(d1[1][i],d1[0][0][i],'{}%'.format(int((d1[0][0][i]/np.sum(d1[0][1])*100))), ha = 'center', va = 'center',fontsize=10,rotation=0)\n",
        "      \n",
        "  c=c+1\n",
        "    "
      ],
      "execution_count": 81,
      "outputs": [
        {
          "output_type": "display_data",
          "data": {
            "image/png": "[encoded data removed]",
            "text/plain": [
              "<Figure size 1080x1080 with 1 Axes>"
            ]
          },
          "metadata": {
            "tags": []
          }
        }
      ]
    },
    {
      "cell_type": "code",
      "metadata": {
        "id": "OE9o0QaxzRL6",
        "colab_type": "code",
        "colab": {}
      },
      "source": [
        "#################################  FEATURE SELECTION ####################################################\n",
        "\n"
      ],
      "execution_count": 0,
      "outputs": []
    },
    {
      "cell_type": "code",
      "metadata": {
        "id": "wjEEQl3gzbCI",
        "colab_type": "code",
        "colab": {}
      },
      "source": [
        " ############### 1- UNIVARIATE SELECTION ##############################"
      ],
      "execution_count": 0,
      "outputs": []
    },
    {
      "cell_type": "code",
      "metadata": {
        "id": "oBQXEbKRzcuY",
        "colab_type": "code",
        "colab": {}
      },
      "source": [
        "from sklearn.feature_selection import SelectKBest\n",
        "from sklearn.feature_selection import chi2"
      ],
      "execution_count": 0,
      "outputs": []
    },
    {
      "cell_type": "code",
      "metadata": {
        "id": "3V8wH3PSzcrB",
        "colab_type": "code",
        "colab": {}
      },
      "source": [
        "X1 = data_train.drop('default',axis=1)  #independent columns\n",
        "y1 = data_train['default']    #target column i.e price range"
      ],
      "execution_count": 0,
      "outputs": []
    },
    {
      "cell_type": "code",
      "metadata": {
        "id": "AwLliTHQzcn2",
        "colab_type": "code",
        "colab": {}
      },
      "source": [
        "#apply SelectKBest class to extract top 10 best features\n",
        "bestfeatures = SelectKBest(score_func=chi2, k=20)\n",
        "fit = bestfeatures.fit(X1,y1)"
      ],
      "execution_count": 0,
      "outputs": []
    },
    {
      "cell_type": "code",
      "metadata": {
        "id": "mF2fsvgNzzne",
        "colab_type": "code",
        "colab": {
          "base_uri": "https://localhost:8080/",
          "height": 390
        },
        "outputId": "5a81972b-d6b6-4bd5-d1ca-42f093daa401"
      },
      "source": [
        "dfscores = pd.DataFrame(fit.scores_)\n",
        "dfcolumns = pd.DataFrame(X1.columns)\n",
        "#concat two dataframes for better visualization \n",
        "featureScores = pd.concat([dfcolumns,dfscores],axis=1)\n",
        "featureScores.columns = ['Specs','Score']  #naming the dataframe columns\n",
        "print(featureScores.nlargest(20,'Score'))  #print 20 best features"
      ],
      "execution_count": 85,
      "outputs": [
        {
          "output_type": "stream",
          "text": [
            "                         Specs         Score\n",
            "4                credit_amount  58262.490007\n",
            "1            duration_in_month    321.030795\n",
            "0         account_check_status     35.758955\n",
            "12                         age     30.200309\n",
            "2               credit_history     26.162592\n",
            "6            present_emp_since      8.232742\n",
            "14                     housing      6.345872\n",
            "11                    property      4.731936\n",
            "3                      purpose      3.186933\n",
            "13     other_installment_plans      2.433129\n",
            "7   installment_as_income_perc      2.204619\n",
            "8          personal_status_sex      0.935548\n",
            "5                      savings      0.900360\n",
            "15           credits_this_bank      0.495516\n",
            "16                         job      0.329736\n",
            "19              foreign_worker      0.231483\n",
            "18                   telephone      0.200621\n",
            "9                other_debtors      0.141261\n",
            "10           present_res_since      0.003766\n",
            "17    people_under_maintenance      0.001031\n"
          ],
          "name": "stdout"
        }
      ]
    },
    {
      "cell_type": "code",
      "metadata": {
        "id": "N9vL58wmzzZP",
        "colab_type": "code",
        "colab": {}
      },
      "source": [
        "\n",
        "#################### 2- Feature Importance ####################################\n",
        "\n",
        "from sklearn.ensemble import ExtraTreesClassifier"
      ],
      "execution_count": 0,
      "outputs": []
    },
    {
      "cell_type": "code",
      "metadata": {
        "id": "NoinamQHz5LD",
        "colab_type": "code",
        "colab": {
          "base_uri": "https://localhost:8080/",
          "height": 141
        },
        "outputId": "d899f1b9-48f8-4109-c578-7e48eadeaa6f"
      },
      "source": [
        "model = ExtraTreesClassifier(criterion='entropy')\n",
        "model.fit(X1,y1)"
      ],
      "execution_count": 89,
      "outputs": [
        {
          "output_type": "execute_result",
          "data": {
            "text/plain": [
              "ExtraTreesClassifier(bootstrap=False, class_weight=None, criterion='entropy',\n",
              "                     max_depth=None, max_features='auto', max_leaf_nodes=None,\n",
              "                     min_impurity_decrease=0.0, min_impurity_split=None,\n",
              "                     min_samples_leaf=1, min_samples_split=2,\n",
              "                     min_weight_fraction_leaf=0.0, n_estimators=10, n_jobs=None,\n",
              "                     oob_score=False, random_state=None, verbose=0,\n",
              "                     warm_start=False)"
            ]
          },
          "metadata": {
            "tags": []
          },
          "execution_count": 89
        }
      ]
    },
    {
      "cell_type": "code",
      "metadata": {
        "id": "1khG2wJsz5Hv",
        "colab_type": "code",
        "colab": {
          "base_uri": "https://localhost:8080/",
          "height": 448
        },
        "outputId": "d0ae76f4-89ec-403b-ef0f-c28324575241"
      },
      "source": [
        "print(model.feature_importances_) #use inbuilt class feature_importances of tree based classifiers\n",
        "plt.figure(figsize=(10,6))\n",
        "#plot graph of feature importances for better visualization\n",
        "feat_importances = pd.Series(model.feature_importances_, index=X1.columns)\n",
        "feat_importances.nlargest(20).plot(kind='barh')\n",
        "plt.show()"
      ],
      "execution_count": 91,
      "outputs": [
        {
          "output_type": "stream",
          "text": [
            "[0.10125451 0.09086162 0.05700386 0.06036311 0.08444022 0.05249326\n",
            " 0.05724047 0.04255429 0.04381374 0.01888261 0.04920059 0.04715833\n",
            " 0.07704594 0.03774744 0.03521699 0.03165676 0.04549927 0.02427143\n",
            " 0.03171042 0.01158512]\n"
          ],
          "name": "stdout"
        },
        {
          "output_type": "display_data",
          "data": {
            "image/png": "[encoded data removed]",
            "text/plain": [
              "<Figure size 720x432 with 1 Axes>"
            ]
          },
          "metadata": {
            "tags": []
          }
        }
      ]
    },
    {
      "cell_type": "code",
      "metadata": {
        "id": "9R1xkdzGz5EF",
        "colab_type": "code",
        "colab": {}
      },
      "source": [
        "\n",
        "#################### 3- Correlation Matrix with Heatmap ####################################"
      ],
      "execution_count": 0,
      "outputs": []
    },
    {
      "cell_type": "code",
      "metadata": {
        "id": "91IYtkGD0ITx",
        "colab_type": "code",
        "colab": {
          "base_uri": "https://localhost:8080/",
          "height": 733
        },
        "outputId": "f72304a1-494c-4425-da75-5adc024ebd1d"
      },
      "source": [
        "#correlation heatmap of dataset\n",
        "def correlation_heatmap(df):\n",
        "    fig , ax = plt.subplots(figsize =(12,12))\n",
        "    colormap = sns.diverging_palette(220, 10, as_cmap = True)\n",
        "    \n",
        "    _ = sns.heatmap(df.corr(),cmap = colormap,square=True,cbar_kws={'shrink':.5 }, ax=ax,annot=True,linewidths=0.1,vmax=0.3, linecolor='white',annot_kws={'fontsize':12 } )\n",
        "    \n",
        "    plt.title('Pearson Correlation of Features', y=1.05, size=15)\n",
        "\n",
        "correlation_heatmap(data_train)\n",
        "\n"
      ],
      "execution_count": 93,
      "outputs": [
        {
          "output_type": "display_data",
          "data": {
            "image/png": "[encoded data removed]",
            "text/plain": [
              "<Figure size 864x864 with 2 Axes>"
            ]
          },
          "metadata": {
            "tags": []
          }
        }
      ]
    },
    {
      "cell_type": "code",
      "metadata": {
        "id": "Ava5zu6f0IZp",
        "colab_type": "code",
        "colab": {}
      },
      "source": [
        "## making a copy of our dataset\n",
        "\n",
        "data_train1 = data_raw.copy(deep=True)"
      ],
      "execution_count": 0,
      "outputs": []
    },
    {
      "cell_type": "markdown",
      "metadata": {
        "id": "ASgoNlMB_0ov",
        "colab_type": "text"
      },
      "source": [
        "### Q1 Randomly select 50% data for this use case( 1 Marks)\n",
        "###### Hint: Use train_test_split"
      ]
    },
    {
      "cell_type": "code",
      "metadata": {
        "id": "hOot52im51yj",
        "colab_type": "code",
        "colab": {}
      },
      "source": [
        "from sklearn.model_selection import train_test_split"
      ],
      "execution_count": 0,
      "outputs": []
    },
    {
      "cell_type": "code",
      "metadata": {
        "id": "9uEvhMKV5cYn",
        "colab_type": "code",
        "colab": {}
      },
      "source": [
        "X=data_train1.drop('default',axis=1)\n",
        "Y=data_train1['default']"
      ],
      "execution_count": 0,
      "outputs": []
    },
    {
      "cell_type": "code",
      "metadata": {
        "id": "_LGo1xnK_0ow",
        "colab_type": "code",
        "colab": {}
      },
      "source": [
        "train1_x, test1_x, train1_y, test1_y = train_test_split(X, Y, train_size=0.5,random_state = 2)"
      ],
      "execution_count": 0,
      "outputs": []
    },
    {
      "cell_type": "code",
      "metadata": {
        "id": "gKaiZis__0o0",
        "colab_type": "code",
        "colab": {}
      },
      "source": [
        "# Lets build a Ensemble model but need to modify the dataset first\n"
      ],
      "execution_count": 0,
      "outputs": []
    },
    {
      "cell_type": "code",
      "metadata": {
        "id": "mSg4EarP8GZx",
        "colab_type": "code",
        "colab": {
          "base_uri": "https://localhost:8080/",
          "height": 34
        },
        "outputId": "5c486078-e5de-41f7-f575-cedad8f7add4"
      },
      "source": [
        "train1_x.shape"
      ],
      "execution_count": 98,
      "outputs": [
        {
          "output_type": "execute_result",
          "data": {
            "text/plain": [
              "(500, 20)"
            ]
          },
          "metadata": {
            "tags": []
          },
          "execution_count": 98
        }
      ]
    },
    {
      "cell_type": "markdown",
      "metadata": {
        "id": "utYEGBER_0o4",
        "colab_type": "text"
      },
      "source": [
        "### Q2.Prepare the model data by converting non-numeric to dummy ( 1 Marks)\n",
        "##### Hint: Use get_dummies"
      ]
    },
    {
      "cell_type": "code",
      "metadata": {
        "id": "DSRrEHDB7epK",
        "colab_type": "code",
        "colab": {
          "base_uri": "https://localhost:8080/",
          "height": 461
        },
        "outputId": "22a60029-fa37-4377-f046-17482364fead"
      },
      "source": [
        "train1_x.info()"
      ],
      "execution_count": 99,
      "outputs": [
        {
          "output_type": "stream",
          "text": [
            "<class 'pandas.core.frame.DataFrame'>\n",
            "Int64Index: 500 entries, 281 to 168\n",
            "Data columns (total 20 columns):\n",
            "account_check_status          500 non-null object\n",
            "duration_in_month             500 non-null int64\n",
            "credit_history                500 non-null object\n",
            "purpose                       500 non-null object\n",
            "credit_amount                 500 non-null int64\n",
            "savings                       500 non-null object\n",
            "present_emp_since             500 non-null object\n",
            "installment_as_income_perc    500 non-null int64\n",
            "personal_status_sex           500 non-null object\n",
            "other_debtors                 500 non-null object\n",
            "present_res_since             500 non-null int64\n",
            "property                      500 non-null object\n",
            "age                           500 non-null int64\n",
            "other_installment_plans       500 non-null object\n",
            "housing                       500 non-null object\n",
            "credits_this_bank             500 non-null int64\n",
            "job                           500 non-null object\n",
            "people_under_maintenance      500 non-null int64\n",
            "telephone                     500 non-null object\n",
            "foreign_worker                500 non-null object\n",
            "dtypes: int64(7), object(13)\n",
            "memory usage: 82.0+ KB\n"
          ],
          "name": "stdout"
        }
      ]
    },
    {
      "cell_type": "code",
      "metadata": {
        "id": "mW_9tnnU6qQz",
        "colab_type": "code",
        "colab": {}
      },
      "source": [
        "data_train_dummy = pd.get_dummies(data = train1_x.select_dtypes(exclude=['int64','float64']),columns=train1_x.select_dtypes(exclude=['int64','float64']).columns,dummy_na=False)"
      ],
      "execution_count": 0,
      "outputs": []
    },
    {
      "cell_type": "code",
      "metadata": {
        "id": "9pfRDkjE-Q0K",
        "colab_type": "code",
        "colab": {}
      },
      "source": [
        "train1_x = train1_x.drop(columns=train1_x.select_dtypes(exclude=['int64','float64']),axis=1)"
      ],
      "execution_count": 0,
      "outputs": []
    },
    {
      "cell_type": "code",
      "metadata": {
        "id": "8csLH3rj-zMG",
        "colab_type": "code",
        "colab": {}
      },
      "source": [
        "train1_x_dummy = pd.concat([train1_x,data_train_dummy],axis=1)"
      ],
      "execution_count": 0,
      "outputs": []
    },
    {
      "cell_type": "code",
      "metadata": {
        "id": "wjyTJcA6_0o6",
        "colab_type": "code",
        "outputId": "8a76e503-fc25-44d7-ff49-79f8029900f2",
        "colab": {
          "base_uri": "https://localhost:8080/",
          "height": 34
        }
      },
      "source": [
        "# Print Shape of model data\n",
        "train1_x_dummy.shape"
      ],
      "execution_count": 103,
      "outputs": [
        {
          "output_type": "execute_result",
          "data": {
            "text/plain": [
              "(500, 61)"
            ]
          },
          "metadata": {
            "tags": []
          },
          "execution_count": 103
        }
      ]
    },
    {
      "cell_type": "markdown",
      "metadata": {
        "id": "ytl4nlUW_0pA",
        "colab_type": "text"
      },
      "source": [
        "### Check for highly correlated variables but don't required any treatment for this use case"
      ]
    },
    {
      "cell_type": "code",
      "metadata": {
        "id": "zYwwXSZzHgFS",
        "colab_type": "code",
        "colab": {}
      },
      "source": [
        "# Create correlation matrix\n",
        "corr_matrix = train1_x_dummy.corr().abs()"
      ],
      "execution_count": 0,
      "outputs": []
    },
    {
      "cell_type": "code",
      "metadata": {
        "id": "qony9E6qH_TP",
        "colab_type": "code",
        "colab": {}
      },
      "source": [
        "# Select upper triangle of correlation matrix\n",
        "upper = corr_matrix.where(np.triu(np.ones(corr_matrix.shape), k=1).astype(np.bool))\n"
      ],
      "execution_count": 0,
      "outputs": []
    },
    {
      "cell_type": "code",
      "metadata": {
        "id": "WUKDDRDLJLDr",
        "colab_type": "code",
        "colab": {}
      },
      "source": [
        "upper = upper.replace(np.NaN,0)\n"
      ],
      "execution_count": 0,
      "outputs": []
    },
    {
      "cell_type": "code",
      "metadata": {
        "id": "B7vpdd7kxKzN",
        "colab_type": "code",
        "colab": {
          "base_uri": "https://localhost:8080/",
          "height": 1000
        },
        "outputId": "8c462e2c-90d5-4a2b-a6c1-b8aa1033b248"
      },
      "source": [
        "\n",
        "idx = upper.index\n",
        "j=0\n",
        "for j in range(len(idx)):\n",
        "  print('column {0} has maximum correlation  as:-  {1}'.format(idx[j],upper.loc[idx[j],:].max(axis=0)))\n",
        "  j=j+1\n",
        "        "
      ],
      "execution_count": 110,
      "outputs": [
        {
          "output_type": "stream",
          "text": [
            "column duration_in_month has maximum correlation  as:-  0.622181186027373\n",
            "column credit_amount has maximum correlation  as:-  0.34852378165897596\n",
            "column installment_as_income_perc has maximum correlation  as:-  0.13887150105767057\n",
            "column present_res_since has maximum correlation  as:-  0.32964299966571525\n",
            "column age has maximum correlation  as:-  0.3783439938938545\n",
            "column credits_this_bank has maximum correlation  as:-  0.5687623595595502\n",
            "column people_under_maintenance has maximum correlation  as:-  0.2624532809349178\n",
            "column account_check_status_0 <= ... < 200 DM has maximum correlation  as:-  0.4965635331614244\n",
            "column account_check_status_< 0 DM has maximum correlation  as:-  0.5041266174373685\n",
            "column account_check_status_>= 200 DM / salary assignments for at least 1 year has maximum correlation  as:-  0.19507682662870884\n",
            "column account_check_status_no checking account has maximum correlation  as:-  0.14888750009563992\n",
            "column credit_history_all credits at this bank paid back duly has maximum correlation  as:-  0.3301260876830556\n",
            "column credit_history_critical account/ other credits existing (not at this bank) has maximum correlation  as:-  0.6885706890439395\n",
            "column credit_history_delay in paying off in the past has maximum correlation  as:-  0.3173763720786328\n",
            "column credit_history_existing credits paid back duly till now has maximum correlation  as:-  0.19922319519327397\n",
            "column credit_history_no credits taken/ all credits paid back duly has maximum correlation  as:-  0.1664654030030345\n",
            "column purpose_(vacation - does not exist?) has maximum correlation  as:-  0.23619550272307194\n",
            "column purpose_business has maximum correlation  as:-  0.19390661111975313\n",
            "column purpose_car (new) has maximum correlation  as:-  0.3327256883760168\n",
            "column purpose_car (used) has maximum correlation  as:-  0.2050951796058311\n",
            "column purpose_domestic appliances has maximum correlation  as:-  0.29534262626309965\n",
            "column purpose_education has maximum correlation  as:-  0.09724039675184004\n",
            "column purpose_furniture/equipment has maximum correlation  as:-  0.20397372238119896\n",
            "column purpose_radio/television has maximum correlation  as:-  0.1736941483862822\n",
            "column purpose_repairs has maximum correlation  as:-  0.08247860988423285\n",
            "column purpose_retraining has maximum correlation  as:-  0.14135756339827193\n",
            "column savings_.. >= 1000 DM  has maximum correlation  as:-  0.26959544554879294\n",
            "column savings_... < 100 DM has maximum correlation  as:-  0.6022245118511512\n",
            "column savings_100 <= ... < 500 DM has maximum correlation  as:-  0.16891913380813292\n",
            "column savings_500 <= ... < 1000 DM  has maximum correlation  as:-  0.134005042034562\n",
            "column savings_unknown/ no savings account has maximum correlation  as:-  0.1365577483997831\n",
            "column present_emp_since_.. >= 7 years has maximum correlation  as:-  0.4143877070053724\n",
            "column present_emp_since_... < 1 year  has maximum correlation  as:-  0.32252283488301764\n",
            "column present_emp_since_1 <= ... < 4 years has maximum correlation  as:-  0.3317112636910991\n",
            "column present_emp_since_4 <= ... < 7 years has maximum correlation  as:-  0.12285455345551656\n",
            "column present_emp_since_unemployed has maximum correlation  as:-  0.3994635145555295\n",
            "column personal_status_sex_female : divorced/separated/married has maximum correlation  as:-  0.7496870227587253\n",
            "column personal_status_sex_male : divorced/separated has maximum correlation  as:-  0.23887551300965448\n",
            "column personal_status_sex_male : married/widowed has maximum correlation  as:-  0.342111334327142\n",
            "column personal_status_sex_male : single has maximum correlation  as:-  0.22756858549907805\n",
            "column other_debtors_co-applicant has maximum correlation  as:-  0.6003928569643409\n",
            "column other_debtors_guarantor has maximum correlation  as:-  0.7767734302018319\n",
            "column other_debtors_none has maximum correlation  as:-  0.12021555480098399\n",
            "column property_if not A121 : building society savings agreement/ life insurance has maximum correlation  as:-  0.3909749938079558\n",
            "column property_if not A121/A122 : car or other, not in attribute 6 has maximum correlation  as:-  0.43701120259994314\n",
            "column property_real estate has maximum correlation  as:-  0.26612119735172995\n",
            "column property_unknown / no property has maximum correlation  as:-  0.7763020335402712\n",
            "column other_installment_plans_bank has maximum correlation  as:-  0.8508169931438471\n",
            "column other_installment_plans_none has maximum correlation  as:-  0.44473848998817334\n",
            "column other_installment_plans_stores has maximum correlation  as:-  0.09979074566440199\n",
            "column housing_for free has maximum correlation  as:-  0.5558584986081935\n",
            "column housing_own has maximum correlation  as:-  0.7260357596843713\n",
            "column housing_rent has maximum correlation  as:-  0.07732607895584791\n",
            "column job_management/ self-employed/ highly qualified employee/ officer has maximum correlation  as:-  0.49402997630234763\n",
            "column job_skilled employee / official has maximum correlation  as:-  0.6902767262213674\n",
            "column job_unemployed/ unskilled - non-resident has maximum correlation  as:-  0.08243379529464973\n",
            "column job_unskilled - resident has maximum correlation  as:-  0.2508667354680228\n",
            "column telephone_none has maximum correlation  as:-  1.0\n",
            "column telephone_yes, registered under the customers name  has maximum correlation  as:-  0.10341401910456624\n",
            "column foreign_worker_no has maximum correlation  as:-  1.0\n",
            "column foreign_worker_yes has maximum correlation  as:-  0.0\n"
          ],
          "name": "stdout"
        }
      ]
    },
    {
      "cell_type": "code",
      "metadata": {
        "id": "BydR1uALAt06",
        "colab_type": "code",
        "colab": {}
      },
      "source": [
        ""
      ],
      "execution_count": 0,
      "outputs": []
    },
    {
      "cell_type": "markdown",
      "metadata": {
        "id": "jeI1_7is_0pG",
        "colab_type": "text"
      },
      "source": [
        "### Drop the original variables which are converted to dummy"
      ]
    },
    {
      "cell_type": "code",
      "metadata": {
        "id": "1bbhq2F4_6Wc",
        "colab_type": "code",
        "colab": {
          "base_uri": "https://localhost:8080/",
          "height": 34
        },
        "outputId": "3920a410-0fb9-4d79-a9d3-673e2198d27d"
      },
      "source": [
        "train1_x_dummy = train1_x_dummy.drop(columns=data_train.select_dtypes(include='object').columns,axis=1)\n",
        "train1_x_dummy.shape"
      ],
      "execution_count": 111,
      "outputs": [
        {
          "output_type": "execute_result",
          "data": {
            "text/plain": [
              "(500, 61)"
            ]
          },
          "metadata": {
            "tags": []
          },
          "execution_count": 111
        }
      ]
    },
    {
      "cell_type": "markdown",
      "metadata": {
        "id": "XLtFcI1m_0pQ",
        "colab_type": "text"
      },
      "source": [
        "### Q3 Split Train/Test data 70:30 ratio( 1 Marks)\n",
        "##### Hint:from sklearn.model_selection import train_test_split"
      ]
    },
    {
      "cell_type": "code",
      "metadata": {
        "id": "pHxXKL92_0pS",
        "colab_type": "code",
        "colab": {}
      },
      "source": [
        "X2=np.array(train1_x_dummy)\n",
        "Y2=np.array(train1_y)\n",
        "\n",
        "train2_x, test2_x, train2_y, test2_y = train_test_split(X2, Y2, test_size=0.3,random_state = 2)"
      ],
      "execution_count": 0,
      "outputs": []
    },
    {
      "cell_type": "markdown",
      "metadata": {
        "id": "wWTpd4Ng_0pW",
        "colab_type": "text"
      },
      "source": [
        "### Q4 Build Random Forest Model( 1 Marks)\n",
        "#### Hint:from sklearn.ensemble import RandomForestClassifier using n_jobs=2,n_estimators=500,criterion=\"entropy\",random_state=9999"
      ]
    },
    {
      "cell_type": "code",
      "metadata": {
        "id": "AHX5tgQm_0pY",
        "colab_type": "code",
        "colab": {}
      },
      "source": [
        "#Import Random Forest Model\n",
        "\n",
        "from sklearn.ensemble import RandomForestClassifier\n",
        "\n",
        "#Create a Gaussian Classifier\n",
        "clf=RandomForestClassifier(n_estimators=500, n_jobs=2,criterion=\"entropy\",random_state=9999)"
      ],
      "execution_count": 0,
      "outputs": []
    },
    {
      "cell_type": "code",
      "metadata": {
        "id": "YxLhKad2MI7d",
        "colab_type": "code",
        "colab": {
          "base_uri": "https://localhost:8080/",
          "height": 141
        },
        "outputId": "c1a2e64f-74a5-4df3-a845-44e9aabe1c1e"
      },
      "source": [
        "#Train the model using the training sets y_pred=clf.predict(X_test)\n",
        "clf.fit(train2_x,train2_y)\n"
      ],
      "execution_count": 115,
      "outputs": [
        {
          "output_type": "execute_result",
          "data": {
            "text/plain": [
              "RandomForestClassifier(bootstrap=True, class_weight=None, criterion='entropy',\n",
              "                       max_depth=None, max_features='auto', max_leaf_nodes=None,\n",
              "                       min_impurity_decrease=0.0, min_impurity_split=None,\n",
              "                       min_samples_leaf=1, min_samples_split=2,\n",
              "                       min_weight_fraction_leaf=0.0, n_estimators=500, n_jobs=2,\n",
              "                       oob_score=False, random_state=9999, verbose=0,\n",
              "                       warm_start=False)"
            ]
          },
          "metadata": {
            "tags": []
          },
          "execution_count": 115
        }
      ]
    },
    {
      "cell_type": "code",
      "metadata": {
        "id": "JcAKqboGMI37",
        "colab_type": "code",
        "colab": {}
      },
      "source": [
        "\n",
        "y2_pred=clf.predict(test2_x)"
      ],
      "execution_count": 0,
      "outputs": []
    },
    {
      "cell_type": "code",
      "metadata": {
        "id": "NtcHeI1RMIzb",
        "colab_type": "code",
        "colab": {}
      },
      "source": [
        ""
      ],
      "execution_count": 0,
      "outputs": []
    },
    {
      "cell_type": "markdown",
      "metadata": {
        "id": "LuQwgG7T_0pa",
        "colab_type": "text"
      },
      "source": [
        "### Q5 Calculate Confusion Matrix and Accuracy score (1 Marks)\n",
        "##### Hint: Use confusion_matrix and accuracy_score"
      ]
    },
    {
      "cell_type": "code",
      "metadata": {
        "id": "YgczdMEB_0pc",
        "colab_type": "code",
        "colab": {
          "base_uri": "https://localhost:8080/",
          "height": 87
        },
        "outputId": "78bfdd44-cd2b-488d-e7c9-c3a37232eb79"
      },
      "source": [
        "#Import scikit-learn metrics module for accuracy calculation\n",
        "from sklearn import metrics\n",
        "# Model Accuracy, how often is the classifier correct?\n",
        "print(\"Accuracy:=\",metrics.accuracy_score(test2_y, y2_pred),\"\\nConfustion matrix \\n\",metrics.confusion_matrix(test2_y, y2_pred))"
      ],
      "execution_count": 117,
      "outputs": [
        {
          "output_type": "stream",
          "text": [
            "Accuracy:= 0.7533333333333333 \n",
            "Confustion matrix \n",
            " [[98  8]\n",
            " [29 15]]\n"
          ],
          "name": "stdout"
        }
      ]
    },
    {
      "cell_type": "markdown",
      "metadata": {
        "id": "x2wDGYcC_0pf",
        "colab_type": "text"
      },
      "source": [
        "### Q6 Show the list of the features importance( 1 Marks)"
      ]
    },
    {
      "cell_type": "code",
      "metadata": {
        "id": "bEWKBXX8_0ph",
        "colab_type": "code",
        "colab": {
          "base_uri": "https://localhost:8080/",
          "height": 1000
        },
        "outputId": "f0fdaf8d-e050-4d68-f4f2-235da42c45d6"
      },
      "source": [
        "import pandas as pd\n",
        "feature_imp = pd.Series(clf.feature_importances_,index=train1_x_dummy.columns).sort_values(ascending=False)\n",
        "feature_imp"
      ],
      "execution_count": 118,
      "outputs": [
        {
          "output_type": "execute_result",
          "data": {
            "text/plain": [
              "credit_amount                                                                 0.095409\n",
              "age                                                                           0.081529\n",
              "duration_in_month                                                             0.074386\n",
              "account_check_status_no checking account                                      0.052029\n",
              "installment_as_income_perc                                                    0.034075\n",
              "present_res_since                                                             0.033489\n",
              "account_check_status_< 0 DM                                                   0.030297\n",
              "savings_... < 100 DM                                                          0.026184\n",
              "account_check_status_0 <= ... < 200 DM                                        0.020462\n",
              "credits_this_bank                                                             0.019984\n",
              "purpose_car (new)                                                             0.019087\n",
              "job_management/ self-employed/ highly qualified employee/ officer             0.018101\n",
              "property_real estate                                                          0.018066\n",
              "personal_status_sex_female : divorced/separated/married                       0.018008\n",
              "credit_history_critical account/ other credits existing (not at this bank)    0.017369\n",
              "credit_history_existing credits paid back duly till now                       0.016792\n",
              "personal_status_sex_male : single                                             0.016443\n",
              "savings_unknown/ no savings account                                           0.016346\n",
              "property_if not A121/A122 : car or other, not in attribute 6                  0.015782\n",
              "other_installment_plans_none                                                  0.015530\n",
              "job_skilled employee / official                                               0.015294\n",
              "present_emp_since_1 <= ... < 4 years                                          0.015097\n",
              "telephone_none                                                                0.014602\n",
              "purpose_domestic appliances                                                   0.014507\n",
              "other_installment_plans_bank                                                  0.013953\n",
              "telephone_yes, registered under the customers name                            0.013543\n",
              "housing_own                                                                   0.013482\n",
              "property_unknown / no property                                                0.013357\n",
              "purpose_radio/television                                                      0.013323\n",
              "property_if not A121 : building society savings agreement/ life insurance     0.012874\n",
              "                                                                                ...   \n",
              "present_emp_since_... < 1 year                                                0.012432\n",
              "present_emp_since_4 <= ... < 7 years                                          0.012109\n",
              "purpose_car (used)                                                            0.011739\n",
              "job_unskilled - resident                                                      0.010743\n",
              "present_emp_since_unemployed                                                  0.010666\n",
              "housing_rent                                                                  0.010523\n",
              "people_under_maintenance                                                      0.009510\n",
              "purpose_(vacation - does not exist?)                                          0.009376\n",
              "purpose_business                                                              0.008888\n",
              "savings_100 <= ... < 500 DM                                                   0.008438\n",
              "credit_history_delay in paying off in the past                                0.007954\n",
              "personal_status_sex_male : married/widowed                                    0.007781\n",
              "other_installment_plans_stores                                                0.007617\n",
              "housing_for free                                                              0.007412\n",
              "credit_history_all credits at this bank paid back duly                        0.007301\n",
              "purpose_education                                                             0.007189\n",
              "savings_500 <= ... < 1000 DM                                                  0.006930\n",
              "account_check_status_>= 200 DM / salary assignments for at least 1 year       0.006925\n",
              "other_debtors_none                                                            0.006208\n",
              "savings_.. >= 1000 DM                                                         0.005187\n",
              "credit_history_no credits taken/ all credits paid back duly                   0.005111\n",
              "other_debtors_guarantor                                                       0.005001\n",
              "personal_status_sex_male : divorced/separated                                 0.004888\n",
              "other_debtors_co-applicant                                                    0.004381\n",
              "purpose_repairs                                                               0.003001\n",
              "foreign_worker_no                                                             0.002848\n",
              "purpose_furniture/equipment                                                   0.002697\n",
              "foreign_worker_yes                                                            0.002408\n",
              "job_unemployed/ unskilled - non-resident                                      0.002282\n",
              "purpose_retraining                                                            0.000512\n",
              "Length: 61, dtype: float64"
            ]
          },
          "metadata": {
            "tags": []
          },
          "execution_count": 118
        }
      ]
    },
    {
      "cell_type": "markdown",
      "metadata": {
        "id": "U7VnUE71_0pk",
        "colab_type": "text"
      },
      "source": [
        "### Q7 K-fold cross-validation( 2 Marks)\n",
        "##### k-fold cross validation( without stratification)\n",
        "##### Usually k is set as 10-20 in practical settings, depends on data set size"
      ]
    },
    {
      "cell_type": "code",
      "metadata": {
        "id": "alow-p8JtLo3",
        "colab_type": "code",
        "colab": {
          "base_uri": "https://localhost:8080/",
          "height": 214
        },
        "outputId": "9c3b4974-8c1f-46c9-f8b1-f93147107922"
      },
      "source": [
        "train1_x_dummy.head(1)"
      ],
      "execution_count": 126,
      "outputs": [
        {
          "output_type": "execute_result",
          "data": {
            "text/html": [
              "<div>\n",
              "<style scoped>\n",
              "    .dataframe tbody tr th:only-of-type {\n",
              "        vertical-align: middle;\n",
              "    }\n",
              "\n",
              "    .dataframe tbody tr th {\n",
              "        vertical-align: top;\n",
              "    }\n",
              "\n",
              "    .dataframe thead th {\n",
              "        text-align: right;\n",
              "    }\n",
              "</style>\n",
              "<table border=\"1\" class=\"dataframe\">\n",
              "  <thead>\n",
              "    <tr style=\"text-align: right;\">\n",
              "      <th></th>\n",
              "      <th>duration_in_month</th>\n",
              "      <th>credit_amount</th>\n",
              "      <th>installment_as_income_perc</th>\n",
              "      <th>present_res_since</th>\n",
              "      <th>age</th>\n",
              "      <th>credits_this_bank</th>\n",
              "      <th>people_under_maintenance</th>\n",
              "      <th>account_check_status_0 &lt;= ... &lt; 200 DM</th>\n",
              "      <th>account_check_status_&lt; 0 DM</th>\n",
              "      <th>account_check_status_&gt;= 200 DM / salary assignments for at least 1 year</th>\n",
              "      <th>account_check_status_no checking account</th>\n",
              "      <th>credit_history_all credits at this bank paid back duly</th>\n",
              "      <th>credit_history_critical account/ other credits existing (not at this bank)</th>\n",
              "      <th>credit_history_delay in paying off in the past</th>\n",
              "      <th>credit_history_existing credits paid back duly till now</th>\n",
              "      <th>credit_history_no credits taken/ all credits paid back duly</th>\n",
              "      <th>purpose_(vacation - does not exist?)</th>\n",
              "      <th>purpose_business</th>\n",
              "      <th>purpose_car (new)</th>\n",
              "      <th>purpose_car (used)</th>\n",
              "      <th>purpose_domestic appliances</th>\n",
              "      <th>purpose_education</th>\n",
              "      <th>purpose_furniture/equipment</th>\n",
              "      <th>purpose_radio/television</th>\n",
              "      <th>purpose_repairs</th>\n",
              "      <th>purpose_retraining</th>\n",
              "      <th>savings_.. &gt;= 1000 DM</th>\n",
              "      <th>savings_... &lt; 100 DM</th>\n",
              "      <th>savings_100 &lt;= ... &lt; 500 DM</th>\n",
              "      <th>savings_500 &lt;= ... &lt; 1000 DM</th>\n",
              "      <th>savings_unknown/ no savings account</th>\n",
              "      <th>present_emp_since_.. &gt;= 7 years</th>\n",
              "      <th>present_emp_since_... &lt; 1 year</th>\n",
              "      <th>present_emp_since_1 &lt;= ... &lt; 4 years</th>\n",
              "      <th>present_emp_since_4 &lt;= ... &lt; 7 years</th>\n",
              "      <th>present_emp_since_unemployed</th>\n",
              "      <th>personal_status_sex_female : divorced/separated/married</th>\n",
              "      <th>personal_status_sex_male : divorced/separated</th>\n",
              "      <th>personal_status_sex_male : married/widowed</th>\n",
              "      <th>personal_status_sex_male : single</th>\n",
              "      <th>other_debtors_co-applicant</th>\n",
              "      <th>other_debtors_guarantor</th>\n",
              "      <th>other_debtors_none</th>\n",
              "      <th>property_if not A121 : building society savings agreement/ life insurance</th>\n",
              "      <th>property_if not A121/A122 : car or other, not in attribute 6</th>\n",
              "      <th>property_real estate</th>\n",
              "      <th>property_unknown / no property</th>\n",
              "      <th>other_installment_plans_bank</th>\n",
              "      <th>other_installment_plans_none</th>\n",
              "      <th>other_installment_plans_stores</th>\n",
              "      <th>housing_for free</th>\n",
              "      <th>housing_own</th>\n",
              "      <th>housing_rent</th>\n",
              "      <th>job_management/ self-employed/ highly qualified employee/ officer</th>\n",
              "      <th>job_skilled employee / official</th>\n",
              "      <th>job_unemployed/ unskilled - non-resident</th>\n",
              "      <th>job_unskilled - resident</th>\n",
              "      <th>telephone_none</th>\n",
              "      <th>telephone_yes, registered under the customers name</th>\n",
              "      <th>foreign_worker_no</th>\n",
              "      <th>foreign_worker_yes</th>\n",
              "    </tr>\n",
              "  </thead>\n",
              "  <tbody>\n",
              "    <tr>\n",
              "      <th>281</th>\n",
              "      <td>12</td>\n",
              "      <td>1574</td>\n",
              "      <td>4</td>\n",
              "      <td>2</td>\n",
              "      <td>50</td>\n",
              "      <td>1</td>\n",
              "      <td>1</td>\n",
              "      <td>0</td>\n",
              "      <td>0</td>\n",
              "      <td>0</td>\n",
              "      <td>1</td>\n",
              "      <td>0</td>\n",
              "      <td>0</td>\n",
              "      <td>0</td>\n",
              "      <td>1</td>\n",
              "      <td>0</td>\n",
              "      <td>0</td>\n",
              "      <td>0</td>\n",
              "      <td>0</td>\n",
              "      <td>0</td>\n",
              "      <td>0</td>\n",
              "      <td>0</td>\n",
              "      <td>0</td>\n",
              "      <td>1</td>\n",
              "      <td>0</td>\n",
              "      <td>0</td>\n",
              "      <td>0</td>\n",
              "      <td>1</td>\n",
              "      <td>0</td>\n",
              "      <td>0</td>\n",
              "      <td>0</td>\n",
              "      <td>0</td>\n",
              "      <td>0</td>\n",
              "      <td>1</td>\n",
              "      <td>0</td>\n",
              "      <td>0</td>\n",
              "      <td>0</td>\n",
              "      <td>0</td>\n",
              "      <td>0</td>\n",
              "      <td>1</td>\n",
              "      <td>0</td>\n",
              "      <td>0</td>\n",
              "      <td>1</td>\n",
              "      <td>0</td>\n",
              "      <td>0</td>\n",
              "      <td>1</td>\n",
              "      <td>0</td>\n",
              "      <td>0</td>\n",
              "      <td>1</td>\n",
              "      <td>0</td>\n",
              "      <td>0</td>\n",
              "      <td>1</td>\n",
              "      <td>0</td>\n",
              "      <td>0</td>\n",
              "      <td>1</td>\n",
              "      <td>0</td>\n",
              "      <td>0</td>\n",
              "      <td>1</td>\n",
              "      <td>0</td>\n",
              "      <td>0</td>\n",
              "      <td>1</td>\n",
              "    </tr>\n",
              "  </tbody>\n",
              "</table>\n",
              "</div>"
            ],
            "text/plain": [
              "     duration_in_month  credit_amount  ...  foreign_worker_no  foreign_worker_yes\n",
              "281                 12           1574  ...                  0                   1\n",
              "\n",
              "[1 rows x 61 columns]"
            ]
          },
          "metadata": {
            "tags": []
          },
          "execution_count": 126
        }
      ]
    },
    {
      "cell_type": "code",
      "metadata": {
        "id": "K_psw7zb5FQl",
        "colab_type": "code",
        "colab": {}
      },
      "source": [
        "X3=np.array(train1_x_dummy)\n",
        "Y3=np.array(train1_y)"
      ],
      "execution_count": 0,
      "outputs": []
    },
    {
      "cell_type": "code",
      "metadata": {
        "id": "Pf6rIo-c_0pm",
        "colab_type": "code",
        "colab": {}
      },
      "source": [
        "##from sklearn.model_selection import KFold\n",
        "##from sklearn.model_selection import cross_val_score"
      ],
      "execution_count": 0,
      "outputs": []
    },
    {
      "cell_type": "code",
      "metadata": {
        "id": "uOA_7mk87nw6",
        "colab_type": "code",
        "colab": {}
      },
      "source": [
        "from sklearn.model_selection import  KFold ,LeaveOneOut\n",
        "\n",
        "from sklearn.model_selection import cross_val_score"
      ],
      "execution_count": 0,
      "outputs": []
    },
    {
      "cell_type": "code",
      "metadata": {
        "id": "d1fx_vy12z8E",
        "colab_type": "code",
        "colab": {}
      },
      "source": [
        "\n",
        "kfold = KFold(n_splits=10, random_state=77, shuffle=False)\n"
      ],
      "execution_count": 0,
      "outputs": []
    },
    {
      "cell_type": "code",
      "metadata": {
        "id": "Fp-sZivJhlbc",
        "colab_type": "code",
        "colab": {}
      },
      "source": [
        "\n",
        "for train_index, test_index in kfold.split(X3):\n",
        "\n",
        "    X_train, X_test = X3[train_index], X3[test_index]\n",
        "\n",
        "    y_train, y_test = Y3[train_index], Y3[test_index]\n",
        "  "
      ],
      "execution_count": 0,
      "outputs": []
    },
    {
      "cell_type": "code",
      "metadata": {
        "id": "lDyCh_OG_0pt",
        "colab_type": "code",
        "colab": {}
      },
      "source": [
        "#Validate the Random Forest model build above using k fold"
      ],
      "execution_count": 0,
      "outputs": []
    },
    {
      "cell_type": "code",
      "metadata": {
        "id": "fvxAgXik_0p0",
        "colab_type": "code",
        "colab": {}
      },
      "source": [
        "#Import Random Forest Model\n",
        "\n",
        "from sklearn.ensemble import RandomForestClassifier"
      ],
      "execution_count": 0,
      "outputs": []
    },
    {
      "cell_type": "code",
      "metadata": {
        "id": "wySj-J296S4g",
        "colab_type": "code",
        "colab": {}
      },
      "source": [
        "#Create a Gaussian Classifier\n",
        "clf_k=RandomForestClassifier(n_estimators=500, n_jobs=2,criterion=\"entropy\",random_state=9999)"
      ],
      "execution_count": 0,
      "outputs": []
    },
    {
      "cell_type": "code",
      "metadata": {
        "id": "6r8p73dT_0p6",
        "colab_type": "code",
        "colab": {}
      },
      "source": [
        "#Calculate Mean score"
      ],
      "execution_count": 0,
      "outputs": []
    },
    {
      "cell_type": "code",
      "metadata": {
        "id": "iJal5EoU9oz6",
        "colab_type": "code",
        "colab": {}
      },
      "source": [
        "results = cross_val_score(clf_k, X3, Y3, cv=kfold)"
      ],
      "execution_count": 0,
      "outputs": []
    },
    {
      "cell_type": "code",
      "metadata": {
        "id": "Rr132f7H_0qD",
        "colab_type": "code",
        "colab": {}
      },
      "source": [
        "# Calculate score standard deviation using std()"
      ],
      "execution_count": 0,
      "outputs": []
    },
    {
      "cell_type": "code",
      "metadata": {
        "id": "0R0bo3LhjGix",
        "colab_type": "code",
        "colab": {
          "base_uri": "https://localhost:8080/",
          "height": 52
        },
        "outputId": "ee42e4b9-8d8e-4e0c-d1ef-fbbbc1a9ecbe"
      },
      "source": [
        "print(results)\n",
        "print(\"Accuracy: %.3f%% (%.3f%%)\" % (results.mean()*100.0, results.std()*100.0))"
      ],
      "execution_count": 137,
      "outputs": [
        {
          "output_type": "stream",
          "text": [
            "[0.96 0.78 0.72 0.8  0.74 0.76 0.82 0.88 0.72 0.8 ]\n",
            "Accuracy: 79.800% (7.125%)\n"
          ],
          "name": "stdout"
        }
      ]
    },
    {
      "cell_type": "code",
      "metadata": {
        "id": "AL1vnu0etpKx",
        "colab_type": "code",
        "colab": {}
      },
      "source": [
        "LOO = LeaveOneOut()"
      ],
      "execution_count": 0,
      "outputs": []
    },
    {
      "cell_type": "code",
      "metadata": {
        "id": "GNaf7VoHtoyP",
        "colab_type": "code",
        "colab": {}
      },
      "source": [
        "results = cross_val_score(clf_k, X3, Y3, cv=LOO)"
      ],
      "execution_count": 0,
      "outputs": []
    },
    {
      "cell_type": "code",
      "metadata": {
        "id": "iqSPBy0zt1Ut",
        "colab_type": "code",
        "colab": {
          "base_uri": "https://localhost:8080/",
          "height": 407
        },
        "outputId": "ccaefef9-7193-4546-8a5c-ef2ac108a81a"
      },
      "source": [
        "print(results)\n",
        "print(\"Accuracy: %.3f%% (%.3f%%)\" % (results.mean()*100.0, results.std()*100.0))"
      ],
      "execution_count": 143,
      "outputs": [
        {
          "output_type": "stream",
          "text": [
            "[1. 1. 1. 1. 1. 1. 1. 1. 1. 1. 1. 1. 1. 1. 1. 1. 1. 1. 1. 1. 1. 1. 1. 1.\n",
            " 1. 1. 1. 1. 1. 1. 1. 1. 1. 0. 1. 1. 1. 1. 0. 1. 1. 0. 1. 1. 1. 1. 1. 1.\n",
            " 1. 1. 1. 1. 1. 1. 1. 1. 0. 0. 1. 1. 0. 1. 0. 1. 1. 1. 0. 1. 1. 1. 0. 1.\n",
            " 0. 1. 1. 1. 0. 0. 1. 1. 1. 1. 1. 1. 0. 1. 1. 1. 0. 0. 1. 1. 1. 0. 1. 1.\n",
            " 1. 1. 1. 0. 1. 1. 0. 0. 1. 1. 1. 1. 0. 1. 0. 1. 1. 1. 1. 1. 1. 1. 1. 1.\n",
            " 0. 1. 1. 1. 0. 0. 1. 1. 1. 0. 1. 1. 1. 1. 1. 0. 0. 0. 1. 1. 0. 1. 1. 0.\n",
            " 0. 1. 0. 1. 1. 1. 1. 1. 1. 0. 1. 1. 1. 1. 1. 1. 1. 0. 1. 1. 0. 1. 1. 1.\n",
            " 1. 1. 0. 1. 1. 1. 1. 0. 1. 1. 0. 1. 0. 1. 0. 1. 1. 1. 1. 1. 1. 1. 1. 0.\n",
            " 1. 1. 1. 1. 0. 1. 0. 1. 0. 1. 1. 1. 0. 1. 1. 1. 1. 1. 0. 0. 1. 1. 1. 0.\n",
            " 0. 1. 0. 1. 1. 1. 0. 1. 1. 1. 1. 1. 1. 1. 0. 1. 0. 1. 1. 1. 1. 0. 1. 1.\n",
            " 1. 0. 1. 0. 1. 1. 1. 1. 1. 1. 1. 1. 1. 1. 1. 1. 1. 1. 0. 0. 1. 1. 1. 1.\n",
            " 0. 0. 0. 1. 1. 0. 0. 1. 1. 1. 1. 1. 1. 1. 1. 0. 1. 1. 0. 1. 0. 1. 1. 1.\n",
            " 1. 1. 1. 1. 0. 1. 1. 1. 1. 1. 1. 1. 1. 1. 1. 1. 1. 1. 0. 1. 1. 0. 1. 1.\n",
            " 1. 1. 1. 1. 1. 1. 1. 1. 1. 1. 1. 1. 0. 0. 1. 1. 1. 1. 1. 1. 1. 1. 0. 1.\n",
            " 1. 1. 1. 1. 1. 0. 0. 1. 0. 0. 1. 0. 1. 1. 1. 1. 1. 1. 1. 1. 1. 1. 1. 1.\n",
            " 1. 1. 1. 0. 1. 0. 1. 1. 1. 1. 1. 1. 1. 1. 1. 0. 0. 1. 1. 1. 1. 1. 1. 0.\n",
            " 1. 0. 1. 1. 1. 1. 0. 1. 0. 1. 1. 1. 1. 1. 1. 1. 0. 0. 1. 1. 1. 1. 1. 1.\n",
            " 1. 1. 0. 1. 0. 0. 1. 1. 1. 1. 0. 1. 1. 1. 0. 1. 1. 1. 1. 0. 1. 1. 1. 0.\n",
            " 1. 0. 0. 1. 1. 1. 1. 1. 1. 1. 1. 1. 0. 1. 1. 0. 1. 1. 1. 1. 1. 1. 1. 1.\n",
            " 1. 0. 1. 0. 1. 1. 1. 1. 1. 1. 0. 0. 1. 1. 1. 1. 1. 1. 1. 0. 1. 1. 1. 0.\n",
            " 1. 1. 1. 1. 1. 1. 1. 1. 1. 0. 1. 1. 1. 0. 1. 1. 1. 1. 1. 1.]\n",
            "Accuracy: 78.800% (40.872%)\n"
          ],
          "name": "stdout"
        }
      ]
    },
    {
      "cell_type": "markdown",
      "metadata": {
        "id": "kB0x5yLs_0qM",
        "colab_type": "text"
      },
      "source": [
        "# Q8 Print the confusion matrix( 1 Marks)"
      ]
    },
    {
      "cell_type": "code",
      "metadata": {
        "id": "CYnNleSRnGmH",
        "colab_type": "code",
        "colab": {
          "base_uri": "https://localhost:8080/",
          "height": 141
        },
        "outputId": "071403cd-6f21-41a9-97f7-eb6f5817b01a"
      },
      "source": [
        "clf_k.fit(X3[train_index], Y3[train_index])\n"
      ],
      "execution_count": 147,
      "outputs": [
        {
          "output_type": "execute_result",
          "data": {
            "text/plain": [
              "RandomForestClassifier(bootstrap=True, class_weight=None, criterion='entropy',\n",
              "                       max_depth=None, max_features='auto', max_leaf_nodes=None,\n",
              "                       min_impurity_decrease=0.0, min_impurity_split=None,\n",
              "                       min_samples_leaf=1, min_samples_split=2,\n",
              "                       min_weight_fraction_leaf=0.0, n_estimators=500, n_jobs=2,\n",
              "                       oob_score=False, random_state=9999, verbose=0,\n",
              "                       warm_start=False)"
            ]
          },
          "metadata": {
            "tags": []
          },
          "execution_count": 147
        }
      ]
    },
    {
      "cell_type": "code",
      "metadata": {
        "id": "hhayRlqDpB34",
        "colab_type": "code",
        "colab": {}
      },
      "source": [
        "from sklearn.metrics import confusion_matrix"
      ],
      "execution_count": 0,
      "outputs": []
    },
    {
      "cell_type": "code",
      "metadata": {
        "id": "_hpKpFJsooO-",
        "colab_type": "code",
        "colab": {
          "base_uri": "https://localhost:8080/",
          "height": 70
        },
        "outputId": "128792cd-faeb-4315-ddaf-80ed0404aafd"
      },
      "source": [
        "print (confusion_matrix(Y3[test_index], clf_k.predict(X3[test_index])))\n",
        "print(10* '#')"
      ],
      "execution_count": 149,
      "outputs": [
        {
          "output_type": "stream",
          "text": [
            "[[36  0]\n",
            " [10  4]]\n",
            "##########\n"
          ],
          "name": "stdout"
        }
      ]
    },
    {
      "cell_type": "code",
      "metadata": {
        "id": "JBWw3u77q63G",
        "colab_type": "code",
        "colab": {}
      },
      "source": [
        ""
      ],
      "execution_count": 0,
      "outputs": []
    },
    {
      "cell_type": "markdown",
      "metadata": {
        "id": "uMLxrkNg_0qR",
        "colab_type": "text"
      },
      "source": [
        "# Q9.Classification accuracy: \n",
        "percentage of correct predictions and Calculate sensitivity (or True Positive Rate or Recall) and Precision.\n",
        "( 1 Marks)"
      ]
    },
    {
      "cell_type": "code",
      "metadata": {
        "id": "QUG5Y_li_0qT",
        "colab_type": "code",
        "colab": {
          "base_uri": "https://localhost:8080/",
          "height": 34
        },
        "outputId": "584eacf5-4937-4da4-8655-6d9c952c4679"
      },
      "source": [
        "#Import scikit-learn metrics module for accuracy calculation\n",
        "from sklearn import metrics\n",
        "# Model Accuracy, how often is the classifier correct?\n",
        "print(\"Accuracy:=\",metrics.accuracy_score(Y3[test_index], clf_k.predict(X3[test_index])))"
      ],
      "execution_count": 151,
      "outputs": [
        {
          "output_type": "stream",
          "text": [
            "Accuracy:= 0.8\n"
          ],
          "name": "stdout"
        }
      ]
    },
    {
      "cell_type": "code",
      "metadata": {
        "id": "IS9CZaZr_0qX",
        "colab_type": "code",
        "colab": {}
      },
      "source": [
        "from sklearn.metrics import classification_report"
      ],
      "execution_count": 0,
      "outputs": []
    },
    {
      "cell_type": "code",
      "metadata": {
        "id": "ej06Cj8aFJzq",
        "colab_type": "code",
        "colab": {
          "base_uri": "https://localhost:8080/",
          "height": 176
        },
        "outputId": "f2520864-2350-456c-e40b-5e599f4ea6cd"
      },
      "source": [
        "print(classification_report(Y3[test_index], clf_k.predict(X3[test_index])))"
      ],
      "execution_count": 155,
      "outputs": [
        {
          "output_type": "stream",
          "text": [
            "              precision    recall  f1-score   support\n",
            "\n",
            "           0       0.78      1.00      0.88        36\n",
            "           1       1.00      0.29      0.44        14\n",
            "\n",
            "    accuracy                           0.80        50\n",
            "   macro avg       0.89      0.64      0.66        50\n",
            "weighted avg       0.84      0.80      0.76        50\n",
            "\n"
          ],
          "name": "stdout"
        }
      ]
    },
    {
      "cell_type": "markdown",
      "metadata": {
        "id": "IlPEO3pO_0qa",
        "colab_type": "text"
      },
      "source": [
        "# Q10.Plot Receiver Operating Characteristic (ROC) Curves( 1 Marks)"
      ]
    },
    {
      "cell_type": "code",
      "metadata": {
        "id": "YGyM8Uh4_0qb",
        "colab_type": "code",
        "colab": {}
      },
      "source": [
        "#Hint: Use roc_curve"
      ],
      "execution_count": 0,
      "outputs": []
    },
    {
      "cell_type": "code",
      "metadata": {
        "id": "ZCJ-wYLX_0qo",
        "colab_type": "code",
        "colab": {}
      },
      "source": [
        "from sklearn.metrics import roc_curve, auc"
      ],
      "execution_count": 0,
      "outputs": []
    },
    {
      "cell_type": "markdown",
      "metadata": {
        "id": "annGF0Bh_0qr",
        "colab_type": "text"
      },
      "source": [
        "ROC curve can help you to choose a threshold that balances sensitivity and specificity in a way that makes sense for your particular context"
      ]
    },
    {
      "cell_type": "code",
      "metadata": {
        "id": "qokM02cxB19b",
        "colab_type": "code",
        "colab": {
          "base_uri": "https://localhost:8080/",
          "height": 87
        },
        "outputId": "c5656583-bcee-4285-ff44-e1ccdfe9a4a0"
      },
      "source": [
        "Z = pd.DataFrame(roc_curve(Y3[test_index], clf_k.predict(X3[test_index])))\n",
        "print(Z)"
      ],
      "execution_count": 157,
      "outputs": [
        {
          "output_type": "stream",
          "text": [
            "     0         1    2\n",
            "0  0.0  0.000000  1.0\n",
            "1  0.0  0.285714  1.0\n",
            "2  2.0  1.000000  0.0\n"
          ],
          "name": "stdout"
        }
      ]
    },
    {
      "cell_type": "code",
      "metadata": {
        "id": "RcIO38HbEAit",
        "colab_type": "code",
        "colab": {
          "base_uri": "https://localhost:8080/",
          "height": 322
        },
        "outputId": "fe8fb311-7d91-463c-db78-c605d032d8e7"
      },
      "source": [
        "plt.plot(Z)"
      ],
      "execution_count": 158,
      "outputs": [
        {
          "output_type": "execute_result",
          "data": {
            "text/plain": [
              "[<matplotlib.lines.Line2D at 0x7f0fd0445ac8>,\n",
              " <matplotlib.lines.Line2D at 0x7f0fd04fb358>,\n",
              " <matplotlib.lines.Line2D at 0x7f0fd634d8d0>]"
            ]
          },
          "metadata": {
            "tags": []
          },
          "execution_count": 158
        },
        {
          "output_type": "display_data",
          "data": {
            "image/png": "[encoded data removed]",
            "text/plain": [
              "<Figure size 432x288 with 1 Axes>"
            ]
          },
          "metadata": {
            "tags": []
          }
        }
      ]
    },
    {
      "cell_type": "markdown",
      "metadata": {
        "id": "rE4Qbbh5_0qt",
        "colab_type": "text"
      },
      "source": [
        "# Q11. Calculate AUC(the percentage of the ROC plot that is underneath the curve) - optional"
      ]
    },
    {
      "cell_type": "code",
      "metadata": {
        "id": "8nwRSPz4_0qu",
        "colab_type": "code",
        "colab": {}
      },
      "source": [
        "Y3_pred_proba = clf_k.predict_proba(X3[test_index])[::,1]  \n"
      ],
      "execution_count": 0,
      "outputs": []
    },
    {
      "cell_type": "code",
      "metadata": {
        "id": "fsjK0GSg_0qx",
        "colab_type": "code",
        "colab": {}
      },
      "source": [
        "fpr, tpr, _ = metrics.roc_curve(Y3[test_index], clf_k.predict(X3[test_index]))\n"
      ],
      "execution_count": 0,
      "outputs": []
    },
    {
      "cell_type": "code",
      "metadata": {
        "id": "dA8Cha75_0qz",
        "colab_type": "code",
        "colab": {}
      },
      "source": [
        "auc = metrics.roc_auc_score(Y3[test_index], Y3_pred_proba)\n"
      ],
      "execution_count": 0,
      "outputs": []
    },
    {
      "cell_type": "code",
      "metadata": {
        "id": "NiON-6bu_0q4",
        "colab_type": "code",
        "colab": {
          "base_uri": "https://localhost:8080/",
          "height": 286
        },
        "outputId": "56652133-293e-4060-b28c-dede05170ac6"
      },
      "source": [
        "print(\"Accuracy\", metrics.accuracy_score(Y3[test_index], clf_k.predict(X3[test_index])))\n",
        "plt.plot(fpr,tpr,label=\"data 1, auc=\"+str(auc))\n",
        "plt.legend(loc=4)\n",
        "plt.show()"
      ],
      "execution_count": 162,
      "outputs": [
        {
          "output_type": "stream",
          "text": [
            "Accuracy 0.8\n"
          ],
          "name": "stdout"
        },
        {
          "output_type": "display_data",
          "data": {
            "image/png": "[encoded data removed]",
            "text/plain": [
              "<Figure size 432x288 with 1 Axes>"
            ]
          },
          "metadata": {
            "tags": []
          }
        }
      ]
    },
    {
      "cell_type": "markdown",
      "metadata": {
        "id": "BZ43LYtQ_0q9",
        "colab_type": "text"
      },
      "source": [
        "### Bootstrapping ( Bonus)\n",
        "##### Given a dataset of size n, a bootstrap sample is created by sampling n instances uniformly from the data (with/without replacement)\n",
        "##### Create a model with each bootstrap sample and validate it with the test set\n",
        "##### Final result is calculated by averaging the accuracy of models"
      ]
    },
    {
      "cell_type": "code",
      "metadata": {
        "id": "rVQTCij9_0rA",
        "colab_type": "code",
        "colab": {}
      },
      "source": [
        "from sklearn.utils import resample\n",
        "from sklearn.metrics import accuracy_score\n",
        "from sklearn.ensemble import RandomForestClassifier\n",
        "from matplotlib import pyplot"
      ],
      "execution_count": 0,
      "outputs": []
    },
    {
      "cell_type": "code",
      "metadata": {
        "id": "_el5Yu9N2fu7",
        "colab_type": "code",
        "colab": {}
      },
      "source": [
        "values = train1_x_dummy.values"
      ],
      "execution_count": 0,
      "outputs": []
    },
    {
      "cell_type": "code",
      "metadata": {
        "id": "gJrk3mafx0UC",
        "colab_type": "code",
        "colab": {
          "base_uri": "https://localhost:8080/",
          "height": 194
        },
        "outputId": "09bbb221-0e4d-43ee-964d-aa983e091997"
      },
      "source": [
        "# Number of iterations for bootstrapping\n",
        "bootstrap_iteration = 10   # Number of bootstrap samples to create\n",
        "n_size = int(len(train1_x_dummy) * 0.50)    # picking only 50 % of the given data in every bootstrap sample\n",
        "\n",
        "accuracy = []    \n",
        "\n",
        "\n",
        "# run bootstrap\n",
        "stats = list()\n",
        "\n",
        "# run bootstrap\n",
        "stats = list()\n",
        "for i in range(bootstrap_iteration):\n",
        "\t# prepare train and test sets\n",
        "\ttrain = resample(values, n_samples=n_size, replace=True, stratify=None,random_state=0)  # Sampling with replacement -Bagging\n",
        "\ttest = np.array([x for x in values if x.tolist() not in train.tolist()])  # picking rest of the data not considered in sample\n",
        "    # fit model\n",
        "\tmodel = RandomForestClassifier()\n",
        "\tmodel.fit(train[:,:-1], train[:,-1])\n",
        "    # evaluate model\n",
        "\tpredictions = model.predict(test[:,:-1])\n",
        "\tscore = accuracy_score(test[:,-1], predictions)    # caution, overall accuracy score can mislead when classes are imbalanced\n",
        "\tprint(score)\n",
        "\tstats.append(score)\n"
      ],
      "execution_count": 165,
      "outputs": [
        {
          "output_type": "stream",
          "text": [
            "0.9709677419354839\n",
            "0.9612903225806452\n",
            "0.9612903225806452\n",
            "0.9741935483870968\n",
            "0.964516129032258\n",
            "0.9612903225806452\n",
            "0.9935483870967742\n",
            "0.9612903225806452\n",
            "0.967741935483871\n",
            "0.964516129032258\n"
          ],
          "name": "stdout"
        }
      ]
    },
    {
      "cell_type": "code",
      "metadata": {
        "id": "AKvKws-A3MHg",
        "colab_type": "code",
        "colab": {
          "base_uri": "https://localhost:8080/",
          "height": 34
        },
        "outputId": "9923858e-849e-49a2-fb49-a875fdf5421e"
      },
      "source": [
        "np.mean(stats)"
      ],
      "execution_count": 166,
      "outputs": [
        {
          "output_type": "execute_result",
          "data": {
            "text/plain": [
              "0.9680645161290322"
            ]
          },
          "metadata": {
            "tags": []
          },
          "execution_count": 166
        }
      ]
    },
    {
      "cell_type": "code",
      "metadata": {
        "id": "uW5LPiPf3MDi",
        "colab_type": "code",
        "colab": {
          "base_uri": "https://localhost:8080/",
          "height": 194
        },
        "outputId": "942fcf27-ee8d-4844-8342-3e442dcd356c"
      },
      "source": [
        "# Number of iterations for bootstrapping\n",
        "bootstrap_iteration = 10   # Number of bootstrap samples to create\n",
        "n_size = int(len(train1_x_dummy) * 0.50)    # picking only 50 % of the given data in every bootstrap sample\n",
        "\n",
        "accuracy = []    \n",
        "\n",
        "\n",
        "# run bootstrap\n",
        "stats = list()\n",
        "\n",
        "# run bootstrap\n",
        "stats = list()\n",
        "for i in range(bootstrap_iteration):\n",
        "\t# prepare train and test sets\n",
        "\ttrain = resample(values, n_samples=n_size, replace=False, stratify=None,random_state=0)  # Sampling without replacement - Pasting\n",
        "\ttest = np.array([x for x in values if x.tolist() not in train.tolist()])  # picking rest of the data not considered in sample\n",
        "    # fit model\n",
        "\tmodel = RandomForestClassifier()\n",
        "\tmodel.fit(train[:,:-1], train[:,-1])\n",
        "    # evaluate model\n",
        "\tpredictions = model.predict(test[:,:-1])\n",
        "\tscore = accuracy_score(test[:,-1], predictions)    # caution, overall accuracy score can mislead when classes are imbalanced\n",
        "\tprint(score)\n",
        "\tstats.append(score)\n"
      ],
      "execution_count": 167,
      "outputs": [
        {
          "output_type": "stream",
          "text": [
            "0.968\n",
            "0.972\n",
            "0.992\n",
            "0.988\n",
            "0.976\n",
            "0.972\n",
            "0.98\n",
            "0.984\n",
            "0.98\n",
            "0.996\n"
          ],
          "name": "stdout"
        }
      ]
    },
    {
      "cell_type": "code",
      "metadata": {
        "id": "H2F2_tBF3L_n",
        "colab_type": "code",
        "colab": {
          "base_uri": "https://localhost:8080/",
          "height": 34
        },
        "outputId": "242b871d-6404-419c-98da-b3b04e41c409"
      },
      "source": [
        "np.mean(stats)"
      ],
      "execution_count": 168,
      "outputs": [
        {
          "output_type": "execute_result",
          "data": {
            "text/plain": [
              "0.9808"
            ]
          },
          "metadata": {
            "tags": []
          },
          "execution_count": 168
        }
      ]
    },
    {
      "cell_type": "code",
      "metadata": {
        "id": "rQGe9hho3L7y",
        "colab_type": "code",
        "colab": {}
      },
      "source": [
        ""
      ],
      "execution_count": 0,
      "outputs": []
    },
    {
      "cell_type": "code",
      "metadata": {
        "id": "S5RTUXim3LlI",
        "colab_type": "code",
        "colab": {}
      },
      "source": [
        ""
      ],
      "execution_count": 0,
      "outputs": []
    },
    {
      "cell_type": "code",
      "metadata": {
        "id": "OmYJz7BM3LhQ",
        "colab_type": "code",
        "colab": {}
      },
      "source": [
        ""
      ],
      "execution_count": 0,
      "outputs": []
    },
    {
      "cell_type": "code",
      "metadata": {
        "id": "7wQp2Vox3Ldc",
        "colab_type": "code",
        "colab": {}
      },
      "source": [
        ""
      ],
      "execution_count": 0,
      "outputs": []
    },
    {
      "cell_type": "code",
      "metadata": {
        "id": "8l2eAQZL3LZU",
        "colab_type": "code",
        "colab": {}
      },
      "source": [
        ""
      ],
      "execution_count": 0,
      "outputs": []
    },
    {
      "cell_type": "code",
      "metadata": {
        "id": "VuDYk6_G3LVL",
        "colab_type": "code",
        "colab": {}
      },
      "source": [
        ""
      ],
      "execution_count": 0,
      "outputs": []
    },
    {
      "cell_type": "code",
      "metadata": {
        "id": "NU9un8HV3LRR",
        "colab_type": "code",
        "colab": {}
      },
      "source": [
        ""
      ],
      "execution_count": 0,
      "outputs": []
    },
    {
      "cell_type": "code",
      "metadata": {
        "id": "4GisZE7A3LM3",
        "colab_type": "code",
        "colab": {}
      },
      "source": [
        ""
      ],
      "execution_count": 0,
      "outputs": []
    }
  ]
}