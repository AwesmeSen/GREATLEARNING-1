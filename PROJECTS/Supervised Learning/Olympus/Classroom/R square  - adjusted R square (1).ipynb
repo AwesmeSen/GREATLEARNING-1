{
 "cells": [
  {
   "cell_type": "code",
   "execution_count": 1,
   "metadata": {},
   "outputs": [],
   "source": [
    "from sklearn.datasets import make_regression\n",
    "X, y = make_regression(n_samples = 20, n_features = 6, random_state = 2, noise = 0.5)"
   ]
  },
  {
   "cell_type": "code",
   "execution_count": 2,
   "metadata": {},
   "outputs": [
    {
     "data": {
      "text/plain": [
       "array([[ 5.08396243e-01,  4.33496330e-01,  2.16116006e-01,\n",
       "        -6.34679305e-01,  1.27837923e+00, -1.85861239e+00],\n",
       "       [ 1.64027081e+00, -4.16757847e-01, -1.79343559e+00,\n",
       "        -2.13619610e+00, -5.62668272e-02, -8.41747366e-01],\n",
       "       [ 3.26003433e-01, -4.19316482e-01, -2.04032305e+00,\n",
       "        -3.95702397e-02, -1.32328898e-01,  4.62555231e-02],\n",
       "       [ 1.21788563e+00, -4.03892269e-01, -4.62005348e-01,\n",
       "         1.36723542e+00, -1.38451867e+00,  3.50888494e-01],\n",
       "       [-3.81092518e-01, -8.29135289e-01, -3.75669423e-01,\n",
       "         1.00036589e+00,  8.77102184e-02, -7.44707629e-02],\n",
       "       [ 5.42352572e-01,  5.01857207e-01, -3.13508197e-01,\n",
       "         9.76147160e-06, -8.44213704e-01,  7.71011738e-01],\n",
       "       [-5.60234506e-01, -7.19253841e-01, -9.02246068e-01,\n",
       "        -3.25049628e-01, -5.83414595e-01, -5.90972275e-01],\n",
       "       [ 7.35279576e-01, -6.77675577e-01, -6.53250268e-01,\n",
       "         5.24296430e-01, -1.43943903e+00,  8.42456282e-01],\n",
       "       [-5.96159700e-01,  4.15393930e-02, -1.91304965e-02,\n",
       "         5.39058321e-01, -1.11792545e+00,  1.17500122e+00],\n",
       "       [-2.34360319e+00,  3.80471970e-01,  1.16152149e+00,\n",
       "         1.17353150e+00, -2.17135269e-01,  3.86078048e-01],\n",
       "       [ 1.12726505e-01, -2.69056960e-01,  3.70444537e-01,\n",
       "        -2.43476758e+00,  2.23136679e+00,  1.35963386e+00],\n",
       "       [-1.18761229e+00, -3.38821966e-01, -1.42121723e+00,\n",
       "        -6.37655012e-01, -2.36184031e-01, -1.53495196e-01],\n",
       "       [ 2.58529487e+00, -1.13313327e+00,  1.83533272e+00,\n",
       "        -3.04086439e-01,  4.33092555e-01,  4.40689872e-01],\n",
       "       [ 1.58448706e+00, -3.81516482e-01, -2.65944946e+00,\n",
       "        -1.09873895e+00,  6.64890091e-02, -9.14526229e-02],\n",
       "       [-7.72186654e-02,  6.95119605e-01,  8.24703005e-01,\n",
       "        -1.89469265e-01, -2.03346655e+00,  1.24821292e+00],\n",
       "       [-1.56434170e-01, -7.47870949e-01,  2.56570452e-01,\n",
       "        -8.78107893e-01,  9.02525097e-03, -9.88779049e-01],\n",
       "       [-9.09007615e-01,  5.02881417e-01,  5.51454045e-01,\n",
       "        -1.05795222e+00, -1.24528809e+00,  2.29220801e+00],\n",
       "       [-3.35677339e-01, -1.86809065e+00,  6.11340780e-01,\n",
       "         1.46767801e+00,  1.73118467e+00,  4.79705919e-02],\n",
       "       [-9.28891925e-01, -2.76179492e-01,  2.55043824e+00,\n",
       "        -6.98589950e-01, -5.16883894e-01, -1.47317325e+00],\n",
       "       [ 1.40669624e+00,  3.81866234e-01, -1.73795950e+00,\n",
       "         2.04207979e-01,  5.66275441e-01,  1.04082395e+00]])"
      ]
     },
     "execution_count": 2,
     "metadata": {},
     "output_type": "execute_result"
    }
   ],
   "source": [
    "X"
   ]
  },
  {
   "cell_type": "code",
   "execution_count": 3,
   "metadata": {},
   "outputs": [
    {
     "data": {
      "text/plain": [
       "array([ 155.34714601, -142.27524108, -172.18390408, -160.84060129,\n",
       "        -90.78523453,  -35.61419944, -201.3428569 , -208.05752968,\n",
       "       -100.05990188,   43.23051404,  233.84054035, -176.19503608,\n",
       "        130.82041155, -166.91415057,  -71.26447827,  -69.06236607,\n",
       "        -34.16942698,   51.8554269 ,   40.74997927,   27.32286716])"
      ]
     },
     "execution_count": 3,
     "metadata": {},
     "output_type": "execute_result"
    }
   ],
   "source": [
    "y"
   ]
  },
  {
   "cell_type": "code",
   "execution_count": 4,
   "metadata": {},
   "outputs": [
    {
     "data": {
      "text/html": [
       "<table class=\"simpletable\">\n",
       "<caption>OLS Regression Results</caption>\n",
       "<tr>\n",
       "  <th>Dep. Variable:</th>            <td>y</td>        <th>  R-squared:         </th> <td>   0.443</td>\n",
       "</tr>\n",
       "<tr>\n",
       "  <th>Model:</th>                   <td>OLS</td>       <th>  Adj. R-squared:    </th> <td>   0.414</td>\n",
       "</tr>\n",
       "<tr>\n",
       "  <th>Method:</th>             <td>Least Squares</td>  <th>  F-statistic:       </th> <td>   15.13</td>\n",
       "</tr>\n",
       "<tr>\n",
       "  <th>Date:</th>             <td>Thu, 25 Jul 2019</td> <th>  Prob (F-statistic):</th> <td>0.000985</td>\n",
       "</tr>\n",
       "<tr>\n",
       "  <th>Time:</th>                 <td>10:14:02</td>     <th>  Log-Likelihood:    </th> <td> -120.28</td>\n",
       "</tr>\n",
       "<tr>\n",
       "  <th>No. Observations:</th>      <td>    20</td>      <th>  AIC:               </th> <td>   242.6</td>\n",
       "</tr>\n",
       "<tr>\n",
       "  <th>Df Residuals:</th>          <td>    19</td>      <th>  BIC:               </th> <td>   243.5</td>\n",
       "</tr>\n",
       "<tr>\n",
       "  <th>Df Model:</th>              <td>     1</td>      <th>                     </th>     <td> </td>   \n",
       "</tr>\n",
       "<tr>\n",
       "  <th>Covariance Type:</th>      <td>nonrobust</td>    <th>                     </th>     <td> </td>   \n",
       "</tr>\n",
       "</table>\n",
       "<table class=\"simpletable\">\n",
       "<tr>\n",
       "   <td></td>     <th>coef</th>     <th>std err</th>      <th>t</th>      <th>P>|t|</th>  <th>[0.025</th>    <th>0.975]</th>  \n",
       "</tr>\n",
       "<tr>\n",
       "  <th>x1</th> <td>   83.2742</td> <td>   21.407</td> <td>    3.890</td> <td> 0.001</td> <td>   38.468</td> <td>  128.080</td>\n",
       "</tr>\n",
       "</table>\n",
       "<table class=\"simpletable\">\n",
       "<tr>\n",
       "  <th>Omnibus:</th>       <td> 7.725</td> <th>  Durbin-Watson:     </th> <td>   2.475</td>\n",
       "</tr>\n",
       "<tr>\n",
       "  <th>Prob(Omnibus):</th> <td> 0.021</td> <th>  Jarque-Bera (JB):  </th> <td>   1.847</td>\n",
       "</tr>\n",
       "<tr>\n",
       "  <th>Skew:</th>          <td>-0.059</td> <th>  Prob(JB):          </th> <td>   0.397</td>\n",
       "</tr>\n",
       "<tr>\n",
       "  <th>Kurtosis:</th>      <td> 1.516</td> <th>  Cond. No.          </th> <td>    1.00</td>\n",
       "</tr>\n",
       "</table><br/><br/>Warnings:<br/>[1] Standard Errors assume that the covariance matrix of the errors is correctly specified."
      ],
      "text/plain": [
       "<class 'statsmodels.iolib.summary.Summary'>\n",
       "\"\"\"\n",
       "                            OLS Regression Results                            \n",
       "==============================================================================\n",
       "Dep. Variable:                      y   R-squared:                       0.443\n",
       "Model:                            OLS   Adj. R-squared:                  0.414\n",
       "Method:                 Least Squares   F-statistic:                     15.13\n",
       "Date:                Thu, 25 Jul 2019   Prob (F-statistic):           0.000985\n",
       "Time:                        10:14:02   Log-Likelihood:                -120.28\n",
       "No. Observations:                  20   AIC:                             242.6\n",
       "Df Residuals:                      19   BIC:                             243.5\n",
       "Df Model:                           1                                         \n",
       "Covariance Type:            nonrobust                                         \n",
       "==============================================================================\n",
       "                 coef    std err          t      P>|t|      [0.025      0.975]\n",
       "------------------------------------------------------------------------------\n",
       "x1            83.2742     21.407      3.890      0.001      38.468     128.080\n",
       "==============================================================================\n",
       "Omnibus:                        7.725   Durbin-Watson:                   2.475\n",
       "Prob(Omnibus):                  0.021   Jarque-Bera (JB):                1.847\n",
       "Skew:                          -0.059   Prob(JB):                        0.397\n",
       "Kurtosis:                       1.516   Cond. No.                         1.00\n",
       "==============================================================================\n",
       "\n",
       "Warnings:\n",
       "[1] Standard Errors assume that the covariance matrix of the errors is correctly specified.\n",
       "\"\"\""
      ]
     },
     "execution_count": 4,
     "metadata": {},
     "output_type": "execute_result"
    }
   ],
   "source": [
    "import statsmodels.api as sm\n",
    "model = sm.OLS(y, X[:, 4]).fit()\n",
    "model.summary()"
   ]
  },
  {
   "cell_type": "code",
   "execution_count": 6,
   "metadata": {},
   "outputs": [
    {
     "data": {
      "text/html": [
       "<table class=\"simpletable\">\n",
       "<caption>OLS Regression Results</caption>\n",
       "<tr>\n",
       "  <th>Dep. Variable:</th>            <td>y</td>        <th>  R-squared:         </th> <td>   0.011</td>\n",
       "</tr>\n",
       "<tr>\n",
       "  <th>Model:</th>                   <td>OLS</td>       <th>  Adj. R-squared:    </th> <td>  -0.041</td>\n",
       "</tr>\n",
       "<tr>\n",
       "  <th>Method:</th>             <td>Least Squares</td>  <th>  F-statistic:       </th> <td>  0.2151</td>\n",
       "</tr>\n",
       "<tr>\n",
       "  <th>Date:</th>             <td>Thu, 25 Jul 2019</td> <th>  Prob (F-statistic):</th>  <td> 0.648</td> \n",
       "</tr>\n",
       "<tr>\n",
       "  <th>Time:</th>                 <td>10:16:14</td>     <th>  Log-Likelihood:    </th> <td> -126.02</td>\n",
       "</tr>\n",
       "<tr>\n",
       "  <th>No. Observations:</th>      <td>    20</td>      <th>  AIC:               </th> <td>   254.0</td>\n",
       "</tr>\n",
       "<tr>\n",
       "  <th>Df Residuals:</th>          <td>    19</td>      <th>  BIC:               </th> <td>   255.0</td>\n",
       "</tr>\n",
       "<tr>\n",
       "  <th>Df Model:</th>              <td>     1</td>      <th>                     </th>     <td> </td>   \n",
       "</tr>\n",
       "<tr>\n",
       "  <th>Covariance Type:</th>      <td>nonrobust</td>    <th>                     </th>     <td> </td>   \n",
       "</tr>\n",
       "</table>\n",
       "<table class=\"simpletable\">\n",
       "<tr>\n",
       "   <td></td>     <th>coef</th>     <th>std err</th>      <th>t</th>      <th>P>|t|</th>  <th>[0.025</th>    <th>0.975]</th>  \n",
       "</tr>\n",
       "<tr>\n",
       "  <th>x1</th> <td>  -13.3431</td> <td>   28.768</td> <td>   -0.464</td> <td> 0.648</td> <td>  -73.555</td> <td>   46.869</td>\n",
       "</tr>\n",
       "</table>\n",
       "<table class=\"simpletable\">\n",
       "<tr>\n",
       "  <th>Omnibus:</th>       <td> 1.937</td> <th>  Durbin-Watson:     </th> <td>   1.614</td>\n",
       "</tr>\n",
       "<tr>\n",
       "  <th>Prob(Omnibus):</th> <td> 0.380</td> <th>  Jarque-Bera (JB):  </th> <td>   1.431</td>\n",
       "</tr>\n",
       "<tr>\n",
       "  <th>Skew:</th>          <td> 0.460</td> <th>  Prob(JB):          </th> <td>   0.489</td>\n",
       "</tr>\n",
       "<tr>\n",
       "  <th>Kurtosis:</th>      <td> 2.067</td> <th>  Cond. No.          </th> <td>    1.00</td>\n",
       "</tr>\n",
       "</table><br/><br/>Warnings:<br/>[1] Standard Errors assume that the covariance matrix of the errors is correctly specified."
      ],
      "text/plain": [
       "<class 'statsmodels.iolib.summary.Summary'>\n",
       "\"\"\"\n",
       "                            OLS Regression Results                            \n",
       "==============================================================================\n",
       "Dep. Variable:                      y   R-squared:                       0.011\n",
       "Model:                            OLS   Adj. R-squared:                 -0.041\n",
       "Method:                 Least Squares   F-statistic:                    0.2151\n",
       "Date:                Thu, 25 Jul 2019   Prob (F-statistic):              0.648\n",
       "Time:                        10:16:14   Log-Likelihood:                -126.02\n",
       "No. Observations:                  20   AIC:                             254.0\n",
       "Df Residuals:                      19   BIC:                             255.0\n",
       "Df Model:                           1                                         \n",
       "Covariance Type:            nonrobust                                         \n",
       "==============================================================================\n",
       "                 coef    std err          t      P>|t|      [0.025      0.975]\n",
       "------------------------------------------------------------------------------\n",
       "x1           -13.3431     28.768     -0.464      0.648     -73.555      46.869\n",
       "==============================================================================\n",
       "Omnibus:                        1.937   Durbin-Watson:                   1.614\n",
       "Prob(Omnibus):                  0.380   Jarque-Bera (JB):                1.431\n",
       "Skew:                           0.460   Prob(JB):                        0.489\n",
       "Kurtosis:                       2.067   Cond. No.                         1.00\n",
       "==============================================================================\n",
       "\n",
       "Warnings:\n",
       "[1] Standard Errors assume that the covariance matrix of the errors is correctly specified.\n",
       "\"\"\""
      ]
     },
     "execution_count": 6,
     "metadata": {},
     "output_type": "execute_result"
    }
   ],
   "source": [
    "model1=sm.OLS(y, X[:, 3]).fit()\n",
    "model1.summary()"
   ]
  },
  {
   "cell_type": "code",
   "execution_count": 13,
   "metadata": {},
   "outputs": [
    {
     "data": {
      "text/html": [
       "<table class=\"simpletable\">\n",
       "<caption>OLS Regression Results</caption>\n",
       "<tr>\n",
       "  <th>Dep. Variable:</th>            <td>y</td>        <th>  R-squared:         </th> <td>   0.445</td>\n",
       "</tr>\n",
       "<tr>\n",
       "  <th>Model:</th>                   <td>OLS</td>       <th>  Adj. R-squared:    </th> <td>   0.383</td>\n",
       "</tr>\n",
       "<tr>\n",
       "  <th>Method:</th>             <td>Least Squares</td>  <th>  F-statistic:       </th> <td>   7.203</td>\n",
       "</tr>\n",
       "<tr>\n",
       "  <th>Date:</th>             <td>Thu, 25 Jul 2019</td> <th>  Prob (F-statistic):</th>  <td>0.00503</td>\n",
       "</tr>\n",
       "<tr>\n",
       "  <th>Time:</th>                 <td>10:18:34</td>     <th>  Log-Likelihood:    </th> <td> -120.25</td>\n",
       "</tr>\n",
       "<tr>\n",
       "  <th>No. Observations:</th>      <td>    20</td>      <th>  AIC:               </th> <td>   244.5</td>\n",
       "</tr>\n",
       "<tr>\n",
       "  <th>Df Residuals:</th>          <td>    18</td>      <th>  BIC:               </th> <td>   246.5</td>\n",
       "</tr>\n",
       "<tr>\n",
       "  <th>Df Model:</th>              <td>     2</td>      <th>                     </th>     <td> </td>   \n",
       "</tr>\n",
       "<tr>\n",
       "  <th>Covariance Type:</th>      <td>nonrobust</td>    <th>                     </th>     <td> </td>   \n",
       "</tr>\n",
       "</table>\n",
       "<table class=\"simpletable\">\n",
       "<tr>\n",
       "   <td></td>     <th>coef</th>     <th>std err</th>      <th>t</th>      <th>P>|t|</th>  <th>[0.025</th>    <th>0.975]</th>  \n",
       "</tr>\n",
       "<tr>\n",
       "  <th>x1</th> <td>    4.4969</td> <td>   22.658</td> <td>    0.198</td> <td> 0.845</td> <td>  -43.105</td> <td>   52.099</td>\n",
       "</tr>\n",
       "<tr>\n",
       "  <th>x2</th> <td>   84.2113</td> <td>   22.471</td> <td>    3.747</td> <td> 0.001</td> <td>   37.000</td> <td>  131.422</td>\n",
       "</tr>\n",
       "</table>\n",
       "<table class=\"simpletable\">\n",
       "<tr>\n",
       "  <th>Omnibus:</th>       <td> 8.455</td> <th>  Durbin-Watson:     </th> <td>   2.505</td>\n",
       "</tr>\n",
       "<tr>\n",
       "  <th>Prob(Omnibus):</th> <td> 0.015</td> <th>  Jarque-Bera (JB):  </th> <td>   1.905</td>\n",
       "</tr>\n",
       "<tr>\n",
       "  <th>Skew:</th>          <td>-0.014</td> <th>  Prob(JB):          </th> <td>   0.386</td>\n",
       "</tr>\n",
       "<tr>\n",
       "  <th>Kurtosis:</th>      <td> 1.488</td> <th>  Cond. No.          </th> <td>    1.24</td>\n",
       "</tr>\n",
       "</table><br/><br/>Warnings:<br/>[1] Standard Errors assume that the covariance matrix of the errors is correctly specified."
      ],
      "text/plain": [
       "<class 'statsmodels.iolib.summary.Summary'>\n",
       "\"\"\"\n",
       "                            OLS Regression Results                            \n",
       "==============================================================================\n",
       "Dep. Variable:                      y   R-squared:                       0.445\n",
       "Model:                            OLS   Adj. R-squared:                  0.383\n",
       "Method:                 Least Squares   F-statistic:                     7.203\n",
       "Date:                Thu, 25 Jul 2019   Prob (F-statistic):            0.00503\n",
       "Time:                        10:18:34   Log-Likelihood:                -120.25\n",
       "No. Observations:                  20   AIC:                             244.5\n",
       "Df Residuals:                      18   BIC:                             246.5\n",
       "Df Model:                           2                                         \n",
       "Covariance Type:            nonrobust                                         \n",
       "==============================================================================\n",
       "                 coef    std err          t      P>|t|      [0.025      0.975]\n",
       "------------------------------------------------------------------------------\n",
       "x1             4.4969     22.658      0.198      0.845     -43.105      52.099\n",
       "x2            84.2113     22.471      3.747      0.001      37.000     131.422\n",
       "==============================================================================\n",
       "Omnibus:                        8.455   Durbin-Watson:                   2.505\n",
       "Prob(Omnibus):                  0.015   Jarque-Bera (JB):                1.905\n",
       "Skew:                          -0.014   Prob(JB):                        0.386\n",
       "Kurtosis:                       1.488   Cond. No.                         1.24\n",
       "==============================================================================\n",
       "\n",
       "Warnings:\n",
       "[1] Standard Errors assume that the covariance matrix of the errors is correctly specified.\n",
       "\"\"\""
      ]
     },
     "execution_count": 13,
     "metadata": {},
     "output_type": "execute_result"
    }
   ],
   "source": [
    "model2=sm.OLS(y, X[:, 3:5]).fit()\n",
    "model2.summary()"
   ]
  },
  {
   "cell_type": "code",
   "execution_count": 33,
   "metadata": {},
   "outputs": [
    {
     "data": {
      "image/png": "[encoded data removed]",
      "text/plain": [
       "<Figure size 432x288 with 1 Axes>"
      ]
     },
     "metadata": {
      "needs_background": "light"
     },
     "output_type": "display_data"
    }
   ],
   "source": [
    "import matplotlib.pyplot as plt\n",
    "plt.scatter(X[:,[0]], y)\n",
    "plt.show()"
   ]
  },
  {
   "cell_type": "code",
   "execution_count": 34,
   "metadata": {},
   "outputs": [
    {
     "data": {
      "image/png": "[encoded data removed]",
      "text/plain": [
       "<Figure size 432x288 with 1 Axes>"
      ]
     },
     "metadata": {
      "needs_background": "light"
     },
     "output_type": "display_data"
    }
   ],
   "source": [
    "plt.scatter(X[:,[1]], y)\n",
    "plt.show()"
   ]
  },
  {
   "cell_type": "code",
   "execution_count": 35,
   "metadata": {},
   "outputs": [
    {
     "data": {
      "image/png": "[encoded data removed]",
      "text/plain": [
       "<Figure size 432x288 with 1 Axes>"
      ]
     },
     "metadata": {
      "needs_background": "light"
     },
     "output_type": "display_data"
    }
   ],
   "source": [
    "plt.scatter(X[:,[2]], y)\n",
    "plt.show()"
   ]
  },
  {
   "cell_type": "code",
   "execution_count": 36,
   "metadata": {},
   "outputs": [
    {
     "data": {
      "image/png": "[encoded data removed]",
      "text/plain": [
       "<Figure size 432x288 with 1 Axes>"
      ]
     },
     "metadata": {
      "needs_background": "light"
     },
     "output_type": "display_data"
    }
   ],
   "source": [
    "plt.scatter(X[:,[3]], y)\n",
    "plt.show()"
   ]
  },
  {
   "cell_type": "code",
   "execution_count": 37,
   "metadata": {},
   "outputs": [
    {
     "data": {
      "image/png": "[encoded data removed]",
      "text/plain": [
       "<Figure size 432x288 with 1 Axes>"
      ]
     },
     "metadata": {
      "needs_background": "light"
     },
     "output_type": "display_data"
    }
   ],
   "source": [
    "plt.scatter(X[:,[4]], y)\n",
    "plt.show()"
   ]
  },
  {
   "cell_type": "code",
   "execution_count": 38,
   "metadata": {},
   "outputs": [
    {
     "data": {
      "image/png": "[encoded data removed]",
      "text/plain": [
       "<Figure size 432x288 with 1 Axes>"
      ]
     },
     "metadata": {
      "needs_background": "light"
     },
     "output_type": "display_data"
    }
   ],
   "source": [
    "plt.scatter(X[:,[5]], y)\n",
    "plt.show()"
   ]
  },
  {
   "cell_type": "code",
   "execution_count": null,
   "metadata": {},
   "outputs": [],
   "source": []
  },
  {
   "cell_type": "code",
   "execution_count": null,
   "metadata": {},
   "outputs": [],
   "source": []
  }
 ],
 "metadata": {
  "kernelspec": {
   "display_name": "Python 3",
   "language": "python",
   "name": "python3"
  },
  "language_info": {
   "codemirror_mode": {
    "name": "ipython",
    "version": 3
   },
   "file_extension": ".py",
   "mimetype": "text/x-python",
   "name": "python",
   "nbconvert_exporter": "python",
   "pygments_lexer": "ipython3",
   "version": "3.7.3"
  }
 },
 "nbformat": 4,
 "nbformat_minor": 2
}
