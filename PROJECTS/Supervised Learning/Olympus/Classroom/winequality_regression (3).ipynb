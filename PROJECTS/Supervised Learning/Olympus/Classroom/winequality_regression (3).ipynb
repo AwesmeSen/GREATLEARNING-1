{
 "cells": [
  {
   "cell_type": "code",
   "execution_count": 1,
   "metadata": {},
   "outputs": [],
   "source": [
    "import numpy as np\n",
    "import pandas as pd\n",
    "from sklearn.model_selection import train_test_split\n",
    "from sklearn import preprocessing"
   ]
  },
  {
   "cell_type": "code",
   "execution_count": 2,
   "metadata": {},
   "outputs": [],
   "source": [
    "dataset_url = 'http://mlr.cs.umass.edu/ml/machine-learning-databases/wine-quality/winequality-red.csv'\n",
    "data = pd.read_csv(dataset_url, sep=';')"
   ]
  },
  {
   "cell_type": "code",
   "execution_count": 3,
   "metadata": {},
   "outputs": [
    {
     "data": {
      "text/html": [
       "<div>\n",
       "<style scoped>\n",
       "    .dataframe tbody tr th:only-of-type {\n",
       "        vertical-align: middle;\n",
       "    }\n",
       "\n",
       "    .dataframe tbody tr th {\n",
       "        vertical-align: top;\n",
       "    }\n",
       "\n",
       "    .dataframe thead th {\n",
       "        text-align: right;\n",
       "    }\n",
       "</style>\n",
       "<table border=\"1\" class=\"dataframe\">\n",
       "  <thead>\n",
       "    <tr style=\"text-align: right;\">\n",
       "      <th></th>\n",
       "      <th>fixed acidity</th>\n",
       "      <th>volatile acidity</th>\n",
       "      <th>citric acid</th>\n",
       "      <th>residual sugar</th>\n",
       "      <th>chlorides</th>\n",
       "      <th>free sulfur dioxide</th>\n",
       "      <th>total sulfur dioxide</th>\n",
       "      <th>density</th>\n",
       "      <th>pH</th>\n",
       "      <th>sulphates</th>\n",
       "      <th>alcohol</th>\n",
       "      <th>quality</th>\n",
       "    </tr>\n",
       "  </thead>\n",
       "  <tbody>\n",
       "    <tr>\n",
       "      <th>0</th>\n",
       "      <td>7.4</td>\n",
       "      <td>0.70</td>\n",
       "      <td>0.00</td>\n",
       "      <td>1.9</td>\n",
       "      <td>0.076</td>\n",
       "      <td>11.0</td>\n",
       "      <td>34.0</td>\n",
       "      <td>0.9978</td>\n",
       "      <td>3.51</td>\n",
       "      <td>0.56</td>\n",
       "      <td>9.4</td>\n",
       "      <td>5</td>\n",
       "    </tr>\n",
       "    <tr>\n",
       "      <th>1</th>\n",
       "      <td>7.8</td>\n",
       "      <td>0.88</td>\n",
       "      <td>0.00</td>\n",
       "      <td>2.6</td>\n",
       "      <td>0.098</td>\n",
       "      <td>25.0</td>\n",
       "      <td>67.0</td>\n",
       "      <td>0.9968</td>\n",
       "      <td>3.20</td>\n",
       "      <td>0.68</td>\n",
       "      <td>9.8</td>\n",
       "      <td>5</td>\n",
       "    </tr>\n",
       "    <tr>\n",
       "      <th>2</th>\n",
       "      <td>7.8</td>\n",
       "      <td>0.76</td>\n",
       "      <td>0.04</td>\n",
       "      <td>2.3</td>\n",
       "      <td>0.092</td>\n",
       "      <td>15.0</td>\n",
       "      <td>54.0</td>\n",
       "      <td>0.9970</td>\n",
       "      <td>3.26</td>\n",
       "      <td>0.65</td>\n",
       "      <td>9.8</td>\n",
       "      <td>5</td>\n",
       "    </tr>\n",
       "    <tr>\n",
       "      <th>3</th>\n",
       "      <td>11.2</td>\n",
       "      <td>0.28</td>\n",
       "      <td>0.56</td>\n",
       "      <td>1.9</td>\n",
       "      <td>0.075</td>\n",
       "      <td>17.0</td>\n",
       "      <td>60.0</td>\n",
       "      <td>0.9980</td>\n",
       "      <td>3.16</td>\n",
       "      <td>0.58</td>\n",
       "      <td>9.8</td>\n",
       "      <td>6</td>\n",
       "    </tr>\n",
       "    <tr>\n",
       "      <th>4</th>\n",
       "      <td>7.4</td>\n",
       "      <td>0.70</td>\n",
       "      <td>0.00</td>\n",
       "      <td>1.9</td>\n",
       "      <td>0.076</td>\n",
       "      <td>11.0</td>\n",
       "      <td>34.0</td>\n",
       "      <td>0.9978</td>\n",
       "      <td>3.51</td>\n",
       "      <td>0.56</td>\n",
       "      <td>9.4</td>\n",
       "      <td>5</td>\n",
       "    </tr>\n",
       "  </tbody>\n",
       "</table>\n",
       "</div>"
      ],
      "text/plain": [
       "   fixed acidity  volatile acidity  citric acid  residual sugar  chlorides  \\\n",
       "0            7.4              0.70         0.00             1.9      0.076   \n",
       "1            7.8              0.88         0.00             2.6      0.098   \n",
       "2            7.8              0.76         0.04             2.3      0.092   \n",
       "3           11.2              0.28         0.56             1.9      0.075   \n",
       "4            7.4              0.70         0.00             1.9      0.076   \n",
       "\n",
       "   free sulfur dioxide  total sulfur dioxide  density    pH  sulphates  \\\n",
       "0                 11.0                  34.0   0.9978  3.51       0.56   \n",
       "1                 25.0                  67.0   0.9968  3.20       0.68   \n",
       "2                 15.0                  54.0   0.9970  3.26       0.65   \n",
       "3                 17.0                  60.0   0.9980  3.16       0.58   \n",
       "4                 11.0                  34.0   0.9978  3.51       0.56   \n",
       "\n",
       "   alcohol  quality  \n",
       "0      9.4        5  \n",
       "1      9.8        5  \n",
       "2      9.8        5  \n",
       "3      9.8        6  \n",
       "4      9.4        5  "
      ]
     },
     "execution_count": 3,
     "metadata": {},
     "output_type": "execute_result"
    }
   ],
   "source": [
    "data.head()"
   ]
  },
  {
   "cell_type": "code",
   "execution_count": 9,
   "metadata": {},
   "outputs": [
    {
     "data": {
      "text/plain": [
       "fixed acidity           False\n",
       "volatile acidity        False\n",
       "citric acid             False\n",
       "residual sugar          False\n",
       "chlorides               False\n",
       "free sulfur dioxide     False\n",
       "total sulfur dioxide    False\n",
       "density                 False\n",
       "pH                      False\n",
       "sulphates               False\n",
       "alcohol                 False\n",
       "quality                 False\n",
       "dtype: bool"
      ]
     },
     "execution_count": 9,
     "metadata": {},
     "output_type": "execute_result"
    }
   ],
   "source": [
    "data.isnull().any()"
   ]
  },
  {
   "cell_type": "code",
   "execution_count": 10,
   "metadata": {},
   "outputs": [
    {
     "name": "stdout",
     "output_type": "stream",
     "text": [
      "<class 'pandas.core.frame.DataFrame'>\n",
      "RangeIndex: 1599 entries, 0 to 1598\n",
      "Data columns (total 12 columns):\n",
      "fixed acidity           1599 non-null float64\n",
      "volatile acidity        1599 non-null float64\n",
      "citric acid             1599 non-null float64\n",
      "residual sugar          1599 non-null float64\n",
      "chlorides               1599 non-null float64\n",
      "free sulfur dioxide     1599 non-null float64\n",
      "total sulfur dioxide    1599 non-null float64\n",
      "density                 1599 non-null float64\n",
      "pH                      1599 non-null float64\n",
      "sulphates               1599 non-null float64\n",
      "alcohol                 1599 non-null float64\n",
      "quality                 1599 non-null int64\n",
      "dtypes: float64(11), int64(1)\n",
      "memory usage: 150.0 KB\n"
     ]
    }
   ],
   "source": [
    "data.info()"
   ]
  },
  {
   "cell_type": "code",
   "execution_count": 11,
   "metadata": {},
   "outputs": [
    {
     "name": "stdout",
     "output_type": "stream",
     "text": [
      "Total number of wine data: 1599\n",
      "Wines with rating 7 and above: 217\n",
      "Wines with rating less than 5: 63\n",
      "Wines with rating 5 and 6: 1319\n",
      "Percentage of wines with quality 7 and above: 13.57%\n"
     ]
    },
    {
     "data": {
      "text/html": [
       "<div>\n",
       "<style scoped>\n",
       "    .dataframe tbody tr th:only-of-type {\n",
       "        vertical-align: middle;\n",
       "    }\n",
       "\n",
       "    .dataframe tbody tr th {\n",
       "        vertical-align: top;\n",
       "    }\n",
       "\n",
       "    .dataframe thead th {\n",
       "        text-align: right;\n",
       "    }\n",
       "</style>\n",
       "<table border=\"1\" class=\"dataframe\">\n",
       "  <thead>\n",
       "    <tr style=\"text-align: right;\">\n",
       "      <th></th>\n",
       "      <th>fixed acidity</th>\n",
       "      <th>volatile acidity</th>\n",
       "      <th>citric acid</th>\n",
       "      <th>residual sugar</th>\n",
       "      <th>chlorides</th>\n",
       "      <th>free sulfur dioxide</th>\n",
       "      <th>total sulfur dioxide</th>\n",
       "      <th>density</th>\n",
       "      <th>pH</th>\n",
       "      <th>sulphates</th>\n",
       "      <th>alcohol</th>\n",
       "      <th>quality</th>\n",
       "    </tr>\n",
       "  </thead>\n",
       "  <tbody>\n",
       "    <tr>\n",
       "      <th>count</th>\n",
       "      <td>1599.0</td>\n",
       "      <td>1599.0</td>\n",
       "      <td>1599.0</td>\n",
       "      <td>1599.0</td>\n",
       "      <td>1599.0</td>\n",
       "      <td>1599.0</td>\n",
       "      <td>1599.0</td>\n",
       "      <td>1599.0</td>\n",
       "      <td>1599.0</td>\n",
       "      <td>1599.0</td>\n",
       "      <td>1599.0</td>\n",
       "      <td>1599.0</td>\n",
       "    </tr>\n",
       "    <tr>\n",
       "      <th>mean</th>\n",
       "      <td>8.0</td>\n",
       "      <td>1.0</td>\n",
       "      <td>0.0</td>\n",
       "      <td>3.0</td>\n",
       "      <td>0.0</td>\n",
       "      <td>16.0</td>\n",
       "      <td>46.0</td>\n",
       "      <td>1.0</td>\n",
       "      <td>3.0</td>\n",
       "      <td>1.0</td>\n",
       "      <td>10.0</td>\n",
       "      <td>6.0</td>\n",
       "    </tr>\n",
       "    <tr>\n",
       "      <th>std</th>\n",
       "      <td>2.0</td>\n",
       "      <td>0.0</td>\n",
       "      <td>0.0</td>\n",
       "      <td>1.0</td>\n",
       "      <td>0.0</td>\n",
       "      <td>10.0</td>\n",
       "      <td>33.0</td>\n",
       "      <td>0.0</td>\n",
       "      <td>0.0</td>\n",
       "      <td>0.0</td>\n",
       "      <td>1.0</td>\n",
       "      <td>1.0</td>\n",
       "    </tr>\n",
       "    <tr>\n",
       "      <th>min</th>\n",
       "      <td>5.0</td>\n",
       "      <td>0.0</td>\n",
       "      <td>0.0</td>\n",
       "      <td>1.0</td>\n",
       "      <td>0.0</td>\n",
       "      <td>1.0</td>\n",
       "      <td>6.0</td>\n",
       "      <td>1.0</td>\n",
       "      <td>3.0</td>\n",
       "      <td>0.0</td>\n",
       "      <td>8.0</td>\n",
       "      <td>3.0</td>\n",
       "    </tr>\n",
       "    <tr>\n",
       "      <th>25%</th>\n",
       "      <td>7.0</td>\n",
       "      <td>0.0</td>\n",
       "      <td>0.0</td>\n",
       "      <td>2.0</td>\n",
       "      <td>0.0</td>\n",
       "      <td>7.0</td>\n",
       "      <td>22.0</td>\n",
       "      <td>1.0</td>\n",
       "      <td>3.0</td>\n",
       "      <td>1.0</td>\n",
       "      <td>10.0</td>\n",
       "      <td>5.0</td>\n",
       "    </tr>\n",
       "    <tr>\n",
       "      <th>50%</th>\n",
       "      <td>8.0</td>\n",
       "      <td>1.0</td>\n",
       "      <td>0.0</td>\n",
       "      <td>2.0</td>\n",
       "      <td>0.0</td>\n",
       "      <td>14.0</td>\n",
       "      <td>38.0</td>\n",
       "      <td>1.0</td>\n",
       "      <td>3.0</td>\n",
       "      <td>1.0</td>\n",
       "      <td>10.0</td>\n",
       "      <td>6.0</td>\n",
       "    </tr>\n",
       "    <tr>\n",
       "      <th>75%</th>\n",
       "      <td>9.0</td>\n",
       "      <td>1.0</td>\n",
       "      <td>0.0</td>\n",
       "      <td>3.0</td>\n",
       "      <td>0.0</td>\n",
       "      <td>21.0</td>\n",
       "      <td>62.0</td>\n",
       "      <td>1.0</td>\n",
       "      <td>3.0</td>\n",
       "      <td>1.0</td>\n",
       "      <td>11.0</td>\n",
       "      <td>6.0</td>\n",
       "    </tr>\n",
       "    <tr>\n",
       "      <th>max</th>\n",
       "      <td>16.0</td>\n",
       "      <td>2.0</td>\n",
       "      <td>1.0</td>\n",
       "      <td>16.0</td>\n",
       "      <td>1.0</td>\n",
       "      <td>72.0</td>\n",
       "      <td>289.0</td>\n",
       "      <td>1.0</td>\n",
       "      <td>4.0</td>\n",
       "      <td>2.0</td>\n",
       "      <td>15.0</td>\n",
       "      <td>8.0</td>\n",
       "    </tr>\n",
       "  </tbody>\n",
       "</table>\n",
       "</div>"
      ],
      "text/plain": [
       "       fixed acidity  volatile acidity  citric acid  residual sugar  \\\n",
       "count         1599.0            1599.0       1599.0          1599.0   \n",
       "mean             8.0               1.0          0.0             3.0   \n",
       "std              2.0               0.0          0.0             1.0   \n",
       "min              5.0               0.0          0.0             1.0   \n",
       "25%              7.0               0.0          0.0             2.0   \n",
       "50%              8.0               1.0          0.0             2.0   \n",
       "75%              9.0               1.0          0.0             3.0   \n",
       "max             16.0               2.0          1.0            16.0   \n",
       "\n",
       "       chlorides  free sulfur dioxide  total sulfur dioxide  density      pH  \\\n",
       "count     1599.0               1599.0                1599.0   1599.0  1599.0   \n",
       "mean         0.0                 16.0                  46.0      1.0     3.0   \n",
       "std          0.0                 10.0                  33.0      0.0     0.0   \n",
       "min          0.0                  1.0                   6.0      1.0     3.0   \n",
       "25%          0.0                  7.0                  22.0      1.0     3.0   \n",
       "50%          0.0                 14.0                  38.0      1.0     3.0   \n",
       "75%          0.0                 21.0                  62.0      1.0     3.0   \n",
       "max          1.0                 72.0                 289.0      1.0     4.0   \n",
       "\n",
       "       sulphates  alcohol  quality  \n",
       "count     1599.0   1599.0   1599.0  \n",
       "mean         1.0     10.0      6.0  \n",
       "std          0.0      1.0      1.0  \n",
       "min          0.0      8.0      3.0  \n",
       "25%          1.0     10.0      5.0  \n",
       "50%          1.0     10.0      6.0  \n",
       "75%          1.0     11.0      6.0  \n",
       "max          2.0     15.0      8.0  "
      ]
     },
     "metadata": {},
     "output_type": "display_data"
    }
   ],
   "source": [
    "n_wines = data.shape[0]\n",
    "\n",
    "# Number of wines with quality rating above 6\n",
    "quality_above_6 = data.loc[(data['quality'] > 6)]\n",
    "n_above_6 = quality_above_6.shape[0]\n",
    "\n",
    "# Number of wines with quality rating below 5\n",
    "quality_below_5 = data.loc[(data['quality'] < 5)]\n",
    "n_below_5 = quality_below_5.shape[0]\n",
    "\n",
    "# Number of wines with quality rating between 5 to 6\n",
    "quality_between_5 = data.loc[(data['quality'] >= 5) & (data['quality'] <= 6)]\n",
    "n_between_5 = quality_between_5.shape[0]\n",
    "\n",
    "# Percentage of wines with quality rating above 6\n",
    "greater_percent = n_above_6*100/n_wines\n",
    "\n",
    "# Print the results\n",
    "print(\"Total number of wine data: {}\".format(n_wines))\n",
    "print(\"Wines with rating 7 and above: {}\".format(n_above_6))\n",
    "print(\"Wines with rating less than 5: {}\".format(n_below_5))\n",
    "print(\"Wines with rating 5 and 6: {}\".format(n_between_5))\n",
    "print(\"Percentage of wines with quality 7 and above: {:.2f}%\".format(greater_percent))\n",
    "\n",
    "# Some more additional data analysis\n",
    "display(np.round(data.describe()))"
   ]
  },
  {
   "cell_type": "code",
   "execution_count": 4,
   "metadata": {},
   "outputs": [],
   "source": [
    "y = data.quality\n",
    "X = data.drop('quality', axis=1)"
   ]
  },
  {
   "cell_type": "code",
   "execution_count": 5,
   "metadata": {},
   "outputs": [],
   "source": [
    "X_train, X_test, y_train, y_test = train_test_split(X, y,test_size=0.2)"
   ]
  },
  {
   "cell_type": "code",
   "execution_count": 6,
   "metadata": {},
   "outputs": [
    {
     "name": "stdout",
     "output_type": "stream",
     "text": [
      "      fixed acidity  volatile acidity  citric acid  residual sugar  chlorides  \\\n",
      "1285           11.3              0.37         0.50             1.8      0.090   \n",
      "796             8.7              0.46         0.31             2.5      0.126   \n",
      "744            11.1              0.39         0.54             2.7      0.095   \n",
      "1113            8.9              0.24         0.39             1.6      0.074   \n",
      "798             9.4              0.50         0.34             3.6      0.082   \n",
      "\n",
      "      free sulfur dioxide  total sulfur dioxide  density    pH  sulphates  \\\n",
      "1285                 20.0                  47.0  0.99734  3.15       0.57   \n",
      "796                  24.0                  64.0  0.99746  3.10       0.74   \n",
      "744                  21.0                 101.0  1.00010  3.13       0.51   \n",
      "1113                  3.0                  10.0  0.99698  3.12       0.59   \n",
      "798                   5.0                  14.0  0.99870  3.29       0.52   \n",
      "\n",
      "      alcohol  \n",
      "1285     10.5  \n",
      "796       9.6  \n",
      "744       9.5  \n",
      "1113      9.5  \n",
      "798      10.7  \n"
     ]
    }
   ],
   "source": [
    "print(X_train.head())"
   ]
  },
  {
   "cell_type": "code",
   "execution_count": 8,
   "metadata": {},
   "outputs": [
    {
     "name": "stdout",
     "output_type": "stream",
     "text": [
      "[[ 1.73679445 -0.89313001  1.23292561 ... -1.06272331 -0.52313091\n",
      "   0.07906346]\n",
      " [ 0.23153336 -0.38593615  0.23541178 ... -1.38582475  0.52966762\n",
      "  -0.76349127]\n",
      " [ 1.62100514 -0.78042026  1.44292852 ... -1.19196389 -0.89470686\n",
      "  -0.85710846]\n",
      " ...\n",
      " [ 1.79468911  0.40303208  1.18042488 ... -1.06272331 -0.15155495\n",
      "   0.07906346]\n",
      " [ 0.57890131 -1.45667874  0.76041906 ... -0.22265958  0.28195032\n",
      "  -0.66987408]\n",
      " [-1.8526743   0.31849977 -1.39211077 ...  1.58670845  1.76825412\n",
      "   2.32587609]]\n"
     ]
    }
   ],
   "source": [
    "X_train_scaled = preprocessing.scale(X_train)\n",
    "print(X_train_scaled)"
   ]
  },
  {
   "cell_type": "code",
   "execution_count": 12,
   "metadata": {},
   "outputs": [
    {
     "data": {
      "text/plain": [
       "LinearRegression(copy_X=True, fit_intercept=True, n_jobs=None,\n",
       "         normalize=False)"
      ]
     },
     "execution_count": 12,
     "metadata": {},
     "output_type": "execute_result"
    }
   ],
   "source": [
    "from sklearn.linear_model import LinearRegression \n",
    "from sklearn import metrics \n",
    "\n",
    "# fitting linear regression to training data\n",
    "regressor = LinearRegression()\n",
    "regressor.fit(X_train_scaled,y_train)"
   ]
  },
  {
   "cell_type": "code",
   "execution_count": 13,
   "metadata": {},
   "outputs": [
    {
     "name": "stdout",
     "output_type": "stream",
     "text": [
      "[ 0.05046056 -0.20854288 -0.05284679  0.03439729 -0.07374496  0.03485085\n",
      " -0.09220111 -0.03632731 -0.05771505  0.15263609  0.3153355 ]\n"
     ]
    }
   ],
   "source": [
    "# this gives the coefficients of the 10 features selected above.  \n",
    "print(regressor.coef_)"
   ]
  },
  {
   "cell_type": "code",
   "execution_count": 34,
   "metadata": {},
   "outputs": [
    {
     "name": "stdout",
     "output_type": "stream",
     "text": [
      "5.6497263487099305\n"
     ]
    }
   ],
   "source": [
    "print(regressor.intercept_)"
   ]
  },
  {
   "cell_type": "code",
   "execution_count": 16,
   "metadata": {},
   "outputs": [
    {
     "name": "stdout",
     "output_type": "stream",
     "text": [
      "[6.52075938 6.34157545 5.3068193  5.14638284 5.62565839 5.01146983\n",
      " 4.79450366 6.06784485 5.17574398 6.69577719 5.53066532 5.53619384\n",
      " 5.78670767 6.46324611 6.22664839 5.80835394 5.6715315  5.60823377\n",
      " 5.68285973 5.31526969 5.09173697 4.98776552 5.1968576  5.2151633\n",
      " 5.32589739 5.68463919 5.2335759  5.09106412 5.43213947 5.58678374\n",
      " 6.15591477 5.7933292  6.32005535 5.13185824 5.37463353 5.07391699\n",
      " 5.51338337 5.24524229 6.27847921 5.84619797 5.23443658 6.02123459\n",
      " 5.08679428 5.92359761 5.67849319 5.17985853 5.07597838 6.19996671\n",
      " 5.40417857 6.30707873 5.30336896 5.10000212 6.53539227 5.49118803\n",
      " 5.2526696  5.36738382 6.17376506 5.07111611 5.25083874 5.5119217\n",
      " 5.6740522  6.40840386 6.50655691 5.91405689 6.20748351 6.76974767\n",
      " 5.6481569  5.72585669 5.6600919  5.89426104 6.82594581 5.62007525\n",
      " 5.87077904 5.20731862 5.47115262 5.83965486 5.96251573 5.6715315\n",
      " 5.64577232 6.26324844 5.55271201 5.27591161 5.21665428 4.9284574\n",
      " 5.23983375 6.06490754 6.6752409  5.1941941  6.59437074 6.0014763\n",
      " 5.62973244 5.55005814 5.66130335 6.22182621 6.4614321  5.41528162\n",
      " 5.68115133 5.26533165 5.31537222 5.30042397 5.09807775 5.93034843\n",
      " 5.6146118  5.65423265 5.30729785 6.04990177 6.37829598 6.25744727\n",
      " 5.3955572  5.38649643 6.38187337 5.67246326 5.63884774 5.35609996\n",
      " 5.3886418  5.13883508 5.64436679 6.00704668 5.72431319 5.66839057\n",
      " 5.28733036 5.8039006  5.17574398 5.23423353 5.90247253 5.59071715\n",
      " 5.25120304 6.24299472 5.79732161 5.14101143 5.01020422 5.03098634\n",
      " 5.97584923 5.92202899 5.05487273 5.35650364 5.88080621 5.14485183\n",
      " 5.10136876 5.19377827 5.88650195 5.86543645 6.14332012 5.91655657\n",
      " 4.63806768 5.6641716  4.92334448 5.65796931 5.04050171 5.67179294\n",
      " 6.46509702 6.55368321 6.44722513 6.09123091 5.72431319 5.52807361\n",
      " 5.45536175 5.18813232 5.88639988 5.54180025 4.79825365 5.68726773\n",
      " 5.95362631 6.10792597 5.81634467 5.37816581 5.28549196 5.79398658\n",
      " 6.23243459 5.35264229 5.56085123 5.13615676 6.07772419 6.03638539\n",
      " 4.92436914 4.77027024 5.65004155 5.03407769 5.22394702 5.60118801\n",
      " 5.30129848 5.4088928  5.08944103 5.88017269 6.24981546 5.51118715\n",
      " 5.92195469 4.828264   5.28968437 5.4719904  5.34776297 6.52317093\n",
      " 5.75194849 5.41506454 7.58517267 4.74248691 6.69068583 6.03720957\n",
      " 5.42110361 6.6087353  5.21798484 5.40452763 5.06039035 5.90211393\n",
      " 6.46498428 5.36582959 6.03760686 5.03537195 4.86845036 5.36975415\n",
      " 5.99046187 5.30753107 5.35650364 5.73361574 5.80686417 6.61652387\n",
      " 5.20691691 5.15050596 5.97215569 5.1783575  5.37966249 5.12270768\n",
      " 6.14058921 5.41506454 5.47135945 4.91334615 5.725699   6.09123091\n",
      " 5.27621763 5.60673439 5.69195443 5.20004237 6.19147444 5.47277687\n",
      " 5.99821847 5.6212566  5.35981871 5.58446206 5.06461644 5.7801228\n",
      " 6.07134661 5.24740502 4.78635357 5.00132661 5.38735912 6.23743394\n",
      " 5.11384681 4.95221151 5.11447042 5.68726773 6.19630524 6.37088694\n",
      " 5.7553152  5.73689124 6.04184625 5.57984129 5.5455213  5.80686417\n",
      " 5.41655891 6.40840386 5.46286988 4.86814688 5.24311944 5.89304342\n",
      " 5.82167433 5.15138571 5.51994591 5.1211672  5.29216361 6.39039215\n",
      " 6.35619817 6.5290232  5.70381233 6.33317168 6.46641044 6.29735685\n",
      " 5.84343213 5.6904142  6.39650924 6.39042149 5.80104375 5.11254155\n",
      " 5.22809875 6.43930664 5.06516329 5.12270768 4.88549074 5.8163735\n",
      " 6.05147708 5.17452128 6.12216016 5.60118801 5.28027131 5.97717042\n",
      " 5.63262581 5.42363662 6.10361095 5.52971886 5.7666143  6.15045606\n",
      " 5.58950464 6.44901229 5.1986446  5.68208233 5.21530601 5.9869635\n",
      " 5.39092914 6.3723279  5.84834781 5.91846449 4.93301401 6.37048194\n",
      " 5.462932   5.99955701 5.61551001 5.22507807 5.70299747 6.38785219\n",
      " 6.20464838 5.01870861]\n"
     ]
    }
   ],
   "source": [
    "X_test_scaled=preprocessing.scale(X_test)\n",
    "test_pred = regressor.predict(X_test_scaled) \n",
    "print(test_pred)"
   ]
  },
  {
   "cell_type": "code",
   "execution_count": 18,
   "metadata": {},
   "outputs": [
    {
     "name": "stdout",
     "output_type": "stream",
     "text": [
      "0.6641228143765028\n"
     ]
    }
   ],
   "source": [
    "test_rmse = metrics.mean_squared_error(test_pred, y_test) ** 0.5\n",
    "print(test_rmse)"
   ]
  },
  {
   "cell_type": "code",
   "execution_count": 21,
   "metadata": {},
   "outputs": [
    {
     "name": "stdout",
     "output_type": "stream",
     "text": [
      "[7. 6. 5. 5. 6. 5. 5. 6. 5. 7. 6. 6. 6. 6. 6. 6. 6. 6. 6. 5. 5. 5. 5. 5.\n",
      " 5. 6. 5. 5. 5. 6. 6. 6. 6. 5. 5. 5. 6. 5. 6. 6. 5. 6. 5. 6. 6. 5. 5. 6.\n",
      " 5. 6. 5. 5. 7. 5. 5. 5. 6. 5. 5. 6. 6. 6. 7. 6. 6. 7. 6. 6. 6. 6. 7. 6.\n",
      " 6. 5. 5. 6. 6. 6. 6. 6. 6. 5. 5. 5. 5. 6. 7. 5. 7. 6. 6. 6. 6. 6. 6. 5.\n",
      " 6. 5. 5. 5. 5. 6. 6. 6. 5. 6. 6. 6. 5. 5. 6. 6. 6. 5. 5. 5. 6. 6. 6. 6.\n",
      " 5. 6. 5. 5. 6. 6. 5. 6. 6. 5. 5. 5. 6. 6. 5. 5. 6. 5. 5. 5. 6. 6. 6. 6.\n",
      " 5. 6. 5. 6. 5. 6. 6. 7. 6. 6. 6. 6. 5. 5. 6. 6. 5. 6. 6. 6. 6. 5. 5. 6.\n",
      " 6. 5. 6. 5. 6. 6. 5. 5. 6. 5. 5. 6. 5. 5. 5. 6. 6. 6. 6. 5. 5. 5. 5. 7.\n",
      " 6. 5. 8. 5. 7. 6. 5. 7. 5. 5. 5. 6. 6. 5. 6. 5. 5. 5. 6. 5. 5. 6. 6. 7.\n",
      " 5. 5. 6. 5. 5. 5. 6. 5. 5. 5. 6. 6. 5. 6. 6. 5. 6. 5. 6. 6. 5. 6. 5. 6.\n",
      " 6. 5. 5. 5. 5. 6. 5. 5. 5. 6. 6. 6. 6. 6. 6. 6. 6. 6. 5. 6. 5. 5. 5. 6.\n",
      " 6. 5. 6. 5. 5. 6. 6. 7. 6. 6. 6. 6. 6. 6. 6. 6. 6. 5. 5. 6. 5. 5. 5. 6.\n",
      " 6. 5. 6. 6. 5. 6. 6. 5. 6. 6. 6. 6. 6. 6. 5. 6. 5. 6. 5. 6. 6. 6. 5. 6.\n",
      " 5. 6. 6. 5. 6. 6. 6. 5.]\n",
      "Mean Absolute Error: 0.5141068977123304\n",
      "Mean Squared Error: 0.4410591125753668\n",
      "Root Mean Squared Error: 0.6641228143765028\n"
     ]
    }
   ],
   "source": [
    "# rounding off the predicted values for test set\n",
    "predicted_data = np.round_(test_pred)\n",
    "print(predicted_data)\n",
    "print('Mean Absolute Error:', metrics.mean_absolute_error(y_test, test_pred))\n",
    "print('Mean Squared Error:', metrics.mean_squared_error(y_test, test_pred))\n",
    "print('Root Mean Squared Error:',np.sqrt(metrics.mean_squared_error(y_test, test_pred)))"
   ]
  },
  {
   "cell_type": "code",
   "execution_count": 25,
   "metadata": {},
   "outputs": [],
   "source": [
    "features = list(data.columns.values.tolist()) "
   ]
  },
  {
   "cell_type": "code",
   "execution_count": 26,
   "metadata": {},
   "outputs": [
    {
     "data": {
      "text/plain": [
       "['fixed acidity',\n",
       " 'volatile acidity',\n",
       " 'citric acid',\n",
       " 'residual sugar',\n",
       " 'chlorides',\n",
       " 'free sulfur dioxide',\n",
       " 'total sulfur dioxide',\n",
       " 'density',\n",
       " 'pH',\n",
       " 'sulphates',\n",
       " 'alcohol',\n",
       " 'quality']"
      ]
     },
     "execution_count": 26,
     "metadata": {},
     "output_type": "execute_result"
    }
   ],
   "source": [
    "features"
   ]
  },
  {
   "cell_type": "code",
   "execution_count": 29,
   "metadata": {},
   "outputs": [],
   "source": [
    "del features[-1]"
   ]
  },
  {
   "cell_type": "code",
   "execution_count": 30,
   "metadata": {},
   "outputs": [
    {
     "data": {
      "text/plain": [
       "['fixed acidity',\n",
       " 'volatile acidity',\n",
       " 'citric acid',\n",
       " 'residual sugar',\n",
       " 'chlorides',\n",
       " 'free sulfur dioxide',\n",
       " 'total sulfur dioxide',\n",
       " 'density',\n",
       " 'pH',\n",
       " 'sulphates',\n",
       " 'alcohol']"
      ]
     },
     "execution_count": 30,
     "metadata": {},
     "output_type": "execute_result"
    }
   ],
   "source": [
    "features"
   ]
  },
  {
   "cell_type": "code",
   "execution_count": 31,
   "metadata": {},
   "outputs": [
    {
     "name": "stdout",
     "output_type": "stream",
     "text": [
      "                      Coeffecient\n",
      "fixed acidity            0.050461\n",
      "volatile acidity        -0.208543\n",
      "citric acid             -0.052847\n",
      "residual sugar           0.034397\n",
      "chlorides               -0.073745\n",
      "free sulfur dioxide      0.034851\n",
      "total sulfur dioxide    -0.092201\n",
      "density                 -0.036327\n",
      "pH                      -0.057715\n",
      "sulphates                0.152636\n",
      "alcohol                  0.315335\n"
     ]
    }
   ],
   "source": [
    "# displaying coefficients of each feature\n",
    "coeffecients = pd.DataFrame(regressor.coef_,features) \n",
    "coeffecients.columns = ['Coeffecient'] \n",
    "print(coeffecients)"
   ]
  },
  {
   "cell_type": "code",
   "execution_count": 33,
   "metadata": {},
   "outputs": [
    {
     "data": {
      "text/html": [
       "<div>\n",
       "<style scoped>\n",
       "    .dataframe tbody tr th:only-of-type {\n",
       "        vertical-align: middle;\n",
       "    }\n",
       "\n",
       "    .dataframe tbody tr th {\n",
       "        vertical-align: top;\n",
       "    }\n",
       "\n",
       "    .dataframe thead th {\n",
       "        text-align: right;\n",
       "    }\n",
       "</style>\n",
       "<table border=\"1\" class=\"dataframe\">\n",
       "  <thead>\n",
       "    <tr style=\"text-align: right;\">\n",
       "      <th></th>\n",
       "      <th>Actual</th>\n",
       "      <th>Predicted</th>\n",
       "    </tr>\n",
       "  </thead>\n",
       "  <tbody>\n",
       "    <tr>\n",
       "      <th>1003</th>\n",
       "      <td>7</td>\n",
       "      <td>6.520759</td>\n",
       "    </tr>\n",
       "    <tr>\n",
       "      <th>1125</th>\n",
       "      <td>7</td>\n",
       "      <td>6.341575</td>\n",
       "    </tr>\n",
       "    <tr>\n",
       "      <th>1226</th>\n",
       "      <td>5</td>\n",
       "      <td>5.306819</td>\n",
       "    </tr>\n",
       "    <tr>\n",
       "      <th>688</th>\n",
       "      <td>5</td>\n",
       "      <td>5.146383</td>\n",
       "    </tr>\n",
       "    <tr>\n",
       "      <th>1027</th>\n",
       "      <td>5</td>\n",
       "      <td>5.625658</td>\n",
       "    </tr>\n",
       "    <tr>\n",
       "      <th>1589</th>\n",
       "      <td>5</td>\n",
       "      <td>5.011470</td>\n",
       "    </tr>\n",
       "    <tr>\n",
       "      <th>1385</th>\n",
       "      <td>5</td>\n",
       "      <td>4.794504</td>\n",
       "    </tr>\n",
       "    <tr>\n",
       "      <th>1237</th>\n",
       "      <td>6</td>\n",
       "      <td>6.067845</td>\n",
       "    </tr>\n",
       "    <tr>\n",
       "      <th>753</th>\n",
       "      <td>5</td>\n",
       "      <td>5.175744</td>\n",
       "    </tr>\n",
       "    <tr>\n",
       "      <th>1114</th>\n",
       "      <td>6</td>\n",
       "      <td>6.695777</td>\n",
       "    </tr>\n",
       "    <tr>\n",
       "      <th>1356</th>\n",
       "      <td>5</td>\n",
       "      <td>5.530665</td>\n",
       "    </tr>\n",
       "    <tr>\n",
       "      <th>1073</th>\n",
       "      <td>6</td>\n",
       "      <td>5.536194</td>\n",
       "    </tr>\n",
       "    <tr>\n",
       "      <th>272</th>\n",
       "      <td>5</td>\n",
       "      <td>5.786708</td>\n",
       "    </tr>\n",
       "    <tr>\n",
       "      <th>1162</th>\n",
       "      <td>7</td>\n",
       "      <td>6.463246</td>\n",
       "    </tr>\n",
       "    <tr>\n",
       "      <th>132</th>\n",
       "      <td>5</td>\n",
       "      <td>6.226648</td>\n",
       "    </tr>\n",
       "    <tr>\n",
       "      <th>1367</th>\n",
       "      <td>6</td>\n",
       "      <td>5.808354</td>\n",
       "    </tr>\n",
       "    <tr>\n",
       "      <th>11</th>\n",
       "      <td>5</td>\n",
       "      <td>5.671532</td>\n",
       "    </tr>\n",
       "    <tr>\n",
       "      <th>1282</th>\n",
       "      <td>6</td>\n",
       "      <td>5.608234</td>\n",
       "    </tr>\n",
       "    <tr>\n",
       "      <th>300</th>\n",
       "      <td>6</td>\n",
       "      <td>5.682860</td>\n",
       "    </tr>\n",
       "    <tr>\n",
       "      <th>1338</th>\n",
       "      <td>5</td>\n",
       "      <td>5.315270</td>\n",
       "    </tr>\n",
       "    <tr>\n",
       "      <th>1183</th>\n",
       "      <td>5</td>\n",
       "      <td>5.091737</td>\n",
       "    </tr>\n",
       "    <tr>\n",
       "      <th>1334</th>\n",
       "      <td>5</td>\n",
       "      <td>4.987766</td>\n",
       "    </tr>\n",
       "    <tr>\n",
       "      <th>573</th>\n",
       "      <td>4</td>\n",
       "      <td>5.196858</td>\n",
       "    </tr>\n",
       "    <tr>\n",
       "      <th>916</th>\n",
       "      <td>5</td>\n",
       "      <td>5.215163</td>\n",
       "    </tr>\n",
       "    <tr>\n",
       "      <th>485</th>\n",
       "      <td>5</td>\n",
       "      <td>5.325897</td>\n",
       "    </tr>\n",
       "  </tbody>\n",
       "</table>\n",
       "</div>"
      ],
      "text/plain": [
       "      Actual  Predicted\n",
       "1003       7   6.520759\n",
       "1125       7   6.341575\n",
       "1226       5   5.306819\n",
       "688        5   5.146383\n",
       "1027       5   5.625658\n",
       "1589       5   5.011470\n",
       "1385       5   4.794504\n",
       "1237       6   6.067845\n",
       "753        5   5.175744\n",
       "1114       6   6.695777\n",
       "1356       5   5.530665\n",
       "1073       6   5.536194\n",
       "272        5   5.786708\n",
       "1162       7   6.463246\n",
       "132        5   6.226648\n",
       "1367       6   5.808354\n",
       "11         5   5.671532\n",
       "1282       6   5.608234\n",
       "300        6   5.682860\n",
       "1338       5   5.315270\n",
       "1183       5   5.091737\n",
       "1334       5   4.987766\n",
       "573        4   5.196858\n",
       "916        5   5.215163\n",
       "485        5   5.325897"
      ]
     },
     "execution_count": 33,
     "metadata": {},
     "output_type": "execute_result"
    }
   ],
   "source": [
    "df_test = pd.DataFrame({'Actual': y_test, 'Predicted': test_pred})\n",
    "df_test1 = df_test.head(25)\n",
    "df_test1"
   ]
  },
  {
   "cell_type": "code",
   "execution_count": 44,
   "metadata": {},
   "outputs": [
    {
     "name": "stdout",
     "output_type": "stream",
     "text": [
      "0.38162887513784427 0.3767521312509188\n"
     ]
    }
   ],
   "source": [
    "# calculate r2 score\n",
    "from sklearn.metrics import r2_score\n",
    "r2 = regressor.score(X_train_scaled, y_train)\n",
    "\n",
    "# adjusted r2 using formula adj_r2 = 1 - (1- r2) * (n-1) / (n - k - 1)\n",
    "# k = number of predictors = X_train_scaled.shape[1] - 1\n",
    "adj_r2 = 1 - (1-r2)*(len(X_train_scaled) - 1) / (len(X_train_scaled) - (X_train_scaled.shape[1] - 1) - 1)\n",
    "print(r2, adj_r2)"
   ]
  }
 ],
 "metadata": {
  "kernelspec": {
   "display_name": "Python 3",
   "language": "python",
   "name": "python3"
  },
  "language_info": {
   "codemirror_mode": {
    "name": "ipython",
    "version": 3
   },
   "file_extension": ".py",
   "mimetype": "text/x-python",
   "name": "python",
   "nbconvert_exporter": "python",
   "pygments_lexer": "ipython3",
   "version": "3.7.3"
  }
 },
 "nbformat": 4,
 "nbformat_minor": 2
}
