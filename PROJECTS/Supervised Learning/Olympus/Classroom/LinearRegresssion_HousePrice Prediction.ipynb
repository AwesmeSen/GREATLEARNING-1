{
 "cells": [
  {
   "cell_type": "code",
   "execution_count": 1,
   "metadata": {},
   "outputs": [],
   "source": [
    "# coding=utf-8\n",
    "# Linear Regression Realization\n",
    "# input_data.csv:\n",
    "# square_feet;price\n",
    "# 150;6450\n",
    "# 200;7450\n",
    "# 250;8450\n",
    "# 300;9450\n",
    "# 350;11450\n",
    "# 400;15450\n",
    "# 600;18450\n",
    "\n",
    "# Required Packages\n",
    "import matplotlib.pyplot as plt\n",
    "import pandas as pd\n",
    "from sklearn import linear_model"
   ]
  },
  {
   "cell_type": "code",
   "execution_count": 2,
   "metadata": {},
   "outputs": [],
   "source": [
    "# Function to get data\n",
    "def get_data(file_name):\n",
    "    data = pd.read_csv(file_name, sep=\";\")\n",
    "    x_parameter = []\n",
    "    y_parameter = []\n",
    "    # TODO: Replace the names of the fields 'square foot', 'price' for your own values\n",
    "    for single_square_feet in data['square_feet']:\n",
    "        x_parameter.append([float(single_square_feet)])\n",
    "\n",
    "    for single_price_value in data['price']:\n",
    "        y_parameter.append(float(single_price_value))\n",
    "    return x_parameter, y_parameter"
   ]
  },
  {
   "cell_type": "code",
   "execution_count": 3,
   "metadata": {},
   "outputs": [],
   "source": [
    "# Function for Fitting our data to Linear model\n",
    "# noinspection PyPep8Naming\n",
    "def linear_model_main(x_parameters, y_parameters, predict_value):\n",
    "    # Create linear regression object\n",
    "    regr = linear_model.LinearRegression()\n",
    "    regr.fit(x_parameters, y_parameters)\n",
    "    # noinspection PyArgumentList\n",
    "    predict_outcome = regr.predict(predict_value)\n",
    "    predictions = {'intercept': regr.intercept_, 'coefficient': regr.coef_, 'predicted_value': predict_outcome}\n",
    "    return predictions"
   ]
  },
  {
   "cell_type": "code",
   "execution_count": 4,
   "metadata": {},
   "outputs": [],
   "source": [
    "# Function to show the resutls of linear fit model\n",
    "def show_linear_line(x_parameters, y_parameters):\n",
    "    # Create linear regression object\n",
    "    regr = linear_model.LinearRegression()\n",
    "    regr.fit(x_parameters, y_parameters)\n",
    "    plt.scatter(x_parameters, y_parameters, color='blue')\n",
    "    # noinspection PyArgumentList\n",
    "    plt.plot(x_parameters, regr.predict(x_parameters), color='red', linewidth=4)\n",
    "    # Supress axis value\n",
    "    plt.xticks(())\n",
    "    plt.yticks(())\n",
    "    plt.show()"
   ]
  },
  {
   "cell_type": "code",
   "execution_count": 5,
   "metadata": {
    "scrolled": true
   },
   "outputs": [
    {
     "name": "stdout",
     "output_type": "stream",
     "text": [
      "Constant Value: 1771.8085106382969\n",
      "Coefficient: [28.77659574]\n",
      "Predicted Value: [21915.42553191]\n"
     ]
    },
    {
     "data": {
      "image/png": "[encoded data removed]",
      "text/plain": [
       "<Figure size 432x288 with 1 Axes>"
      ]
     },
     "metadata": {},
     "output_type": "display_data"
    }
   ],
   "source": [
    "import os\n",
    "os.chdir('/home/sunil/Desktop/ML/week1/house price prediction')\n",
    "X, Y = get_data('input_data.csv')\n",
    "predicted_value = 700\n",
    "result = linear_model_main(X, Y, predicted_value)\n",
    "print('Constant Value: {0}'.format(result['intercept']))\n",
    "print('Coefficient: {0}'.format(result['coefficient']))\n",
    "print('Predicted Value: {0}'.format(result['predicted_value']))\n",
    "show_linear_line(X, Y)"
   ]
  },
  {
   "cell_type": "code",
   "execution_count": null,
   "metadata": {
    "collapsed": true
   },
   "outputs": [],
   "source": []
  }
 ],
 "metadata": {
  "kernelspec": {
   "display_name": "Python 3",
   "language": "python",
   "name": "python3"
  },
  "language_info": {
   "codemirror_mode": {
    "name": "ipython",
    "version": 3
   },
   "file_extension": ".py",
   "mimetype": "text/x-python",
   "name": "python",
   "nbconvert_exporter": "python",
   "pygments_lexer": "ipython3",
   "version": "3.6.8"
  }
 },
 "nbformat": 4,
 "nbformat_minor": 1
}
