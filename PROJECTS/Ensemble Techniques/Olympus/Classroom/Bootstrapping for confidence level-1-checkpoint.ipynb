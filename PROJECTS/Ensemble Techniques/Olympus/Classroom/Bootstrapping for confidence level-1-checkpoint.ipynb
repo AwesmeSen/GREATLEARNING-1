{
 "cells": [
  {
   "cell_type": "code",
   "execution_count": 1,
   "metadata": {
    "collapsed": true
   },
   "outputs": [],
   "source": [
    "from pandas import read_csv\n",
    "from sklearn.utils import resample\n",
    "from sklearn.tree import DecisionTreeClassifier\n",
    "from sklearn.metrics import accuracy_score\n",
    "from matplotlib import pyplot\n",
    "import numpy as np\n",
    "\n",
    "# load dataset\n",
    "data = read_csv('pima-indians-diabetes.data', header=None)\n",
    "values = data.values\n"
   ]
  },
  {
   "cell_type": "code",
   "execution_count": null,
   "metadata": {
    "collapsed": false
   },
   "outputs": [],
   "source": [
    "# configure bootstrap\n",
    "n_iterations = 1000               # Number of bootstrap samples to create\n",
    "n_size = int(len(data) * 0.50)    # picking only 50 % of the given data in every bootstrap sample\n",
    "\n",
    "# run bootstrap\n",
    "stats = list()\n",
    "for i in range(n_iterations):\n",
    "\t# prepare train and test sets\n",
    "\ttrain = resample(values, n_samples=n_size)  # Sampling with replacement \n",
    "\ttest = np.array([x for x in values if x.tolist() not in train.tolist()])  # picking rest of the data not considered in sample\n",
    "\n",
    "    # fit model\n",
    "\tmodel = DecisionTreeClassifier()\n",
    "\tmodel.fit(train[:,:-1], train[:,-1])\n",
    "\n",
    "    # evaluate model\n",
    "\tpredictions = model.predict(test[:,:-1])\n",
    "\tscore = accuracy_score(test[:,-1], predictions)    # caution, overall accuracy score can mislead when classes are imbalanced\n",
    "\n",
    "\tstats.append(score)\n",
    "    print(score)\n"
   ]
  },
  {
   "cell_type": "code",
   "execution_count": 10,
   "metadata": {
    "collapsed": false
   },
   "outputs": [
    {
     "data": {
      "image/png": "[encoded data removed]",
      "text/plain": [
       "<matplotlib.figure.Figure at 0x1d030d49b38>"
      ]
     },
     "metadata": {},
     "output_type": "display_data"
    },
    {
     "name": "stdout",
     "output_type": "stream",
     "text": [
      "95.0 confidence interval 64.7% and 73.9%\n"
     ]
    }
   ],
   "source": [
    "# plot scores\n",
    "pyplot.hist(stats)\n",
    "pyplot.show()\n",
    "# confidence intervals\n",
    "alpha = 0.95                             # for 95% confidence \n",
    "p = ((1.0-alpha)/2.0) * 100              # tail regions on right and left .25 on each side indicated by P value (border)\n",
    "lower = max(0.0, np.percentile(stats, p))  \n",
    "p = (alpha+((1.0-alpha)/2.0)) * 100\n",
    "upper = min(1.0, np.percentile(stats, p))\n",
    "print('%.1f confidence interval %.1f%% and %.1f%%' % (alpha*100, lower*100, upper*100))"
   ]
  },
  {
   "cell_type": "code",
   "execution_count": null,
   "metadata": {
    "collapsed": true
   },
   "outputs": [],
   "source": []
  }
 ],
 "metadata": {
  "kernelspec": {
   "display_name": "Python 3",
   "language": "python",
   "name": "python3"
  },
  "language_info": {
   "codemirror_mode": {
    "name": "ipython",
    "version": 3
   },
   "file_extension": ".py",
   "mimetype": "text/x-python",
   "name": "python",
   "nbconvert_exporter": "python",
   "pygments_lexer": "ipython3",
   "version": "3.6.0"
  }
 },
 "nbformat": 4,
 "nbformat_minor": 2
}
