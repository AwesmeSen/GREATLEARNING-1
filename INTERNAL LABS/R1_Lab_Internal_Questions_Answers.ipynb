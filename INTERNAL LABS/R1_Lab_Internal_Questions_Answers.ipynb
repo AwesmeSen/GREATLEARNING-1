{
  "nbformat": 4,
  "nbformat_minor": 0,
  "metadata": {
    "colab": {
      "name": "R1-Lab Internal_Questions .ipynb",
      "version": "0.3.2",
      "provenance": [],
      "collapsed_sections": [
        "_ECSO5Q1wPT0",
        "K99udWqwwPUt"
      ]
    },
    "language_info": {
      "codemirror_mode": {
        "name": "ipython",
        "version": 3
      },
      "file_extension": ".py",
      "mimetype": "text/x-python",
      "name": "python",
      "nbconvert_exporter": "python",
      "pygments_lexer": "ipython3",
      "version": "3.6.5"
    },
    "kernelspec": {
      "display_name": "Python 3",
      "language": "python",
      "name": "python3"
    }
  },
  "cells": [
    {
      "cell_type": "markdown",
      "metadata": {
        "id": "pUPbEbrVwPPW",
        "colab_type": "text"
      },
      "source": [
        "## Lists, Dictionaries and Sets in Python"
      ]
    },
    {
      "cell_type": "markdown",
      "metadata": {
        "id": "IxpcUBh1wPPZ",
        "colab_type": "text"
      },
      "source": [
        "## Part 1\n",
        "\n",
        "### Lists in Python\n",
        "\n",
        "Sequences in Python are data structures that hold objects in an ordered array. Now, we will work on Lists, the most common sequence data types in Python."
      ]
    },
    {
      "cell_type": "code",
      "metadata": {
        "id": "H5DWT4yswPPb",
        "colab_type": "code",
        "colab": {
          "base_uri": "https://localhost:8080/",
          "height": 34
        },
        "outputId": "8e288bcc-363b-4c61-dfe1-4702720f1195"
      },
      "source": [
        "#Example \n",
        "l1 = ['learning', \"Python\", 'is fun?', True]\n",
        "print(l1)"
      ],
      "execution_count": 130,
      "outputs": [
        {
          "output_type": "stream",
          "text": [
            "['learning', 'Python', 'is fun?', True]\n"
          ],
          "name": "stdout"
        }
      ]
    },
    {
      "cell_type": "markdown",
      "metadata": {
        "id": "I20kHC-lwPPp",
        "colab_type": "text"
      },
      "source": [
        "List can also be created by using list() function. "
      ]
    },
    {
      "cell_type": "code",
      "metadata": {
        "id": "uew6TouuBtof",
        "colab_type": "code",
        "colab": {
          "base_uri": "https://localhost:8080/",
          "height": 34
        },
        "outputId": "59db0e49-fdd2-4283-d7ae-44f171c954e9"
      },
      "source": [
        "#Example\n",
        "l2 = ((\"learning\", \"for\", \"life\", True))\n",
        "print(l2)"
      ],
      "execution_count": 139,
      "outputs": [
        {
          "output_type": "stream",
          "text": [
            "('learning', 'for', 'life', True)\n"
          ],
          "name": "stdout"
        }
      ]
    },
    {
      "cell_type": "markdown",
      "metadata": {
        "id": "rmITykMOwPPw",
        "colab_type": "text"
      },
      "source": [
        "Adding to an existing list\n",
        "\n",
        "### Question 1\n",
        "\n",
        "Add 10 to list l1 given above.\n",
        "\n",
        "[ **Hint: ** Use **append** ]"
      ]
    },
    {
      "cell_type": "code",
      "metadata": {
        "id": "Lz22NYsXwPPx",
        "colab_type": "code",
        "colab": {
          "base_uri": "https://localhost:8080/",
          "height": 34
        },
        "outputId": "d99d5497-1b40-4a87-ca12-97a10e88b6b5"
      },
      "source": [
        "another_list = 10\n",
        "l1.append(another_list) \n",
        "l1"
      ],
      "execution_count": 140,
      "outputs": [
        {
          "output_type": "execute_result",
          "data": {
            "text/plain": [
              "['learning', 'Python', 'is fun?', True, 10]"
            ]
          },
          "metadata": {
            "tags": []
          },
          "execution_count": 140
        }
      ]
    },
    {
      "cell_type": "markdown",
      "metadata": {
        "id": "CZpppmCpwPP1",
        "colab_type": "text"
      },
      "source": [
        "Removing from an existing list\n",
        "\n",
        "### Question 2\n",
        "\n",
        "Remove 10 from l1.\n",
        "\n",
        "[ **Hint:** Use **remove**]"
      ]
    },
    {
      "cell_type": "code",
      "metadata": {
        "id": "KJ5EXrs9wPP2",
        "colab_type": "code",
        "colab": {
          "base_uri": "https://localhost:8080/",
          "height": 34
        },
        "outputId": "8232f33a-444e-4baf-fea7-d357275a3462"
      },
      "source": [
        "\n",
        "l1.remove(another_list) \n",
        "l1"
      ],
      "execution_count": 141,
      "outputs": [
        {
          "output_type": "execute_result",
          "data": {
            "text/plain": [
              "['learning', 'Python', 'is fun?', True]"
            ]
          },
          "metadata": {
            "tags": []
          },
          "execution_count": 141
        }
      ]
    },
    {
      "cell_type": "markdown",
      "metadata": {
        "id": "g-d_mYqawPP6",
        "colab_type": "text"
      },
      "source": [
        "Joining 2 lists\n",
        "\n",
        "### Question 3\n",
        "\n",
        "[ **Hint: ** Use **+** operator or **extend**]"
      ]
    },
    {
      "cell_type": "code",
      "metadata": {
        "id": "G7s5B_R-wPP7",
        "colab_type": "code",
        "colab": {}
      },
      "source": [
        "l1 = ['learning', \"Python\", 'is fun?', True]\n",
        "l2 = ((\"learning\", \"for\", \"life\", True))"
      ],
      "execution_count": 0,
      "outputs": []
    },
    {
      "cell_type": "code",
      "metadata": {
        "id": "llYSNrotwPP_",
        "colab_type": "code",
        "colab": {
          "base_uri": "https://localhost:8080/",
          "height": 34
        },
        "outputId": "500869cf-f3f4-4a66-e2b8-ca5842a666f6"
      },
      "source": [
        "l1.extend(l2)\n",
        "l1"
      ],
      "execution_count": 143,
      "outputs": [
        {
          "output_type": "execute_result",
          "data": {
            "text/plain": [
              "['learning', 'Python', 'is fun?', True, 'learning', 'for', 'life', True]"
            ]
          },
          "metadata": {
            "tags": []
          },
          "execution_count": 143
        }
      ]
    },
    {
      "cell_type": "markdown",
      "metadata": {
        "id": "jWKV915ewPQF",
        "colab_type": "text"
      },
      "source": [
        "Number List\n",
        "\n",
        "### Question 4\n",
        "\n",
        "Find Range and Mean of l3.\n",
        "\n",
        "l3 = [2,4,6,8]\n",
        "\n",
        "[ **Hint: ** Use **len(),sum(), min(), max()** functions ]\n",
        " \n",
        "If you want to use standard functions like mean & range, you have to import them from numpy else you can calculate them the traditional way using formulas"
      ]
    },
    {
      "cell_type": "code",
      "metadata": {
        "id": "oqS-VDMhwPQH",
        "colab_type": "code",
        "colab": {
          "base_uri": "https://localhost:8080/",
          "height": 34
        },
        "outputId": "64f87e12-7993-4c95-cf0c-890452d09b5a"
      },
      "source": [
        "l3 = l3 = [2,4,6,8]\n",
        "range = max(l3)-min(l3)\n",
        "range"
      ],
      "execution_count": 282,
      "outputs": [
        {
          "output_type": "execute_result",
          "data": {
            "text/plain": [
              "6"
            ]
          },
          "metadata": {
            "tags": []
          },
          "execution_count": 282
        }
      ]
    },
    {
      "cell_type": "code",
      "metadata": {
        "id": "BHcBTlmHChBA",
        "colab_type": "code",
        "colab": {
          "base_uri": "https://localhost:8080/",
          "height": 34
        },
        "outputId": "54180710-eb7a-4f7a-e350-a8e243cf712c"
      },
      "source": [
        "min(l3)"
      ],
      "execution_count": 156,
      "outputs": [
        {
          "output_type": "execute_result",
          "data": {
            "text/plain": [
              "2"
            ]
          },
          "metadata": {
            "tags": []
          },
          "execution_count": 156
        }
      ]
    },
    {
      "cell_type": "code",
      "metadata": {
        "id": "frt1sJXMCydI",
        "colab_type": "code",
        "colab": {
          "base_uri": "https://localhost:8080/",
          "height": 34
        },
        "outputId": "d493d281-773a-4a12-c108-010db2335592"
      },
      "source": [
        "max(l3)"
      ],
      "execution_count": 157,
      "outputs": [
        {
          "output_type": "execute_result",
          "data": {
            "text/plain": [
              "8"
            ]
          },
          "metadata": {
            "tags": []
          },
          "execution_count": 157
        }
      ]
    },
    {
      "cell_type": "code",
      "metadata": {
        "id": "ZRVYjxHFC2Xb",
        "colab_type": "code",
        "colab": {
          "base_uri": "https://localhost:8080/",
          "height": 34
        },
        "outputId": "6c607c49-caf8-4032-bffb-efb2c5ce2c4e"
      },
      "source": [
        "sum(l3)"
      ],
      "execution_count": 158,
      "outputs": [
        {
          "output_type": "execute_result",
          "data": {
            "text/plain": [
              "20"
            ]
          },
          "metadata": {
            "tags": []
          },
          "execution_count": 158
        }
      ]
    },
    {
      "cell_type": "code",
      "metadata": {
        "id": "0wDszd3gwPQM",
        "colab_type": "code",
        "colab": {
          "base_uri": "https://localhost:8080/",
          "height": 34
        },
        "outputId": "c8910312-5b3f-403b-c9b5-a7d7e6d012fa"
      },
      "source": [
        "import numpy as np\n",
        "a = np.array(l3)\n",
        "a_min = a.min()\n",
        "a_sum = a.sum()\n",
        "a_max = a.max()\n",
        "a_mean = a.mean()\n",
        "\n",
        "\n",
        "print(a_min,a_max,a_sum,a_mean)"
      ],
      "execution_count": 145,
      "outputs": [
        {
          "output_type": "stream",
          "text": [
            "2 8 20 5.0\n"
          ],
          "name": "stdout"
        }
      ]
    },
    {
      "cell_type": "code",
      "metadata": {
        "id": "knqLuex4C1XE",
        "colab_type": "code",
        "colab": {}
      },
      "source": [
        ""
      ],
      "execution_count": 0,
      "outputs": []
    },
    {
      "cell_type": "markdown",
      "metadata": {
        "id": "ch8aD4ohwPQQ",
        "colab_type": "text"
      },
      "source": [
        "Count the occurances of an element in a given list.\n",
        "\n",
        "### Question 5\n",
        "Append the given sequence of numbers to l3 (given above) 0,1,3,3,5,5,7,9. Count the occurences of 5 in l3.\n",
        "\n",
        "[ **Hint: ** Use ** + operator to add multiple elements in the array and count() function to print the occurences**]"
      ]
    },
    {
      "cell_type": "code",
      "metadata": {
        "id": "SH_AwrNnwPQS",
        "colab_type": "code",
        "colab": {
          "base_uri": "https://localhost:8080/",
          "height": 34
        },
        "outputId": "33c25976-7817-4025-886a-6ea67b64406b"
      },
      "source": [
        "l3 = [2,4,6,8]\n",
        "l4 = [0,1,3,3,5,5,7,9]\n",
        "l3 = l3+l4\n",
        "l3"
      ],
      "execution_count": 167,
      "outputs": [
        {
          "output_type": "execute_result",
          "data": {
            "text/plain": [
              "[2, 4, 6, 8, 0, 1, 3, 3, 5, 5, 7, 9]"
            ]
          },
          "metadata": {
            "tags": []
          },
          "execution_count": 167
        }
      ]
    },
    {
      "cell_type": "code",
      "metadata": {
        "id": "94qQOtxKDmCS",
        "colab_type": "code",
        "colab": {
          "base_uri": "https://localhost:8080/",
          "height": 34
        },
        "outputId": "dafcffce-eca7-4e25-c59a-119999917170"
      },
      "source": [
        "l3.count(5)"
      ],
      "execution_count": 171,
      "outputs": [
        {
          "output_type": "execute_result",
          "data": {
            "text/plain": [
              "2"
            ]
          },
          "metadata": {
            "tags": []
          },
          "execution_count": 171
        }
      ]
    },
    {
      "cell_type": "code",
      "metadata": {
        "id": "sups-uEMC-Lh",
        "colab_type": "code",
        "colab": {
          "base_uri": "https://localhost:8080/",
          "height": 34
        },
        "outputId": "014ead8b-d89d-4e6c-8ffb-2133c36a74e4"
      },
      "source": [
        "import numpy as np\n",
        "import pandas as pd\n",
        "l4 = [0,1,3,3,5,5,7,9]\n",
        "np.array(l3)\n",
        "l3.extend(l4)\n",
        "l3"
      ],
      "execution_count": 159,
      "outputs": [
        {
          "output_type": "execute_result",
          "data": {
            "text/plain": [
              "[2, 4, 6, 8, 0, 1, 3, 3, 5, 5, 7, 9]"
            ]
          },
          "metadata": {
            "tags": []
          },
          "execution_count": 159
        }
      ]
    },
    {
      "cell_type": "code",
      "metadata": {
        "id": "GIG9rNVC8d5b",
        "colab_type": "code",
        "colab": {
          "base_uri": "https://localhost:8080/",
          "height": 34
        },
        "outputId": "5a42e81b-d191-45d9-ad9b-ab9b16d44a65"
      },
      "source": [
        "pd.value_counts(l3)[5]"
      ],
      "execution_count": 151,
      "outputs": [
        {
          "output_type": "execute_result",
          "data": {
            "text/plain": [
              "2"
            ]
          },
          "metadata": {
            "tags": []
          },
          "execution_count": 151
        }
      ]
    },
    {
      "cell_type": "code",
      "metadata": {
        "id": "6UWI--5iCbZa",
        "colab_type": "code",
        "colab": {}
      },
      "source": [
        ""
      ],
      "execution_count": 0,
      "outputs": []
    },
    {
      "cell_type": "markdown",
      "metadata": {
        "id": "W8tv9_ozwPQW",
        "colab_type": "text"
      },
      "source": [
        "Sorting and Reversing a list\n",
        "\n",
        "### Question 6\n",
        "sort and print l3 in ascending and descending order sequentially (given above)\n",
        "\n",
        "**(Hint: Use .sort() function)**"
      ]
    },
    {
      "cell_type": "code",
      "metadata": {
        "id": "-6u-HEasCaJz",
        "colab_type": "code",
        "colab": {}
      },
      "source": [
        ""
      ],
      "execution_count": 0,
      "outputs": []
    },
    {
      "cell_type": "code",
      "metadata": {
        "id": "pT6_cLlywPQX",
        "colab_type": "code",
        "colab": {
          "base_uri": "https://localhost:8080/",
          "height": 34
        },
        "outputId": "3eeb4364-e23a-47bc-a7f7-86f0b825d5ad"
      },
      "source": [
        "l3.sort()\n",
        "l3"
      ],
      "execution_count": 172,
      "outputs": [
        {
          "output_type": "execute_result",
          "data": {
            "text/plain": [
              "[0, 1, 2, 3, 3, 4, 5, 5, 6, 7, 8, 9]"
            ]
          },
          "metadata": {
            "tags": []
          },
          "execution_count": 172
        }
      ]
    },
    {
      "cell_type": "code",
      "metadata": {
        "id": "9khu4cnpwPQb",
        "colab_type": "code",
        "colab": {
          "base_uri": "https://localhost:8080/",
          "height": 34
        },
        "outputId": "9d5ad2d9-4ae1-4f01-93b4-17efef1237de"
      },
      "source": [
        "l3.sort(reverse=True)\n",
        "l3\n"
      ],
      "execution_count": 173,
      "outputs": [
        {
          "output_type": "execute_result",
          "data": {
            "text/plain": [
              "[9, 8, 7, 6, 5, 5, 4, 3, 3, 2, 1, 0]"
            ]
          },
          "metadata": {
            "tags": []
          },
          "execution_count": 173
        }
      ]
    },
    {
      "cell_type": "markdown",
      "metadata": {
        "id": "ux4XrjPBwPQe",
        "colab_type": "text"
      },
      "source": [
        "### Functions"
      ]
    },
    {
      "cell_type": "markdown",
      "metadata": {
        "id": "Uzg5p72MwPQf",
        "colab_type": "text"
      },
      "source": [
        "**Example:**\n",
        "\n",
        "**def** function_name(args)**:**\n",
        "    \n",
        "    function code goes here"
      ]
    },
    {
      "cell_type": "markdown",
      "metadata": {
        "id": "xG4K5hUzwPQg",
        "colab_type": "text"
      },
      "source": [
        "### Question 7\n",
        "\n",
        "Define a function with name **sum_3** which can take 3 numbers as input, and returns sum of them."
      ]
    },
    {
      "cell_type": "code",
      "metadata": {
        "id": "8jhBC6MOwPQh",
        "colab_type": "code",
        "colab": {
          "base_uri": "https://localhost:8080/",
          "height": 34
        },
        "outputId": "1092b385-12a4-42e4-879f-25e7414801c4"
      },
      "source": [
        "a=[1,2,3]\n",
        "def sum_a(x):\n",
        "  s=sum(a)\n",
        "  return s\n",
        "sum_a(a)"
      ],
      "execution_count": 294,
      "outputs": [
        {
          "output_type": "execute_result",
          "data": {
            "text/plain": [
              "6"
            ]
          },
          "metadata": {
            "tags": []
          },
          "execution_count": 294
        }
      ]
    },
    {
      "cell_type": "markdown",
      "metadata": {
        "id": "IYmz8hcvwPQl",
        "colab_type": "text"
      },
      "source": [
        "### Lambda Functions"
      ]
    },
    {
      "cell_type": "markdown",
      "metadata": {
        "id": "gqREt-W7wPQm",
        "colab_type": "text"
      },
      "source": [
        "Anonymous functions or no name functions, which can be considered when you use a function only once.\n",
        "\n",
        "**Example:**\n",
        "\n",
        "f = lambda x, y : x + y\n",
        "\n",
        "f(1,1)\n",
        "\n",
        "2\n"
      ]
    },
    {
      "cell_type": "markdown",
      "metadata": {
        "id": "pZKjpnjRwPQo",
        "colab_type": "text"
      },
      "source": [
        "### Question 8\n",
        "\n",
        "Write the same above **sum_3** function using lambda."
      ]
    },
    {
      "cell_type": "code",
      "metadata": {
        "id": "AMOxh3pJwPQp",
        "colab_type": "code",
        "colab": {
          "base_uri": "https://localhost:8080/",
          "height": 34
        },
        "outputId": "7d586934-c6b7-4a2b-a2d1-cd493f8517df"
      },
      "source": [
        "f = lambda x, y,z : x + y+z\n",
        "f(1,1,1)"
      ],
      "execution_count": 295,
      "outputs": [
        {
          "output_type": "execute_result",
          "data": {
            "text/plain": [
              "3"
            ]
          },
          "metadata": {
            "tags": []
          },
          "execution_count": 295
        }
      ]
    },
    {
      "cell_type": "code",
      "metadata": {
        "id": "02tO2IdBwPQu",
        "colab_type": "code",
        "colab": {}
      },
      "source": [
        ""
      ],
      "execution_count": 0,
      "outputs": []
    },
    {
      "cell_type": "markdown",
      "metadata": {
        "id": "X5G6Km32wPQy",
        "colab_type": "text"
      },
      "source": [
        "# Numpy"
      ]
    },
    {
      "cell_type": "markdown",
      "metadata": {
        "id": "EPxT-tmywPQ2",
        "colab_type": "text"
      },
      "source": [
        "We have seen python basic data structures in our last section. They are great but lack specialized features for data analysis. Like, adding roows, columns, operating on 2d matrices aren't readily available. So, we will use *numpy* for such functions.\n",
        "\n"
      ]
    },
    {
      "cell_type": "code",
      "metadata": {
        "id": "CVaf0qQBwPQ5",
        "colab_type": "code",
        "colab": {}
      },
      "source": [
        "import numpy as np"
      ],
      "execution_count": 0,
      "outputs": []
    },
    {
      "cell_type": "markdown",
      "metadata": {
        "id": "9L_pwquTwPRB",
        "colab_type": "text"
      },
      "source": [
        "Numpy operates on *nd* arrays. These are similar to lists but contains homogenous elements but easier to store 2-d data."
      ]
    },
    {
      "cell_type": "code",
      "metadata": {
        "id": "Zf30rcUowPRD",
        "colab_type": "code",
        "colab": {
          "base_uri": "https://localhost:8080/",
          "height": 68
        },
        "outputId": "7cb8e938-ea3f-4459-e0a2-cc41c3041075"
      },
      "source": [
        "l1 = [1,2,3,4]\n",
        "nd1 = np.array(l1)\n",
        "print(nd1)\n",
        "\n",
        "l2 = [5,6,7,8]\n",
        "nd2 = np.array([l1,l2])\n",
        "print(nd2)"
      ],
      "execution_count": 175,
      "outputs": [
        {
          "output_type": "stream",
          "text": [
            "[1 2 3 4]\n",
            "[[1 2 3 4]\n",
            " [5 6 7 8]]\n"
          ],
          "name": "stdout"
        }
      ]
    },
    {
      "cell_type": "markdown",
      "metadata": {
        "id": "Le1op6k2wPRI",
        "colab_type": "text"
      },
      "source": [
        "Sum functions on np.array()"
      ]
    },
    {
      "cell_type": "code",
      "metadata": {
        "id": "e7IWKdWEwPRJ",
        "colab_type": "code",
        "colab": {
          "base_uri": "https://localhost:8080/",
          "height": 68
        },
        "outputId": "b9c5f7d0-7e39-4e95-a949-8b0037709774"
      },
      "source": [
        "print(nd2.shape)\n",
        "\n",
        "print(nd2.size)\n",
        "\n",
        "print(nd2.dtype)"
      ],
      "execution_count": 176,
      "outputs": [
        {
          "output_type": "stream",
          "text": [
            "(2, 4)\n",
            "8\n",
            "int64\n"
          ],
          "name": "stdout"
        }
      ]
    },
    {
      "cell_type": "markdown",
      "metadata": {
        "id": "z8H8A2yUwPRO",
        "colab_type": "text"
      },
      "source": [
        "### Question 1\n",
        "\n",
        "Create an identity 2d-array or matrix (with ones across the diagonal).\n",
        "\n",
        "[ **Hint: ** You can also use **np.identity()** function ]"
      ]
    },
    {
      "cell_type": "code",
      "metadata": {
        "id": "S32m9fRiwPRQ",
        "colab_type": "code",
        "colab": {
          "base_uri": "https://localhost:8080/",
          "height": 68
        },
        "outputId": "91fcbf32-4baf-4df6-8752-031f26788d82"
      },
      "source": [
        "\n",
        "import numpy as np\n",
        "np.eye(3,3)"
      ],
      "execution_count": 177,
      "outputs": [
        {
          "output_type": "execute_result",
          "data": {
            "text/plain": [
              "array([[1., 0., 0.],\n",
              "       [0., 1., 0.],\n",
              "       [0., 0., 1.]])"
            ]
          },
          "metadata": {
            "tags": []
          },
          "execution_count": 177
        }
      ]
    },
    {
      "cell_type": "markdown",
      "metadata": {
        "id": "VMZn7BvpwPRX",
        "colab_type": "text"
      },
      "source": [
        "### Question 2\n",
        "\n",
        "Create a 2d-array or matrix of order 3x3 with values = 9,8,7,6,5,4,3,2,1 arranged in the same order.\n",
        "\n",
        "Use: **np.matrix()** function\n",
        "\n"
      ]
    },
    {
      "cell_type": "code",
      "metadata": {
        "id": "u6t741liwPRY",
        "colab_type": "code",
        "colab": {
          "base_uri": "https://localhost:8080/",
          "height": 68
        },
        "outputId": "2109cec8-8c79-4a3d-90ea-41e4c553eabb"
      },
      "source": [
        "\n",
        "import numpy as np\n",
        "d = np.matrix([[9,8,7],[6,5,4],[3,2,1]])\n",
        "d\n"
      ],
      "execution_count": 205,
      "outputs": [
        {
          "output_type": "execute_result",
          "data": {
            "text/plain": [
              "matrix([[9, 8, 7],\n",
              "        [6, 5, 4],\n",
              "        [3, 2, 1]])"
            ]
          },
          "metadata": {
            "tags": []
          },
          "execution_count": 205
        }
      ]
    },
    {
      "cell_type": "code",
      "metadata": {
        "id": "ZLm5uFWqwPRb",
        "colab_type": "code",
        "colab": {}
      },
      "source": [
        ""
      ],
      "execution_count": 0,
      "outputs": []
    },
    {
      "cell_type": "markdown",
      "metadata": {
        "id": "AqUXq3RDwPRg",
        "colab_type": "text"
      },
      "source": [
        "### Question 3\n",
        "\n",
        "Reverse both the rows and columns of the given matrix.\n",
        "\n",
        "Hint: You can use the transpose **.T**)"
      ]
    },
    {
      "cell_type": "code",
      "metadata": {
        "id": "269waQ5SwPRh",
        "colab_type": "code",
        "colab": {
          "base_uri": "https://localhost:8080/",
          "height": 68
        },
        "outputId": "939b6fa6-582b-4731-b696-af4252776294"
      },
      "source": [
        "d.T"
      ],
      "execution_count": 206,
      "outputs": [
        {
          "output_type": "execute_result",
          "data": {
            "text/plain": [
              "matrix([[9, 6, 3],\n",
              "        [8, 5, 2],\n",
              "        [7, 4, 1]])"
            ]
          },
          "metadata": {
            "tags": []
          },
          "execution_count": 206
        }
      ]
    },
    {
      "cell_type": "code",
      "metadata": {
        "id": "O8aYWvJCwPRk",
        "colab_type": "code",
        "colab": {}
      },
      "source": [
        ""
      ],
      "execution_count": 0,
      "outputs": []
    },
    {
      "cell_type": "markdown",
      "metadata": {
        "id": "6g2orTM-wPRo",
        "colab_type": "text"
      },
      "source": [
        "### Question 4\n",
        "Add + 1 to all the elements in the given matrix."
      ]
    },
    {
      "cell_type": "code",
      "metadata": {
        "id": "UvcULNvrwPRt",
        "colab_type": "code",
        "colab": {
          "base_uri": "https://localhost:8080/",
          "height": 68
        },
        "outputId": "4e7a0846-47a6-4ae6-f52a-aa6c4582e96a"
      },
      "source": [
        "d1 =d+1\n",
        "d1"
      ],
      "execution_count": 207,
      "outputs": [
        {
          "output_type": "execute_result",
          "data": {
            "text/plain": [
              "matrix([[10,  9,  8],\n",
              "        [ 7,  6,  5],\n",
              "        [ 4,  3,  2]])"
            ]
          },
          "metadata": {
            "tags": []
          },
          "execution_count": 207
        }
      ]
    },
    {
      "cell_type": "code",
      "metadata": {
        "id": "ljSRxyHhwPRz",
        "colab_type": "code",
        "colab": {
          "base_uri": "https://localhost:8080/",
          "height": 68
        },
        "outputId": "f67b7308-2dcb-4251-db61-115976eb347f"
      },
      "source": [
        "d2 = d+d\n",
        "d2"
      ],
      "execution_count": 208,
      "outputs": [
        {
          "output_type": "execute_result",
          "data": {
            "text/plain": [
              "matrix([[18, 16, 14],\n",
              "        [12, 10,  8],\n",
              "        [ 6,  4,  2]])"
            ]
          },
          "metadata": {
            "tags": []
          },
          "execution_count": 208
        }
      ]
    },
    {
      "cell_type": "markdown",
      "metadata": {
        "id": "7Bf70p9uwPR4",
        "colab_type": "text"
      },
      "source": [
        "Similarly you can do operations like scalar  substraction, division, multiplication (operating on each element in the matrix)"
      ]
    },
    {
      "cell_type": "markdown",
      "metadata": {
        "id": "hY0AvfhXwPR5",
        "colab_type": "text"
      },
      "source": [
        "### Question 5\n",
        "\n",
        "Find the mean of all elements in the given matrix nd6.\n",
        "nd6 = [[  1   4   9 121 144 169]\n",
        " [ 16  25  36 196 225 256]\n",
        " [ 49  64  81 289 324 361]]\n",
        " \n",
        " Use: **.mean()** function\n"
      ]
    },
    {
      "cell_type": "code",
      "metadata": {
        "id": "WfXRnF92wPR7",
        "colab_type": "code",
        "colab": {}
      },
      "source": [
        "nd6=np.matrix('1,4,9,121,144,169;16,25,36,196,225,256;49,64,81,289,324,361')"
      ],
      "execution_count": 0,
      "outputs": []
    },
    {
      "cell_type": "code",
      "metadata": {
        "id": "Rgc1VCk3wPR-",
        "colab_type": "code",
        "colab": {
          "base_uri": "https://localhost:8080/",
          "height": 34
        },
        "outputId": "0d0e2f6b-04be-46d2-9154-e5a3d58456b5"
      },
      "source": [
        "nd6.mean()"
      ],
      "execution_count": 302,
      "outputs": [
        {
          "output_type": "execute_result",
          "data": {
            "text/plain": [
              "131.66666666666666"
            ]
          },
          "metadata": {
            "tags": []
          },
          "execution_count": 302
        }
      ]
    },
    {
      "cell_type": "code",
      "metadata": {
        "id": "tPY2hAUiV4mY",
        "colab_type": "code",
        "colab": {}
      },
      "source": [
        "nd6=np.matrix('1,4,9;16,25,36;49,64,81')"
      ],
      "execution_count": 0,
      "outputs": []
    },
    {
      "cell_type": "code",
      "metadata": {
        "id": "uKKHVO3IVnsK",
        "colab_type": "code",
        "colab": {}
      },
      "source": [
        "nd7=np.matrix('1,4,9;16,26,36;49,64,87')"
      ],
      "execution_count": 0,
      "outputs": []
    },
    {
      "cell_type": "markdown",
      "metadata": {
        "id": "Lb2xa6vnwPSC",
        "colab_type": "text"
      },
      "source": [
        "### Question 7\n",
        "\n",
        "Find the dot product of two given matrices.\n",
        "\n",
        "[**Hint:** Use **np.dot()**]"
      ]
    },
    {
      "cell_type": "code",
      "metadata": {
        "id": "iVuBO0bKwPSD",
        "colab_type": "code",
        "colab": {
          "base_uri": "https://localhost:8080/",
          "height": 68
        },
        "outputId": "2f58c8cd-9ecb-44b4-ab05-d3b911c18abb"
      },
      "source": [
        "np.dot(nd6,nd7)"
      ],
      "execution_count": 311,
      "outputs": [
        {
          "output_type": "execute_result",
          "data": {
            "text/plain": [
              "matrix([[ 506,  684,  936],\n",
              "        [2180, 3018, 4176],\n",
              "        [5042, 7044, 9792]])"
            ]
          },
          "metadata": {
            "tags": []
          },
          "execution_count": 311
        }
      ]
    },
    {
      "cell_type": "code",
      "metadata": {
        "id": "rDtjpWaUwPSK",
        "colab_type": "code",
        "colab": {}
      },
      "source": [
        ""
      ],
      "execution_count": 0,
      "outputs": []
    },
    {
      "cell_type": "code",
      "metadata": {
        "id": "Wwk0qJ35wPSP",
        "colab_type": "code",
        "colab": {}
      },
      "source": [
        ""
      ],
      "execution_count": 0,
      "outputs": []
    },
    {
      "cell_type": "markdown",
      "metadata": {
        "id": "IyfuqCIfwPSV",
        "colab_type": "text"
      },
      "source": [
        "# Pandas"
      ]
    },
    {
      "cell_type": "markdown",
      "metadata": {
        "id": "a_oYRPvhwPSW",
        "colab_type": "text"
      },
      "source": [
        "We have seen Numpy in the last section. It is good at performing math operation on 2d-arrays of numbers. But the major drawback is, it cannot deal with heterogenous values. So, Pandas dataframes are helpful in that aspect for storing different data types and referring the values like a dict in python instead of just referring each item with index.\n",
        "\n",
        "[Link to Official Documentation](http://pandas.pydata.org/pandas-docs/version/0.23/dsintro.html)"
      ]
    },
    {
      "cell_type": "markdown",
      "metadata": {
        "id": "_tjAvsy4wPSX",
        "colab_type": "text"
      },
      "source": [
        "## Series"
      ]
    },
    {
      "cell_type": "markdown",
      "metadata": {
        "id": "chWyKGNdwPSY",
        "colab_type": "text"
      },
      "source": [
        "Pandas series are almost same as nd arrays in numpy, with a additional inferencing ability with custom labels like *keys* in a *dictionary* in python."
      ]
    },
    {
      "cell_type": "code",
      "metadata": {
        "id": "KUEDL6DkwPSZ",
        "colab_type": "code",
        "colab": {}
      },
      "source": [
        "import numpy as np\n",
        "import pandas as pd"
      ],
      "execution_count": 0,
      "outputs": []
    },
    {
      "cell_type": "code",
      "metadata": {
        "id": "C2PR7LG8wPSc",
        "colab_type": "code",
        "colab": {
          "base_uri": "https://localhost:8080/",
          "height": 85
        },
        "outputId": "196f71cf-005c-4379-9d83-cc20a86c65fc"
      },
      "source": [
        "#Example\n",
        "\n",
        "series1 = pd.Series(data = [1,2,3], index = ['key1', 'key2', 'key3'])\n",
        "series1"
      ],
      "execution_count": 221,
      "outputs": [
        {
          "output_type": "execute_result",
          "data": {
            "text/plain": [
              "key1    1\n",
              "key2    2\n",
              "key3    3\n",
              "dtype: int64"
            ]
          },
          "metadata": {
            "tags": []
          },
          "execution_count": 221
        }
      ]
    },
    {
      "cell_type": "markdown",
      "metadata": {
        "id": "LGwk2ghuwPSi",
        "colab_type": "text"
      },
      "source": [
        "### Question 1\n",
        "\n",
        "Convert a given dict to pd series.\n",
        "\n",
        "[**Hint:** Use **.Series**]"
      ]
    },
    {
      "cell_type": "code",
      "metadata": {
        "id": "nOWk_haWwPSj",
        "colab_type": "code",
        "colab": {}
      },
      "source": [
        "df1 = {'a': 1, 'b': 2, 'c': 3}"
      ],
      "execution_count": 0,
      "outputs": []
    },
    {
      "cell_type": "code",
      "metadata": {
        "id": "x4a0NgKrwPSm",
        "colab_type": "code",
        "colab": {
          "base_uri": "https://localhost:8080/",
          "height": 85
        },
        "outputId": "8ca970e1-05ed-4bb3-8254-a651f58af658"
      },
      "source": [
        "series2 = pd.Series(d1)\n",
        "series2"
      ],
      "execution_count": 232,
      "outputs": [
        {
          "output_type": "execute_result",
          "data": {
            "text/plain": [
              "a    1\n",
              "b    2\n",
              "c    3\n",
              "dtype: int64"
            ]
          },
          "metadata": {
            "tags": []
          },
          "execution_count": 232
        }
      ]
    },
    {
      "cell_type": "markdown",
      "metadata": {
        "id": "9404HBsfwPSp",
        "colab_type": "text"
      },
      "source": [
        "You can directly use numpy functions on series.\n",
        "### Question 2\n",
        "\n",
        "Find the dot product of both the series create above\n",
        "\n",
        "\n",
        "[ **Hint: ** Use **np.dot()** ]"
      ]
    },
    {
      "cell_type": "code",
      "metadata": {
        "id": "HF4zdH73wPSq",
        "colab_type": "code",
        "colab": {
          "base_uri": "https://localhost:8080/",
          "height": 34
        },
        "outputId": "4db9a8d8-bdbd-47dc-9ba3-46be004a44a4"
      },
      "source": [
        "np.dot(series1,series2)"
      ],
      "execution_count": 234,
      "outputs": [
        {
          "output_type": "execute_result",
          "data": {
            "text/plain": [
              "14"
            ]
          },
          "metadata": {
            "tags": []
          },
          "execution_count": 234
        }
      ]
    },
    {
      "cell_type": "markdown",
      "metadata": {
        "id": "WkeL1c5vwPSz",
        "colab_type": "text"
      },
      "source": [
        "## Dataframes"
      ]
    },
    {
      "cell_type": "markdown",
      "metadata": {
        "id": "9MzKULhmwPS1",
        "colab_type": "text"
      },
      "source": [
        "A dataframe is a table with labeled columns which can hold different types of data in each column. "
      ]
    },
    {
      "cell_type": "code",
      "metadata": {
        "id": "L-kuFU_VwPS5",
        "colab_type": "code",
        "colab": {
          "base_uri": "https://localhost:8080/",
          "height": 142
        },
        "outputId": "f27563df-fad0-4909-da06-c377e76b3004"
      },
      "source": [
        "# Example\n",
        "d1 = {'a': [1,2,3], 'b': [3,4,5], 'c':[6,7,8] }\n",
        "df1 = pd.DataFrame(d1)\n",
        "df1"
      ],
      "execution_count": 235,
      "outputs": [
        {
          "output_type": "execute_result",
          "data": {
            "text/html": [
              "<div>\n",
              "<style scoped>\n",
              "    .dataframe tbody tr th:only-of-type {\n",
              "        vertical-align: middle;\n",
              "    }\n",
              "\n",
              "    .dataframe tbody tr th {\n",
              "        vertical-align: top;\n",
              "    }\n",
              "\n",
              "    .dataframe thead th {\n",
              "        text-align: right;\n",
              "    }\n",
              "</style>\n",
              "<table border=\"1\" class=\"dataframe\">\n",
              "  <thead>\n",
              "    <tr style=\"text-align: right;\">\n",
              "      <th></th>\n",
              "      <th>a</th>\n",
              "      <th>b</th>\n",
              "      <th>c</th>\n",
              "    </tr>\n",
              "  </thead>\n",
              "  <tbody>\n",
              "    <tr>\n",
              "      <th>0</th>\n",
              "      <td>1</td>\n",
              "      <td>3</td>\n",
              "      <td>6</td>\n",
              "    </tr>\n",
              "    <tr>\n",
              "      <th>1</th>\n",
              "      <td>2</td>\n",
              "      <td>4</td>\n",
              "      <td>7</td>\n",
              "    </tr>\n",
              "    <tr>\n",
              "      <th>2</th>\n",
              "      <td>3</td>\n",
              "      <td>5</td>\n",
              "      <td>8</td>\n",
              "    </tr>\n",
              "  </tbody>\n",
              "</table>\n",
              "</div>"
            ],
            "text/plain": [
              "   a  b  c\n",
              "0  1  3  6\n",
              "1  2  4  7\n",
              "2  3  5  8"
            ]
          },
          "metadata": {
            "tags": []
          },
          "execution_count": 235
        }
      ]
    },
    {
      "cell_type": "markdown",
      "metadata": {
        "id": "nuun2X8BwPTA",
        "colab_type": "text"
      },
      "source": [
        "### Question 3\n",
        "\n",
        "Select second row in the above dataframe df1.\n",
        "\n"
      ]
    },
    {
      "cell_type": "code",
      "metadata": {
        "id": "VZw0nBDfwPTC",
        "colab_type": "code",
        "colab": {
          "base_uri": "https://localhost:8080/",
          "height": 85
        },
        "outputId": "4da6b27c-0544-48b0-945e-079722344ea8"
      },
      "source": [
        "df1.loc[1]"
      ],
      "execution_count": 239,
      "outputs": [
        {
          "output_type": "execute_result",
          "data": {
            "text/plain": [
              "a    2\n",
              "b    4\n",
              "c    7\n",
              "Name: 1, dtype: int64"
            ]
          },
          "metadata": {
            "tags": []
          },
          "execution_count": 239
        }
      ]
    },
    {
      "cell_type": "markdown",
      "metadata": {
        "id": "1sYUDrY7wPTI",
        "colab_type": "text"
      },
      "source": [
        "### Question 4\n",
        "\n",
        "Select column c in second row of df1.\n",
        "\n",
        "[ **Hint: ** For using labels use **df.loc[row, column]**. For using numeric indexed use **df.iloc[]**. For using mixture of numeric indexes and labels use **df.ix[row, column]** ]\n",
        "\n"
      ]
    },
    {
      "cell_type": "code",
      "metadata": {
        "id": "nF44ydRZwPTK",
        "colab_type": "code",
        "colab": {
          "base_uri": "https://localhost:8080/",
          "height": 34
        },
        "outputId": "5d388f81-b344-4199-8ee0-f3a9c5dbdd65"
      },
      "source": [
        "df1.iloc[1,2]"
      ],
      "execution_count": 241,
      "outputs": [
        {
          "output_type": "execute_result",
          "data": {
            "text/plain": [
              "7"
            ]
          },
          "metadata": {
            "tags": []
          },
          "execution_count": 241
        }
      ]
    },
    {
      "cell_type": "markdown",
      "metadata": {
        "id": "cU52RGkSwPTS",
        "colab_type": "text"
      },
      "source": [
        "## Using Dataframes on a dataset"
      ]
    },
    {
      "cell_type": "markdown",
      "metadata": {
        "id": "CKvp_6HSwPTU",
        "colab_type": "text"
      },
      "source": [
        "##### Using the mtcars dataset.\n",
        "\n",
        "For the below set of questions, we will be using the cars data from [Motor Trend Car Road Tests](http://stat.ethz.ch/R-manual/R-devel/library/datasets/html/mtcars.html)\n",
        "\n",
        "The data was extracted from the 1974 Motor Trend US magazine, and comprises fuel consumption and 10 aspects of automobile design and performance for 32 automobiles (1973–74 models). \n",
        "\n",
        "\n",
        "Details :\n",
        "    \n",
        "A data frame with 32 observations on 11 (numeric) variables.\n",
        "\n",
        "[, 1] \tmpg \tMiles/(US) gallon\n",
        "\n",
        "[, 2] \tcyl \tNumber of cylinders\n",
        "\n",
        "[, 3] \tdisp \tDisplacement (cu.in.)\n",
        "\n",
        "[, 4] \thp \tGross horsepower\n",
        "\n",
        "[, 5] \tdrat \tRear axle ratio\n",
        "\n",
        "[, 6] \twt \tWeight (1000 lbs)\n",
        "\n",
        "[, 7] \tqsec \t1/4 mile time\n",
        "\n",
        "[, 8] \tvs \tEngine (0 = V-shaped, 1 = straight)\n",
        "\n",
        "[, 9] \tam \tTransmission (0 = automatic, 1 = manual)\n",
        "\n",
        "[,10] \tgear \tNumber of forward gears\n",
        "\n",
        "[,11] \tcarb \tNumber of carburetors "
      ]
    },
    {
      "cell_type": "code",
      "metadata": {
        "id": "MR1TVZEewPTV",
        "colab_type": "code",
        "colab": {
          "resources": {
            "http://localhost:8080/nbextensions/google.colab/files.js": {
              "data": "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",
              "ok": true,
              "headers": [
                [
                  "content-type",
                  "application/javascript"
                ]
              ],
              "status": 200,
              "status_text": ""
            }
          },
          "base_uri": "https://localhost:8080/",
          "height": 74
        },
        "outputId": "404aad45-9377-4504-d262-7ec7be51bb86"
      },
      "source": [
        "## Reading a dataset from a csv file using pandas.\n",
        "\n",
        "import pandas as pd\n",
        "import numpy as np\n",
        "import seaborn as sns\n",
        "import matplotlib as pl\n",
        "%matplotlib inline\n",
        "\n",
        "from google.colab import files\n",
        "uploaded = files.upload()\n",
        "\n"
      ],
      "execution_count": 246,
      "outputs": [
        {
          "output_type": "display_data",
          "data": {
            "text/html": [
              "\n",
              "     <input type=\"file\" id=\"files-adbc1654-ac5b-4028-92b2-7d5838a70d24\" name=\"files[]\" multiple disabled />\n",
              "     <output id=\"result-adbc1654-ac5b-4028-92b2-7d5838a70d24\">\n",
              "      Upload widget is only available when the cell has been executed in the\n",
              "      current browser session. Please rerun this cell to enable.\n",
              "      </output>\n",
              "      <script src=\"/nbextensions/google.colab/files.js\"></script> "
            ],
            "text/plain": [
              "<IPython.core.display.HTML object>"
            ]
          },
          "metadata": {
            "tags": []
          }
        },
        {
          "output_type": "stream",
          "text": [
            "Saving mtcars.csv to mtcars.csv\n"
          ],
          "name": "stdout"
        }
      ]
    },
    {
      "cell_type": "code",
      "metadata": {
        "id": "-qsV_t2XM11d",
        "colab_type": "code",
        "colab": {}
      },
      "source": [
        "mtcars = pd.read_csv('mtcars.csv')\n",
        "mtcars.index = mtcars['name']"
      ],
      "execution_count": 0,
      "outputs": []
    },
    {
      "cell_type": "markdown",
      "metadata": {
        "id": "fFYRSvy2wPTY",
        "colab_type": "text"
      },
      "source": [
        "Following questions are based on analysing a particular dataset using dataframes."
      ]
    },
    {
      "cell_type": "markdown",
      "metadata": {
        "id": "uQGps5UNwPTZ",
        "colab_type": "text"
      },
      "source": [
        "### Question 5\n",
        "\n",
        "Check the type and dimensions of given dataset - mtcars.\n",
        "\n",
        "\n",
        "[ **Hint: ** Use **type()** and **df.shape** ]"
      ]
    },
    {
      "cell_type": "code",
      "metadata": {
        "id": "V2p1F83GwPTa",
        "colab_type": "code",
        "colab": {
          "base_uri": "https://localhost:8080/",
          "height": 235
        },
        "outputId": "d3a7c545-3247-48a5-b7e2-09c327bd4425"
      },
      "source": [
        "mtcars.head()"
      ],
      "execution_count": 250,
      "outputs": [
        {
          "output_type": "execute_result",
          "data": {
            "text/html": [
              "<div>\n",
              "<style scoped>\n",
              "    .dataframe tbody tr th:only-of-type {\n",
              "        vertical-align: middle;\n",
              "    }\n",
              "\n",
              "    .dataframe tbody tr th {\n",
              "        vertical-align: top;\n",
              "    }\n",
              "\n",
              "    .dataframe thead th {\n",
              "        text-align: right;\n",
              "    }\n",
              "</style>\n",
              "<table border=\"1\" class=\"dataframe\">\n",
              "  <thead>\n",
              "    <tr style=\"text-align: right;\">\n",
              "      <th></th>\n",
              "      <th>name</th>\n",
              "      <th>mpg</th>\n",
              "      <th>cyl</th>\n",
              "      <th>disp</th>\n",
              "      <th>hp</th>\n",
              "      <th>drat</th>\n",
              "      <th>wt</th>\n",
              "      <th>qsec</th>\n",
              "      <th>vs</th>\n",
              "      <th>am</th>\n",
              "      <th>gear</th>\n",
              "      <th>carb</th>\n",
              "    </tr>\n",
              "    <tr>\n",
              "      <th>name</th>\n",
              "      <th></th>\n",
              "      <th></th>\n",
              "      <th></th>\n",
              "      <th></th>\n",
              "      <th></th>\n",
              "      <th></th>\n",
              "      <th></th>\n",
              "      <th></th>\n",
              "      <th></th>\n",
              "      <th></th>\n",
              "      <th></th>\n",
              "      <th></th>\n",
              "    </tr>\n",
              "  </thead>\n",
              "  <tbody>\n",
              "    <tr>\n",
              "      <th>Mazda RX4</th>\n",
              "      <td>Mazda RX4</td>\n",
              "      <td>21.0</td>\n",
              "      <td>6</td>\n",
              "      <td>160.0</td>\n",
              "      <td>110</td>\n",
              "      <td>3.90</td>\n",
              "      <td>2.620</td>\n",
              "      <td>16.46</td>\n",
              "      <td>0</td>\n",
              "      <td>1</td>\n",
              "      <td>4</td>\n",
              "      <td>4</td>\n",
              "    </tr>\n",
              "    <tr>\n",
              "      <th>Mazda RX4 Wag</th>\n",
              "      <td>Mazda RX4 Wag</td>\n",
              "      <td>21.0</td>\n",
              "      <td>6</td>\n",
              "      <td>160.0</td>\n",
              "      <td>110</td>\n",
              "      <td>3.90</td>\n",
              "      <td>2.875</td>\n",
              "      <td>17.02</td>\n",
              "      <td>0</td>\n",
              "      <td>1</td>\n",
              "      <td>4</td>\n",
              "      <td>4</td>\n",
              "    </tr>\n",
              "    <tr>\n",
              "      <th>Datsun 710</th>\n",
              "      <td>Datsun 710</td>\n",
              "      <td>22.8</td>\n",
              "      <td>4</td>\n",
              "      <td>108.0</td>\n",
              "      <td>93</td>\n",
              "      <td>3.85</td>\n",
              "      <td>2.320</td>\n",
              "      <td>18.61</td>\n",
              "      <td>1</td>\n",
              "      <td>1</td>\n",
              "      <td>4</td>\n",
              "      <td>1</td>\n",
              "    </tr>\n",
              "    <tr>\n",
              "      <th>Hornet 4 Drive</th>\n",
              "      <td>Hornet 4 Drive</td>\n",
              "      <td>21.4</td>\n",
              "      <td>6</td>\n",
              "      <td>258.0</td>\n",
              "      <td>110</td>\n",
              "      <td>3.08</td>\n",
              "      <td>3.215</td>\n",
              "      <td>19.44</td>\n",
              "      <td>1</td>\n",
              "      <td>0</td>\n",
              "      <td>3</td>\n",
              "      <td>1</td>\n",
              "    </tr>\n",
              "    <tr>\n",
              "      <th>Hornet Sportabout</th>\n",
              "      <td>Hornet Sportabout</td>\n",
              "      <td>18.7</td>\n",
              "      <td>8</td>\n",
              "      <td>360.0</td>\n",
              "      <td>175</td>\n",
              "      <td>3.15</td>\n",
              "      <td>3.440</td>\n",
              "      <td>17.02</td>\n",
              "      <td>0</td>\n",
              "      <td>0</td>\n",
              "      <td>3</td>\n",
              "      <td>2</td>\n",
              "    </tr>\n",
              "  </tbody>\n",
              "</table>\n",
              "</div>"
            ],
            "text/plain": [
              "                                name   mpg  cyl   disp  ...  vs  am  gear  carb\n",
              "name                                                    ...                    \n",
              "Mazda RX4                  Mazda RX4  21.0    6  160.0  ...   0   1     4     4\n",
              "Mazda RX4 Wag          Mazda RX4 Wag  21.0    6  160.0  ...   0   1     4     4\n",
              "Datsun 710                Datsun 710  22.8    4  108.0  ...   1   1     4     1\n",
              "Hornet 4 Drive        Hornet 4 Drive  21.4    6  258.0  ...   1   0     3     1\n",
              "Hornet Sportabout  Hornet Sportabout  18.7    8  360.0  ...   0   0     3     2\n",
              "\n",
              "[5 rows x 12 columns]"
            ]
          },
          "metadata": {
            "tags": []
          },
          "execution_count": 250
        }
      ]
    },
    {
      "cell_type": "code",
      "metadata": {
        "id": "hxE8W7E6Nj_i",
        "colab_type": "code",
        "colab": {
          "base_uri": "https://localhost:8080/",
          "height": 306
        },
        "outputId": "cc59a48b-94f2-4bf4-c136-6d4b9e10d1c8"
      },
      "source": [
        "mtcars.info()"
      ],
      "execution_count": 252,
      "outputs": [
        {
          "output_type": "stream",
          "text": [
            "<class 'pandas.core.frame.DataFrame'>\n",
            "Index: 32 entries, Mazda RX4 to Volvo 142E\n",
            "Data columns (total 12 columns):\n",
            "name    32 non-null object\n",
            "mpg     32 non-null float64\n",
            "cyl     32 non-null int64\n",
            "disp    32 non-null float64\n",
            "hp      32 non-null int64\n",
            "drat    32 non-null float64\n",
            "wt      32 non-null float64\n",
            "qsec    32 non-null float64\n",
            "vs      32 non-null int64\n",
            "am      32 non-null int64\n",
            "gear    32 non-null int64\n",
            "carb    32 non-null int64\n",
            "dtypes: float64(5), int64(6), object(1)\n",
            "memory usage: 3.2+ KB\n"
          ],
          "name": "stdout"
        }
      ]
    },
    {
      "cell_type": "markdown",
      "metadata": {
        "id": "yDk6lDrUwPTd",
        "colab_type": "text"
      },
      "source": [
        "### Question 6\n",
        "\n",
        "Check the first 10 lines and last 10 lines of the given dataset- mtcars.\n",
        "\n",
        "[**Hint:** Use **.head()** and **.tail()**]"
      ]
    },
    {
      "cell_type": "code",
      "metadata": {
        "id": "sxrkMXuLwPTe",
        "colab_type": "code",
        "colab": {
          "base_uri": "https://localhost:8080/",
          "height": 390
        },
        "outputId": "5891bb00-3fb6-4006-e015-67c591929842"
      },
      "source": [
        "mtcars.head(10)"
      ],
      "execution_count": 255,
      "outputs": [
        {
          "output_type": "execute_result",
          "data": {
            "text/html": [
              "<div>\n",
              "<style scoped>\n",
              "    .dataframe tbody tr th:only-of-type {\n",
              "        vertical-align: middle;\n",
              "    }\n",
              "\n",
              "    .dataframe tbody tr th {\n",
              "        vertical-align: top;\n",
              "    }\n",
              "\n",
              "    .dataframe thead th {\n",
              "        text-align: right;\n",
              "    }\n",
              "</style>\n",
              "<table border=\"1\" class=\"dataframe\">\n",
              "  <thead>\n",
              "    <tr style=\"text-align: right;\">\n",
              "      <th></th>\n",
              "      <th>name</th>\n",
              "      <th>mpg</th>\n",
              "      <th>cyl</th>\n",
              "      <th>disp</th>\n",
              "      <th>hp</th>\n",
              "      <th>drat</th>\n",
              "      <th>wt</th>\n",
              "      <th>qsec</th>\n",
              "      <th>vs</th>\n",
              "      <th>am</th>\n",
              "      <th>gear</th>\n",
              "      <th>carb</th>\n",
              "    </tr>\n",
              "    <tr>\n",
              "      <th>name</th>\n",
              "      <th></th>\n",
              "      <th></th>\n",
              "      <th></th>\n",
              "      <th></th>\n",
              "      <th></th>\n",
              "      <th></th>\n",
              "      <th></th>\n",
              "      <th></th>\n",
              "      <th></th>\n",
              "      <th></th>\n",
              "      <th></th>\n",
              "      <th></th>\n",
              "    </tr>\n",
              "  </thead>\n",
              "  <tbody>\n",
              "    <tr>\n",
              "      <th>Mazda RX4</th>\n",
              "      <td>Mazda RX4</td>\n",
              "      <td>21.0</td>\n",
              "      <td>6</td>\n",
              "      <td>160.0</td>\n",
              "      <td>110</td>\n",
              "      <td>3.90</td>\n",
              "      <td>2.620</td>\n",
              "      <td>16.46</td>\n",
              "      <td>0</td>\n",
              "      <td>1</td>\n",
              "      <td>4</td>\n",
              "      <td>4</td>\n",
              "    </tr>\n",
              "    <tr>\n",
              "      <th>Mazda RX4 Wag</th>\n",
              "      <td>Mazda RX4 Wag</td>\n",
              "      <td>21.0</td>\n",
              "      <td>6</td>\n",
              "      <td>160.0</td>\n",
              "      <td>110</td>\n",
              "      <td>3.90</td>\n",
              "      <td>2.875</td>\n",
              "      <td>17.02</td>\n",
              "      <td>0</td>\n",
              "      <td>1</td>\n",
              "      <td>4</td>\n",
              "      <td>4</td>\n",
              "    </tr>\n",
              "    <tr>\n",
              "      <th>Datsun 710</th>\n",
              "      <td>Datsun 710</td>\n",
              "      <td>22.8</td>\n",
              "      <td>4</td>\n",
              "      <td>108.0</td>\n",
              "      <td>93</td>\n",
              "      <td>3.85</td>\n",
              "      <td>2.320</td>\n",
              "      <td>18.61</td>\n",
              "      <td>1</td>\n",
              "      <td>1</td>\n",
              "      <td>4</td>\n",
              "      <td>1</td>\n",
              "    </tr>\n",
              "    <tr>\n",
              "      <th>Hornet 4 Drive</th>\n",
              "      <td>Hornet 4 Drive</td>\n",
              "      <td>21.4</td>\n",
              "      <td>6</td>\n",
              "      <td>258.0</td>\n",
              "      <td>110</td>\n",
              "      <td>3.08</td>\n",
              "      <td>3.215</td>\n",
              "      <td>19.44</td>\n",
              "      <td>1</td>\n",
              "      <td>0</td>\n",
              "      <td>3</td>\n",
              "      <td>1</td>\n",
              "    </tr>\n",
              "    <tr>\n",
              "      <th>Hornet Sportabout</th>\n",
              "      <td>Hornet Sportabout</td>\n",
              "      <td>18.7</td>\n",
              "      <td>8</td>\n",
              "      <td>360.0</td>\n",
              "      <td>175</td>\n",
              "      <td>3.15</td>\n",
              "      <td>3.440</td>\n",
              "      <td>17.02</td>\n",
              "      <td>0</td>\n",
              "      <td>0</td>\n",
              "      <td>3</td>\n",
              "      <td>2</td>\n",
              "    </tr>\n",
              "    <tr>\n",
              "      <th>Valiant</th>\n",
              "      <td>Valiant</td>\n",
              "      <td>18.1</td>\n",
              "      <td>6</td>\n",
              "      <td>225.0</td>\n",
              "      <td>105</td>\n",
              "      <td>2.76</td>\n",
              "      <td>3.460</td>\n",
              "      <td>20.22</td>\n",
              "      <td>1</td>\n",
              "      <td>0</td>\n",
              "      <td>3</td>\n",
              "      <td>1</td>\n",
              "    </tr>\n",
              "    <tr>\n",
              "      <th>Duster 360</th>\n",
              "      <td>Duster 360</td>\n",
              "      <td>14.3</td>\n",
              "      <td>8</td>\n",
              "      <td>360.0</td>\n",
              "      <td>245</td>\n",
              "      <td>3.21</td>\n",
              "      <td>3.570</td>\n",
              "      <td>15.84</td>\n",
              "      <td>0</td>\n",
              "      <td>0</td>\n",
              "      <td>3</td>\n",
              "      <td>4</td>\n",
              "    </tr>\n",
              "    <tr>\n",
              "      <th>Merc 240D</th>\n",
              "      <td>Merc 240D</td>\n",
              "      <td>24.4</td>\n",
              "      <td>4</td>\n",
              "      <td>146.7</td>\n",
              "      <td>62</td>\n",
              "      <td>3.69</td>\n",
              "      <td>3.190</td>\n",
              "      <td>20.00</td>\n",
              "      <td>1</td>\n",
              "      <td>0</td>\n",
              "      <td>4</td>\n",
              "      <td>2</td>\n",
              "    </tr>\n",
              "    <tr>\n",
              "      <th>Merc 230</th>\n",
              "      <td>Merc 230</td>\n",
              "      <td>22.8</td>\n",
              "      <td>4</td>\n",
              "      <td>140.8</td>\n",
              "      <td>95</td>\n",
              "      <td>3.92</td>\n",
              "      <td>3.150</td>\n",
              "      <td>22.90</td>\n",
              "      <td>1</td>\n",
              "      <td>0</td>\n",
              "      <td>4</td>\n",
              "      <td>2</td>\n",
              "    </tr>\n",
              "    <tr>\n",
              "      <th>Merc 280</th>\n",
              "      <td>Merc 280</td>\n",
              "      <td>19.2</td>\n",
              "      <td>6</td>\n",
              "      <td>167.6</td>\n",
              "      <td>123</td>\n",
              "      <td>3.92</td>\n",
              "      <td>3.440</td>\n",
              "      <td>18.30</td>\n",
              "      <td>1</td>\n",
              "      <td>0</td>\n",
              "      <td>4</td>\n",
              "      <td>4</td>\n",
              "    </tr>\n",
              "  </tbody>\n",
              "</table>\n",
              "</div>"
            ],
            "text/plain": [
              "                                name   mpg  cyl   disp  ...  vs  am  gear  carb\n",
              "name                                                    ...                    \n",
              "Mazda RX4                  Mazda RX4  21.0    6  160.0  ...   0   1     4     4\n",
              "Mazda RX4 Wag          Mazda RX4 Wag  21.0    6  160.0  ...   0   1     4     4\n",
              "Datsun 710                Datsun 710  22.8    4  108.0  ...   1   1     4     1\n",
              "Hornet 4 Drive        Hornet 4 Drive  21.4    6  258.0  ...   1   0     3     1\n",
              "Hornet Sportabout  Hornet Sportabout  18.7    8  360.0  ...   0   0     3     2\n",
              "Valiant                      Valiant  18.1    6  225.0  ...   1   0     3     1\n",
              "Duster 360                Duster 360  14.3    8  360.0  ...   0   0     3     4\n",
              "Merc 240D                  Merc 240D  24.4    4  146.7  ...   1   0     4     2\n",
              "Merc 230                    Merc 230  22.8    4  140.8  ...   1   0     4     2\n",
              "Merc 280                    Merc 280  19.2    6  167.6  ...   1   0     4     4\n",
              "\n",
              "[10 rows x 12 columns]"
            ]
          },
          "metadata": {
            "tags": []
          },
          "execution_count": 255
        }
      ]
    },
    {
      "cell_type": "code",
      "metadata": {
        "id": "3vW4CPFqNxiH",
        "colab_type": "code",
        "colab": {
          "base_uri": "https://localhost:8080/",
          "height": 390
        },
        "outputId": "fcfcd937-0509-47ae-a32a-750758b7baa1"
      },
      "source": [
        "mtcars.tail(10)"
      ],
      "execution_count": 256,
      "outputs": [
        {
          "output_type": "execute_result",
          "data": {
            "text/html": [
              "<div>\n",
              "<style scoped>\n",
              "    .dataframe tbody tr th:only-of-type {\n",
              "        vertical-align: middle;\n",
              "    }\n",
              "\n",
              "    .dataframe tbody tr th {\n",
              "        vertical-align: top;\n",
              "    }\n",
              "\n",
              "    .dataframe thead th {\n",
              "        text-align: right;\n",
              "    }\n",
              "</style>\n",
              "<table border=\"1\" class=\"dataframe\">\n",
              "  <thead>\n",
              "    <tr style=\"text-align: right;\">\n",
              "      <th></th>\n",
              "      <th>name</th>\n",
              "      <th>mpg</th>\n",
              "      <th>cyl</th>\n",
              "      <th>disp</th>\n",
              "      <th>hp</th>\n",
              "      <th>drat</th>\n",
              "      <th>wt</th>\n",
              "      <th>qsec</th>\n",
              "      <th>vs</th>\n",
              "      <th>am</th>\n",
              "      <th>gear</th>\n",
              "      <th>carb</th>\n",
              "    </tr>\n",
              "    <tr>\n",
              "      <th>name</th>\n",
              "      <th></th>\n",
              "      <th></th>\n",
              "      <th></th>\n",
              "      <th></th>\n",
              "      <th></th>\n",
              "      <th></th>\n",
              "      <th></th>\n",
              "      <th></th>\n",
              "      <th></th>\n",
              "      <th></th>\n",
              "      <th></th>\n",
              "      <th></th>\n",
              "    </tr>\n",
              "  </thead>\n",
              "  <tbody>\n",
              "    <tr>\n",
              "      <th>AMC Javelin</th>\n",
              "      <td>AMC Javelin</td>\n",
              "      <td>15.2</td>\n",
              "      <td>8</td>\n",
              "      <td>304.0</td>\n",
              "      <td>150</td>\n",
              "      <td>3.15</td>\n",
              "      <td>3.435</td>\n",
              "      <td>17.30</td>\n",
              "      <td>0</td>\n",
              "      <td>0</td>\n",
              "      <td>3</td>\n",
              "      <td>2</td>\n",
              "    </tr>\n",
              "    <tr>\n",
              "      <th>Camaro Z28</th>\n",
              "      <td>Camaro Z28</td>\n",
              "      <td>13.3</td>\n",
              "      <td>8</td>\n",
              "      <td>350.0</td>\n",
              "      <td>245</td>\n",
              "      <td>3.73</td>\n",
              "      <td>3.840</td>\n",
              "      <td>15.41</td>\n",
              "      <td>0</td>\n",
              "      <td>0</td>\n",
              "      <td>3</td>\n",
              "      <td>4</td>\n",
              "    </tr>\n",
              "    <tr>\n",
              "      <th>Pontiac Firebird</th>\n",
              "      <td>Pontiac Firebird</td>\n",
              "      <td>19.2</td>\n",
              "      <td>8</td>\n",
              "      <td>400.0</td>\n",
              "      <td>175</td>\n",
              "      <td>3.08</td>\n",
              "      <td>3.845</td>\n",
              "      <td>17.05</td>\n",
              "      <td>0</td>\n",
              "      <td>0</td>\n",
              "      <td>3</td>\n",
              "      <td>2</td>\n",
              "    </tr>\n",
              "    <tr>\n",
              "      <th>Fiat X1-9</th>\n",
              "      <td>Fiat X1-9</td>\n",
              "      <td>27.3</td>\n",
              "      <td>4</td>\n",
              "      <td>79.0</td>\n",
              "      <td>66</td>\n",
              "      <td>4.08</td>\n",
              "      <td>1.935</td>\n",
              "      <td>18.90</td>\n",
              "      <td>1</td>\n",
              "      <td>1</td>\n",
              "      <td>4</td>\n",
              "      <td>1</td>\n",
              "    </tr>\n",
              "    <tr>\n",
              "      <th>Porsche 914-2</th>\n",
              "      <td>Porsche 914-2</td>\n",
              "      <td>26.0</td>\n",
              "      <td>4</td>\n",
              "      <td>120.3</td>\n",
              "      <td>91</td>\n",
              "      <td>4.43</td>\n",
              "      <td>2.140</td>\n",
              "      <td>16.70</td>\n",
              "      <td>0</td>\n",
              "      <td>1</td>\n",
              "      <td>5</td>\n",
              "      <td>2</td>\n",
              "    </tr>\n",
              "    <tr>\n",
              "      <th>Lotus Europa</th>\n",
              "      <td>Lotus Europa</td>\n",
              "      <td>30.4</td>\n",
              "      <td>4</td>\n",
              "      <td>95.1</td>\n",
              "      <td>113</td>\n",
              "      <td>3.77</td>\n",
              "      <td>1.513</td>\n",
              "      <td>16.90</td>\n",
              "      <td>1</td>\n",
              "      <td>1</td>\n",
              "      <td>5</td>\n",
              "      <td>2</td>\n",
              "    </tr>\n",
              "    <tr>\n",
              "      <th>Ford Pantera L</th>\n",
              "      <td>Ford Pantera L</td>\n",
              "      <td>15.8</td>\n",
              "      <td>8</td>\n",
              "      <td>351.0</td>\n",
              "      <td>264</td>\n",
              "      <td>4.22</td>\n",
              "      <td>3.170</td>\n",
              "      <td>14.50</td>\n",
              "      <td>0</td>\n",
              "      <td>1</td>\n",
              "      <td>5</td>\n",
              "      <td>4</td>\n",
              "    </tr>\n",
              "    <tr>\n",
              "      <th>Ferrari Dino</th>\n",
              "      <td>Ferrari Dino</td>\n",
              "      <td>19.7</td>\n",
              "      <td>6</td>\n",
              "      <td>145.0</td>\n",
              "      <td>175</td>\n",
              "      <td>3.62</td>\n",
              "      <td>2.770</td>\n",
              "      <td>15.50</td>\n",
              "      <td>0</td>\n",
              "      <td>1</td>\n",
              "      <td>5</td>\n",
              "      <td>6</td>\n",
              "    </tr>\n",
              "    <tr>\n",
              "      <th>Maserati Bora</th>\n",
              "      <td>Maserati Bora</td>\n",
              "      <td>15.0</td>\n",
              "      <td>8</td>\n",
              "      <td>301.0</td>\n",
              "      <td>335</td>\n",
              "      <td>3.54</td>\n",
              "      <td>3.570</td>\n",
              "      <td>14.60</td>\n",
              "      <td>0</td>\n",
              "      <td>1</td>\n",
              "      <td>5</td>\n",
              "      <td>8</td>\n",
              "    </tr>\n",
              "    <tr>\n",
              "      <th>Volvo 142E</th>\n",
              "      <td>Volvo 142E</td>\n",
              "      <td>21.4</td>\n",
              "      <td>4</td>\n",
              "      <td>121.0</td>\n",
              "      <td>109</td>\n",
              "      <td>4.11</td>\n",
              "      <td>2.780</td>\n",
              "      <td>18.60</td>\n",
              "      <td>1</td>\n",
              "      <td>1</td>\n",
              "      <td>4</td>\n",
              "      <td>2</td>\n",
              "    </tr>\n",
              "  </tbody>\n",
              "</table>\n",
              "</div>"
            ],
            "text/plain": [
              "                              name   mpg  cyl   disp  ...  vs  am  gear  carb\n",
              "name                                                  ...                    \n",
              "AMC Javelin            AMC Javelin  15.2    8  304.0  ...   0   0     3     2\n",
              "Camaro Z28              Camaro Z28  13.3    8  350.0  ...   0   0     3     4\n",
              "Pontiac Firebird  Pontiac Firebird  19.2    8  400.0  ...   0   0     3     2\n",
              "Fiat X1-9                Fiat X1-9  27.3    4   79.0  ...   1   1     4     1\n",
              "Porsche 914-2        Porsche 914-2  26.0    4  120.3  ...   0   1     5     2\n",
              "Lotus Europa          Lotus Europa  30.4    4   95.1  ...   1   1     5     2\n",
              "Ford Pantera L      Ford Pantera L  15.8    8  351.0  ...   0   1     5     4\n",
              "Ferrari Dino          Ferrari Dino  19.7    6  145.0  ...   0   1     5     6\n",
              "Maserati Bora        Maserati Bora  15.0    8  301.0  ...   0   1     5     8\n",
              "Volvo 142E              Volvo 142E  21.4    4  121.0  ...   1   1     4     2\n",
              "\n",
              "[10 rows x 12 columns]"
            ]
          },
          "metadata": {
            "tags": []
          },
          "execution_count": 256
        }
      ]
    },
    {
      "cell_type": "markdown",
      "metadata": {
        "id": "8EaTqRXqwPTj",
        "colab_type": "text"
      },
      "source": [
        "### Question 7\n",
        "\n",
        "Print all the column labels in the given dataset - mtcars.\n",
        "\n",
        "[ **Hint: ** Use **df.columns** ]"
      ]
    },
    {
      "cell_type": "code",
      "metadata": {
        "id": "JU7oXAJGwPTk",
        "colab_type": "code",
        "colab": {
          "base_uri": "https://localhost:8080/",
          "height": 68
        },
        "outputId": "c972c0fa-07cb-4bf5-f37a-c5e2fb079583"
      },
      "source": [
        "df = pd.DataFrame(mtcars)\n",
        "df.columns"
      ],
      "execution_count": 267,
      "outputs": [
        {
          "output_type": "execute_result",
          "data": {
            "text/plain": [
              "Index(['name', 'mpg', 'cyl', 'disp', 'hp', 'drat', 'wt', 'qsec', 'vs', 'am',\n",
              "       'gear', 'carb'],\n",
              "      dtype='object')"
            ]
          },
          "metadata": {
            "tags": []
          },
          "execution_count": 267
        }
      ]
    },
    {
      "cell_type": "markdown",
      "metadata": {
        "id": "i7yOBSXpwPTr",
        "colab_type": "text"
      },
      "source": [
        "### Question 8"
      ]
    },
    {
      "cell_type": "markdown",
      "metadata": {
        "id": "U0Ns7HkQwPTs",
        "colab_type": "text"
      },
      "source": [
        "Select first 6 rows and 3 columns in mtcars dataframe.\n",
        "\n",
        "**Hint: **  \n",
        "mtcars.ix[:,:] gives all rows and columns in the dataset."
      ]
    },
    {
      "cell_type": "code",
      "metadata": {
        "id": "5XkrIgV8wPTt",
        "colab_type": "code",
        "colab": {
          "base_uri": "https://localhost:8080/",
          "height": 266
        },
        "outputId": "bfc78d39-0259-4c6c-9bb1-87524cc3ff27"
      },
      "source": [
        "df.iloc[0:6,0:3]"
      ],
      "execution_count": 270,
      "outputs": [
        {
          "output_type": "execute_result",
          "data": {
            "text/html": [
              "<div>\n",
              "<style scoped>\n",
              "    .dataframe tbody tr th:only-of-type {\n",
              "        vertical-align: middle;\n",
              "    }\n",
              "\n",
              "    .dataframe tbody tr th {\n",
              "        vertical-align: top;\n",
              "    }\n",
              "\n",
              "    .dataframe thead th {\n",
              "        text-align: right;\n",
              "    }\n",
              "</style>\n",
              "<table border=\"1\" class=\"dataframe\">\n",
              "  <thead>\n",
              "    <tr style=\"text-align: right;\">\n",
              "      <th></th>\n",
              "      <th>name</th>\n",
              "      <th>mpg</th>\n",
              "      <th>cyl</th>\n",
              "    </tr>\n",
              "    <tr>\n",
              "      <th>name</th>\n",
              "      <th></th>\n",
              "      <th></th>\n",
              "      <th></th>\n",
              "    </tr>\n",
              "  </thead>\n",
              "  <tbody>\n",
              "    <tr>\n",
              "      <th>Mazda RX4</th>\n",
              "      <td>Mazda RX4</td>\n",
              "      <td>21.0</td>\n",
              "      <td>6</td>\n",
              "    </tr>\n",
              "    <tr>\n",
              "      <th>Mazda RX4 Wag</th>\n",
              "      <td>Mazda RX4 Wag</td>\n",
              "      <td>21.0</td>\n",
              "      <td>6</td>\n",
              "    </tr>\n",
              "    <tr>\n",
              "      <th>Datsun 710</th>\n",
              "      <td>Datsun 710</td>\n",
              "      <td>22.8</td>\n",
              "      <td>4</td>\n",
              "    </tr>\n",
              "    <tr>\n",
              "      <th>Hornet 4 Drive</th>\n",
              "      <td>Hornet 4 Drive</td>\n",
              "      <td>21.4</td>\n",
              "      <td>6</td>\n",
              "    </tr>\n",
              "    <tr>\n",
              "      <th>Hornet Sportabout</th>\n",
              "      <td>Hornet Sportabout</td>\n",
              "      <td>18.7</td>\n",
              "      <td>8</td>\n",
              "    </tr>\n",
              "    <tr>\n",
              "      <th>Valiant</th>\n",
              "      <td>Valiant</td>\n",
              "      <td>18.1</td>\n",
              "      <td>6</td>\n",
              "    </tr>\n",
              "  </tbody>\n",
              "</table>\n",
              "</div>"
            ],
            "text/plain": [
              "                                name   mpg  cyl\n",
              "name                                           \n",
              "Mazda RX4                  Mazda RX4  21.0    6\n",
              "Mazda RX4 Wag          Mazda RX4 Wag  21.0    6\n",
              "Datsun 710                Datsun 710  22.8    4\n",
              "Hornet 4 Drive        Hornet 4 Drive  21.4    6\n",
              "Hornet Sportabout  Hornet Sportabout  18.7    8\n",
              "Valiant                      Valiant  18.1    6"
            ]
          },
          "metadata": {
            "tags": []
          },
          "execution_count": 270
        }
      ]
    },
    {
      "cell_type": "markdown",
      "metadata": {
        "id": "Xmc17NVtwPTv",
        "colab_type": "text"
      },
      "source": [
        "## Lab Brief - Statistical Learning with Python"
      ]
    },
    {
      "cell_type": "markdown",
      "metadata": {
        "id": "_ECSO5Q1wPT0",
        "colab_type": "text"
      },
      "source": [
        "### Part-1"
      ]
    },
    {
      "cell_type": "markdown",
      "metadata": {
        "id": "yT9jRehKwPT1",
        "colab_type": "text"
      },
      "source": [
        "## Measures of Data"
      ]
    },
    {
      "cell_type": "markdown",
      "metadata": {
        "id": "URbf6qSswPT2",
        "colab_type": "text"
      },
      "source": [
        "Descriptive Statistcs are measures that summarize important features of data. Producing these descriptive statistics is a common first step to take after cleaning and preparing a dataset for further analysis. Examples are like calculating Mean or Median. In this lab, we will be looking into some of these functions and explore several new ones."
      ]
    },
    {
      "cell_type": "markdown",
      "metadata": {
        "id": "b-YCS0aswPT3",
        "colab_type": "text"
      },
      "source": [
        "#### Measures of Central Tendency"
      ]
    },
    {
      "cell_type": "markdown",
      "metadata": {
        "id": "yLeEac6zwPT3",
        "colab_type": "text"
      },
      "source": [
        "Whenever you measure things of the same kind, a fairly large number of such measurements will tend to cluster around the middle value. Such a value is called a measure of \"Central Tendency\". The other terms that are used synonymously are \"Measures of Location\", or \"Statistical Averages\". "
      ]
    },
    {
      "cell_type": "code",
      "metadata": {
        "id": "HrJIx0-wwPT4",
        "colab_type": "code",
        "colab": {}
      },
      "source": [
        "import numpy as np\n",
        "import pandas as pd\n",
        "import matplotlib.pyplot as plt\n",
        "\n",
        "mtcars = pd.read_csv('mtcars.csv')"
      ],
      "execution_count": 0,
      "outputs": []
    },
    {
      "cell_type": "markdown",
      "metadata": {
        "id": "KUwCcvFgwPT7",
        "colab_type": "text"
      },
      "source": [
        "##### Using the mtcars dataset.\n",
        "\n",
        "For the below set of questions, we will be using the cars data from [Motor Trend Car Road Tests](http://stat.ethz.ch/R-manual/R-devel/library/datasets/html/mtcars.html)\n",
        "\n",
        "The data was extracted from the 1974 Motor Trend US magazine, and comprises fuel consumption and 10 aspects of automobile design and performance for 32 automobiles (1973–74 models). \n",
        "\n",
        "\n",
        "Details :\n",
        "    \n",
        "A data frame with 32 observations on 11 (numeric) variables.\n",
        "\n",
        "[, 1] \tmpg \tMiles/(US) gallon\n",
        "\n",
        "[, 2] \tcyl \tNumber of cylinders\n",
        "\n",
        "[, 3] \tdisp \tDisplacement (cu.in.)\n",
        "\n",
        "[, 4] \thp \tGross horsepower\n",
        "\n",
        "[, 5] \tdrat \tRear axle ratio\n",
        "\n",
        "[, 6] \twt \tWeight (1000 lbs)\n",
        "\n",
        "[, 7] \tqsec \t1/4 mile time\n",
        "\n",
        "[, 8] \tvs \tEngine (0 = V-shaped, 1 = straight)\n",
        "\n",
        "[, 9] \tam \tTransmission (0 = automatic, 1 = manual)\n",
        "\n",
        "[,10] \tgear \tNumber of forward gears\n",
        "\n",
        "[,11] \tcarb \tNumber of carburetors "
      ]
    },
    {
      "cell_type": "markdown",
      "metadata": {
        "id": "hEu_WFK5wPT8",
        "colab_type": "text"
      },
      "source": [
        "#### Explore the data - Setting the index"
      ]
    },
    {
      "cell_type": "code",
      "metadata": {
        "id": "XzX2dYNpwPT9",
        "colab_type": "code",
        "colab": {},
        "outputId": "79104069-b013-408b-80ce-ae676de88c1f"
      },
      "source": [
        ""
      ],
      "execution_count": 0,
      "outputs": [
        {
          "output_type": "execute_result",
          "data": {
            "text/html": [
              "<div>\n",
              "<style scoped>\n",
              "    .dataframe tbody tr th:only-of-type {\n",
              "        vertical-align: middle;\n",
              "    }\n",
              "\n",
              "    .dataframe tbody tr th {\n",
              "        vertical-align: top;\n",
              "    }\n",
              "\n",
              "    .dataframe thead th {\n",
              "        text-align: right;\n",
              "    }\n",
              "</style>\n",
              "<table border=\"1\" class=\"dataframe\">\n",
              "  <thead>\n",
              "    <tr style=\"text-align: right;\">\n",
              "      <th></th>\n",
              "      <th>name</th>\n",
              "      <th>mpg</th>\n",
              "      <th>cyl</th>\n",
              "      <th>disp</th>\n",
              "      <th>hp</th>\n",
              "      <th>drat</th>\n",
              "      <th>wt</th>\n",
              "      <th>qsec</th>\n",
              "      <th>vs</th>\n",
              "      <th>am</th>\n",
              "      <th>gear</th>\n",
              "      <th>carb</th>\n",
              "    </tr>\n",
              "    <tr>\n",
              "      <th>name</th>\n",
              "      <th></th>\n",
              "      <th></th>\n",
              "      <th></th>\n",
              "      <th></th>\n",
              "      <th></th>\n",
              "      <th></th>\n",
              "      <th></th>\n",
              "      <th></th>\n",
              "      <th></th>\n",
              "      <th></th>\n",
              "      <th></th>\n",
              "      <th></th>\n",
              "    </tr>\n",
              "  </thead>\n",
              "  <tbody>\n",
              "    <tr>\n",
              "      <th>Mazda RX4</th>\n",
              "      <td>Mazda RX4</td>\n",
              "      <td>21.0</td>\n",
              "      <td>6</td>\n",
              "      <td>160.0</td>\n",
              "      <td>110</td>\n",
              "      <td>3.90</td>\n",
              "      <td>2.620</td>\n",
              "      <td>16.46</td>\n",
              "      <td>0</td>\n",
              "      <td>1</td>\n",
              "      <td>4</td>\n",
              "      <td>4</td>\n",
              "    </tr>\n",
              "    <tr>\n",
              "      <th>Mazda RX4 Wag</th>\n",
              "      <td>Mazda RX4 Wag</td>\n",
              "      <td>21.0</td>\n",
              "      <td>6</td>\n",
              "      <td>160.0</td>\n",
              "      <td>110</td>\n",
              "      <td>3.90</td>\n",
              "      <td>2.875</td>\n",
              "      <td>17.02</td>\n",
              "      <td>0</td>\n",
              "      <td>1</td>\n",
              "      <td>4</td>\n",
              "      <td>4</td>\n",
              "    </tr>\n",
              "    <tr>\n",
              "      <th>Datsun 710</th>\n",
              "      <td>Datsun 710</td>\n",
              "      <td>22.8</td>\n",
              "      <td>4</td>\n",
              "      <td>108.0</td>\n",
              "      <td>93</td>\n",
              "      <td>3.85</td>\n",
              "      <td>2.320</td>\n",
              "      <td>18.61</td>\n",
              "      <td>1</td>\n",
              "      <td>1</td>\n",
              "      <td>4</td>\n",
              "      <td>1</td>\n",
              "    </tr>\n",
              "    <tr>\n",
              "      <th>Hornet 4 Drive</th>\n",
              "      <td>Hornet 4 Drive</td>\n",
              "      <td>21.4</td>\n",
              "      <td>6</td>\n",
              "      <td>258.0</td>\n",
              "      <td>110</td>\n",
              "      <td>3.08</td>\n",
              "      <td>3.215</td>\n",
              "      <td>19.44</td>\n",
              "      <td>1</td>\n",
              "      <td>0</td>\n",
              "      <td>3</td>\n",
              "      <td>1</td>\n",
              "    </tr>\n",
              "    <tr>\n",
              "      <th>Hornet Sportabout</th>\n",
              "      <td>Hornet Sportabout</td>\n",
              "      <td>18.7</td>\n",
              "      <td>8</td>\n",
              "      <td>360.0</td>\n",
              "      <td>175</td>\n",
              "      <td>3.15</td>\n",
              "      <td>3.440</td>\n",
              "      <td>17.02</td>\n",
              "      <td>0</td>\n",
              "      <td>0</td>\n",
              "      <td>3</td>\n",
              "      <td>2</td>\n",
              "    </tr>\n",
              "  </tbody>\n",
              "</table>\n",
              "</div>"
            ],
            "text/plain": [
              "                                name   mpg  cyl   disp   hp  drat     wt  \\\n",
              "name                                                                       \n",
              "Mazda RX4                  Mazda RX4  21.0    6  160.0  110  3.90  2.620   \n",
              "Mazda RX4 Wag          Mazda RX4 Wag  21.0    6  160.0  110  3.90  2.875   \n",
              "Datsun 710                Datsun 710  22.8    4  108.0   93  3.85  2.320   \n",
              "Hornet 4 Drive        Hornet 4 Drive  21.4    6  258.0  110  3.08  3.215   \n",
              "Hornet Sportabout  Hornet Sportabout  18.7    8  360.0  175  3.15  3.440   \n",
              "\n",
              "                    qsec  vs  am  gear  carb  \n",
              "name                                          \n",
              "Mazda RX4          16.46   0   1     4     4  \n",
              "Mazda RX4 Wag      17.02   0   1     4     4  \n",
              "Datsun 710         18.61   1   1     4     1  \n",
              "Hornet 4 Drive     19.44   1   0     3     1  \n",
              "Hornet Sportabout  17.02   0   0     3     2  "
            ]
          },
          "metadata": {
            "tags": []
          },
          "execution_count": 3
        }
      ]
    },
    {
      "cell_type": "markdown",
      "metadata": {
        "id": "Zf4A73tiwPUG",
        "colab_type": "text"
      },
      "source": [
        "### Question 1\n",
        "\n",
        "What is the first car name given in mtcars?\n",
        "\n",
        "** Make use of index which has been set previously **\n",
        "\n",
        "**Hint**: Use .loc function\n"
      ]
    },
    {
      "cell_type": "code",
      "metadata": {
        "scrolled": true,
        "id": "5M9QRTCrwPUI",
        "colab_type": "code",
        "colab": {
          "base_uri": "https://localhost:8080/",
          "height": 34
        },
        "outputId": "4a177a75-00b9-49f2-fdb9-c9ea2c1cb82f"
      },
      "source": [
        "df.loc['Mazda RX4','name']"
      ],
      "execution_count": 272,
      "outputs": [
        {
          "output_type": "execute_result",
          "data": {
            "text/plain": [
              "'Mazda RX4'"
            ]
          },
          "metadata": {
            "tags": []
          },
          "execution_count": 272
        }
      ]
    },
    {
      "cell_type": "markdown",
      "metadata": {
        "id": "4GaZ0QLRwPUL",
        "colab_type": "text"
      },
      "source": [
        "### Question 2\n",
        "What is the highest difference between the hp and cyl?\n",
        "\n",
        "**Hint:** You can use **max()** function to find the difference"
      ]
    },
    {
      "cell_type": "code",
      "metadata": {
        "id": "7o3OnYSnwPUM",
        "colab_type": "code",
        "colab": {
          "base_uri": "https://localhost:8080/",
          "height": 34
        },
        "outputId": "2af68d7c-f39c-4020-9a14-bbfbfc8a87e7"
      },
      "source": [
        "df['hp'].max()-df['cyl'].max()"
      ],
      "execution_count": 279,
      "outputs": [
        {
          "output_type": "execute_result",
          "data": {
            "text/plain": [
              "327"
            ]
          },
          "metadata": {
            "tags": []
          },
          "execution_count": 279
        }
      ]
    },
    {
      "cell_type": "markdown",
      "metadata": {
        "id": "NMdA0FDfwPUQ",
        "colab_type": "text"
      },
      "source": [
        "### Question 3\n",
        "What are the cars having highest weight(wt) and lowest weight(wt)?\n",
        "\n",
        "**Hint:** Use idxmax() and idxmin() to locate the row\n",
        "\n",
        "Use **.iloc** function to print the  row\n",
        "\n",
        "**Note:** Both idxmax and idxmin belong to pandas"
      ]
    },
    {
      "cell_type": "code",
      "metadata": {
        "id": "wTdP3mCUwPUS",
        "colab_type": "code",
        "colab": {
          "base_uri": "https://localhost:8080/",
          "height": 238
        },
        "outputId": "317d4d67-3c03-456e-85e0-bf96df34330d"
      },
      "source": [
        "idx=mtcars.index\n",
        "mtcars.iloc[idx.get_loc(mtcars['wt'].idxmax())]"
      ],
      "execution_count": 318,
      "outputs": [
        {
          "output_type": "execute_result",
          "data": {
            "text/plain": [
              "name    Lincoln Continental\n",
              "mpg                    10.4\n",
              "cyl                       8\n",
              "disp                    460\n",
              "hp                      215\n",
              "drat                      3\n",
              "wt                    5.424\n",
              "qsec                  17.82\n",
              "vs                        0\n",
              "am                        0\n",
              "gear                      3\n",
              "carb                      4\n",
              "Name: Lincoln Continental, dtype: object"
            ]
          },
          "metadata": {
            "tags": []
          },
          "execution_count": 318
        }
      ]
    },
    {
      "cell_type": "code",
      "metadata": {
        "id": "88d-4VlnwPUX",
        "colab_type": "code",
        "colab": {
          "base_uri": "https://localhost:8080/",
          "height": 238
        },
        "outputId": "853fded4-d9fc-45c6-f118-c70216e7684e"
      },
      "source": [
        "idx=mtcars.index\n",
        "mtcars.iloc[idx.get_loc(mtcars['wt'].idxmin())]"
      ],
      "execution_count": 319,
      "outputs": [
        {
          "output_type": "execute_result",
          "data": {
            "text/plain": [
              "name    Lotus Europa\n",
              "mpg             30.4\n",
              "cyl                4\n",
              "disp            95.1\n",
              "hp               113\n",
              "drat            3.77\n",
              "wt             1.513\n",
              "qsec            16.9\n",
              "vs                 1\n",
              "am                 1\n",
              "gear               5\n",
              "carb               2\n",
              "Name: Lotus Europa, dtype: object"
            ]
          },
          "metadata": {
            "tags": []
          },
          "execution_count": 319
        }
      ]
    },
    {
      "cell_type": "markdown",
      "metadata": {
        "id": "NrK_8nIdwPUg",
        "colab_type": "text"
      },
      "source": [
        "### Question 4\n",
        "\n",
        "Find the mean of each row and each column in the given dataset.\n",
        "\n",
        "**Hint:** Use .mean() function. To operate on rows use **axis=0**, on columns use **axis=1**"
      ]
    },
    {
      "cell_type": "code",
      "metadata": {
        "id": "F8oguKnFwPUj",
        "colab_type": "code",
        "colab": {
          "base_uri": "https://localhost:8080/",
          "height": 221
        },
        "outputId": "cf77fec7-ca1c-4ed6-ccbf-c3d3322b2133"
      },
      "source": [
        "df.mean(axis=0)"
      ],
      "execution_count": 280,
      "outputs": [
        {
          "output_type": "execute_result",
          "data": {
            "text/plain": [
              "mpg      20.090625\n",
              "cyl       6.187500\n",
              "disp    230.721875\n",
              "hp      146.687500\n",
              "drat      3.596563\n",
              "wt        3.217250\n",
              "qsec     17.848750\n",
              "vs        0.437500\n",
              "am        0.406250\n",
              "gear      3.687500\n",
              "carb      2.812500\n",
              "dtype: float64"
            ]
          },
          "metadata": {
            "tags": []
          },
          "execution_count": 280
        }
      ]
    },
    {
      "cell_type": "code",
      "metadata": {
        "id": "4pDA9FYvRrk1",
        "colab_type": "code",
        "colab": {
          "base_uri": "https://localhost:8080/",
          "height": 595
        },
        "outputId": "e8f25924-c92a-403e-9708-c2473f80e4b1"
      },
      "source": [
        "df.mean(axis = 1)"
      ],
      "execution_count": 281,
      "outputs": [
        {
          "output_type": "execute_result",
          "data": {
            "text/plain": [
              "name\n",
              "Mazda RX4              29.907273\n",
              "Mazda RX4 Wag          29.981364\n",
              "Datsun 710             23.598182\n",
              "Hornet 4 Drive         38.739545\n",
              "Hornet Sportabout      53.664545\n",
              "Valiant                35.049091\n",
              "Duster 360             59.720000\n",
              "Merc 240D              24.634545\n",
              "Merc 230               27.233636\n",
              "Merc 280               31.860000\n",
              "Merc 280C              31.787273\n",
              "Merc 450SE             46.430909\n",
              "Merc 450SL             46.500000\n",
              "Merc 450SLC            46.350000\n",
              "Cadillac Fleetwood     66.232727\n",
              "Lincoln Continental    66.058545\n",
              "Chrysler Imperial      65.972273\n",
              "Fiat 128               19.440909\n",
              "Honda Civic            17.742273\n",
              "Toyota Corolla         18.814091\n",
              "Toyota Corona          24.888636\n",
              "Dodge Challenger       47.240909\n",
              "AMC Javelin            46.007727\n",
              "Camaro Z28             58.752727\n",
              "Pontiac Firebird       57.379545\n",
              "Fiat X1-9              18.928636\n",
              "Porsche 914-2          24.779091\n",
              "Lotus Europa           24.880273\n",
              "Ford Pantera L         60.971818\n",
              "Ferrari Dino           34.508182\n",
              "Maserati Bora          63.155455\n",
              "Volvo 142E             26.262727\n",
              "dtype: float64"
            ]
          },
          "metadata": {
            "tags": []
          },
          "execution_count": 281
        }
      ]
    },
    {
      "cell_type": "markdown",
      "metadata": {
        "id": "wk3vPwF-wPUm",
        "colab_type": "text"
      },
      "source": [
        "### Question 5\n",
        "\n",
        "Plot mpg values of mtcards dataframe using matplotlib.\n",
        "\n",
        "**Hint: Use plt.plot function**"
      ]
    },
    {
      "cell_type": "code",
      "metadata": {
        "id": "GGgsw-SGwPUo",
        "colab_type": "code",
        "colab": {
          "base_uri": "https://localhost:8080/",
          "height": 286
        },
        "outputId": "c57da02b-f55a-4a8d-bed0-2ee2d1b73033"
      },
      "source": [
        "import matplotlib.pyplot as plt\n",
        "%matplotlib inline\n",
        "plt.plot(mtcars.mpg)\n"
      ],
      "execution_count": 320,
      "outputs": [
        {
          "output_type": "execute_result",
          "data": {
            "text/plain": [
              "[<matplotlib.lines.Line2D at 0x7fafe55c2550>]"
            ]
          },
          "metadata": {
            "tags": []
          },
          "execution_count": 320
        },
        {
          "output_type": "display_data",
          "data": {
            "image/png": "[encoded data removed]",
            "text/plain": [
              "<Figure size 432x288 with 1 Axes>"
            ]
          },
          "metadata": {
            "tags": []
          }
        }
      ]
    },
    {
      "cell_type": "code",
      "metadata": {
        "id": "eQnNOFiWSw5d",
        "colab_type": "code",
        "colab": {}
      },
      "source": [
        ""
      ],
      "execution_count": 0,
      "outputs": []
    },
    {
      "cell_type": "markdown",
      "metadata": {
        "id": "K99udWqwwPUt",
        "colab_type": "text"
      },
      "source": [
        "## Part 2"
      ]
    },
    {
      "cell_type": "markdown",
      "metadata": {
        "id": "jYTJAGC-wPUv",
        "colab_type": "text"
      },
      "source": [
        "## Measures of Dispersion"
      ]
    },
    {
      "cell_type": "markdown",
      "metadata": {
        "id": "Vk3z5j10wPUy",
        "colab_type": "text"
      },
      "source": [
        "Measures of Dispersion (Spread) are statistics that describe how data varies. Measure of dispersion gives us the sense of how much the data tends to diverge from the central tendency."
      ]
    },
    {
      "cell_type": "markdown",
      "metadata": {
        "id": "dIv6gX2LwPUz",
        "colab_type": "text"
      },
      "source": [
        "### Question 6\n",
        "\n",
        "What the range of `mpg` in the given dataset?\n",
        "\n",
        "**Hint:** Range = max-min"
      ]
    },
    {
      "cell_type": "code",
      "metadata": {
        "id": "qIgH_enOwPU0",
        "colab_type": "code",
        "colab": {
          "base_uri": "https://localhost:8080/",
          "height": 34
        },
        "outputId": "b5093e2a-af74-42fa-ac50-852089e93b6d"
      },
      "source": [
        "df['mpg'].max()-df['mpg'].min()"
      ],
      "execution_count": 289,
      "outputs": [
        {
          "output_type": "execute_result",
          "data": {
            "text/plain": [
              "23.5"
            ]
          },
          "metadata": {
            "tags": []
          },
          "execution_count": 289
        }
      ]
    },
    {
      "cell_type": "markdown",
      "metadata": {
        "id": "_rjoiD3OwPU3",
        "colab_type": "text"
      },
      "source": [
        "### Question 7\n",
        "\n",
        "Calculate the 25th quantile (lower quantile)for `mpg` in the given dataset.\n",
        "\n",
        "**Hint:** Use **.quantile()**"
      ]
    },
    {
      "cell_type": "code",
      "metadata": {
        "id": "BqZzaWiEwPU4",
        "colab_type": "code",
        "colab": {
          "base_uri": "https://localhost:8080/",
          "height": 34
        },
        "outputId": "7e9a9ee7-aea0-4c2b-e2ba-50ef61a8fff7"
      },
      "source": [
        "a_q1,a_q3=np.quantile(mtcars.mpg,(0.25,0.75))\n",
        "a_q1"
      ],
      "execution_count": 322,
      "outputs": [
        {
          "output_type": "execute_result",
          "data": {
            "text/plain": [
              "15.425"
            ]
          },
          "metadata": {
            "tags": []
          },
          "execution_count": 322
        }
      ]
    },
    {
      "cell_type": "markdown",
      "metadata": {
        "id": "I92Mu44hwPU8",
        "colab_type": "text"
      },
      "source": [
        "### Question 8\n",
        "\n",
        "Calculate the Inter-Quartile Range(IQR) for `mpg` in the given dataset."
      ]
    },
    {
      "cell_type": "markdown",
      "metadata": {
        "id": "KsMPnCQ1wPU9",
        "colab_type": "text"
      },
      "source": [
        "Interquartile range (IQR) is another common measure of spread. IQR is the distance between the 3rd quartile and the 1st quartile.\n",
        "\n",
        "**Hint:** IQR = Q3 - Q1"
      ]
    },
    {
      "cell_type": "code",
      "metadata": {
        "id": "XDo4OsC9wPU-",
        "colab_type": "code",
        "colab": {
          "base_uri": "https://localhost:8080/",
          "height": 34
        },
        "outputId": "9dfdaeee-76bc-4489-f73c-4c6526e1c7c5"
      },
      "source": [
        "a_q3-a_q1"
      ],
      "execution_count": 323,
      "outputs": [
        {
          "output_type": "execute_result",
          "data": {
            "text/plain": [
              "7.375"
            ]
          },
          "metadata": {
            "tags": []
          },
          "execution_count": 323
        }
      ]
    },
    {
      "cell_type": "markdown",
      "metadata": {
        "id": "wzMUN9NkwPVB",
        "colab_type": "text"
      },
      "source": [
        "### Question 9\n",
        "\n",
        "Calculate the Variance, Standard Deviation and Median Absolute Deviation for `mpg`."
      ]
    },
    {
      "cell_type": "markdown",
      "metadata": {
        "id": "zjuCv5EXwPVC",
        "colab_type": "text"
      },
      "source": [
        "Variance and Standard Deviation are two other common measure of dispersion.\n",
        "\n",
        "**Hint:** Use .var() and .std()"
      ]
    },
    {
      "cell_type": "markdown",
      "metadata": {
        "id": "7SgclkxlwPVD",
        "colab_type": "text"
      },
      "source": [
        "**Hint:** Median Absolute Deviation - alternative measure of spread based on the median. It is the median of the absolute value of the deviations from the median. "
      ]
    },
    {
      "cell_type": "code",
      "metadata": {
        "id": "CFSBYuEwwPVE",
        "colab_type": "code",
        "colab": {
          "base_uri": "https://localhost:8080/",
          "height": 34
        },
        "outputId": "d787f459-710f-40a0-b4e1-2f3ff0b6fe2f"
      },
      "source": [
        "np.var(mtcars.mpg)"
      ],
      "execution_count": 324,
      "outputs": [
        {
          "output_type": "execute_result",
          "data": {
            "text/plain": [
              "35.188974609375"
            ]
          },
          "metadata": {
            "tags": []
          },
          "execution_count": 324
        }
      ]
    },
    {
      "cell_type": "code",
      "metadata": {
        "id": "DJatp63gYn8I",
        "colab_type": "code",
        "colab": {
          "base_uri": "https://localhost:8080/",
          "height": 34
        },
        "outputId": "692d2cb8-65ce-4ae9-c297-913e7a362df6"
      },
      "source": [
        "np.std(mtcars.mpg)"
      ],
      "execution_count": 325,
      "outputs": [
        {
          "output_type": "execute_result",
          "data": {
            "text/plain": [
              "5.932029552301219"
            ]
          },
          "metadata": {
            "tags": []
          },
          "execution_count": 325
        }
      ]
    },
    {
      "cell_type": "code",
      "metadata": {
        "id": "bCEQ2C7bYpps",
        "colab_type": "code",
        "colab": {}
      },
      "source": [
        ""
      ],
      "execution_count": 0,
      "outputs": []
    }
  ]
}